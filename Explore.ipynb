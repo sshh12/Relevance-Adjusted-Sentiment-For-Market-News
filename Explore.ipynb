{
 "cells": [
  {
   "cell_type": "code",
   "execution_count": 1,
   "metadata": {},
   "outputs": [],
   "source": [
    "import seaborn as sns\n",
    "import numpy as np\n",
    "from sklearn.manifold import TSNE\n",
    "import pandas as pd\n",
    "from dataset.util import *\n",
    "%matplotlib inline"
   ]
  },
  {
   "cell_type": "code",
   "execution_count": 2,
   "metadata": {},
   "outputs": [],
   "source": [
    "# bert-serving-start -model_dir data/uncased_L-24_H-1024_A-16 -num_worker=1 -max_seq_len=NONE -max_batch_size 64\n",
    "from bert_serving.client import BertClient\n",
    "bc = BertClient()"
   ]
  },
  {
   "cell_type": "code",
   "execution_count": 20,
   "metadata": {},
   "outputs": [
    {
     "data": {
      "text/plain": [
       "(2995, [0])"
      ]
     },
     "execution_count": 20,
     "metadata": {},
     "output_type": "execute_result"
    }
   ],
   "source": [
    "(conn, cur) = sql_connect()\n",
    "articles = cur.execute('SELECT * FROM articles').fetchall()\n",
    "conn.close()\n",
    "len(articles), articles[0]"
   ]
  },
  {
   "cell_type": "code",
   "execution_count": 21,
   "metadata": {},
   "outputs": [
    {
     "data": {
      "text/plain": [
       "(81,\n",
       " (1,\n",
       "  'AAPL',\n",
       "  'Apple, Inc.',\n",
       "  'Computers/Consumer Electronics',\n",
       "  'Technology',\n",
       "  'Apple, Inc. engages in the design, manufacture, and sale of smartphones, personal computers, tablets, wearables and accessories, and other variety of related services. It operates through the following geographical segments: Americas, Europe, Greater China, Japan, and Rest of Asia Pacific. The Americas segment includes North and South America. The Europe segment consists of European countries, as well as India, the Middle East, and Africa. The Greater China segment comprises of China, Hong Kong, and Taiwan. The Rest of Asia Pacific segment includes Australia and Asian countries. Its products and services include iPhone, Mac, iPad, AirPods, Apple TV, Apple Watch, Beats products, Apple Care, iCloud, digital content stores, streaming, and licensing services. The company was founded by Steven Paul Jobs, Ronald Gerald Wayne, and Stephen G. Wozniak on April 1, 1976 and is headquartered in Cupertino, CA.'))"
      ]
     },
     "execution_count": 21,
     "metadata": {},
     "output_type": "execute_result"
    }
   ],
   "source": [
    "(conn, cur) = sql_connect()\n",
    "companies = cur.execute('SELECT * FROM companies').fetchall()\n",
    "conn.close()\n",
    "len(companies), companies[0]"
   ]
  },
  {
   "cell_type": "code",
   "execution_count": 22,
   "metadata": {},
   "outputs": [],
   "source": [
    "sym_to_comp = {}\n",
    "for c in companies:\n",
    "    sym_to_comp[c[1]] = c"
   ]
  },
  {
   "cell_type": "code",
   "execution_count": 4,
   "metadata": {},
   "outputs": [],
   "source": [
    "texts = [a[4] for a in articles]"
   ]
  },
  {
   "cell_type": "code",
   "execution_count": 5,
   "metadata": {
    "scrolled": false
   },
   "outputs": [
    {
     "name": "stderr",
     "output_type": "stream",
     "text": [
      "C:\\Users\\Shriv\\Anaconda3\\envs\\tf-gpu\\lib\\site-packages\\bert_serving\\client\\__init__.py:290: UserWarning: server does not put a restriction on \"max_seq_len\", it will determine \"max_seq_len\" dynamically according to the sequences in the batch. you can restrict the sequence length on the client side for better efficiency\n",
      "  warnings.warn('server does not put a restriction on \"max_seq_len\", '\n"
     ]
    }
   ],
   "source": [
    "X = bc.encode(texts)"
   ]
  },
  {
   "cell_type": "code",
   "execution_count": 6,
   "metadata": {},
   "outputs": [],
   "source": [
    "X_embedded = TSNE(n_components=2).fit_transform(X)"
   ]
  },
  {
   "cell_type": "code",
   "execution_count": 23,
   "metadata": {},
   "outputs": [],
   "source": [
    "df = pd.DataFrame({\n",
    "    'x': X_embedded[:, 0], 'y': X_embedded[:, 1],\n",
    "    'symb': [a[1] for a in articles],\n",
    "    'sector': [sym_to_comp[a[1]][4] for a in articles]\n",
    "})"
   ]
  },
  {
   "cell_type": "code",
   "execution_count": 56,
   "metadata": {},
   "outputs": [
    {
     "data": {
      "application/vnd.plotly.v1+json": {
       "config": {
        "plotlyServerURL": "https://plot.ly"
       },
       "data": [
        {
         "customdata": [
          [
           "Technology",
           "AAPL"
          ],
          [
           "Technology",
           "AAPL"
          ],
          [
           "Technology",
           "AAPL"
          ],
          [
           "Technology",
           "AAPL"
          ],
          [
           "Technology",
           "AAPL"
          ],
          [
           "Technology",
           "AAPL"
          ],
          [
           "Technology",
           "AMD"
          ],
          [
           "Technology",
           "AMD"
          ],
          [
           "Technology",
           "AMD"
          ],
          [
           "Technology",
           "AMD"
          ],
          [
           "Technology",
           "AMD"
          ],
          [
           "Technology",
           "AMD"
          ],
          [
           "Technology",
           "WORK"
          ],
          [
           "Technology",
           "WORK"
          ],
          [
           "Technology",
           "WORK"
          ],
          [
           "Technology",
           "WORK"
          ],
          [
           "Technology",
           "WORK"
          ],
          [
           "Technology",
           "WORK"
          ],
          [
           "Technology",
           "LYFT"
          ],
          [
           "Technology",
           "LYFT"
          ],
          [
           "Technology",
           "LYFT"
          ],
          [
           "Technology",
           "LYFT"
          ],
          [
           "Technology",
           "LYFT"
          ],
          [
           "Technology",
           "TWTR"
          ],
          [
           "Technology",
           "TWTR"
          ],
          [
           "Technology",
           "TWTR"
          ],
          [
           "Technology",
           "TWTR"
          ],
          [
           "Technology",
           "TWTR"
          ],
          [
           "Technology",
           "FB"
          ],
          [
           "Technology",
           "FB"
          ],
          [
           "Technology",
           "FB"
          ],
          [
           "Technology",
           "FB"
          ],
          [
           "Technology",
           "FB"
          ],
          [
           "Technology",
           "MSFT"
          ],
          [
           "Technology",
           "MSFT"
          ],
          [
           "Technology",
           "FIT"
          ],
          [
           "Technology",
           "FIT"
          ],
          [
           "Technology",
           "FIT"
          ],
          [
           "Technology",
           "FIT"
          ],
          [
           "Technology",
           "FIT"
          ],
          [
           "Technology",
           "SNAP"
          ],
          [
           "Technology",
           "SNAP"
          ],
          [
           "Technology",
           "SNAP"
          ],
          [
           "Technology",
           "SNAP"
          ],
          [
           "Technology",
           "SNAP"
          ],
          [
           "Technology",
           "SNAP"
          ],
          [
           "Technology",
           "TWLO"
          ],
          [
           "Technology",
           "TWLO"
          ],
          [
           "Technology",
           "TWLO"
          ],
          [
           "Technology",
           "TWLO"
          ],
          [
           "Technology",
           "TWLO"
          ],
          [
           "Technology",
           "TWLO"
          ],
          [
           "Technology",
           "OKTA"
          ],
          [
           "Technology",
           "OKTA"
          ],
          [
           "Technology",
           "OKTA"
          ],
          [
           "Technology",
           "OKTA"
          ],
          [
           "Technology",
           "CY"
          ],
          [
           "Technology",
           "CY"
          ],
          [
           "Technology",
           "CY"
          ],
          [
           "Technology",
           "CY"
          ],
          [
           "Technology",
           "CY"
          ],
          [
           "Technology",
           "CY"
          ],
          [
           "Technology",
           "GOOG"
          ],
          [
           "Technology",
           "SABR"
          ],
          [
           "Technology",
           "SABR"
          ],
          [
           "Technology",
           "SABR"
          ],
          [
           "Technology",
           "SABR"
          ],
          [
           "Technology",
           "SABR"
          ],
          [
           "Technology",
           "NOK"
          ],
          [
           "Technology",
           "NOK"
          ],
          [
           "Technology",
           "NOK"
          ],
          [
           "Technology",
           "NOK"
          ],
          [
           "Technology",
           "NOK"
          ],
          [
           "Technology",
           "NOK"
          ],
          [
           "Technology",
           "UBER"
          ],
          [
           "Technology",
           "UBER"
          ],
          [
           "Technology",
           "UBER"
          ],
          [
           "Technology",
           "UBER"
          ],
          [
           "Technology",
           "UBER"
          ],
          [
           "Technology",
           "MRVL"
          ],
          [
           "Technology",
           "MRVL"
          ],
          [
           "Technology",
           "MRVL"
          ],
          [
           "Technology",
           "MRVL"
          ],
          [
           "Technology",
           "MRVL"
          ],
          [
           "Technology",
           "MRVL"
          ],
          [
           "Technology",
           "CAMP"
          ],
          [
           "Technology",
           "CAMP"
          ],
          [
           "Technology",
           "CAMP"
          ],
          [
           "Technology",
           "CAMP"
          ],
          [
           "Technology",
           "CAMP"
          ],
          [
           "Technology",
           "CAMP"
          ],
          [
           "Technology",
           "NLOK"
          ],
          [
           "Technology",
           "NLOK"
          ],
          [
           "Technology",
           "NLOK"
          ],
          [
           "Technology",
           "NLOK"
          ],
          [
           "Technology",
           "NLOK"
          ],
          [
           "Technology",
           "NLOK"
          ],
          [
           "Technology",
           "XRX"
          ],
          [
           "Technology",
           "XRX"
          ],
          [
           "Technology",
           "XRX"
          ],
          [
           "Technology",
           "XRX"
          ],
          [
           "Technology",
           "XRX"
          ],
          [
           "Technology",
           "XRX"
          ],
          [
           "Technology",
           "STX"
          ],
          [
           "Technology",
           "STX"
          ],
          [
           "Technology",
           "STX"
          ],
          [
           "Technology",
           "STX"
          ],
          [
           "Technology",
           "STX"
          ],
          [
           "Technology",
           "STX"
          ],
          [
           "Technology",
           "MGIC"
          ],
          [
           "Technology",
           "MGIC"
          ],
          [
           "Technology",
           "MGIC"
          ],
          [
           "Technology",
           "MGIC"
          ],
          [
           "Technology",
           "MGIC"
          ],
          [
           "Technology",
           "MGIC"
          ],
          [
           "Technology",
           "AAPL"
          ],
          [
           "Technology",
           "AAPL"
          ],
          [
           "Technology",
           "AAPL"
          ],
          [
           "Technology",
           "AAPL"
          ],
          [
           "Technology",
           "AAPL"
          ],
          [
           "Technology",
           "AAPL"
          ],
          [
           "Technology",
           "AAPL"
          ],
          [
           "Technology",
           "AAPL"
          ],
          [
           "Technology",
           "AAPL"
          ],
          [
           "Technology",
           "AAPL"
          ],
          [
           "Technology",
           "AAPL"
          ],
          [
           "Technology",
           "AAPL"
          ],
          [
           "Technology",
           "AAPL"
          ],
          [
           "Technology",
           "AAPL"
          ],
          [
           "Technology",
           "AAPL"
          ],
          [
           "Technology",
           "AAPL"
          ],
          [
           "Technology",
           "AAPL"
          ],
          [
           "Technology",
           "AAPL"
          ],
          [
           "Technology",
           "AAPL"
          ],
          [
           "Technology",
           "AAPL"
          ],
          [
           "Technology",
           "AAPL"
          ],
          [
           "Technology",
           "AAPL"
          ],
          [
           "Technology",
           "AAPL"
          ],
          [
           "Technology",
           "AAPL"
          ],
          [
           "Technology",
           "AAPL"
          ],
          [
           "Technology",
           "AAPL"
          ],
          [
           "Technology",
           "AAPL"
          ],
          [
           "Technology",
           "AAPL"
          ],
          [
           "Technology",
           "AAPL"
          ],
          [
           "Technology",
           "AAPL"
          ],
          [
           "Technology",
           "AAPL"
          ],
          [
           "Technology",
           "AAPL"
          ],
          [
           "Technology",
           "AAPL"
          ],
          [
           "Technology",
           "AAPL"
          ],
          [
           "Technology",
           "AAPL"
          ],
          [
           "Technology",
           "AAPL"
          ],
          [
           "Technology",
           "AAPL"
          ],
          [
           "Technology",
           "AAPL"
          ],
          [
           "Technology",
           "AAPL"
          ],
          [
           "Technology",
           "AAPL"
          ],
          [
           "Technology",
           "AAPL"
          ],
          [
           "Technology",
           "AAPL"
          ],
          [
           "Technology",
           "AAPL"
          ],
          [
           "Technology",
           "AAPL"
          ],
          [
           "Technology",
           "AAPL"
          ],
          [
           "Technology",
           "AAPL"
          ],
          [
           "Technology",
           "AAPL"
          ],
          [
           "Technology",
           "AAPL"
          ],
          [
           "Technology",
           "AAPL"
          ],
          [
           "Technology",
           "AAPL"
          ],
          [
           "Technology",
           "AAPL"
          ],
          [
           "Technology",
           "AAPL"
          ],
          [
           "Technology",
           "AAPL"
          ],
          [
           "Technology",
           "AAPL"
          ],
          [
           "Technology",
           "AAPL"
          ],
          [
           "Technology",
           "AAPL"
          ],
          [
           "Technology",
           "AAPL"
          ],
          [
           "Technology",
           "AAPL"
          ],
          [
           "Technology",
           "AAPL"
          ],
          [
           "Technology",
           "AAPL"
          ],
          [
           "Technology",
           "AAPL"
          ],
          [
           "Technology",
           "AAPL"
          ],
          [
           "Technology",
           "AAPL"
          ],
          [
           "Technology",
           "AAPL"
          ],
          [
           "Technology",
           "AAPL"
          ],
          [
           "Technology",
           "AAPL"
          ],
          [
           "Technology",
           "AAPL"
          ],
          [
           "Technology",
           "AAPL"
          ],
          [
           "Technology",
           "AAPL"
          ],
          [
           "Technology",
           "AAPL"
          ],
          [
           "Technology",
           "AAPL"
          ],
          [
           "Technology",
           "AAPL"
          ],
          [
           "Technology",
           "AAPL"
          ],
          [
           "Technology",
           "AAPL"
          ],
          [
           "Technology",
           "AAPL"
          ],
          [
           "Technology",
           "AAPL"
          ],
          [
           "Technology",
           "AAPL"
          ],
          [
           "Technology",
           "AAPL"
          ],
          [
           "Technology",
           "AAPL"
          ],
          [
           "Technology",
           "AAPL"
          ],
          [
           "Technology",
           "AAPL"
          ],
          [
           "Technology",
           "AAPL"
          ],
          [
           "Technology",
           "CAMP"
          ],
          [
           "Technology",
           "CAMP"
          ],
          [
           "Technology",
           "CAMP"
          ],
          [
           "Technology",
           "CAMP"
          ],
          [
           "Technology",
           "CAMP"
          ],
          [
           "Technology",
           "CAMP"
          ],
          [
           "Technology",
           "CAMP"
          ],
          [
           "Technology",
           "CAMP"
          ],
          [
           "Technology",
           "CAMP"
          ],
          [
           "Technology",
           "CAMP"
          ],
          [
           "Technology",
           "CAMP"
          ],
          [
           "Technology",
           "CAMP"
          ],
          [
           "Technology",
           "MGIC"
          ],
          [
           "Technology",
           "MGIC"
          ],
          [
           "Technology",
           "MGIC"
          ],
          [
           "Technology",
           "MGIC"
          ],
          [
           "Technology",
           "MGIC"
          ],
          [
           "Technology",
           "MGIC"
          ],
          [
           "Technology",
           "MGIC"
          ],
          [
           "Technology",
           "MGIC"
          ],
          [
           "Technology",
           "MGIC"
          ],
          [
           "Technology",
           "MGIC"
          ],
          [
           "Technology",
           "MGIC"
          ],
          [
           "Technology",
           "MGIC"
          ],
          [
           "Technology",
           "MGIC"
          ],
          [
           "Technology",
           "MGIC"
          ],
          [
           "Technology",
           "NLOK"
          ],
          [
           "Technology",
           "NLOK"
          ],
          [
           "Technology",
           "NLOK"
          ],
          [
           "Technology",
           "NLOK"
          ],
          [
           "Technology",
           "NLOK"
          ],
          [
           "Technology",
           "NLOK"
          ],
          [
           "Technology",
           "NLOK"
          ],
          [
           "Technology",
           "NLOK"
          ],
          [
           "Technology",
           "NLOK"
          ],
          [
           "Technology",
           "NLOK"
          ],
          [
           "Technology",
           "NLOK"
          ],
          [
           "Technology",
           "NLOK"
          ],
          [
           "Technology",
           "NLOK"
          ],
          [
           "Technology",
           "NLOK"
          ],
          [
           "Technology",
           "NLOK"
          ],
          [
           "Technology",
           "NLOK"
          ],
          [
           "Technology",
           "NLOK"
          ],
          [
           "Technology",
           "NLOK"
          ],
          [
           "Technology",
           "NLOK"
          ],
          [
           "Technology",
           "NLOK"
          ],
          [
           "Technology",
           "NLOK"
          ],
          [
           "Technology",
           "NLOK"
          ],
          [
           "Technology",
           "NLOK"
          ],
          [
           "Technology",
           "NLOK"
          ],
          [
           "Technology",
           "NLOK"
          ],
          [
           "Technology",
           "NLOK"
          ],
          [
           "Technology",
           "NLOK"
          ],
          [
           "Technology",
           "NLOK"
          ],
          [
           "Technology",
           "NLOK"
          ],
          [
           "Technology",
           "NLOK"
          ],
          [
           "Technology",
           "NLOK"
          ],
          [
           "Technology",
           "NLOK"
          ],
          [
           "Technology",
           "NLOK"
          ],
          [
           "Technology",
           "NLOK"
          ],
          [
           "Technology",
           "NLOK"
          ],
          [
           "Technology",
           "NLOK"
          ],
          [
           "Technology",
           "NLOK"
          ],
          [
           "Technology",
           "NLOK"
          ],
          [
           "Technology",
           "NLOK"
          ],
          [
           "Technology",
           "NLOK"
          ],
          [
           "Technology",
           "NLOK"
          ],
          [
           "Technology",
           "NLOK"
          ],
          [
           "Technology",
           "NLOK"
          ],
          [
           "Technology",
           "NLOK"
          ],
          [
           "Technology",
           "NLOK"
          ],
          [
           "Technology",
           "NLOK"
          ],
          [
           "Technology",
           "NLOK"
          ],
          [
           "Technology",
           "NLOK"
          ],
          [
           "Technology",
           "NLOK"
          ],
          [
           "Technology",
           "NLOK"
          ],
          [
           "Technology",
           "NLOK"
          ],
          [
           "Technology",
           "NLOK"
          ],
          [
           "Technology",
           "NLOK"
          ],
          [
           "Technology",
           "NLOK"
          ],
          [
           "Technology",
           "NLOK"
          ],
          [
           "Technology",
           "NOK"
          ],
          [
           "Technology",
           "NOK"
          ],
          [
           "Technology",
           "NOK"
          ],
          [
           "Technology",
           "NOK"
          ],
          [
           "Technology",
           "NOK"
          ],
          [
           "Technology",
           "NOK"
          ],
          [
           "Technology",
           "NOK"
          ],
          [
           "Technology",
           "NOK"
          ],
          [
           "Technology",
           "NOK"
          ],
          [
           "Technology",
           "NOK"
          ],
          [
           "Technology",
           "NOK"
          ],
          [
           "Technology",
           "NOK"
          ],
          [
           "Technology",
           "NOK"
          ],
          [
           "Technology",
           "NOK"
          ],
          [
           "Technology",
           "NOK"
          ],
          [
           "Technology",
           "NOK"
          ],
          [
           "Technology",
           "NOK"
          ],
          [
           "Technology",
           "NOK"
          ],
          [
           "Technology",
           "NOK"
          ],
          [
           "Technology",
           "NOK"
          ],
          [
           "Technology",
           "NOK"
          ],
          [
           "Technology",
           "NOK"
          ],
          [
           "Technology",
           "NOK"
          ],
          [
           "Technology",
           "NOK"
          ],
          [
           "Technology",
           "NOK"
          ],
          [
           "Technology",
           "NOK"
          ],
          [
           "Technology",
           "NOK"
          ],
          [
           "Technology",
           "NOK"
          ],
          [
           "Technology",
           "NOK"
          ],
          [
           "Technology",
           "NOK"
          ],
          [
           "Technology",
           "NOK"
          ],
          [
           "Technology",
           "NOK"
          ],
          [
           "Technology",
           "NOK"
          ],
          [
           "Technology",
           "NOK"
          ],
          [
           "Technology",
           "NOK"
          ],
          [
           "Technology",
           "NOK"
          ],
          [
           "Technology",
           "NOK"
          ],
          [
           "Technology",
           "NOK"
          ],
          [
           "Technology",
           "NOK"
          ],
          [
           "Technology",
           "NOK"
          ],
          [
           "Technology",
           "NOK"
          ],
          [
           "Technology",
           "NOK"
          ]
         ],
         "hoverlabel": {
          "namelength": 0
         },
         "hovertemplate": "sector=%{customdata[0]}<br>x=%{x}<br>y=%{y}<br>symb=%{customdata[1]}",
         "legendgroup": "Technology",
         "marker": {
          "color": "#636efa",
          "symbol": "circle"
         },
         "mode": "markers",
         "name": "Technology",
         "showlegend": true,
         "type": "scattergl",
         "x": [
          27.63298225402832,
          9.401087760925293,
          -56.89924240112305,
          55.54124450683594,
          8.236339569091797,
          56.76765060424805,
          2.398139476776123,
          -11.164753913879395,
          6.211690902709961,
          2.1892783641815186,
          7.261308193206787,
          2.1659281253814697,
          -50.37206268310547,
          14.066391944885254,
          -49.269325256347656,
          -56.06371307373047,
          -45.908756256103516,
          20.709203720092773,
          55.84075164794922,
          9.686726570129395,
          6.4444684982299805,
          39.557437896728516,
          23.98021697998047,
          53.82746505737305,
          54.4358024597168,
          34.69110107421875,
          10.195008277893066,
          56.43408203125,
          35.76523971557617,
          35.0774040222168,
          35.67219161987305,
          35.07662582397461,
          34.90144348144531,
          -51.27268600463867,
          -27.34239959716797,
          -7.058916091918945,
          38.08462905883789,
          33.39839553833008,
          38.68572998046875,
          15.644000053405762,
          7.887566566467285,
          7.799952983856201,
          36.648460388183594,
          15.277092933654785,
          -6.428822994232178,
          -6.10256290435791,
          -26.138309478759766,
          11.696084022521973,
          -54.810890197753906,
          13.611214637756348,
          -16.558345794677734,
          -16.103893280029297,
          -27.930355072021484,
          9.15674114227295,
          23.810543060302734,
          12.021757125854492,
          35.817771911621094,
          2.52066969871521,
          -26.010883331298828,
          -14.174473762512207,
          -14.110687255859375,
          -42.59885787963867,
          9.137665748596191,
          55.44395446777344,
          -5.885702133178711,
          -24.309669494628906,
          29.800453186035156,
          20.679218292236328,
          20.287086486816406,
          16.22787857055664,
          2.491694688796997,
          -54.28461456298828,
          28.286394119262695,
          -9.998537063598633,
          34.80271911621094,
          8.810182571411133,
          53.299659729003906,
          35.02773666381836,
          -0.18741458654403687,
          -22.620779037475586,
          2.3185901641845703,
          -28.667593002319336,
          -54.23003387451172,
          13.462845802307129,
          7.414416790008545,
          -15.287212371826172,
          -16.412681579589844,
          -9.525110244750977,
          -6.483114242553711,
          23.256427764892578,
          23.836286544799805,
          -16.3775691986084,
          -27.701725006103516,
          41.02536392211914,
          38.39602279663086,
          -23.689712524414062,
          -53.57352828979492,
          24.76357078552246,
          24.645315170288086,
          24.74898910522461,
          -47.471954345703125,
          -20.54450225830078,
          9.60724925994873,
          0.20923848450183868,
          -16.025556564331055,
          -12.893418312072754,
          -17.263473510742188,
          -3.7934410572052,
          2.5366220474243164,
          -27.776077270507812,
          -28.69477653503418,
          -39.47920608520508,
          -38.63276290893555,
          -39.66352844238281,
          -39.77431106567383,
          8.539233207702637,
          12.577234268188477,
          24.096010208129883,
          5.8983683586120605,
          -42.13410568237305,
          5.721445083618164,
          6.156501293182373,
          -16.569799423217773,
          -14.240987777709961,
          -43.395896911621094,
          34.8284912109375,
          26.52924919128418,
          -13.717206954956055,
          -1.8555293083190918,
          -23.494922637939453,
          -56.97373580932617,
          3.9663116931915283,
          -51.11339569091797,
          8.151410102844238,
          7.6008501052856445,
          8.549925804138184,
          -13.084718704223633,
          10.24755859375,
          2.151780605316162,
          -20.94887924194336,
          8.345593452453613,
          -13.696671485900879,
          -13.413268089294434,
          23.436471939086914,
          4.735093593597412,
          10.857091903686523,
          9.697619438171387,
          41.63957977294922,
          6.28544282913208,
          -10.910710334777832,
          -52.03940200805664,
          5.349321365356445,
          25.71915626525879,
          -14.826240539550781,
          15.096686363220215,
          23.771509170532227,
          9.030279159545898,
          -26.49394989013672,
          -51.883338928222656,
          35.1307258605957,
          44.295040130615234,
          4.905111312866211,
          -52.385650634765625,
          -10.844963073730469,
          9.476645469665527,
          -1.19133460521698,
          9.199116706848145,
          -2.6291697025299072,
          -26.989532470703125,
          -1.2989555597305298,
          5.591609954833984,
          -38.0330696105957,
          -5.15544319152832,
          8.181840896606445,
          2.0835583209991455,
          -43.42613983154297,
          -56.13838195800781,
          -9.83750057220459,
          -15.765739440917969,
          -8.5750093460083,
          -14.763914108276367,
          9.83151626586914,
          -27.192325592041016,
          -51.892425537109375,
          7.406001567840576,
          -2.229288339614868,
          26.66668128967285,
          -50.53336715698242,
          10.301856994628906,
          -3.3107492923736572,
          -2.0416035652160645,
          -1.1904354095458984,
          -55.93930435180664,
          12.966090202331543,
          9.283333778381348,
          -20.59825325012207,
          10.071590423583984,
          -27.147979736328125,
          -26.870296478271484,
          -29.91828727722168,
          -26.95083236694336,
          -26.295122146606445,
          -26.106063842773438,
          -47.46479797363281,
          -27.485496520996094,
          -50.090274810791016,
          -30.333364486694336,
          -25.180334091186523,
          12.08448600769043,
          -39.66414260864258,
          -39.487056732177734,
          -27.93980598449707,
          22.23126792907715,
          -39.05447769165039,
          -39.447418212890625,
          -39.85859298706055,
          -25.644866943359375,
          -25.314985275268555,
          -28.466190338134766,
          -25.000364303588867,
          -39.47327423095703,
          -28.292139053344727,
          -28.528650283813477,
          33.77137756347656,
          -2.1618480682373047,
          -2.3169758319854736,
          22.25054168701172,
          -3.672823429107666,
          -4.526604652404785,
          -10.134185791015625,
          21.489274978637695,
          -25.75582504272461,
          -31.421865463256836,
          20.192060470581055,
          -24.85481834411621,
          14.345766067504883,
          -23.97800064086914,
          21.436935424804688,
          -50.70405197143555,
          20.26953887939453,
          -39.00015640258789,
          0.9674944877624512,
          4.723215579986572,
          -46.812255859375,
          -40.30171203613281,
          0.5547492504119873,
          -49.56120681762695,
          21.024669647216797,
          20.942298889160156,
          -4.015430927276611,
          -1.195011854171753,
          -10.632292747497559,
          24.424901962280273,
          -21.950565338134766,
          -7.801692485809326,
          -44.00924301147461,
          -2.1778476238250732,
          -6.211828231811523,
          -3.0756094455718994,
          11.937392234802246,
          -0.666953980922699,
          13.057196617126465,
          -25.705551147460938,
          32.84205627441406,
          -5.84433650970459,
          -51.633750915527344,
          3.280057191848755,
          -27.675769805908203,
          12.440069198608398,
          28.60751724243164,
          20.49249839782715,
          -45.145565032958984,
          -10.389162063598633,
          -27.768083572387695,
          -16.017372131347656,
          -14.846712112426758,
          -41.460140228271484,
          -40.05896759033203,
          25.512155532836914,
          25.38349723815918,
          -18.415754318237305,
          5.397558689117432,
          -10.65478229522705,
          -60.385128021240234,
          -8.190374374389648,
          9.625885963439941,
          20.299257278442383,
          5.579560279846191,
          -2.546325922012329,
          30.42680549621582,
          -7.389808177947998,
          14.401213645935059,
          27.93675994873047,
          6.122206211090088,
          10.396086692810059,
          -5.534884929656982,
          -14.037721633911133,
          -9.916810989379883,
          12.741242408752441,
          31.894237518310547,
          31.63606834411621,
          8.727507591247559,
          17.674623489379883,
          -59.08041763305664,
          5.280066013336182,
          -58.03567123413086,
          -2.446894884109497,
          -58.14345169067383,
          -56.827362060546875,
          2.862738609313965,
          16.903657913208008,
          -46.298126220703125,
          -43.895023345947266,
          21.03584861755371,
          20.229995727539062,
          -39.502288818359375,
          -57.41672134399414,
          12.009757041931152,
          -44.597747802734375,
          -59.22420120239258
         ],
         "xaxis": "x",
         "y": [
          -16.429349899291992,
          -14.792656898498535,
          -16.786706924438477,
          -1.5689419507980347,
          -3.411008834838867,
          -2.7784597873687744,
          7.090902805328369,
          6.316070556640625,
          -3.7126474380493164,
          31.288137435913086,
          28.450809478759766,
          29.755199432373047,
          -18.550491333007812,
          33.45200729370117,
          -18.17513656616211,
          16.93062400817871,
          30.624372482299805,
          42.032779693603516,
          -1.4755363464355469,
          -3.407338857650757,
          34.416221618652344,
          -23.39946937561035,
          -13.286420822143555,
          0.9775548577308655,
          1.027282476425171,
          -18.5677490234375,
          0.2468648999929428,
          -2.3567349910736084,
          -36.51718521118164,
          -36.05719757080078,
          -36.364891052246094,
          -36.00166320800781,
          -36.734230041503906,
          -20.19874382019043,
          -15.639714241027832,
          21.56389045715332,
          -27.790197372436523,
          -2.801093101501465,
          -14.7991304397583,
          -69.55084228515625,
          2.937514543533325,
          3.000232696533203,
          -8.947635650634766,
          -67.88700103759766,
          17.209178924560547,
          17.325998306274414,
          45.48772430419922,
          -76.4941635131836,
          -32.07964324951172,
          -77.70735931396484,
          -45.343441009521484,
          -44.29389572143555,
          48.069034576416016,
          13.516477584838867,
          -39.54930114746094,
          -77.18338775634766,
          12.54051685333252,
          -2.185760021209717,
          -2.3227853775024414,
          -19.255643844604492,
          -4.112387180328369,
          -8.204707145690918,
          13.439966201782227,
          1.9608079195022583,
          31.87238311767578,
          38.381004333496094,
          34.99175262451172,
          47.97103500366211,
          8.861083984375,
          -14.650176048278809,
          -16.169843673706055,
          -17.811767578125,
          3.8110694885253906,
          -47.63026428222656,
          5.8095598220825195,
          -42.03288650512695,
          -0.9348883032798767,
          -36.04594039916992,
          11.623211860656738,
          47.452880859375,
          34.23151779174805,
          6.896350860595703,
          -32.50020217895508,
          -76.41283416748047,
          -28.2910213470459,
          -24.445480346679688,
          -23.45280647277832,
          -32.57765197753906,
          23.799951553344727,
          41.103572845458984,
          41.34868240356445,
          -23.12138557434082,
          45.731605529785156,
          -21.846683502197266,
          -24.21592140197754,
          32.3907585144043,
          -7.179296970367432,
          39.06639862060547,
          39.041481018066406,
          39.178890228271484,
          0.810582160949707,
          -4.737854480743408,
          -70.65668487548828,
          36.048126220703125,
          -24.39740753173828,
          -21.341325759887695,
          -36.22289276123047,
          -20.241260528564453,
          -2.1997618675231934,
          32.75297164916992,
          47.11222839355469,
          11.589961051940918,
          9.787816047668457,
          11.538026809692383,
          11.158100128173828,
          -2.135643720626831,
          -30.855560302734375,
          -21.218435287475586,
          29.28152847290039,
          24.709226608276367,
          31.157451629638672,
          29.139995574951172,
          -43.161964416503906,
          -46.36342239379883,
          25.422658920288086,
          4.628970623016357,
          -33.631290435791016,
          -45.207828521728516,
          8.707664489746094,
          17.076982498168945,
          -17.701438903808594,
          32.776344299316406,
          -20.65778160095215,
          -14.215203285217285,
          -37.377418518066406,
          -12.971933364868164,
          -29.87371826171875,
          -0.044243015348911285,
          -7.780961513519287,
          -13.59480094909668,
          -11.458511352539062,
          -40.51560592651367,
          -44.80012512207031,
          -40.42430877685547,
          -13.098703384399414,
          -13.64770221710205,
          -13.832883834838867,
          -10.86892318725586,
          -3.807738780975342,
          -32.18638229370117,
          -19.666257858276367,
          -6.953896999359131,
          -20.573911666870117,
          -32.5811882019043,
          -37.5596923828125,
          18.526655197143555,
          -11.589837074279785,
          -15.189687728881836,
          -13.641373634338379,
          -29.564714431762695,
          -11.708998680114746,
          -12.203324317932129,
          -20.53732681274414,
          -46.0639762878418,
          -14.259252548217773,
          -38.07969665527344,
          -12.755415916442871,
          0.6866083145141602,
          -14.523402214050293,
          -17.604455947875977,
          29.705371856689453,
          30.60247039794922,
          54.94465255737305,
          -13.02648639678955,
          26.7816162109375,
          25.15495491027832,
          -17.463489532470703,
          -49.231422424316406,
          -41.482421875,
          -48.37668228149414,
          -45.23693084716797,
          -10.990455627441406,
          -25.350900650024414,
          -13.413213729858398,
          -12.8731689453125,
          -35.22553634643555,
          -28.799230575561523,
          -13.37337589263916,
          -12.204052925109863,
          -20.31597328186035,
          -13.7296142578125,
          -17.24806785583496,
          18.196916580200195,
          -32.70260238647461,
          -12.27056884765625,
          -23.320533752441406,
          -11.766472816467285,
          46.91066360473633,
          26.245080947875977,
          22.767471313476562,
          28.334644317626953,
          23.54930877685547,
          30.48059844970703,
          -7.671114921569824,
          23.745725631713867,
          4.394237041473389,
          22.521902084350586,
          27.834726333618164,
          -73.277099609375,
          10.566360473632812,
          11.350471496582031,
          25.398418426513672,
          -30.940532684326172,
          10.313772201538086,
          11.003076553344727,
          11.309590339660645,
          34.427581787109375,
          25.721763610839844,
          33.18492889404297,
          24.1513671875,
          0.9866448640823364,
          32.722068786621094,
          27.839588165283203,
          24.873519897460938,
          -7.360898017883301,
          -7.19289493560791,
          48.154136657714844,
          16.0031795501709,
          14.319709777832031,
          6.427124500274658,
          39.33565902709961,
          31.25394058227539,
          -8.421055793762207,
          41.671504974365234,
          -13.884257316589355,
          48.566436767578125,
          32.3414421081543,
          38.58943176269531,
          -3.246473550796509,
          39.64006805419922,
          -6.754128456115723,
          31.56374740600586,
          6.716871738433838,
          -9.680571556091309,
          23.507339477539062,
          -36.882259368896484,
          4.8895087242126465,
          39.860260009765625,
          38.5189094543457,
          -8.520975112915039,
          32.240867614746094,
          15.158208847045898,
          -29.78977394104004,
          -20.687715530395508,
          3.3125040531158447,
          -17.873308181762695,
          -37.09198760986328,
          19.84708023071289,
          -6.498243808746338,
          -76.78837585449219,
          32.30695724487305,
          -2.353898048400879,
          -13.94175910949707,
          24.395639419555664,
          18.286884307861328,
          -4.027466297149658,
          -35.770965576171875,
          45.61666488647461,
          -2.337799310684204,
          31.37020492553711,
          38.616580963134766,
          -16.89142417907715,
          6.945403099060059,
          45.533592224121094,
          -21.90178680419922,
          -28.916954040527344,
          23.554534912109375,
          23.339237213134766,
          -33.59519577026367,
          -27.03825569152832,
          -43.121315002441406,
          26.376134872436523,
          5.1178741455078125,
          -14.605953216552734,
          44.37276840209961,
          -25.864107131958008,
          8.779911994934082,
          26.312177658081055,
          36.707672119140625,
          0.46760380268096924,
          44.05009841918945,
          -19.924455642700195,
          2.1864707469940186,
          -34.20913314819336,
          -26.240781784057617,
          -32.783992767333984,
          40.358577728271484,
          -48.13814163208008,
          -4.506458282470703,
          1.463517665863037,
          1.4458221197128296,
          48.789310455322266,
          36.663597106933594,
          -13.656094551086426,
          6.558353900909424,
          -10.348800659179688,
          36.69783020019531,
          -10.441831588745117,
          -13.168120384216309,
          6.887325286865234,
          36.201377868652344,
          -6.255415916442871,
          0.6408489942550659,
          37.79119873046875,
          -9.043360710144043,
          -10.860780715942383,
          -11.86814022064209,
          -24.870655059814453,
          -3.013838052749634,
          -12.24208927154541
         ],
         "yaxis": "y"
        },
        {
         "customdata": [
          [
           "Automotive",
           "TSLA"
          ],
          [
           "Automotive",
           "TSLA"
          ],
          [
           "Automotive",
           "TSLA"
          ],
          [
           "Automotive",
           "TSLA"
          ],
          [
           "Automotive",
           "TSLA"
          ],
          [
           "Automotive",
           "TSLA"
          ],
          [
           "Automotive",
           "F"
          ],
          [
           "Automotive",
           "F"
          ],
          [
           "Automotive",
           "F"
          ],
          [
           "Automotive",
           "F"
          ],
          [
           "Automotive",
           "NIO"
          ],
          [
           "Automotive",
           "NIO"
          ],
          [
           "Automotive",
           "NIO"
          ],
          [
           "Automotive",
           "NIO"
          ],
          [
           "Automotive",
           "NIO"
          ],
          [
           "Automotive",
           "NIO"
          ],
          [
           "Automotive",
           "TSLA"
          ],
          [
           "Automotive",
           "TSLA"
          ],
          [
           "Automotive",
           "TSLA"
          ],
          [
           "Automotive",
           "TSLA"
          ],
          [
           "Automotive",
           "TSLA"
          ],
          [
           "Automotive",
           "TSLA"
          ],
          [
           "Automotive",
           "TSLA"
          ],
          [
           "Automotive",
           "TSLA"
          ],
          [
           "Automotive",
           "TSLA"
          ],
          [
           "Automotive",
           "TSLA"
          ],
          [
           "Automotive",
           "TSLA"
          ],
          [
           "Automotive",
           "TSLA"
          ],
          [
           "Automotive",
           "TSLA"
          ],
          [
           "Automotive",
           "TSLA"
          ],
          [
           "Automotive",
           "TSLA"
          ],
          [
           "Automotive",
           "TSLA"
          ],
          [
           "Automotive",
           "TSLA"
          ],
          [
           "Automotive",
           "TSLA"
          ],
          [
           "Automotive",
           "TSLA"
          ],
          [
           "Automotive",
           "TSLA"
          ],
          [
           "Automotive",
           "TSLA"
          ],
          [
           "Automotive",
           "TSLA"
          ],
          [
           "Automotive",
           "TSLA"
          ],
          [
           "Automotive",
           "TSLA"
          ],
          [
           "Automotive",
           "TSLA"
          ],
          [
           "Automotive",
           "TSLA"
          ],
          [
           "Automotive",
           "TSLA"
          ],
          [
           "Automotive",
           "TSLA"
          ],
          [
           "Automotive",
           "TSLA"
          ],
          [
           "Automotive",
           "TSLA"
          ],
          [
           "Automotive",
           "TSLA"
          ],
          [
           "Automotive",
           "TSLA"
          ],
          [
           "Automotive",
           "TSLA"
          ],
          [
           "Automotive",
           "TSLA"
          ],
          [
           "Automotive",
           "TSLA"
          ],
          [
           "Automotive",
           "TSLA"
          ],
          [
           "Automotive",
           "TSLA"
          ],
          [
           "Automotive",
           "TSLA"
          ],
          [
           "Automotive",
           "TSLA"
          ],
          [
           "Automotive",
           "TSLA"
          ],
          [
           "Automotive",
           "TSLA"
          ],
          [
           "Automotive",
           "TSLA"
          ],
          [
           "Automotive",
           "TSLA"
          ],
          [
           "Automotive",
           "TSLA"
          ],
          [
           "Automotive",
           "TSLA"
          ],
          [
           "Automotive",
           "TSLA"
          ],
          [
           "Automotive",
           "TSLA"
          ],
          [
           "Automotive",
           "TSLA"
          ],
          [
           "Automotive",
           "TSLA"
          ],
          [
           "Automotive",
           "TSLA"
          ],
          [
           "Automotive",
           "TSLA"
          ],
          [
           "Automotive",
           "TSLA"
          ],
          [
           "Automotive",
           "TSLA"
          ],
          [
           "Automotive",
           "TSLA"
          ],
          [
           "Automotive",
           "TSLA"
          ],
          [
           "Automotive",
           "TSLA"
          ],
          [
           "Automotive",
           "TSLA"
          ],
          [
           "Automotive",
           "TSLA"
          ],
          [
           "Automotive",
           "TSLA"
          ],
          [
           "Automotive",
           "TSLA"
          ],
          [
           "Automotive",
           "TSLA"
          ],
          [
           "Automotive",
           "TSLA"
          ],
          [
           "Automotive",
           "TSLA"
          ],
          [
           "Automotive",
           "TSLA"
          ],
          [
           "Automotive",
           "TSLA"
          ],
          [
           "Automotive",
           "TSLA"
          ],
          [
           "Automotive",
           "TSLA"
          ],
          [
           "Automotive",
           "TSLA"
          ],
          [
           "Automotive",
           "TSLA"
          ],
          [
           "Automotive",
           "TSLA"
          ],
          [
           "Automotive",
           "TSLA"
          ],
          [
           "Automotive",
           "TSLA"
          ],
          [
           "Automotive",
           "TSLA"
          ],
          [
           "Automotive",
           "TSLA"
          ],
          [
           "Automotive",
           "TSLA"
          ],
          [
           "Automotive",
           "TSLA"
          ],
          [
           "Automotive",
           "TSLA"
          ],
          [
           "Automotive",
           "TSLA"
          ],
          [
           "Automotive",
           "TSLA"
          ],
          [
           "Automotive",
           "TSLA"
          ],
          [
           "Automotive",
           "TSLA"
          ],
          [
           "Automotive",
           "TSLA"
          ],
          [
           "Automotive",
           "TSLA"
          ],
          [
           "Automotive",
           "TSLA"
          ],
          [
           "Automotive",
           "TSLA"
          ],
          [
           "Automotive",
           "TSLA"
          ],
          [
           "Automotive",
           "TSLA"
          ],
          [
           "Automotive",
           "TSLA"
          ],
          [
           "Automotive",
           "TSLA"
          ],
          [
           "Automotive",
           "TSLA"
          ],
          [
           "Automotive",
           "TSLA"
          ],
          [
           "Automotive",
           "TSLA"
          ],
          [
           "Automotive",
           "TSLA"
          ],
          [
           "Automotive",
           "TSLA"
          ],
          [
           "Automotive",
           "TSLA"
          ],
          [
           "Automotive",
           "TSLA"
          ],
          [
           "Automotive",
           "TSLA"
          ],
          [
           "Automotive",
           "TSLA"
          ],
          [
           "Automotive",
           "TSLA"
          ],
          [
           "Automotive",
           "TSLA"
          ],
          [
           "Automotive",
           "TSLA"
          ],
          [
           "Automotive",
           "TSLA"
          ],
          [
           "Automotive",
           "TSLA"
          ],
          [
           "Automotive",
           "TSLA"
          ],
          [
           "Automotive",
           "TSLA"
          ],
          [
           "Automotive",
           "TSLA"
          ],
          [
           "Automotive",
           "TSLA"
          ],
          [
           "Automotive",
           "TSLA"
          ],
          [
           "Automotive",
           "TSLA"
          ],
          [
           "Automotive",
           "TSLA"
          ],
          [
           "Automotive",
           "TSLA"
          ],
          [
           "Automotive",
           "TSLA"
          ],
          [
           "Automotive",
           "TSLA"
          ],
          [
           "Automotive",
           "TSLA"
          ],
          [
           "Automotive",
           "TSLA"
          ],
          [
           "Automotive",
           "TSLA"
          ],
          [
           "Automotive",
           "TSLA"
          ],
          [
           "Automotive",
           "TSLA"
          ],
          [
           "Automotive",
           "TSLA"
          ],
          [
           "Automotive",
           "TSLA"
          ],
          [
           "Automotive",
           "TSLA"
          ],
          [
           "Automotive",
           "TSLA"
          ],
          [
           "Automotive",
           "TSLA"
          ],
          [
           "Automotive",
           "TSLA"
          ],
          [
           "Automotive",
           "TSLA"
          ],
          [
           "Automotive",
           "TSLA"
          ],
          [
           "Automotive",
           "TSLA"
          ],
          [
           "Automotive",
           "TSLA"
          ],
          [
           "Automotive",
           "TSLA"
          ],
          [
           "Automotive",
           "TSLA"
          ],
          [
           "Automotive",
           "TSLA"
          ],
          [
           "Automotive",
           "TSLA"
          ],
          [
           "Automotive",
           "TSLA"
          ],
          [
           "Automotive",
           "TSLA"
          ],
          [
           "Automotive",
           "TSLA"
          ],
          [
           "Automotive",
           "TSLA"
          ],
          [
           "Automotive",
           "TSLA"
          ],
          [
           "Automotive",
           "TSLA"
          ],
          [
           "Automotive",
           "TSLA"
          ],
          [
           "Automotive",
           "TSLA"
          ],
          [
           "Automotive",
           "TSLA"
          ],
          [
           "Automotive",
           "TSLA"
          ],
          [
           "Automotive",
           "TSLA"
          ],
          [
           "Automotive",
           "TSLA"
          ],
          [
           "Automotive",
           "TSLA"
          ],
          [
           "Automotive",
           "TSLA"
          ],
          [
           "Automotive",
           "TSLA"
          ],
          [
           "Automotive",
           "TSLA"
          ],
          [
           "Automotive",
           "TSLA"
          ],
          [
           "Automotive",
           "TSLA"
          ],
          [
           "Automotive",
           "TSLA"
          ],
          [
           "Automotive",
           "TSLA"
          ],
          [
           "Automotive",
           "TSLA"
          ],
          [
           "Automotive",
           "TSLA"
          ],
          [
           "Automotive",
           "TSLA"
          ],
          [
           "Automotive",
           "TSLA"
          ],
          [
           "Automotive",
           "TSLA"
          ],
          [
           "Automotive",
           "TSLA"
          ],
          [
           "Automotive",
           "TSLA"
          ],
          [
           "Automotive",
           "TSLA"
          ],
          [
           "Automotive",
           "TSLA"
          ],
          [
           "Automotive",
           "TSLA"
          ],
          [
           "Automotive",
           "TSLA"
          ],
          [
           "Automotive",
           "TSLA"
          ],
          [
           "Automotive",
           "TSLA"
          ],
          [
           "Automotive",
           "TSLA"
          ],
          [
           "Automotive",
           "TSLA"
          ],
          [
           "Automotive",
           "TSLA"
          ],
          [
           "Automotive",
           "TSLA"
          ],
          [
           "Automotive",
           "TSLA"
          ],
          [
           "Automotive",
           "TSLA"
          ],
          [
           "Automotive",
           "TSLA"
          ],
          [
           "Automotive",
           "TSLA"
          ],
          [
           "Automotive",
           "TSLA"
          ],
          [
           "Automotive",
           "TSLA"
          ],
          [
           "Automotive",
           "TSLA"
          ],
          [
           "Automotive",
           "TSLA"
          ],
          [
           "Automotive",
           "TSLA"
          ],
          [
           "Automotive",
           "TSLA"
          ],
          [
           "Automotive",
           "TSLA"
          ],
          [
           "Automotive",
           "TSLA"
          ],
          [
           "Automotive",
           "TSLA"
          ],
          [
           "Automotive",
           "TSLA"
          ],
          [
           "Automotive",
           "TSLA"
          ],
          [
           "Automotive",
           "TSLA"
          ],
          [
           "Automotive",
           "TSLA"
          ],
          [
           "Automotive",
           "TSLA"
          ],
          [
           "Automotive",
           "TSLA"
          ],
          [
           "Automotive",
           "TSLA"
          ],
          [
           "Automotive",
           "TSLA"
          ],
          [
           "Automotive",
           "TSLA"
          ],
          [
           "Automotive",
           "TSLA"
          ],
          [
           "Automotive",
           "TSLA"
          ],
          [
           "Automotive",
           "TSLA"
          ],
          [
           "Automotive",
           "TSLA"
          ],
          [
           "Automotive",
           "TSLA"
          ],
          [
           "Automotive",
           "TSLA"
          ],
          [
           "Automotive",
           "TSLA"
          ],
          [
           "Automotive",
           "TSLA"
          ],
          [
           "Automotive",
           "TSLA"
          ],
          [
           "Automotive",
           "TSLA"
          ],
          [
           "Automotive",
           "TSLA"
          ],
          [
           "Automotive",
           "TSLA"
          ],
          [
           "Automotive",
           "TSLA"
          ],
          [
           "Automotive",
           "TSLA"
          ],
          [
           "Automotive",
           "TSLA"
          ],
          [
           "Automotive",
           "TSLA"
          ],
          [
           "Automotive",
           "TSLA"
          ],
          [
           "Automotive",
           "TSLA"
          ],
          [
           "Automotive",
           "TSLA"
          ],
          [
           "Automotive",
           "TSLA"
          ],
          [
           "Automotive",
           "TSLA"
          ],
          [
           "Automotive",
           "TSLA"
          ],
          [
           "Automotive",
           "TSLA"
          ],
          [
           "Automotive",
           "TSLA"
          ],
          [
           "Automotive",
           "TSLA"
          ],
          [
           "Automotive",
           "TSLA"
          ],
          [
           "Automotive",
           "TSLA"
          ],
          [
           "Automotive",
           "TSLA"
          ],
          [
           "Automotive",
           "TSLA"
          ],
          [
           "Automotive",
           "TSLA"
          ],
          [
           "Automotive",
           "TSLA"
          ],
          [
           "Automotive",
           "TSLA"
          ],
          [
           "Automotive",
           "TSLA"
          ],
          [
           "Automotive",
           "TSLA"
          ],
          [
           "Automotive",
           "TSLA"
          ],
          [
           "Automotive",
           "TSLA"
          ],
          [
           "Automotive",
           "TSLA"
          ],
          [
           "Automotive",
           "TSLA"
          ],
          [
           "Automotive",
           "TSLA"
          ],
          [
           "Automotive",
           "TSLA"
          ],
          [
           "Automotive",
           "TSLA"
          ],
          [
           "Automotive",
           "TSLA"
          ],
          [
           "Automotive",
           "TSLA"
          ],
          [
           "Automotive",
           "TSLA"
          ],
          [
           "Automotive",
           "TSLA"
          ],
          [
           "Automotive",
           "TSLA"
          ],
          [
           "Automotive",
           "TSLA"
          ]
         ],
         "hoverlabel": {
          "namelength": 0
         },
         "hovertemplate": "sector=%{customdata[0]}<br>x=%{x}<br>y=%{y}<br>symb=%{customdata[1]}",
         "legendgroup": "Automotive",
         "marker": {
          "color": "#EF553B",
          "symbol": "circle"
         },
         "mode": "markers",
         "name": "Automotive",
         "showlegend": true,
         "type": "scattergl",
         "x": [
          -50.41796112060547,
          2.542203664779663,
          6.0334858894348145,
          21.711275100708008,
          2.9212889671325684,
          -7.0689311027526855,
          39.50178909301758,
          13.192493438720703,
          5.825222492218018,
          -11.393258094787598,
          -6.51505184173584,
          -6.6308722496032715,
          -37.54921340942383,
          -10.848971366882324,
          -5.959121227264404,
          -9.521045684814453,
          5.183640003204346,
          4.6120991706848145,
          -18.495145797729492,
          -4.621587753295898,
          -51.945396423339844,
          -4.851349353790283,
          -51.71538543701172,
          18.167320251464844,
          -13.651596069335938,
          -5.96182107925415,
          -1.9947141408920288,
          -7.0955352783203125,
          -51.76253128051758,
          -27.911230087280273,
          9.646456718444824,
          41.5298957824707,
          5.692168235778809,
          12.450489044189453,
          -18.64549446105957,
          13.264802932739258,
          29.293148040771484,
          44.205772399902344,
          6.775862693786621,
          -8.281303405761719,
          23.328838348388672,
          -49.01387405395508,
          0.6942920684814453,
          5.460589408874512,
          41.607948303222656,
          -57.90897750854492,
          -57.810184478759766,
          -57.909393310546875,
          -57.810821533203125,
          -57.910545349121094,
          -57.8109245300293,
          -57.81317901611328,
          1.9195854663848877,
          44.209224700927734,
          31.608137130737305,
          15.364087104797363,
          7.272764205932617,
          -45.60963439941406,
          21.475536346435547,
          12.677955627441406,
          12.886431694030762,
          13.613442420959473,
          -57.37443923950195,
          13.997206687927246,
          24.905548095703125,
          23.258594512939453,
          8.379697799682617,
          44.49625015258789,
          -16.75625991821289,
          -11.66584300994873,
          20.93169593811035,
          1.023536205291748,
          7.106645584106445,
          -7.806309223175049,
          13.816426277160645,
          4.570073127746582,
          -50.363773345947266,
          10.075740814208984,
          -14.843096733093262,
          6.09860897064209,
          -6.143249988555908,
          -7.177148818969727,
          -9.044337272644043,
          -52.63850402832031,
          -15.00252914428711,
          -3.7453720569610596,
          41.66387939453125,
          12.457653999328613,
          -27.02397918701172,
          3.1262879371643066,
          -5.942150592803955,
          -3.556514263153076,
          -12.74057674407959,
          -58.0093879699707,
          -57.634944915771484,
          11.265815734863281,
          13.738526344299316,
          -8.957783699035645,
          -37.293731689453125,
          1.8486014604568481,
          -8.401216506958008,
          -55.528446197509766,
          -4.854966640472412,
          -7.182736396789551,
          -13.295884132385254,
          -57.01906967163086,
          -50.01218795776367,
          -4.372497081756592,
          -54.655616760253906,
          -13.555862426757812,
          -2.3613228797912598,
          -13.595209121704102,
          -6.0206098556518555,
          -14.081582069396973,
          10.409377098083496,
          -6.72945499420166,
          0.5525649189949036,
          9.236517906188965,
          22.747310638427734,
          -51.655025482177734,
          -57.02305603027344,
          -56.25326919555664,
          -4.974299907684326,
          9.47399616241455,
          8.374371528625488,
          -4.2705535888671875,
          -9.683959007263184,
          42.313602447509766,
          -12.884937286376953,
          9.932714462280273,
          6.458913803100586,
          10.937506675720215,
          -10.91873836517334,
          -40.097171783447266,
          -2.9938812255859375,
          -7.521201133728027,
          -16.237001419067383,
          3.960014581680298,
          14.447324752807617,
          20.051054000854492,
          -6.092363357543945,
          1.1238380670547485,
          -7.942638874053955,
          -8.18148422241211,
          -3.063889503479004,
          -7.81208610534668,
          13.905380249023438,
          11.626397132873535,
          22.59175682067871,
          -7.610793113708496,
          13.275558471679688,
          -3.0326037406921387,
          3.20222806930542,
          -12.236271858215332,
          19.77437400817871,
          -7.28534460067749,
          37.06397247314453,
          -8.91991138458252,
          5.992183685302734,
          0.3842361271381378,
          -52.32915115356445,
          -56.77313232421875,
          -7.2200236320495605,
          -6.112014293670654,
          1.7886070013046265,
          11.151137351989746,
          -9.819618225097656,
          -15.956537246704102,
          -16.769367218017578,
          -7.954759120941162,
          -3.010500192642212,
          43.996116638183594,
          21.834259033203125,
          6.582179069519043,
          -19.970046997070312,
          -53.80410385131836,
          9.001516342163086,
          25.438549041748047,
          -6.784251689910889,
          7.414520740509033,
          -16.082988739013672,
          -7.077190399169922,
          -43.76252365112305,
          -8.62424373626709,
          -7.872391223907471,
          -6.159274578094482,
          -6.2933125495910645,
          -52.562068939208984,
          -7.469420433044434,
          39.485321044921875,
          -41.229888916015625,
          -55.13857650756836,
          28.473529815673828,
          21.570432662963867,
          -0.6537784934043884,
          -35.9688835144043,
          -19.926462173461914,
          6.835322380065918,
          0.08912989497184753,
          -6.74264669418335,
          22.476823806762695,
          16.093219757080078,
          -48.82140350341797,
          -58.86979675292969,
          6.513829231262207,
          8.062447547912598,
          -56.700504302978516,
          -3.2722926139831543,
          34.969444274902344,
          -8.738929748535156,
          7.354872703552246,
          22.185291290283203,
          8.954126358032227,
          -15.857829093933105,
          -3.2067177295684814,
          -14.357162475585938,
          -36.3447151184082,
          44.9350471496582,
          22.390214920043945,
          -10.00750732421875,
          39.813133239746094,
          -3.0610690116882324,
          14.423322677612305,
          -3.148329019546509,
          6.555805206298828,
          32.789669036865234,
          14.695133209228516,
          23.470109939575195,
          -54.94437789916992,
          13.692718505859375,
          23.197956085205078,
          -7.3885817527771,
          37.65453338623047,
          41.730953216552734,
          15.305571556091309,
          5.713805675506592,
          -40.60184860229492,
          -55.13567352294922,
          38.446475982666016,
          38.56138229370117,
          3.7669742107391357,
          -6.664714336395264,
          -9.090275764465332,
          2.891045570373535,
          38.61715316772461,
          38.675907135009766,
          2.76479172706604,
          22.74325180053711,
          21.44586944580078,
          36.81732940673828,
          25.67593002319336,
          8.306112289428711,
          22.04924774169922,
          5.906443119049072
         ],
         "xaxis": "x",
         "y": [
          -12.095663070678711,
          27.382734298706055,
          18.638620376586914,
          -9.273122787475586,
          33.2664794921875,
          6.577600002288818,
          -29.041723251342773,
          -38.495296478271484,
          -6.868288040161133,
          -16.641189575195312,
          36.32426452636719,
          37.35797119140625,
          31.38118553161621,
          9.162565231323242,
          38.30710220336914,
          -48.32267761230469,
          15.769865989685059,
          32.459163665771484,
          -16.417207717895508,
          51.20762252807617,
          -18.487947463989258,
          51.319740295410156,
          -13.494622230529785,
          13.805508613586426,
          -45.27338409423828,
          6.174177169799805,
          29.563249588012695,
          5.901159286499023,
          -18.017667770385742,
          -0.5635400414466858,
          -33.03491973876953,
          -9.51640510559082,
          17.33367156982422,
          -37.178565979003906,
          -1.7468650341033936,
          -68.17220306396484,
          -35.449363708496094,
          -2.7768337726593018,
          -23.268150329589844,
          40.10030746459961,
          46.542327880859375,
          -17.52516746520996,
          33.31470489501953,
          19.296062469482422,
          -11.063874244689941,
          13.062854766845703,
          13.35278606414795,
          13.06156063079834,
          13.353119850158691,
          13.060569763183594,
          13.35286808013916,
          13.352578163146973,
          32.39814376831055,
          -2.8039567470550537,
          -31.04548454284668,
          -37.67329406738281,
          -37.07571029663086,
          -11.43148136138916,
          48.35285949707031,
          -37.59794616699219,
          -66.75331115722656,
          -35.79458999633789,
          19.137210845947266,
          37.26679992675781,
          -7.948270797729492,
          46.33345413208008,
          25.57349967956543,
          -11.719809532165527,
          -43.4208869934082,
          -45.423919677734375,
          -40.898338317871094,
          -30.621868133544922,
          17.867347717285156,
          6.7129011154174805,
          -31.129127502441406,
          35.14717102050781,
          -15.816876411437988,
          23.705345153808594,
          -43.86130142211914,
          -36.604087829589844,
          44.999717712402344,
          6.615711212158203,
          -40.03095245361328,
          -17.60605812072754,
          -44.68807601928711,
          1.1488161087036133,
          -28.124082565307617,
          -33.124534606933594,
          -26.044891357421875,
          33.44106674194336,
          42.66956329345703,
          6.243890285491943,
          10.62703800201416,
          -15.513639450073242,
          15.022869110107422,
          -37.5376091003418,
          -40.56657028198242,
          9.634626388549805,
          29.642662048339844,
          -37.8588981628418,
          41.64350891113281,
          19.616199493408203,
          39.92323303222656,
          9.538056373596191,
          10.232234954833984,
          -17.22068977355957,
          -12.913148880004883,
          42.62223434448242,
          13.800211906433105,
          -14.038337707519531,
          -28.318641662597656,
          -46.01116943359375,
          9.551626205444336,
          10.199437141418457,
          -29.0296630859375,
          7.272380828857422,
          -36.74102020263672,
          -25.034982681274414,
          -41.78196334838867,
          -16.904163360595703,
          15.786101341247559,
          13.6981782913208,
          8.301711082458496,
          23.78926658630371,
          26.405563354492188,
          42.78401565551758,
          8.860203742980957,
          -6.256689071655273,
          -45.831729888916016,
          -31.202621459960938,
          -24.828977584838867,
          -17.71101951599121,
          -23.442729949951172,
          3.363342523574829,
          -23.982250213623047,
          -18.153993606567383,
          -43.25526809692383,
          26.820175170898438,
          -75.41914367675781,
          -10.095854759216309,
          41.94650650024414,
          33.53696060180664,
          40.871273040771484,
          6.508389949798584,
          -35.75191116333008,
          40.54528045654297,
          -31.728199005126953,
          -41.008758544921875,
          -40.46208572387695,
          40.773094177246094,
          -13.604257583618164,
          -33.06818771362305,
          31.667165756225586,
          7.982184886932373,
          -10.422030448913574,
          39.71412658691406,
          -24.47195053100586,
          7.59404993057251,
          -30.078062057495117,
          34.258975982666016,
          -7.014538288116455,
          11.54626178741455,
          41.12483596801758,
          42.51951217651367,
          32.851409912109375,
          -36.68285369873047,
          9.813030242919922,
          -45.86073684692383,
          -43.47226333618164,
          5.0440545082092285,
          -23.95878791809082,
          -11.453428268432617,
          -42.429832458496094,
          18.73826026916504,
          13.282621383666992,
          -5.36993408203125,
          -26.21070098876953,
          -35.87085723876953,
          38.46805191040039,
          0.09266383200883865,
          -14.750692367553711,
          9.03164291381836,
          -23.962779998779297,
          36.915279388427734,
          7.966037750244141,
          40.16670227050781,
          39.58696365356445,
          -1.8425341844558716,
          8.521496772766113,
          -29.021757125854492,
          -16.308263778686523,
          12.596454620361328,
          -15.598044395446777,
          -8.833050727844238,
          34.446773529052734,
          -15.725708961486816,
          38.53158187866211,
          21.341554641723633,
          -29.77702522277832,
          9.858405113220215,
          -6.372192859649658,
          -65.4184341430664,
          5.5863165855407715,
          13.53584098815918,
          21.65057373046875,
          21.61897087097168,
          11.313512802124023,
          28.495763778686523,
          -26.43247413635254,
          10.385491371154785,
          17.314359664916992,
          -30.408645629882812,
          -27.904264450073242,
          -48.1185417175293,
          41.882320404052734,
          10.184449195861816,
          -15.682340621948242,
          -11.903589248657227,
          -8.954987525939941,
          9.203969955444336,
          -14.633853912353516,
          41.72280502319336,
          -67.29561614990234,
          -35.78480529785156,
          22.90723991394043,
          2.034318685531616,
          -66.75048828125,
          -8.723522186279297,
          -32.24491500854492,
          -77.82745361328125,
          -8.778897285461426,
          10.162578582763672,
          -5.169942378997803,
          -10.738823890686035,
          -67.82710266113281,
          17.60284423828125,
          -16.732168197631836,
          12.520469665527344,
          -4.732457637786865,
          -4.605233192443848,
          27.73210906982422,
          37.495460510253906,
          8.623687744140625,
          32.40911865234375,
          -4.652115821838379,
          -4.2933669090271,
          27.734712600708008,
          -43.05044174194336,
          -41.223140716552734,
          6.394442558288574,
          -27.66265869140625,
          9.59908676147461,
          -42.26790237426758,
          16.926664352416992
         ],
         "yaxis": "y"
        },
        {
         "customdata": [
          [
           "Media/Entertainment",
           "NFLX"
          ],
          [
           "Media/Entertainment",
           "NFLX"
          ],
          [
           "Media/Entertainment",
           "NFLX"
          ],
          [
           "Media/Entertainment",
           "NFLX"
          ],
          [
           "Media/Entertainment",
           "DIS"
          ],
          [
           "Media/Entertainment",
           "DIS"
          ],
          [
           "Media/Entertainment",
           "SIRI"
          ],
          [
           "Media/Entertainment",
           "SIRI"
          ],
          [
           "Media/Entertainment",
           "SIRI"
          ],
          [
           "Media/Entertainment",
           "SIRI"
          ],
          [
           "Media/Entertainment",
           "SIRI"
          ],
          [
           "Media/Entertainment",
           "SIRI"
          ]
         ],
         "hoverlabel": {
          "namelength": 0
         },
         "hovertemplate": "sector=%{customdata[0]}<br>x=%{x}<br>y=%{y}<br>symb=%{customdata[1]}",
         "legendgroup": "Media/Entertainment",
         "marker": {
          "color": "#00cc96",
          "symbol": "circle"
         },
         "mode": "markers",
         "name": "Media/Entertainment",
         "showlegend": true,
         "type": "scattergl",
         "x": [
          10.249055862426758,
          10.110908508300781,
          9.42600154876709,
          -48.8172721862793,
          -9.653966903686523,
          -25.713619232177734,
          -49.861385345458984,
          -24.836872100830078,
          -0.8845807909965515,
          15.705733299255371,
          32.703224182128906,
          16.29087257385254
         ],
         "xaxis": "x",
         "y": [
          -0.019231058657169342,
          1.1079093217849731,
          14.135171890258789,
          -20.01361846923828,
          -32.0946159362793,
          -12.224245071411133,
          -18.71323013305664,
          45.56056213378906,
          38.708133697509766,
          -66.40831756591797,
          25.039758682250977,
          -36.127620697021484
         ],
         "yaxis": "y"
        },
        {
         "customdata": [
          [
           "Consumer Goods",
           "GPRO"
          ],
          [
           "Consumer Goods",
           "GPRO"
          ],
          [
           "Consumer Goods",
           "GPRO"
          ],
          [
           "Consumer Goods",
           "GPRO"
          ],
          [
           "Consumer Goods",
           "GPRO"
          ],
          [
           "Consumer Goods",
           "GPRO"
          ],
          [
           "Consumer Goods",
           "ABEV"
          ],
          [
           "Consumer Goods",
           "MDLZ"
          ],
          [
           "Consumer Goods",
           "MDLZ"
          ],
          [
           "Consumer Goods",
           "MDLZ"
          ],
          [
           "Consumer Goods",
           "MDLZ"
          ],
          [
           "Consumer Goods",
           "MDLZ"
          ],
          [
           "Consumer Goods",
           "HSY"
          ],
          [
           "Consumer Goods",
           "HSY"
          ],
          [
           "Consumer Goods",
           "HSY"
          ],
          [
           "Consumer Goods",
           "HSY"
          ],
          [
           "Consumer Goods",
           "HSY"
          ],
          [
           "Consumer Goods",
           "GIS"
          ],
          [
           "Consumer Goods",
           "GIS"
          ],
          [
           "Consumer Goods",
           "GIS"
          ],
          [
           "Consumer Goods",
           "LW"
          ],
          [
           "Consumer Goods",
           "LW"
          ],
          [
           "Consumer Goods",
           "LW"
          ],
          [
           "Consumer Goods",
           "LW"
          ],
          [
           "Consumer Goods",
           "LW"
          ],
          [
           "Consumer Goods",
           "JJSF"
          ],
          [
           "Consumer Goods",
           "JJSF"
          ],
          [
           "Consumer Goods",
           "JJSF"
          ],
          [
           "Consumer Goods",
           "JJSF"
          ],
          [
           "Consumer Goods",
           "JJSF"
          ],
          [
           "Consumer Goods",
           "JJSF"
          ],
          [
           "Consumer Goods",
           "TSN"
          ],
          [
           "Consumer Goods",
           "TSN"
          ],
          [
           "Consumer Goods",
           "TSN"
          ],
          [
           "Consumer Goods",
           "TSN"
          ],
          [
           "Consumer Goods",
           "TSN"
          ],
          [
           "Consumer Goods",
           "CPB"
          ],
          [
           "Consumer Goods",
           "CPB"
          ],
          [
           "Consumer Goods",
           "CPB"
          ],
          [
           "Consumer Goods",
           "CPB"
          ],
          [
           "Consumer Goods",
           "CPB"
          ],
          [
           "Consumer Goods",
           "JBSS"
          ],
          [
           "Consumer Goods",
           "JBSS"
          ],
          [
           "Consumer Goods",
           "JBSS"
          ],
          [
           "Consumer Goods",
           "JBSS"
          ],
          [
           "Consumer Goods",
           "JBSS"
          ],
          [
           "Consumer Goods",
           "JBSS"
          ],
          [
           "Consumer Goods",
           "MKC"
          ],
          [
           "Consumer Goods",
           "MKC"
          ],
          [
           "Consumer Goods",
           "MKC"
          ],
          [
           "Consumer Goods",
           "MKC"
          ],
          [
           "Consumer Goods",
           "MKC"
          ],
          [
           "Consumer Goods",
           "MKC"
          ],
          [
           "Consumer Goods",
           "CPB"
          ],
          [
           "Consumer Goods",
           "CPB"
          ],
          [
           "Consumer Goods",
           "CPB"
          ],
          [
           "Consumer Goods",
           "CPB"
          ],
          [
           "Consumer Goods",
           "CPB"
          ],
          [
           "Consumer Goods",
           "CPB"
          ],
          [
           "Consumer Goods",
           "CPB"
          ],
          [
           "Consumer Goods",
           "CPB"
          ],
          [
           "Consumer Goods",
           "CPB"
          ],
          [
           "Consumer Goods",
           "CPB"
          ],
          [
           "Consumer Goods",
           "CPB"
          ],
          [
           "Consumer Goods",
           "CPB"
          ],
          [
           "Consumer Goods",
           "CPB"
          ],
          [
           "Consumer Goods",
           "CPB"
          ],
          [
           "Consumer Goods",
           "CPB"
          ],
          [
           "Consumer Goods",
           "CPB"
          ],
          [
           "Consumer Goods",
           "CPB"
          ],
          [
           "Consumer Goods",
           "CPB"
          ],
          [
           "Consumer Goods",
           "CPB"
          ],
          [
           "Consumer Goods",
           "CPB"
          ],
          [
           "Consumer Goods",
           "CPB"
          ],
          [
           "Consumer Goods",
           "CPB"
          ],
          [
           "Consumer Goods",
           "CPB"
          ],
          [
           "Consumer Goods",
           "CPB"
          ],
          [
           "Consumer Goods",
           "CPB"
          ],
          [
           "Consumer Goods",
           "CPB"
          ],
          [
           "Consumer Goods",
           "CPB"
          ],
          [
           "Consumer Goods",
           "CPB"
          ],
          [
           "Consumer Goods",
           "CPB"
          ],
          [
           "Consumer Goods",
           "CPB"
          ],
          [
           "Consumer Goods",
           "CPB"
          ],
          [
           "Consumer Goods",
           "CPB"
          ],
          [
           "Consumer Goods",
           "CPB"
          ],
          [
           "Consumer Goods",
           "CPB"
          ],
          [
           "Consumer Goods",
           "CPB"
          ],
          [
           "Consumer Goods",
           "CPB"
          ],
          [
           "Consumer Goods",
           "CPB"
          ],
          [
           "Consumer Goods",
           "CPB"
          ],
          [
           "Consumer Goods",
           "CPB"
          ],
          [
           "Consumer Goods",
           "CPB"
          ],
          [
           "Consumer Goods",
           "CPB"
          ],
          [
           "Consumer Goods",
           "CPB"
          ],
          [
           "Consumer Goods",
           "CPB"
          ],
          [
           "Consumer Goods",
           "CPB"
          ],
          [
           "Consumer Goods",
           "CPB"
          ],
          [
           "Consumer Goods",
           "CPB"
          ],
          [
           "Consumer Goods",
           "CPB"
          ],
          [
           "Consumer Goods",
           "CPB"
          ],
          [
           "Consumer Goods",
           "CPB"
          ],
          [
           "Consumer Goods",
           "CPB"
          ],
          [
           "Consumer Goods",
           "CPB"
          ],
          [
           "Consumer Goods",
           "CPB"
          ],
          [
           "Consumer Goods",
           "CPB"
          ],
          [
           "Consumer Goods",
           "CPB"
          ],
          [
           "Consumer Goods",
           "CPB"
          ],
          [
           "Consumer Goods",
           "CPB"
          ],
          [
           "Consumer Goods",
           "CPB"
          ],
          [
           "Consumer Goods",
           "CPB"
          ],
          [
           "Consumer Goods",
           "CPB"
          ],
          [
           "Consumer Goods",
           "CPB"
          ],
          [
           "Consumer Goods",
           "CPB"
          ],
          [
           "Consumer Goods",
           "CPB"
          ],
          [
           "Consumer Goods",
           "CPB"
          ],
          [
           "Consumer Goods",
           "CPB"
          ],
          [
           "Consumer Goods",
           "CPB"
          ],
          [
           "Consumer Goods",
           "CPB"
          ],
          [
           "Consumer Goods",
           "CPB"
          ],
          [
           "Consumer Goods",
           "CPB"
          ],
          [
           "Consumer Goods",
           "CPB"
          ],
          [
           "Consumer Goods",
           "CPB"
          ],
          [
           "Consumer Goods",
           "CPB"
          ],
          [
           "Consumer Goods",
           "CPB"
          ],
          [
           "Consumer Goods",
           "CPB"
          ],
          [
           "Consumer Goods",
           "CPB"
          ],
          [
           "Consumer Goods",
           "GPRO"
          ],
          [
           "Consumer Goods",
           "GPRO"
          ],
          [
           "Consumer Goods",
           "GPRO"
          ],
          [
           "Consumer Goods",
           "GPRO"
          ],
          [
           "Consumer Goods",
           "GPRO"
          ],
          [
           "Consumer Goods",
           "GPRO"
          ],
          [
           "Consumer Goods",
           "GPRO"
          ],
          [
           "Consumer Goods",
           "GPRO"
          ],
          [
           "Consumer Goods",
           "GPRO"
          ],
          [
           "Consumer Goods",
           "GPRO"
          ],
          [
           "Consumer Goods",
           "GPRO"
          ],
          [
           "Consumer Goods",
           "GPRO"
          ],
          [
           "Consumer Goods",
           "GPRO"
          ],
          [
           "Consumer Goods",
           "GPRO"
          ],
          [
           "Consumer Goods",
           "GPRO"
          ],
          [
           "Consumer Goods",
           "GPRO"
          ],
          [
           "Consumer Goods",
           "GPRO"
          ],
          [
           "Consumer Goods",
           "GPRO"
          ],
          [
           "Consumer Goods",
           "GPRO"
          ],
          [
           "Consumer Goods",
           "GPRO"
          ],
          [
           "Consumer Goods",
           "GPRO"
          ],
          [
           "Consumer Goods",
           "GPRO"
          ],
          [
           "Consumer Goods",
           "GPRO"
          ],
          [
           "Consumer Goods",
           "GPRO"
          ],
          [
           "Consumer Goods",
           "GPRO"
          ],
          [
           "Consumer Goods",
           "GPRO"
          ],
          [
           "Consumer Goods",
           "GPRO"
          ],
          [
           "Consumer Goods",
           "GPRO"
          ],
          [
           "Consumer Goods",
           "GPRO"
          ],
          [
           "Consumer Goods",
           "GPRO"
          ],
          [
           "Consumer Goods",
           "GPRO"
          ],
          [
           "Consumer Goods",
           "GPRO"
          ],
          [
           "Consumer Goods",
           "GPRO"
          ],
          [
           "Consumer Goods",
           "GPRO"
          ],
          [
           "Consumer Goods",
           "GPRO"
          ],
          [
           "Consumer Goods",
           "GPRO"
          ],
          [
           "Consumer Goods",
           "GPRO"
          ],
          [
           "Consumer Goods",
           "GPRO"
          ],
          [
           "Consumer Goods",
           "GPRO"
          ],
          [
           "Consumer Goods",
           "GPRO"
          ],
          [
           "Consumer Goods",
           "GPRO"
          ],
          [
           "Consumer Goods",
           "GPRO"
          ],
          [
           "Consumer Goods",
           "GPRO"
          ],
          [
           "Consumer Goods",
           "GPRO"
          ],
          [
           "Consumer Goods",
           "GPRO"
          ],
          [
           "Consumer Goods",
           "GPRO"
          ],
          [
           "Consumer Goods",
           "GPRO"
          ],
          [
           "Consumer Goods",
           "GPRO"
          ],
          [
           "Consumer Goods",
           "GPRO"
          ],
          [
           "Consumer Goods",
           "GPRO"
          ],
          [
           "Consumer Goods",
           "GPRO"
          ],
          [
           "Consumer Goods",
           "GPRO"
          ],
          [
           "Consumer Goods",
           "GPRO"
          ],
          [
           "Consumer Goods",
           "GPRO"
          ],
          [
           "Consumer Goods",
           "GPRO"
          ],
          [
           "Consumer Goods",
           "GPRO"
          ],
          [
           "Consumer Goods",
           "GPRO"
          ],
          [
           "Consumer Goods",
           "GPRO"
          ],
          [
           "Consumer Goods",
           "GPRO"
          ],
          [
           "Consumer Goods",
           "GPRO"
          ],
          [
           "Consumer Goods",
           "GPRO"
          ],
          [
           "Consumer Goods",
           "GPRO"
          ],
          [
           "Consumer Goods",
           "GPRO"
          ],
          [
           "Consumer Goods",
           "GPRO"
          ],
          [
           "Consumer Goods",
           "GPRO"
          ],
          [
           "Consumer Goods",
           "GPRO"
          ],
          [
           "Consumer Goods",
           "GPRO"
          ],
          [
           "Consumer Goods",
           "GPRO"
          ],
          [
           "Consumer Goods",
           "GPRO"
          ],
          [
           "Consumer Goods",
           "GPRO"
          ],
          [
           "Consumer Goods",
           "GPRO"
          ],
          [
           "Consumer Goods",
           "GPRO"
          ],
          [
           "Consumer Goods",
           "GPRO"
          ],
          [
           "Consumer Goods",
           "GPRO"
          ],
          [
           "Consumer Goods",
           "GPRO"
          ],
          [
           "Consumer Goods",
           "GPRO"
          ],
          [
           "Consumer Goods",
           "GPRO"
          ],
          [
           "Consumer Goods",
           "GPRO"
          ],
          [
           "Consumer Goods",
           "GPRO"
          ],
          [
           "Consumer Goods",
           "GPRO"
          ],
          [
           "Consumer Goods",
           "GPRO"
          ],
          [
           "Consumer Goods",
           "GPRO"
          ],
          [
           "Consumer Goods",
           "GPRO"
          ],
          [
           "Consumer Goods",
           "GPRO"
          ],
          [
           "Consumer Goods",
           "GPRO"
          ],
          [
           "Consumer Goods",
           "GPRO"
          ],
          [
           "Consumer Goods",
           "GPRO"
          ],
          [
           "Consumer Goods",
           "GPRO"
          ],
          [
           "Consumer Goods",
           "HSY"
          ],
          [
           "Consumer Goods",
           "HSY"
          ],
          [
           "Consumer Goods",
           "HSY"
          ],
          [
           "Consumer Goods",
           "HSY"
          ],
          [
           "Consumer Goods",
           "HSY"
          ],
          [
           "Consumer Goods",
           "HSY"
          ],
          [
           "Consumer Goods",
           "HSY"
          ],
          [
           "Consumer Goods",
           "HSY"
          ],
          [
           "Consumer Goods",
           "HSY"
          ],
          [
           "Consumer Goods",
           "HSY"
          ],
          [
           "Consumer Goods",
           "HSY"
          ],
          [
           "Consumer Goods",
           "HSY"
          ],
          [
           "Consumer Goods",
           "HSY"
          ],
          [
           "Consumer Goods",
           "HSY"
          ],
          [
           "Consumer Goods",
           "HSY"
          ],
          [
           "Consumer Goods",
           "HSY"
          ],
          [
           "Consumer Goods",
           "HSY"
          ],
          [
           "Consumer Goods",
           "HSY"
          ],
          [
           "Consumer Goods",
           "HSY"
          ],
          [
           "Consumer Goods",
           "HSY"
          ],
          [
           "Consumer Goods",
           "HSY"
          ],
          [
           "Consumer Goods",
           "HSY"
          ],
          [
           "Consumer Goods",
           "HSY"
          ],
          [
           "Consumer Goods",
           "HSY"
          ],
          [
           "Consumer Goods",
           "HSY"
          ],
          [
           "Consumer Goods",
           "HSY"
          ],
          [
           "Consumer Goods",
           "HSY"
          ],
          [
           "Consumer Goods",
           "HSY"
          ],
          [
           "Consumer Goods",
           "HSY"
          ],
          [
           "Consumer Goods",
           "HSY"
          ],
          [
           "Consumer Goods",
           "HSY"
          ],
          [
           "Consumer Goods",
           "HSY"
          ],
          [
           "Consumer Goods",
           "HSY"
          ],
          [
           "Consumer Goods",
           "HSY"
          ],
          [
           "Consumer Goods",
           "HSY"
          ],
          [
           "Consumer Goods",
           "HSY"
          ],
          [
           "Consumer Goods",
           "HSY"
          ],
          [
           "Consumer Goods",
           "HSY"
          ],
          [
           "Consumer Goods",
           "HSY"
          ],
          [
           "Consumer Goods",
           "HSY"
          ],
          [
           "Consumer Goods",
           "HSY"
          ],
          [
           "Consumer Goods",
           "HSY"
          ],
          [
           "Consumer Goods",
           "HSY"
          ],
          [
           "Consumer Goods",
           "HSY"
          ],
          [
           "Consumer Goods",
           "HSY"
          ],
          [
           "Consumer Goods",
           "HSY"
          ],
          [
           "Consumer Goods",
           "HSY"
          ],
          [
           "Consumer Goods",
           "HSY"
          ],
          [
           "Consumer Goods",
           "HSY"
          ],
          [
           "Consumer Goods",
           "HSY"
          ],
          [
           "Consumer Goods",
           "HSY"
          ],
          [
           "Consumer Goods",
           "HSY"
          ],
          [
           "Consumer Goods",
           "HSY"
          ],
          [
           "Consumer Goods",
           "HSY"
          ],
          [
           "Consumer Goods",
           "HSY"
          ],
          [
           "Consumer Goods",
           "HSY"
          ],
          [
           "Consumer Goods",
           "HSY"
          ],
          [
           "Consumer Goods",
           "HSY"
          ],
          [
           "Consumer Goods",
           "HSY"
          ],
          [
           "Consumer Goods",
           "HSY"
          ],
          [
           "Consumer Goods",
           "HSY"
          ],
          [
           "Consumer Goods",
           "HSY"
          ],
          [
           "Consumer Goods",
           "HSY"
          ],
          [
           "Consumer Goods",
           "HSY"
          ],
          [
           "Consumer Goods",
           "HSY"
          ],
          [
           "Consumer Goods",
           "HSY"
          ],
          [
           "Consumer Goods",
           "HSY"
          ],
          [
           "Consumer Goods",
           "HSY"
          ],
          [
           "Consumer Goods",
           "HSY"
          ],
          [
           "Consumer Goods",
           "HSY"
          ],
          [
           "Consumer Goods",
           "HSY"
          ],
          [
           "Consumer Goods",
           "HSY"
          ],
          [
           "Consumer Goods",
           "HSY"
          ],
          [
           "Consumer Goods",
           "HSY"
          ],
          [
           "Consumer Goods",
           "HSY"
          ],
          [
           "Consumer Goods",
           "HSY"
          ],
          [
           "Consumer Goods",
           "HSY"
          ],
          [
           "Consumer Goods",
           "HSY"
          ],
          [
           "Consumer Goods",
           "HSY"
          ],
          [
           "Consumer Goods",
           "HSY"
          ],
          [
           "Consumer Goods",
           "HSY"
          ],
          [
           "Consumer Goods",
           "HSY"
          ],
          [
           "Consumer Goods",
           "HSY"
          ],
          [
           "Consumer Goods",
           "HSY"
          ],
          [
           "Consumer Goods",
           "HSY"
          ],
          [
           "Consumer Goods",
           "HSY"
          ],
          [
           "Consumer Goods",
           "HSY"
          ],
          [
           "Consumer Goods",
           "HSY"
          ],
          [
           "Consumer Goods",
           "HSY"
          ],
          [
           "Consumer Goods",
           "HSY"
          ],
          [
           "Consumer Goods",
           "HSY"
          ],
          [
           "Consumer Goods",
           "HSY"
          ],
          [
           "Consumer Goods",
           "HSY"
          ],
          [
           "Consumer Goods",
           "HSY"
          ],
          [
           "Consumer Goods",
           "HSY"
          ],
          [
           "Consumer Goods",
           "HSY"
          ],
          [
           "Consumer Goods",
           "HSY"
          ],
          [
           "Consumer Goods",
           "HSY"
          ],
          [
           "Consumer Goods",
           "HSY"
          ],
          [
           "Consumer Goods",
           "HSY"
          ],
          [
           "Consumer Goods",
           "HSY"
          ],
          [
           "Consumer Goods",
           "HSY"
          ],
          [
           "Consumer Goods",
           "HSY"
          ],
          [
           "Consumer Goods",
           "HSY"
          ],
          [
           "Consumer Goods",
           "HSY"
          ]
         ],
         "hoverlabel": {
          "namelength": 0
         },
         "hovertemplate": "sector=%{customdata[0]}<br>x=%{x}<br>y=%{y}<br>symb=%{customdata[1]}",
         "legendgroup": "Consumer Goods",
         "marker": {
          "color": "#ab63fa",
          "symbol": "circle"
         },
         "mode": "markers",
         "name": "Consumer Goods",
         "showlegend": true,
         "type": "scattergl",
         "x": [
          -0.27585074305534363,
          1.3045225143432617,
          -5.877177715301514,
          -4.097977161407471,
          35.96306228637695,
          -7.952770233154297,
          -6.650152206420898,
          55.23203659057617,
          20.370609283447266,
          -26.729999542236328,
          -25.2310733795166,
          -10.96481704711914,
          -27.64071273803711,
          28.144515991210938,
          33.814937591552734,
          32.39134216308594,
          -27.536867141723633,
          55.14754867553711,
          28.314302444458008,
          -1.7736347913742065,
          -13.660322189331055,
          -19.794031143188477,
          -28.084165573120117,
          -43.849185943603516,
          -20.036237716674805,
          -6.708462715148926,
          -30.196001052856445,
          -25.480627059936523,
          -26.297515869140625,
          -18.788894653320312,
          -28.086166381835938,
          2.6847639083862305,
          11.739006042480469,
          16.238866806030273,
          31.57500648498535,
          54.95171356201172,
          14.608305931091309,
          -24.605058670043945,
          32.39193344116211,
          1.1665279865264893,
          -41.86790084838867,
          17.064767837524414,
          19.957460403442383,
          -25.06475067138672,
          -27.22733497619629,
          -27.621509552001953,
          -27.691539764404297,
          21.110742568969727,
          -27.08584976196289,
          12.896208763122559,
          -45.494388580322266,
          -22.355609893798828,
          18.612775802612305,
          -21.170215606689453,
          -34.012359619140625,
          11.520427703857422,
          15.63708782196045,
          -5.493586540222168,
          5.361210823059082,
          -45.20714569091797,
          -55.90757369995117,
          -24.15610122680664,
          29.598112106323242,
          -25.91743278503418,
          -19.226667404174805,
          31.307815551757812,
          22.487642288208008,
          12.311772346496582,
          -41.789405822753906,
          -25.047595977783203,
          3.869466543197632,
          -17.438922882080078,
          22.87265968322754,
          11.15345287322998,
          -41.4487190246582,
          1.8929980993270874,
          4.9423089027404785,
          -19.579402923583984,
          13.976984024047852,
          -17.888019561767578,
          15.183218002319336,
          23.38086700439453,
          13.202153205871582,
          27.118106842041016,
          14.57992935180664,
          26.212358474731445,
          28.113365173339844,
          -45.6556282043457,
          -24.43115234375,
          25.496442794799805,
          23.528810501098633,
          35.668434143066406,
          29.864276885986328,
          25.772891998291016,
          5.5924553871154785,
          28.873516082763672,
          30.54189109802246,
          28.59874153137207,
          -16.72193145751953,
          30.59002685546875,
          13.422263145446777,
          -44.35149383544922,
          25.569406509399414,
          28.885902404785156,
          7.784430980682373,
          15.945115089416504,
          -44.28546905517578,
          -18.465599060058594,
          -18.03042221069336,
          11.112988471984863,
          24.165634155273438,
          16.73493194580078,
          30.240468978881836,
          9.418120384216309,
          -44.779502868652344,
          10.231005668640137,
          24.259185791015625,
          29.553180694580078,
          43.12502670288086,
          43.109134674072266,
          12.578018188476562,
          22.65813636779785,
          14.358671188354492,
          11.232561111450195,
          -45.273223876953125,
          9.085652351379395,
          -24.161212921142578,
          6.867891788482666,
          30.179336547851562,
          0.05114743858575821,
          -1.9465731382369995,
          -0.702437162399292,
          -4.423746109008789,
          0.12528683245182037,
          -9.099047660827637,
          19.572784423828125,
          -8.133898735046387,
          5.389557838439941,
          34.991127014160156,
          1.1502093076705933,
          4.228078842163086,
          -8.239343643188477,
          3.6810317039489746,
          5.107204437255859,
          0.7690582871437073,
          19.623151779174805,
          21.503734588623047,
          -0.2750667631626129,
          1.3295034170150757,
          -26.530263900756836,
          -2.1678216457366943,
          -2.1049885749816895,
          -0.6698893308639526,
          -0.0950109213590622,
          -3.5787034034729004,
          1.0296046733856201,
          42.650020599365234,
          32.1986198425293,
          1.79110848903656,
          0.4846883714199066,
          -0.579787015914917,
          -0.9698315262794495,
          0.5261531472206116,
          -6.993199348449707,
          -0.5320767164230347,
          5.840874671936035,
          32.03334045410156,
          -1.2286083698272705,
          26.514301300048828,
          36.33940505981445,
          38.10417556762695,
          -46.85858154296875,
          -0.2005426436662674,
          -0.9689396023750305,
          -41.88764572143555,
          -7.075922012329102,
          19.536174774169922,
          -45.196014404296875,
          0.19798943400382996,
          5.350909233093262,
          1.4936093091964722,
          0.48724204301834106,
          -0.7198161482810974,
          -27.28338623046875,
          4.457607746124268,
          0.05856159329414368,
          3.5853075981140137,
          4.8353800773620605,
          -8.370776176452637,
          1.4793790578842163,
          -38.12086486816406,
          15.273408889770508,
          15.552213668823242,
          9.737390518188477,
          -11.126251220703125,
          17.179689407348633,
          39.58523178100586,
          1.76608145236969,
          -1.5337514877319336,
          -26.597280502319336,
          5.943009376525879,
          6.720644474029541,
          3.457186222076416,
          -0.6868499517440796,
          -0.9522650837898254,
          -11.268778800964355,
          -0.08027007430791855,
          -1.1244463920593262,
          -0.8672714829444885,
          -0.8983437418937683,
          -12.625060081481934,
          -6.7541608810424805,
          -6.696112632751465,
          -6.130488872528076,
          -2.6345784664154053,
          29.722576141357422,
          25.138734817504883,
          50.83952331542969,
          15.947773933410645,
          14.055886268615723,
          -26.919551849365234,
          33.25967788696289,
          -44.5995979309082,
          -27.604564666748047,
          29.47551727294922,
          -4.688457012176514,
          27.484514236450195,
          -27.79560089111328,
          32.58564376831055,
          16.06992530822754,
          27.46348762512207,
          -27.234830856323242,
          6.486629486083984,
          20.094255447387695,
          -28.039077758789062,
          24.179445266723633,
          -42.52194595336914,
          -28.501054763793945,
          -1.0070388317108154,
          31.759464263916016,
          0.29353660345077515,
          -14.810140609741211,
          -28.261817932128906,
          1.6751430034637451,
          -39.301177978515625,
          -19.515195846557617,
          25.637861251831055,
          -0.027281319722533226,
          -0.398090124130249,
          -27.444520950317383,
          1.4917552471160889,
          -9.957093238830566,
          9.176340103149414,
          -25.370317459106445,
          36.70097732543945,
          16.756038665771484,
          -10.700502395629883,
          18.140995025634766,
          17.04448699951172,
          -39.32627868652344,
          1.9674160480499268,
          -27.66925811767578,
          14.643314361572266,
          -26.502973556518555,
          27.371912002563477,
          -3.122001886367798,
          12.831604957580566,
          -17.917760848999023,
          23.578760147094727,
          14.644427299499512,
          -38.62934112548828,
          -2.049835443496704,
          22.526704788208008,
          -27.360490798950195,
          30.344568252563477,
          1.4754523038864136,
          25.361604690551758,
          16.00860023498535,
          -38.889442443847656,
          2.47005033493042,
          31.46342658996582,
          23.29344940185547,
          -43.88324737548828,
          -1.4472370147705078,
          -27.12319564819336,
          -3.7250945568084717,
          -38.825294494628906,
          29.62183380126953,
          32.02663803100586,
          30.934221267700195,
          -39.4350700378418,
          23.354961395263672,
          31.47995948791504,
          6.2722625732421875,
          22.275249481201172,
          16.561838150024414,
          32.1682243347168,
          1.5136973857879639,
          -28.887065887451172,
          16.67082405090332,
          20.657215118408203,
          17.704099655151367,
          15.421490669250488,
          -27.31412696838379,
          16.431360244750977,
          -38.28444290161133,
          -18.89832305908203,
          -42.17897033691406,
          -26.59718132019043,
          -18.572473526000977,
          -27.08635711669922,
          30.683103561401367,
          -11.125958442687988,
          -25.670270919799805,
          18.2319393157959,
          -17.344318389892578,
          30.496522903442383,
          -28.156036376953125,
          17.446239471435547,
          27.859745025634766
         ],
         "xaxis": "x",
         "y": [
          29.92959213256836,
          8.848766326904297,
          19.156421661376953,
          22.41268539428711,
          -28.688386917114258,
          20.12950325012207,
          -31.02096176147461,
          -0.797549307346344,
          -11.572521209716797,
          47.61655807495117,
          -5.168062210083008,
          -23.025455474853516,
          40.50143814086914,
          -16.14289093017578,
          -18.04129981994629,
          -20.57185935974121,
          40.54695129394531,
          -0.6193861961364746,
          -5.703293323516846,
          17.011428833007812,
          -22.76607322692871,
          40.88142013549805,
          -12.977758407592773,
          -12.14330005645752,
          40.8201904296875,
          -30.008460998535156,
          2.7758383750915527,
          23.443086624145508,
          33.518524169921875,
          44.71363067626953,
          27.518898010253906,
          -8.314468383789062,
          4.890627384185791,
          33.57787322998047,
          -17.799976348876953,
          0.5185623168945312,
          4.79266881942749,
          43.84101486206055,
          -17.354724884033203,
          13.700352668762207,
          -16.726728439331055,
          -39.998531341552734,
          -31.260263442993164,
          27.75629997253418,
          33.4316520690918,
          33.34638595581055,
          34.0283317565918,
          33.047508239746094,
          40.76415252685547,
          54.79595184326172,
          -11.664517402648926,
          39.95399475097656,
          -15.523262977600098,
          40.364952087402344,
          -18.679460525512695,
          9.761573791503906,
          -69.56822204589844,
          2.3603434562683105,
          -28.036169052124023,
          -14.418466567993164,
          19.295087814331055,
          43.69725799560547,
          33.528480529785156,
          16.6026668548584,
          25.859079360961914,
          -19.414813995361328,
          34.26457595825195,
          -35.60300827026367,
          -9.655750274658203,
          41.869571685791016,
          2.5013697147369385,
          -26.623655319213867,
          34.1412467956543,
          5.507219314575195,
          -21.163637161254883,
          2.453859567642212,
          -38.265419006347656,
          41.379737854003906,
          -66.96900939941406,
          25.1170711517334,
          -34.40104293823242,
          31.2939395904541,
          6.334218978881836,
          29.538347244262695,
          5.593297958374023,
          30.393909454345703,
          25.3262939453125,
          -13.608393669128418,
          42.1428108215332,
          28.525144577026367,
          32.679771423339844,
          -5.502583026885986,
          24.176233291625977,
          29.36653709411621,
          -39.359710693359375,
          26.43400001525879,
          24.2155818939209,
          25.840606689453125,
          -22.398590087890625,
          16.10590934753418,
          6.258176326751709,
          -16.222532272338867,
          29.140748977661133,
          25.71807861328125,
          -66.47113037109375,
          2.217771053314209,
          -19.475372314453125,
          42.130104064941406,
          25.21541976928711,
          39.59815216064453,
          31.880050659179688,
          -2.3286337852478027,
          15.644257545471191,
          -67.40652465820312,
          -10.219527244567871,
          -34.48920440673828,
          32.17573165893555,
          25.20420265197754,
          3.5496511459350586,
          3.421393394470215,
          6.453882694244385,
          33.70392990112305,
          3.310102939605713,
          5.644107341766357,
          -15.460701942443848,
          -30.590991973876953,
          42.63852310180664,
          -35.264869689941406,
          -7.077245235443115,
          8.441508293151855,
          -36.30229568481445,
          21.19576644897461,
          20.68773078918457,
          32.12221145629883,
          20.76004409790039,
          28.91834831237793,
          20.909564971923828,
          -38.12856674194336,
          -29.67939567565918,
          8.292181015014648,
          -35.02042007446289,
          20.78827476501465,
          4.350698471069336,
          0.7044129967689514,
          9.160637855529785,
          28.902381896972656,
          -32.9764404296875,
          8.32582950592041,
          -39.003963470458984,
          46.91245651245117,
          -31.795181274414062,
          14.778593063354492,
          24.973554611206055,
          22.7716064453125,
          13.965380668640137,
          12.071062088012695,
          -25.590911865234375,
          -33.12657165527344,
          12.515353202819824,
          12.726475715637207,
          13.130805015563965,
          29.390605926513672,
          8.509197235107422,
          23.13098907470703,
          13.190860748291016,
          -0.20923547446727753,
          -30.983013153076172,
          23.748506546020508,
          -32.86552810668945,
          5.071837425231934,
          -27.79140853881836,
          -7.117837429046631,
          30.289241790771484,
          -39.41659164428711,
          -10.378194808959961,
          22.371505737304688,
          39.30781173706055,
          0.16485679149627686,
          22.900205612182617,
          8.469145774841309,
          9.39290714263916,
          -34.919654846191406,
          30.055898666381836,
          47.62049102783203,
          -31.736682891845703,
          9.367798805236816,
          30.984325408935547,
          -30.836042404174805,
          19.516599655151367,
          9.320822715759277,
          -11.064674377441406,
          33.44096374511719,
          33.43399429321289,
          -35.20351791381836,
          12.454350471496582,
          -36.03234100341797,
          -19.556034088134766,
          -34.43840789794922,
          30.459922790527344,
          46.777767181396484,
          0.22423185408115387,
          0.16788560152053833,
          17.65593719482422,
          23.996931076049805,
          22.5688533782959,
          15.362920761108398,
          13.36935806274414,
          12.6984224319458,
          23.82592010498047,
          21.741485595703125,
          -12.211835861206055,
          45.1490478515625,
          18.560922622680664,
          40.5286979675293,
          -39.18910598754883,
          -27.687503814697266,
          44.43581008911133,
          12.288064002990723,
          6.158780097961426,
          4.407354831695557,
          40.92487335205078,
          -19.681692123413086,
          -12.365928649902344,
          41.40597915649414,
          32.9031982421875,
          31.262130737304688,
          -24.827102661132812,
          40.58790588378906,
          -27.47793197631836,
          2.3000400066375732,
          -24.777605056762695,
          39.657020568847656,
          5.001523971557617,
          31.902494430541992,
          -1.3099644184112549,
          35.50006866455078,
          -2.3326189517974854,
          41.87775802612305,
          -14.423968315124512,
          -20.008197784423828,
          -3.8534181118011475,
          -22.399890899658203,
          41.169639587402344,
          -30.021589279174805,
          -6.173945903778076,
          42.84386444091797,
          42.57756042480469,
          5.276832580566406,
          -41.61848449707031,
          42.07374954223633,
          27.65105628967285,
          -23.767578125,
          -33.37066650390625,
          43.6607780456543,
          -13.895247459411621,
          9.070805549621582,
          15.435153007507324,
          34.16534423828125,
          -25.560291290283203,
          -1.6624855995178223,
          -40.498687744140625,
          41.916831970214844,
          -24.65144920349121,
          -4.973873615264893,
          -16.53293228149414,
          30.635488510131836,
          -19.796937942504883,
          24.678665161132812,
          -6.0085554122924805,
          4.388261795043945,
          -13.8953218460083,
          -43.13450622558594,
          26.39887809753418,
          41.41081619262695,
          -29.239601135253906,
          -42.40627670288086,
          32.61288833618164,
          2.509389877319336,
          -9.37978458404541,
          -43.151248931884766,
          27.70047950744629,
          36.717716217041016,
          -1.0122712850570679,
          -41.405616760253906,
          42.809288024902344,
          38.68318176269531,
          -15.331624984741211,
          26.888744354248047,
          -18.777233123779297,
          16.468080520629883,
          -8.654499053955078,
          36.65303421020508,
          27.65540885925293,
          49.412506103515625,
          35.56700134277344,
          -2.332365036010742,
          -18.234806060791016,
          -42.416954040527344,
          39.937591552734375,
          5.486794948577881,
          -24.615209579467773,
          6.5038161277771,
          4.941932201385498,
          42.667259216308594,
          8.99923038482666,
          -8.222320556640625,
          43.26602554321289,
          -7.137489318847656,
          25.83452606201172,
          43.1547737121582,
          -5.725808620452881,
          -17.3870849609375,
          -29.246929168701172,
          23.96605110168457,
          34.170753479003906,
          42.436729431152344,
          -23.77052116394043,
          29.410263061523438,
          6.364265441894531,
          28.749420166015625
         ],
         "yaxis": "y"
        },
        {
         "customdata": [
          [
           "Leisure/Arts/Hospitality",
           "SBUX"
          ],
          [
           "Leisure/Arts/Hospitality",
           "SBUX"
          ],
          [
           "Leisure/Arts/Hospitality",
           "SBUX"
          ],
          [
           "Leisure/Arts/Hospitality",
           "SBUX"
          ],
          [
           "Leisure/Arts/Hospitality",
           "RCL"
          ],
          [
           "Leisure/Arts/Hospitality",
           "RCL"
          ],
          [
           "Leisure/Arts/Hospitality",
           "RCL"
          ],
          [
           "Leisure/Arts/Hospitality",
           "CCL"
          ],
          [
           "Leisure/Arts/Hospitality",
           "RRGB"
          ],
          [
           "Leisure/Arts/Hospitality",
           "RRGB"
          ],
          [
           "Leisure/Arts/Hospitality",
           "RRGB"
          ],
          [
           "Leisure/Arts/Hospitality",
           "RRGB"
          ],
          [
           "Leisure/Arts/Hospitality",
           "RRGB"
          ],
          [
           "Leisure/Arts/Hospitality",
           "RRGB"
          ]
         ],
         "hoverlabel": {
          "namelength": 0
         },
         "hovertemplate": "sector=%{customdata[0]}<br>x=%{x}<br>y=%{y}<br>symb=%{customdata[1]}",
         "legendgroup": "Leisure/Arts/Hospitality",
         "marker": {
          "color": "#FFA15A",
          "symbol": "circle"
         },
         "mode": "markers",
         "name": "Leisure/Arts/Hospitality",
         "showlegend": true,
         "type": "scattergl",
         "x": [
          -1.8220270872116089,
          6.176965713500977,
          7.6529388427734375,
          20.081050872802734,
          -26.006986618041992,
          -25.992835998535156,
          -27.60489845275879,
          57.08244705200195,
          20.88644790649414,
          28.004480361938477,
          25.577117919921875,
          9.939026832580566,
          32.976783752441406,
          9.540998458862305
         ],
         "xaxis": "x",
         "y": [
          -30.718881607055664,
          30.939090728759766,
          28.903717041015625,
          32.080482482910156,
          14.784543991088867,
          14.803000450134277,
          -18.48891830444336,
          0.421446293592453,
          32.77944564819336,
          -19.501483917236328,
          31.795936584472656,
          -67.41288757324219,
          -19.400718688964844,
          -69.14187622070312
         ],
         "yaxis": "y"
        },
        {
         "customdata": [
          [
           "Financial Services",
           "BAC"
          ],
          [
           "Financial Services",
           "BAC"
          ],
          [
           "Financial Services",
           "BAC"
          ],
          [
           "Financial Services",
           "BAC"
          ],
          [
           "Financial Services",
           "BAC"
          ],
          [
           "Financial Services",
           "WFC"
          ],
          [
           "Financial Services",
           "WFC"
          ],
          [
           "Financial Services",
           "WFC"
          ],
          [
           "Financial Services",
           "WFC"
          ],
          [
           "Financial Services",
           "WFC"
          ]
         ],
         "hoverlabel": {
          "namelength": 0
         },
         "hovertemplate": "sector=%{customdata[0]}<br>x=%{x}<br>y=%{y}<br>symb=%{customdata[1]}",
         "legendgroup": "Financial Services",
         "marker": {
          "color": "#19d3f3",
          "symbol": "circle"
         },
         "mode": "markers",
         "name": "Financial Services",
         "showlegend": true,
         "type": "scattergl",
         "x": [
          -54.782508850097656,
          -46.67354965209961,
          -51.394432067871094,
          -46.94468307495117,
          -1.1984539031982422,
          -12.964203834533691,
          22.21566390991211,
          14.089905738830566,
          -46.702877044677734,
          -46.71794128417969
         ],
         "xaxis": "x",
         "y": [
          16.00721549987793,
          22.514320373535156,
          -18.477577209472656,
          22.49384117126465,
          -17.325111389160156,
          -28.029708862304688,
          5.786202907562256,
          14.303528785705566,
          22.597640991210938,
          22.505464553833008
         ],
         "yaxis": "y"
        },
        {
         "customdata": [
          [
           "Business/Consumer Services",
           "GE"
          ],
          [
           "Business/Consumer Services",
           "GE"
          ],
          [
           "Business/Consumer Services",
           "GE"
          ],
          [
           "Business/Consumer Services",
           "GE"
          ],
          [
           "Business/Consumer Services",
           "GE"
          ],
          [
           "Business/Consumer Services",
           "NEW"
          ],
          [
           "Business/Consumer Services",
           "NEW"
          ],
          [
           "Business/Consumer Services",
           "GE"
          ],
          [
           "Business/Consumer Services",
           "GE"
          ],
          [
           "Business/Consumer Services",
           "GE"
          ],
          [
           "Business/Consumer Services",
           "GE"
          ],
          [
           "Business/Consumer Services",
           "GE"
          ],
          [
           "Business/Consumer Services",
           "GE"
          ],
          [
           "Business/Consumer Services",
           "GE"
          ],
          [
           "Business/Consumer Services",
           "GE"
          ],
          [
           "Business/Consumer Services",
           "GE"
          ],
          [
           "Business/Consumer Services",
           "GE"
          ],
          [
           "Business/Consumer Services",
           "GE"
          ],
          [
           "Business/Consumer Services",
           "GE"
          ],
          [
           "Business/Consumer Services",
           "GE"
          ],
          [
           "Business/Consumer Services",
           "GE"
          ],
          [
           "Business/Consumer Services",
           "GE"
          ],
          [
           "Business/Consumer Services",
           "GE"
          ],
          [
           "Business/Consumer Services",
           "GE"
          ],
          [
           "Business/Consumer Services",
           "GE"
          ],
          [
           "Business/Consumer Services",
           "GE"
          ],
          [
           "Business/Consumer Services",
           "GE"
          ],
          [
           "Business/Consumer Services",
           "GE"
          ],
          [
           "Business/Consumer Services",
           "GE"
          ],
          [
           "Business/Consumer Services",
           "GE"
          ],
          [
           "Business/Consumer Services",
           "GE"
          ],
          [
           "Business/Consumer Services",
           "GE"
          ],
          [
           "Business/Consumer Services",
           "GE"
          ],
          [
           "Business/Consumer Services",
           "GE"
          ],
          [
           "Business/Consumer Services",
           "GE"
          ],
          [
           "Business/Consumer Services",
           "GE"
          ],
          [
           "Business/Consumer Services",
           "GE"
          ],
          [
           "Business/Consumer Services",
           "GE"
          ],
          [
           "Business/Consumer Services",
           "GE"
          ],
          [
           "Business/Consumer Services",
           "GE"
          ],
          [
           "Business/Consumer Services",
           "GE"
          ],
          [
           "Business/Consumer Services",
           "GE"
          ],
          [
           "Business/Consumer Services",
           "GE"
          ],
          [
           "Business/Consumer Services",
           "GE"
          ],
          [
           "Business/Consumer Services",
           "GE"
          ],
          [
           "Business/Consumer Services",
           "GE"
          ],
          [
           "Business/Consumer Services",
           "GE"
          ],
          [
           "Business/Consumer Services",
           "GE"
          ],
          [
           "Business/Consumer Services",
           "GE"
          ],
          [
           "Business/Consumer Services",
           "GE"
          ],
          [
           "Business/Consumer Services",
           "GE"
          ],
          [
           "Business/Consumer Services",
           "GE"
          ],
          [
           "Business/Consumer Services",
           "GE"
          ],
          [
           "Business/Consumer Services",
           "GE"
          ],
          [
           "Business/Consumer Services",
           "GE"
          ],
          [
           "Business/Consumer Services",
           "GE"
          ],
          [
           "Business/Consumer Services",
           "GE"
          ],
          [
           "Business/Consumer Services",
           "GE"
          ],
          [
           "Business/Consumer Services",
           "GE"
          ],
          [
           "Business/Consumer Services",
           "GE"
          ],
          [
           "Business/Consumer Services",
           "GE"
          ],
          [
           "Business/Consumer Services",
           "GE"
          ],
          [
           "Business/Consumer Services",
           "GE"
          ],
          [
           "Business/Consumer Services",
           "GE"
          ],
          [
           "Business/Consumer Services",
           "GE"
          ],
          [
           "Business/Consumer Services",
           "GE"
          ],
          [
           "Business/Consumer Services",
           "GE"
          ],
          [
           "Business/Consumer Services",
           "GE"
          ],
          [
           "Business/Consumer Services",
           "GE"
          ],
          [
           "Business/Consumer Services",
           "GE"
          ],
          [
           "Business/Consumer Services",
           "GE"
          ],
          [
           "Business/Consumer Services",
           "GE"
          ],
          [
           "Business/Consumer Services",
           "GE"
          ],
          [
           "Business/Consumer Services",
           "GE"
          ],
          [
           "Business/Consumer Services",
           "GE"
          ],
          [
           "Business/Consumer Services",
           "GE"
          ],
          [
           "Business/Consumer Services",
           "GE"
          ],
          [
           "Business/Consumer Services",
           "GE"
          ],
          [
           "Business/Consumer Services",
           "GE"
          ],
          [
           "Business/Consumer Services",
           "GE"
          ],
          [
           "Business/Consumer Services",
           "GE"
          ],
          [
           "Business/Consumer Services",
           "GE"
          ],
          [
           "Business/Consumer Services",
           "GE"
          ],
          [
           "Business/Consumer Services",
           "GE"
          ],
          [
           "Business/Consumer Services",
           "GE"
          ],
          [
           "Business/Consumer Services",
           "GE"
          ],
          [
           "Business/Consumer Services",
           "GE"
          ],
          [
           "Business/Consumer Services",
           "GE"
          ],
          [
           "Business/Consumer Services",
           "GE"
          ],
          [
           "Business/Consumer Services",
           "GE"
          ],
          [
           "Business/Consumer Services",
           "GE"
          ],
          [
           "Business/Consumer Services",
           "GE"
          ],
          [
           "Business/Consumer Services",
           "GE"
          ],
          [
           "Business/Consumer Services",
           "GE"
          ],
          [
           "Business/Consumer Services",
           "GE"
          ],
          [
           "Business/Consumer Services",
           "GE"
          ],
          [
           "Business/Consumer Services",
           "GE"
          ],
          [
           "Business/Consumer Services",
           "GE"
          ],
          [
           "Business/Consumer Services",
           "GE"
          ],
          [
           "Business/Consumer Services",
           "GE"
          ],
          [
           "Business/Consumer Services",
           "GE"
          ],
          [
           "Business/Consumer Services",
           "GE"
          ],
          [
           "Business/Consumer Services",
           "GE"
          ],
          [
           "Business/Consumer Services",
           "GE"
          ],
          [
           "Business/Consumer Services",
           "GE"
          ],
          [
           "Business/Consumer Services",
           "GE"
          ],
          [
           "Business/Consumer Services",
           "GE"
          ],
          [
           "Business/Consumer Services",
           "GE"
          ],
          [
           "Business/Consumer Services",
           "GE"
          ],
          [
           "Business/Consumer Services",
           "GE"
          ],
          [
           "Business/Consumer Services",
           "GE"
          ],
          [
           "Business/Consumer Services",
           "GE"
          ],
          [
           "Business/Consumer Services",
           "GE"
          ],
          [
           "Business/Consumer Services",
           "GE"
          ],
          [
           "Business/Consumer Services",
           "GE"
          ],
          [
           "Business/Consumer Services",
           "GE"
          ],
          [
           "Business/Consumer Services",
           "GE"
          ],
          [
           "Business/Consumer Services",
           "GE"
          ],
          [
           "Business/Consumer Services",
           "GE"
          ],
          [
           "Business/Consumer Services",
           "GE"
          ],
          [
           "Business/Consumer Services",
           "GE"
          ],
          [
           "Business/Consumer Services",
           "GE"
          ],
          [
           "Business/Consumer Services",
           "GE"
          ],
          [
           "Business/Consumer Services",
           "GE"
          ],
          [
           "Business/Consumer Services",
           "GE"
          ],
          [
           "Business/Consumer Services",
           "GE"
          ],
          [
           "Business/Consumer Services",
           "GE"
          ],
          [
           "Business/Consumer Services",
           "GE"
          ],
          [
           "Business/Consumer Services",
           "GE"
          ],
          [
           "Business/Consumer Services",
           "GE"
          ],
          [
           "Business/Consumer Services",
           "GE"
          ],
          [
           "Business/Consumer Services",
           "GE"
          ],
          [
           "Business/Consumer Services",
           "GE"
          ],
          [
           "Business/Consumer Services",
           "GE"
          ],
          [
           "Business/Consumer Services",
           "GE"
          ],
          [
           "Business/Consumer Services",
           "GE"
          ],
          [
           "Business/Consumer Services",
           "GE"
          ],
          [
           "Business/Consumer Services",
           "GE"
          ],
          [
           "Business/Consumer Services",
           "GE"
          ],
          [
           "Business/Consumer Services",
           "GE"
          ],
          [
           "Business/Consumer Services",
           "GE"
          ],
          [
           "Business/Consumer Services",
           "GE"
          ],
          [
           "Business/Consumer Services",
           "GE"
          ],
          [
           "Business/Consumer Services",
           "GE"
          ],
          [
           "Business/Consumer Services",
           "GE"
          ],
          [
           "Business/Consumer Services",
           "GE"
          ],
          [
           "Business/Consumer Services",
           "GE"
          ],
          [
           "Business/Consumer Services",
           "GE"
          ],
          [
           "Business/Consumer Services",
           "GE"
          ],
          [
           "Business/Consumer Services",
           "GE"
          ],
          [
           "Business/Consumer Services",
           "GE"
          ],
          [
           "Business/Consumer Services",
           "GE"
          ],
          [
           "Business/Consumer Services",
           "GE"
          ],
          [
           "Business/Consumer Services",
           "GE"
          ],
          [
           "Business/Consumer Services",
           "GE"
          ],
          [
           "Business/Consumer Services",
           "GE"
          ],
          [
           "Business/Consumer Services",
           "GE"
          ],
          [
           "Business/Consumer Services",
           "GE"
          ],
          [
           "Business/Consumer Services",
           "GE"
          ],
          [
           "Business/Consumer Services",
           "GE"
          ],
          [
           "Business/Consumer Services",
           "GE"
          ],
          [
           "Business/Consumer Services",
           "GE"
          ],
          [
           "Business/Consumer Services",
           "GE"
          ],
          [
           "Business/Consumer Services",
           "GE"
          ],
          [
           "Business/Consumer Services",
           "GE"
          ],
          [
           "Business/Consumer Services",
           "GE"
          ],
          [
           "Business/Consumer Services",
           "GE"
          ],
          [
           "Business/Consumer Services",
           "GE"
          ],
          [
           "Business/Consumer Services",
           "GE"
          ],
          [
           "Business/Consumer Services",
           "GE"
          ],
          [
           "Business/Consumer Services",
           "GE"
          ],
          [
           "Business/Consumer Services",
           "GE"
          ],
          [
           "Business/Consumer Services",
           "GE"
          ],
          [
           "Business/Consumer Services",
           "GE"
          ],
          [
           "Business/Consumer Services",
           "GE"
          ],
          [
           "Business/Consumer Services",
           "GE"
          ],
          [
           "Business/Consumer Services",
           "GE"
          ],
          [
           "Business/Consumer Services",
           "GE"
          ],
          [
           "Business/Consumer Services",
           "GE"
          ],
          [
           "Business/Consumer Services",
           "GE"
          ],
          [
           "Business/Consumer Services",
           "GE"
          ],
          [
           "Business/Consumer Services",
           "GE"
          ],
          [
           "Business/Consumer Services",
           "GE"
          ],
          [
           "Business/Consumer Services",
           "GE"
          ],
          [
           "Business/Consumer Services",
           "GE"
          ],
          [
           "Business/Consumer Services",
           "GE"
          ],
          [
           "Business/Consumer Services",
           "GE"
          ],
          [
           "Business/Consumer Services",
           "GE"
          ],
          [
           "Business/Consumer Services",
           "GE"
          ],
          [
           "Business/Consumer Services",
           "GE"
          ],
          [
           "Business/Consumer Services",
           "GE"
          ],
          [
           "Business/Consumer Services",
           "GE"
          ],
          [
           "Business/Consumer Services",
           "GE"
          ],
          [
           "Business/Consumer Services",
           "GE"
          ],
          [
           "Business/Consumer Services",
           "GE"
          ],
          [
           "Business/Consumer Services",
           "GE"
          ],
          [
           "Business/Consumer Services",
           "GE"
          ],
          [
           "Business/Consumer Services",
           "GE"
          ],
          [
           "Business/Consumer Services",
           "GE"
          ],
          [
           "Business/Consumer Services",
           "GE"
          ],
          [
           "Business/Consumer Services",
           "GE"
          ],
          [
           "Business/Consumer Services",
           "GE"
          ],
          [
           "Business/Consumer Services",
           "GE"
          ],
          [
           "Business/Consumer Services",
           "GE"
          ],
          [
           "Business/Consumer Services",
           "GE"
          ],
          [
           "Business/Consumer Services",
           "GE"
          ],
          [
           "Business/Consumer Services",
           "GE"
          ],
          [
           "Business/Consumer Services",
           "GE"
          ],
          [
           "Business/Consumer Services",
           "GE"
          ],
          [
           "Business/Consumer Services",
           "GE"
          ],
          [
           "Business/Consumer Services",
           "GE"
          ],
          [
           "Business/Consumer Services",
           "GE"
          ],
          [
           "Business/Consumer Services",
           "GE"
          ],
          [
           "Business/Consumer Services",
           "GE"
          ],
          [
           "Business/Consumer Services",
           "GE"
          ],
          [
           "Business/Consumer Services",
           "GE"
          ],
          [
           "Business/Consumer Services",
           "GE"
          ],
          [
           "Business/Consumer Services",
           "GE"
          ],
          [
           "Business/Consumer Services",
           "GE"
          ],
          [
           "Business/Consumer Services",
           "GE"
          ],
          [
           "Business/Consumer Services",
           "GE"
          ],
          [
           "Business/Consumer Services",
           "GE"
          ],
          [
           "Business/Consumer Services",
           "GE"
          ],
          [
           "Business/Consumer Services",
           "GE"
          ],
          [
           "Business/Consumer Services",
           "GE"
          ],
          [
           "Business/Consumer Services",
           "GE"
          ],
          [
           "Business/Consumer Services",
           "GE"
          ],
          [
           "Business/Consumer Services",
           "GE"
          ],
          [
           "Business/Consumer Services",
           "GE"
          ],
          [
           "Business/Consumer Services",
           "GE"
          ],
          [
           "Business/Consumer Services",
           "GE"
          ],
          [
           "Business/Consumer Services",
           "GE"
          ],
          [
           "Business/Consumer Services",
           "GE"
          ],
          [
           "Business/Consumer Services",
           "GE"
          ],
          [
           "Business/Consumer Services",
           "GE"
          ],
          [
           "Business/Consumer Services",
           "GE"
          ],
          [
           "Business/Consumer Services",
           "GE"
          ],
          [
           "Business/Consumer Services",
           "GE"
          ],
          [
           "Business/Consumer Services",
           "GE"
          ],
          [
           "Business/Consumer Services",
           "GE"
          ],
          [
           "Business/Consumer Services",
           "GE"
          ],
          [
           "Business/Consumer Services",
           "GE"
          ],
          [
           "Business/Consumer Services",
           "GE"
          ],
          [
           "Business/Consumer Services",
           "GE"
          ],
          [
           "Business/Consumer Services",
           "GE"
          ],
          [
           "Business/Consumer Services",
           "GE"
          ],
          [
           "Business/Consumer Services",
           "GE"
          ],
          [
           "Business/Consumer Services",
           "GE"
          ],
          [
           "Business/Consumer Services",
           "GE"
          ],
          [
           "Business/Consumer Services",
           "GE"
          ],
          [
           "Business/Consumer Services",
           "GE"
          ],
          [
           "Business/Consumer Services",
           "GE"
          ],
          [
           "Business/Consumer Services",
           "GE"
          ],
          [
           "Business/Consumer Services",
           "GE"
          ],
          [
           "Business/Consumer Services",
           "GE"
          ],
          [
           "Business/Consumer Services",
           "GE"
          ],
          [
           "Business/Consumer Services",
           "GE"
          ],
          [
           "Business/Consumer Services",
           "GE"
          ],
          [
           "Business/Consumer Services",
           "GE"
          ],
          [
           "Business/Consumer Services",
           "GE"
          ],
          [
           "Business/Consumer Services",
           "GE"
          ],
          [
           "Business/Consumer Services",
           "GE"
          ],
          [
           "Business/Consumer Services",
           "GE"
          ],
          [
           "Business/Consumer Services",
           "GE"
          ],
          [
           "Business/Consumer Services",
           "GE"
          ],
          [
           "Business/Consumer Services",
           "GE"
          ],
          [
           "Business/Consumer Services",
           "GE"
          ],
          [
           "Business/Consumer Services",
           "GE"
          ],
          [
           "Business/Consumer Services",
           "GE"
          ],
          [
           "Business/Consumer Services",
           "GE"
          ],
          [
           "Business/Consumer Services",
           "GE"
          ],
          [
           "Business/Consumer Services",
           "GE"
          ],
          [
           "Business/Consumer Services",
           "GE"
          ],
          [
           "Business/Consumer Services",
           "GE"
          ],
          [
           "Business/Consumer Services",
           "GE"
          ],
          [
           "Business/Consumer Services",
           "GE"
          ],
          [
           "Business/Consumer Services",
           "GE"
          ],
          [
           "Business/Consumer Services",
           "GE"
          ],
          [
           "Business/Consumer Services",
           "GE"
          ],
          [
           "Business/Consumer Services",
           "GE"
          ],
          [
           "Business/Consumer Services",
           "GE"
          ],
          [
           "Business/Consumer Services",
           "GE"
          ],
          [
           "Business/Consumer Services",
           "GE"
          ],
          [
           "Business/Consumer Services",
           "GE"
          ],
          [
           "Business/Consumer Services",
           "GE"
          ],
          [
           "Business/Consumer Services",
           "GE"
          ],
          [
           "Business/Consumer Services",
           "GE"
          ],
          [
           "Business/Consumer Services",
           "GE"
          ],
          [
           "Business/Consumer Services",
           "GE"
          ],
          [
           "Business/Consumer Services",
           "GE"
          ],
          [
           "Business/Consumer Services",
           "GE"
          ],
          [
           "Business/Consumer Services",
           "GE"
          ],
          [
           "Business/Consumer Services",
           "GE"
          ],
          [
           "Business/Consumer Services",
           "GE"
          ],
          [
           "Business/Consumer Services",
           "GE"
          ],
          [
           "Business/Consumer Services",
           "GE"
          ],
          [
           "Business/Consumer Services",
           "GE"
          ],
          [
           "Business/Consumer Services",
           "GE"
          ],
          [
           "Business/Consumer Services",
           "GE"
          ],
          [
           "Business/Consumer Services",
           "GE"
          ],
          [
           "Business/Consumer Services",
           "GE"
          ],
          [
           "Business/Consumer Services",
           "GE"
          ],
          [
           "Business/Consumer Services",
           "GE"
          ],
          [
           "Business/Consumer Services",
           "GE"
          ],
          [
           "Business/Consumer Services",
           "GE"
          ],
          [
           "Business/Consumer Services",
           "GE"
          ],
          [
           "Business/Consumer Services",
           "GE"
          ],
          [
           "Business/Consumer Services",
           "GE"
          ],
          [
           "Business/Consumer Services",
           "GE"
          ],
          [
           "Business/Consumer Services",
           "GE"
          ],
          [
           "Business/Consumer Services",
           "GE"
          ],
          [
           "Business/Consumer Services",
           "GE"
          ],
          [
           "Business/Consumer Services",
           "GE"
          ],
          [
           "Business/Consumer Services",
           "GE"
          ],
          [
           "Business/Consumer Services",
           "GE"
          ],
          [
           "Business/Consumer Services",
           "GE"
          ],
          [
           "Business/Consumer Services",
           "GE"
          ],
          [
           "Business/Consumer Services",
           "GE"
          ],
          [
           "Business/Consumer Services",
           "GE"
          ],
          [
           "Business/Consumer Services",
           "GE"
          ],
          [
           "Business/Consumer Services",
           "GE"
          ],
          [
           "Business/Consumer Services",
           "GE"
          ],
          [
           "Business/Consumer Services",
           "GE"
          ],
          [
           "Business/Consumer Services",
           "GE"
          ],
          [
           "Business/Consumer Services",
           "GE"
          ],
          [
           "Business/Consumer Services",
           "GE"
          ],
          [
           "Business/Consumer Services",
           "GE"
          ],
          [
           "Business/Consumer Services",
           "GE"
          ],
          [
           "Business/Consumer Services",
           "GE"
          ],
          [
           "Business/Consumer Services",
           "GE"
          ],
          [
           "Business/Consumer Services",
           "GE"
          ],
          [
           "Business/Consumer Services",
           "GE"
          ],
          [
           "Business/Consumer Services",
           "GE"
          ],
          [
           "Business/Consumer Services",
           "GE"
          ],
          [
           "Business/Consumer Services",
           "GE"
          ],
          [
           "Business/Consumer Services",
           "GE"
          ],
          [
           "Business/Consumer Services",
           "GE"
          ],
          [
           "Business/Consumer Services",
           "GE"
          ],
          [
           "Business/Consumer Services",
           "GE"
          ],
          [
           "Business/Consumer Services",
           "GE"
          ],
          [
           "Business/Consumer Services",
           "GE"
          ],
          [
           "Business/Consumer Services",
           "GE"
          ],
          [
           "Business/Consumer Services",
           "GE"
          ],
          [
           "Business/Consumer Services",
           "GE"
          ],
          [
           "Business/Consumer Services",
           "GE"
          ],
          [
           "Business/Consumer Services",
           "GE"
          ],
          [
           "Business/Consumer Services",
           "GE"
          ],
          [
           "Business/Consumer Services",
           "GE"
          ],
          [
           "Business/Consumer Services",
           "GE"
          ],
          [
           "Business/Consumer Services",
           "GE"
          ],
          [
           "Business/Consumer Services",
           "GE"
          ],
          [
           "Business/Consumer Services",
           "GE"
          ],
          [
           "Business/Consumer Services",
           "GE"
          ],
          [
           "Business/Consumer Services",
           "GE"
          ],
          [
           "Business/Consumer Services",
           "GE"
          ],
          [
           "Business/Consumer Services",
           "GE"
          ],
          [
           "Business/Consumer Services",
           "GE"
          ],
          [
           "Business/Consumer Services",
           "GE"
          ],
          [
           "Business/Consumer Services",
           "GE"
          ],
          [
           "Business/Consumer Services",
           "GE"
          ],
          [
           "Business/Consumer Services",
           "GE"
          ],
          [
           "Business/Consumer Services",
           "GE"
          ],
          [
           "Business/Consumer Services",
           "GE"
          ],
          [
           "Business/Consumer Services",
           "GE"
          ],
          [
           "Business/Consumer Services",
           "GE"
          ],
          [
           "Business/Consumer Services",
           "GE"
          ],
          [
           "Business/Consumer Services",
           "GE"
          ],
          [
           "Business/Consumer Services",
           "GE"
          ],
          [
           "Business/Consumer Services",
           "GE"
          ],
          [
           "Business/Consumer Services",
           "GE"
          ],
          [
           "Business/Consumer Services",
           "GE"
          ],
          [
           "Business/Consumer Services",
           "GE"
          ],
          [
           "Business/Consumer Services",
           "GE"
          ],
          [
           "Business/Consumer Services",
           "GE"
          ],
          [
           "Business/Consumer Services",
           "GE"
          ],
          [
           "Business/Consumer Services",
           "GE"
          ],
          [
           "Business/Consumer Services",
           "GE"
          ],
          [
           "Business/Consumer Services",
           "GE"
          ],
          [
           "Business/Consumer Services",
           "GE"
          ],
          [
           "Business/Consumer Services",
           "GE"
          ],
          [
           "Business/Consumer Services",
           "GE"
          ],
          [
           "Business/Consumer Services",
           "GE"
          ],
          [
           "Business/Consumer Services",
           "GE"
          ],
          [
           "Business/Consumer Services",
           "GE"
          ],
          [
           "Business/Consumer Services",
           "GE"
          ],
          [
           "Business/Consumer Services",
           "GE"
          ],
          [
           "Business/Consumer Services",
           "GE"
          ],
          [
           "Business/Consumer Services",
           "GE"
          ],
          [
           "Business/Consumer Services",
           "GE"
          ],
          [
           "Business/Consumer Services",
           "GE"
          ],
          [
           "Business/Consumer Services",
           "GE"
          ],
          [
           "Business/Consumer Services",
           "GE"
          ],
          [
           "Business/Consumer Services",
           "GE"
          ],
          [
           "Business/Consumer Services",
           "GE"
          ],
          [
           "Business/Consumer Services",
           "GE"
          ],
          [
           "Business/Consumer Services",
           "GE"
          ],
          [
           "Business/Consumer Services",
           "GE"
          ],
          [
           "Business/Consumer Services",
           "GE"
          ],
          [
           "Business/Consumer Services",
           "GE"
          ],
          [
           "Business/Consumer Services",
           "GE"
          ],
          [
           "Business/Consumer Services",
           "GE"
          ],
          [
           "Business/Consumer Services",
           "GE"
          ],
          [
           "Business/Consumer Services",
           "GE"
          ],
          [
           "Business/Consumer Services",
           "GE"
          ],
          [
           "Business/Consumer Services",
           "GE"
          ],
          [
           "Business/Consumer Services",
           "GE"
          ],
          [
           "Business/Consumer Services",
           "GE"
          ],
          [
           "Business/Consumer Services",
           "GE"
          ],
          [
           "Business/Consumer Services",
           "GE"
          ],
          [
           "Business/Consumer Services",
           "GE"
          ],
          [
           "Business/Consumer Services",
           "GE"
          ],
          [
           "Business/Consumer Services",
           "GE"
          ],
          [
           "Business/Consumer Services",
           "GE"
          ],
          [
           "Business/Consumer Services",
           "GE"
          ],
          [
           "Business/Consumer Services",
           "GE"
          ],
          [
           "Business/Consumer Services",
           "GE"
          ],
          [
           "Business/Consumer Services",
           "GE"
          ],
          [
           "Business/Consumer Services",
           "GE"
          ],
          [
           "Business/Consumer Services",
           "GE"
          ],
          [
           "Business/Consumer Services",
           "GE"
          ],
          [
           "Business/Consumer Services",
           "GE"
          ],
          [
           "Business/Consumer Services",
           "GE"
          ],
          [
           "Business/Consumer Services",
           "GE"
          ],
          [
           "Business/Consumer Services",
           "GE"
          ],
          [
           "Business/Consumer Services",
           "GE"
          ],
          [
           "Business/Consumer Services",
           "GE"
          ],
          [
           "Business/Consumer Services",
           "GE"
          ],
          [
           "Business/Consumer Services",
           "GE"
          ],
          [
           "Business/Consumer Services",
           "GE"
          ],
          [
           "Business/Consumer Services",
           "GE"
          ],
          [
           "Business/Consumer Services",
           "GE"
          ],
          [
           "Business/Consumer Services",
           "GE"
          ],
          [
           "Business/Consumer Services",
           "GE"
          ],
          [
           "Business/Consumer Services",
           "GE"
          ],
          [
           "Business/Consumer Services",
           "GE"
          ],
          [
           "Business/Consumer Services",
           "GE"
          ],
          [
           "Business/Consumer Services",
           "GE"
          ],
          [
           "Business/Consumer Services",
           "GE"
          ],
          [
           "Business/Consumer Services",
           "GE"
          ],
          [
           "Business/Consumer Services",
           "GE"
          ],
          [
           "Business/Consumer Services",
           "GE"
          ],
          [
           "Business/Consumer Services",
           "GE"
          ],
          [
           "Business/Consumer Services",
           "GE"
          ],
          [
           "Business/Consumer Services",
           "GE"
          ],
          [
           "Business/Consumer Services",
           "GE"
          ],
          [
           "Business/Consumer Services",
           "GE"
          ],
          [
           "Business/Consumer Services",
           "GE"
          ],
          [
           "Business/Consumer Services",
           "GE"
          ],
          [
           "Business/Consumer Services",
           "GE"
          ],
          [
           "Business/Consumer Services",
           "GE"
          ],
          [
           "Business/Consumer Services",
           "GE"
          ],
          [
           "Business/Consumer Services",
           "GE"
          ],
          [
           "Business/Consumer Services",
           "GE"
          ],
          [
           "Business/Consumer Services",
           "GE"
          ],
          [
           "Business/Consumer Services",
           "GE"
          ],
          [
           "Business/Consumer Services",
           "GE"
          ],
          [
           "Business/Consumer Services",
           "GE"
          ],
          [
           "Business/Consumer Services",
           "GE"
          ],
          [
           "Business/Consumer Services",
           "GE"
          ],
          [
           "Business/Consumer Services",
           "GE"
          ],
          [
           "Business/Consumer Services",
           "GE"
          ],
          [
           "Business/Consumer Services",
           "GE"
          ],
          [
           "Business/Consumer Services",
           "GE"
          ],
          [
           "Business/Consumer Services",
           "GE"
          ],
          [
           "Business/Consumer Services",
           "GE"
          ],
          [
           "Business/Consumer Services",
           "GE"
          ],
          [
           "Business/Consumer Services",
           "GE"
          ],
          [
           "Business/Consumer Services",
           "GE"
          ],
          [
           "Business/Consumer Services",
           "GE"
          ],
          [
           "Business/Consumer Services",
           "GE"
          ],
          [
           "Business/Consumer Services",
           "GE"
          ],
          [
           "Business/Consumer Services",
           "GE"
          ],
          [
           "Business/Consumer Services",
           "GE"
          ],
          [
           "Business/Consumer Services",
           "GE"
          ],
          [
           "Business/Consumer Services",
           "GE"
          ],
          [
           "Business/Consumer Services",
           "GE"
          ],
          [
           "Business/Consumer Services",
           "GE"
          ],
          [
           "Business/Consumer Services",
           "GE"
          ],
          [
           "Business/Consumer Services",
           "GE"
          ],
          [
           "Business/Consumer Services",
           "GE"
          ],
          [
           "Business/Consumer Services",
           "GE"
          ],
          [
           "Business/Consumer Services",
           "GE"
          ],
          [
           "Business/Consumer Services",
           "GE"
          ],
          [
           "Business/Consumer Services",
           "GE"
          ],
          [
           "Business/Consumer Services",
           "GE"
          ],
          [
           "Business/Consumer Services",
           "GE"
          ],
          [
           "Business/Consumer Services",
           "GE"
          ],
          [
           "Business/Consumer Services",
           "GE"
          ],
          [
           "Business/Consumer Services",
           "GE"
          ],
          [
           "Business/Consumer Services",
           "GE"
          ],
          [
           "Business/Consumer Services",
           "GE"
          ],
          [
           "Business/Consumer Services",
           "GE"
          ],
          [
           "Business/Consumer Services",
           "GE"
          ],
          [
           "Business/Consumer Services",
           "GE"
          ],
          [
           "Business/Consumer Services",
           "GE"
          ],
          [
           "Business/Consumer Services",
           "GE"
          ],
          [
           "Business/Consumer Services",
           "GE"
          ],
          [
           "Business/Consumer Services",
           "GE"
          ],
          [
           "Business/Consumer Services",
           "GE"
          ],
          [
           "Business/Consumer Services",
           "GE"
          ],
          [
           "Business/Consumer Services",
           "GE"
          ],
          [
           "Business/Consumer Services",
           "GE"
          ],
          [
           "Business/Consumer Services",
           "GE"
          ],
          [
           "Business/Consumer Services",
           "GE"
          ],
          [
           "Business/Consumer Services",
           "GE"
          ],
          [
           "Business/Consumer Services",
           "GE"
          ],
          [
           "Business/Consumer Services",
           "GE"
          ],
          [
           "Business/Consumer Services",
           "GE"
          ],
          [
           "Business/Consumer Services",
           "GE"
          ],
          [
           "Business/Consumer Services",
           "GE"
          ],
          [
           "Business/Consumer Services",
           "GE"
          ],
          [
           "Business/Consumer Services",
           "GE"
          ],
          [
           "Business/Consumer Services",
           "GE"
          ],
          [
           "Business/Consumer Services",
           "GE"
          ],
          [
           "Business/Consumer Services",
           "GE"
          ],
          [
           "Business/Consumer Services",
           "GE"
          ],
          [
           "Business/Consumer Services",
           "GE"
          ],
          [
           "Business/Consumer Services",
           "GE"
          ],
          [
           "Business/Consumer Services",
           "GE"
          ],
          [
           "Business/Consumer Services",
           "GE"
          ],
          [
           "Business/Consumer Services",
           "GE"
          ],
          [
           "Business/Consumer Services",
           "GE"
          ],
          [
           "Business/Consumer Services",
           "GE"
          ],
          [
           "Business/Consumer Services",
           "GE"
          ],
          [
           "Business/Consumer Services",
           "GE"
          ],
          [
           "Business/Consumer Services",
           "GE"
          ],
          [
           "Business/Consumer Services",
           "GE"
          ],
          [
           "Business/Consumer Services",
           "GE"
          ],
          [
           "Business/Consumer Services",
           "GE"
          ],
          [
           "Business/Consumer Services",
           "GE"
          ],
          [
           "Business/Consumer Services",
           "GE"
          ],
          [
           "Business/Consumer Services",
           "GE"
          ],
          [
           "Business/Consumer Services",
           "GE"
          ],
          [
           "Business/Consumer Services",
           "GE"
          ],
          [
           "Business/Consumer Services",
           "GE"
          ],
          [
           "Business/Consumer Services",
           "GE"
          ],
          [
           "Business/Consumer Services",
           "GE"
          ],
          [
           "Business/Consumer Services",
           "GE"
          ],
          [
           "Business/Consumer Services",
           "GE"
          ],
          [
           "Business/Consumer Services",
           "GE"
          ],
          [
           "Business/Consumer Services",
           "GE"
          ],
          [
           "Business/Consumer Services",
           "GE"
          ],
          [
           "Business/Consumer Services",
           "GE"
          ],
          [
           "Business/Consumer Services",
           "GE"
          ],
          [
           "Business/Consumer Services",
           "GE"
          ],
          [
           "Business/Consumer Services",
           "GE"
          ],
          [
           "Business/Consumer Services",
           "GE"
          ],
          [
           "Business/Consumer Services",
           "GE"
          ],
          [
           "Business/Consumer Services",
           "GE"
          ],
          [
           "Business/Consumer Services",
           "GE"
          ],
          [
           "Business/Consumer Services",
           "GE"
          ],
          [
           "Business/Consumer Services",
           "GE"
          ],
          [
           "Business/Consumer Services",
           "GE"
          ],
          [
           "Business/Consumer Services",
           "GE"
          ],
          [
           "Business/Consumer Services",
           "GE"
          ],
          [
           "Business/Consumer Services",
           "GE"
          ],
          [
           "Business/Consumer Services",
           "GE"
          ],
          [
           "Business/Consumer Services",
           "GE"
          ],
          [
           "Business/Consumer Services",
           "GE"
          ],
          [
           "Business/Consumer Services",
           "GE"
          ],
          [
           "Business/Consumer Services",
           "GE"
          ],
          [
           "Business/Consumer Services",
           "GE"
          ],
          [
           "Business/Consumer Services",
           "GE"
          ],
          [
           "Business/Consumer Services",
           "GE"
          ],
          [
           "Business/Consumer Services",
           "GE"
          ],
          [
           "Business/Consumer Services",
           "GE"
          ],
          [
           "Business/Consumer Services",
           "GE"
          ],
          [
           "Business/Consumer Services",
           "GE"
          ],
          [
           "Business/Consumer Services",
           "GE"
          ],
          [
           "Business/Consumer Services",
           "GE"
          ],
          [
           "Business/Consumer Services",
           "GE"
          ],
          [
           "Business/Consumer Services",
           "GE"
          ],
          [
           "Business/Consumer Services",
           "GE"
          ],
          [
           "Business/Consumer Services",
           "GE"
          ],
          [
           "Business/Consumer Services",
           "GE"
          ],
          [
           "Business/Consumer Services",
           "GE"
          ],
          [
           "Business/Consumer Services",
           "GE"
          ],
          [
           "Business/Consumer Services",
           "GE"
          ],
          [
           "Business/Consumer Services",
           "GE"
          ],
          [
           "Business/Consumer Services",
           "GE"
          ],
          [
           "Business/Consumer Services",
           "GE"
          ],
          [
           "Business/Consumer Services",
           "GE"
          ],
          [
           "Business/Consumer Services",
           "GE"
          ],
          [
           "Business/Consumer Services",
           "GE"
          ],
          [
           "Business/Consumer Services",
           "GE"
          ],
          [
           "Business/Consumer Services",
           "GE"
          ],
          [
           "Business/Consumer Services",
           "GE"
          ],
          [
           "Business/Consumer Services",
           "GE"
          ],
          [
           "Business/Consumer Services",
           "GE"
          ],
          [
           "Business/Consumer Services",
           "GE"
          ],
          [
           "Business/Consumer Services",
           "GE"
          ],
          [
           "Business/Consumer Services",
           "GE"
          ],
          [
           "Business/Consumer Services",
           "GE"
          ],
          [
           "Business/Consumer Services",
           "GE"
          ],
          [
           "Business/Consumer Services",
           "GE"
          ],
          [
           "Business/Consumer Services",
           "GE"
          ],
          [
           "Business/Consumer Services",
           "GE"
          ],
          [
           "Business/Consumer Services",
           "GE"
          ],
          [
           "Business/Consumer Services",
           "GE"
          ],
          [
           "Business/Consumer Services",
           "GE"
          ],
          [
           "Business/Consumer Services",
           "GE"
          ],
          [
           "Business/Consumer Services",
           "GE"
          ],
          [
           "Business/Consumer Services",
           "GE"
          ],
          [
           "Business/Consumer Services",
           "GE"
          ],
          [
           "Business/Consumer Services",
           "GE"
          ],
          [
           "Business/Consumer Services",
           "GE"
          ],
          [
           "Business/Consumer Services",
           "GE"
          ],
          [
           "Business/Consumer Services",
           "GE"
          ],
          [
           "Business/Consumer Services",
           "GE"
          ],
          [
           "Business/Consumer Services",
           "GE"
          ],
          [
           "Business/Consumer Services",
           "GE"
          ],
          [
           "Business/Consumer Services",
           "GE"
          ],
          [
           "Business/Consumer Services",
           "GE"
          ],
          [
           "Business/Consumer Services",
           "GE"
          ],
          [
           "Business/Consumer Services",
           "GE"
          ],
          [
           "Business/Consumer Services",
           "GE"
          ],
          [
           "Business/Consumer Services",
           "GE"
          ],
          [
           "Business/Consumer Services",
           "GE"
          ],
          [
           "Business/Consumer Services",
           "GE"
          ],
          [
           "Business/Consumer Services",
           "GE"
          ],
          [
           "Business/Consumer Services",
           "GE"
          ],
          [
           "Business/Consumer Services",
           "GE"
          ],
          [
           "Business/Consumer Services",
           "GE"
          ],
          [
           "Business/Consumer Services",
           "GE"
          ],
          [
           "Business/Consumer Services",
           "GE"
          ],
          [
           "Business/Consumer Services",
           "GE"
          ],
          [
           "Business/Consumer Services",
           "GE"
          ],
          [
           "Business/Consumer Services",
           "GE"
          ],
          [
           "Business/Consumer Services",
           "GE"
          ],
          [
           "Business/Consumer Services",
           "GE"
          ],
          [
           "Business/Consumer Services",
           "GE"
          ],
          [
           "Business/Consumer Services",
           "GE"
          ],
          [
           "Business/Consumer Services",
           "GE"
          ],
          [
           "Business/Consumer Services",
           "GE"
          ],
          [
           "Business/Consumer Services",
           "GE"
          ],
          [
           "Business/Consumer Services",
           "GE"
          ],
          [
           "Business/Consumer Services",
           "GE"
          ],
          [
           "Business/Consumer Services",
           "GE"
          ],
          [
           "Business/Consumer Services",
           "GE"
          ],
          [
           "Business/Consumer Services",
           "GE"
          ],
          [
           "Business/Consumer Services",
           "GE"
          ],
          [
           "Business/Consumer Services",
           "GE"
          ],
          [
           "Business/Consumer Services",
           "GE"
          ],
          [
           "Business/Consumer Services",
           "GE"
          ],
          [
           "Business/Consumer Services",
           "GE"
          ],
          [
           "Business/Consumer Services",
           "GE"
          ],
          [
           "Business/Consumer Services",
           "GE"
          ],
          [
           "Business/Consumer Services",
           "GE"
          ],
          [
           "Business/Consumer Services",
           "GE"
          ],
          [
           "Business/Consumer Services",
           "GE"
          ],
          [
           "Business/Consumer Services",
           "GE"
          ],
          [
           "Business/Consumer Services",
           "GE"
          ],
          [
           "Business/Consumer Services",
           "GE"
          ],
          [
           "Business/Consumer Services",
           "GE"
          ],
          [
           "Business/Consumer Services",
           "GE"
          ],
          [
           "Business/Consumer Services",
           "GE"
          ],
          [
           "Business/Consumer Services",
           "GE"
          ],
          [
           "Business/Consumer Services",
           "GE"
          ],
          [
           "Business/Consumer Services",
           "GE"
          ],
          [
           "Business/Consumer Services",
           "GE"
          ],
          [
           "Business/Consumer Services",
           "GE"
          ],
          [
           "Business/Consumer Services",
           "GE"
          ],
          [
           "Business/Consumer Services",
           "GE"
          ],
          [
           "Business/Consumer Services",
           "GE"
          ],
          [
           "Business/Consumer Services",
           "GE"
          ],
          [
           "Business/Consumer Services",
           "GE"
          ],
          [
           "Business/Consumer Services",
           "GE"
          ],
          [
           "Business/Consumer Services",
           "GE"
          ],
          [
           "Business/Consumer Services",
           "GE"
          ],
          [
           "Business/Consumer Services",
           "GE"
          ],
          [
           "Business/Consumer Services",
           "GE"
          ],
          [
           "Business/Consumer Services",
           "GE"
          ],
          [
           "Business/Consumer Services",
           "GE"
          ],
          [
           "Business/Consumer Services",
           "GE"
          ],
          [
           "Business/Consumer Services",
           "GE"
          ],
          [
           "Business/Consumer Services",
           "GE"
          ],
          [
           "Business/Consumer Services",
           "GE"
          ],
          [
           "Business/Consumer Services",
           "GE"
          ],
          [
           "Business/Consumer Services",
           "GE"
          ],
          [
           "Business/Consumer Services",
           "GE"
          ],
          [
           "Business/Consumer Services",
           "GE"
          ],
          [
           "Business/Consumer Services",
           "GE"
          ],
          [
           "Business/Consumer Services",
           "GE"
          ],
          [
           "Business/Consumer Services",
           "GE"
          ],
          [
           "Business/Consumer Services",
           "GE"
          ],
          [
           "Business/Consumer Services",
           "GE"
          ],
          [
           "Business/Consumer Services",
           "GE"
          ],
          [
           "Business/Consumer Services",
           "GE"
          ],
          [
           "Business/Consumer Services",
           "GE"
          ],
          [
           "Business/Consumer Services",
           "GE"
          ],
          [
           "Business/Consumer Services",
           "GE"
          ],
          [
           "Business/Consumer Services",
           "GE"
          ],
          [
           "Business/Consumer Services",
           "GE"
          ],
          [
           "Business/Consumer Services",
           "GE"
          ],
          [
           "Business/Consumer Services",
           "GE"
          ],
          [
           "Business/Consumer Services",
           "GE"
          ],
          [
           "Business/Consumer Services",
           "GE"
          ],
          [
           "Business/Consumer Services",
           "GE"
          ],
          [
           "Business/Consumer Services",
           "GE"
          ],
          [
           "Business/Consumer Services",
           "GE"
          ],
          [
           "Business/Consumer Services",
           "GE"
          ],
          [
           "Business/Consumer Services",
           "GE"
          ],
          [
           "Business/Consumer Services",
           "GE"
          ],
          [
           "Business/Consumer Services",
           "GE"
          ],
          [
           "Business/Consumer Services",
           "GE"
          ],
          [
           "Business/Consumer Services",
           "GE"
          ],
          [
           "Business/Consumer Services",
           "GE"
          ],
          [
           "Business/Consumer Services",
           "GE"
          ],
          [
           "Business/Consumer Services",
           "GE"
          ],
          [
           "Business/Consumer Services",
           "GE"
          ],
          [
           "Business/Consumer Services",
           "GE"
          ],
          [
           "Business/Consumer Services",
           "GE"
          ],
          [
           "Business/Consumer Services",
           "GE"
          ],
          [
           "Business/Consumer Services",
           "GE"
          ],
          [
           "Business/Consumer Services",
           "GE"
          ],
          [
           "Business/Consumer Services",
           "GE"
          ],
          [
           "Business/Consumer Services",
           "GE"
          ],
          [
           "Business/Consumer Services",
           "GE"
          ],
          [
           "Business/Consumer Services",
           "GE"
          ],
          [
           "Business/Consumer Services",
           "GE"
          ],
          [
           "Business/Consumer Services",
           "GE"
          ],
          [
           "Business/Consumer Services",
           "GE"
          ],
          [
           "Business/Consumer Services",
           "GE"
          ],
          [
           "Business/Consumer Services",
           "GE"
          ],
          [
           "Business/Consumer Services",
           "GE"
          ],
          [
           "Business/Consumer Services",
           "GE"
          ],
          [
           "Business/Consumer Services",
           "GE"
          ],
          [
           "Business/Consumer Services",
           "GE"
          ],
          [
           "Business/Consumer Services",
           "GE"
          ],
          [
           "Business/Consumer Services",
           "GE"
          ],
          [
           "Business/Consumer Services",
           "GE"
          ],
          [
           "Business/Consumer Services",
           "GE"
          ],
          [
           "Business/Consumer Services",
           "GE"
          ],
          [
           "Business/Consumer Services",
           "GE"
          ],
          [
           "Business/Consumer Services",
           "GE"
          ],
          [
           "Business/Consumer Services",
           "GE"
          ],
          [
           "Business/Consumer Services",
           "GE"
          ],
          [
           "Business/Consumer Services",
           "GE"
          ],
          [
           "Business/Consumer Services",
           "GE"
          ],
          [
           "Business/Consumer Services",
           "GE"
          ],
          [
           "Business/Consumer Services",
           "GE"
          ],
          [
           "Business/Consumer Services",
           "GE"
          ],
          [
           "Business/Consumer Services",
           "GE"
          ],
          [
           "Business/Consumer Services",
           "GE"
          ],
          [
           "Business/Consumer Services",
           "GE"
          ],
          [
           "Business/Consumer Services",
           "GE"
          ],
          [
           "Business/Consumer Services",
           "GE"
          ],
          [
           "Business/Consumer Services",
           "GE"
          ],
          [
           "Business/Consumer Services",
           "GE"
          ],
          [
           "Business/Consumer Services",
           "GE"
          ],
          [
           "Business/Consumer Services",
           "GE"
          ],
          [
           "Business/Consumer Services",
           "GE"
          ],
          [
           "Business/Consumer Services",
           "GE"
          ],
          [
           "Business/Consumer Services",
           "GE"
          ],
          [
           "Business/Consumer Services",
           "GE"
          ],
          [
           "Business/Consumer Services",
           "GE"
          ],
          [
           "Business/Consumer Services",
           "GE"
          ],
          [
           "Business/Consumer Services",
           "GE"
          ],
          [
           "Business/Consumer Services",
           "GE"
          ],
          [
           "Business/Consumer Services",
           "GE"
          ],
          [
           "Business/Consumer Services",
           "GE"
          ],
          [
           "Business/Consumer Services",
           "GE"
          ],
          [
           "Business/Consumer Services",
           "GE"
          ],
          [
           "Business/Consumer Services",
           "GE"
          ],
          [
           "Business/Consumer Services",
           "GE"
          ],
          [
           "Business/Consumer Services",
           "GE"
          ],
          [
           "Business/Consumer Services",
           "GE"
          ],
          [
           "Business/Consumer Services",
           "GE"
          ],
          [
           "Business/Consumer Services",
           "GE"
          ],
          [
           "Business/Consumer Services",
           "GE"
          ],
          [
           "Business/Consumer Services",
           "GE"
          ]
         ],
         "hoverlabel": {
          "namelength": 0
         },
         "hovertemplate": "sector=%{customdata[0]}<br>x=%{x}<br>y=%{y}<br>symb=%{customdata[1]}",
         "legendgroup": "Business/Consumer Services",
         "marker": {
          "color": "#FF6692",
          "symbol": "circle"
         },
         "mode": "markers",
         "name": "Business/Consumer Services",
         "showlegend": true,
         "type": "scattergl",
         "x": [
          -12.659570693969727,
          -48.59065628051758,
          -49.28976821899414,
          54.461769104003906,
          -6.084964752197266,
          25.81696128845215,
          0.6765338778495789,
          -49.38218307495117,
          -9.238973617553711,
          -40.89474105834961,
          4.092163562774658,
          7.29696798324585,
          -50.7208137512207,
          28.928966522216797,
          14.248189926147461,
          -7.321002960205078,
          3.1453990936279297,
          -17.390859603881836,
          -11.461402893066406,
          4.338614463806152,
          -10.206277847290039,
          -3.8349380493164062,
          29.292993545532227,
          2.4736173152923584,
          10.120282173156738,
          24.554380416870117,
          11.025544166564941,
          -18.74413299560547,
          24.36497688293457,
          9.809759140014648,
          -41.31919860839844,
          28.701759338378906,
          -4.7261152267456055,
          7.6050591468811035,
          -51.05952072143555,
          -1.7126405239105225,
          -12.934454917907715,
          -40.79397964477539,
          -2.956183910369873,
          -21.74412727355957,
          -20.284761428833008,
          -25.827892303466797,
          12.548794746398926,
          13.749434471130371,
          13.060271263122559,
          13.22950553894043,
          16.57558822631836,
          -9.373894691467285,
          -42.29053497314453,
          6.996883869171143,
          24.812623977661133,
          -9.31009292602539,
          -7.236998558044434,
          25.623571395874023,
          21.521303176879883,
          0.4050610065460205,
          -14.864689826965332,
          20.74203109741211,
          10.654589653015137,
          -12.331759452819824,
          20.444427490234375,
          -0.6986823678016663,
          -1.702871322631836,
          9.325032234191895,
          -0.5948392152786255,
          18.325881958007812,
          -9.561002731323242,
          18.0440673828125,
          13.260107040405273,
          12.430160522460938,
          29.83002281188965,
          -17.475126266479492,
          -47.34965896606445,
          -50.56243896484375,
          7.615131378173828,
          -0.3683990240097046,
          15.04134750366211,
          21.25723648071289,
          5.460153102874756,
          -3.8670215606689453,
          -12.747823715209961,
          3.2213642597198486,
          -51.76594543457031,
          6.356520652770996,
          -12.713019371032715,
          -5.558630466461182,
          -41.033138275146484,
          -13.812519073486328,
          3.609264850616455,
          -2.4188148975372314,
          -23.29654884338379,
          4.441263675689697,
          -3.705369710922241,
          49.60881042480469,
          -11.269253730773926,
          -45.75596618652344,
          28.84886360168457,
          37.49477005004883,
          18.71059799194336,
          -30.10428237915039,
          -11.185466766357422,
          -16.40619468688965,
          23.680490493774414,
          37.71733093261719,
          16.41602325439453,
          8.76723575592041,
          23.626543045043945,
          27.83867645263672,
          6.575826168060303,
          20.228487014770508,
          36.52022933959961,
          -4.719942569732666,
          -2.40089750289917,
          21.55024528503418,
          -10.508803367614746,
          2.1793172359466553,
          -4.755649089813232,
          -15.898903846740723,
          -49.352901458740234,
          0.22392238676548004,
          2.2832469940185547,
          4.626779556274414,
          -4.982357025146484,
          -17.45132827758789,
          -22.475481033325195,
          -7.483266830444336,
          30.996061325073242,
          -4.739508152008057,
          0.06250055879354477,
          -44.68950653076172,
          -8.752608299255371,
          -41.980831146240234,
          6.596097469329834,
          -11.16439151763916,
          33.41377639770508,
          -6.097768783569336,
          7.997515678405762,
          13.425224304199219,
          -43.972171783447266,
          3.157618284225464,
          -25.26706886291504,
          22.0914249420166,
          -8.431496620178223,
          6.435124397277832,
          -1.0387355089187622,
          -13.331732749938965,
          -43.157737731933594,
          -54.84720230102539,
          5.571991920471191,
          4.866335391998291,
          7.648431301116943,
          0.9729964733123779,
          12.50266170501709,
          -4.590089321136475,
          14.493968963623047,
          11.282720565795898,
          4.5870280265808105,
          -15.263954162597656,
          -43.09871292114258,
          -50.21453857421875,
          14.28396987915039,
          -51.68831253051758,
          14.13968276977539,
          31.157772064208984,
          23.958288192749023,
          22.0567626953125,
          28.27921485900879,
          12.367233276367188,
          -16.068870544433594,
          11.686022758483887,
          21.876476287841797,
          -3.346540689468384,
          -12.775284767150879,
          15.407668113708496,
          -43.12938690185547,
          0.08952943980693817,
          1.980924367904663,
          -17.561904907226562,
          -9.07802963256836,
          3.54837703704834,
          -3.6305928230285645,
          -23.453594207763672,
          10.506132125854492,
          11.047465324401855,
          5.1957526206970215,
          21.828922271728516,
          -6.784084320068359,
          13.166250228881836,
          24.35013198852539,
          -10.36988353729248,
          7.128874778747559,
          -20.84340476989746,
          11.453897476196289,
          21.57948875427246,
          -7.327006816864014,
          -43.46001434326172,
          11.711570739746094,
          14.540019989013672,
          -18.241392135620117,
          -24.944366455078125,
          -4.92718505859375,
          27.276111602783203,
          16.67711639404297,
          -17.068592071533203,
          -2.2922310829162598,
          -24.641756057739258,
          11.229280471801758,
          11.48426628112793,
          25.115365982055664,
          -7.137842178344727,
          -42.52870559692383,
          4.219570159912109,
          -55.37834930419922,
          18.403167724609375,
          -16.252458572387695,
          -17.6104736328125,
          12.225017547607422,
          -10.455123901367188,
          14.912949562072754,
          4.854279518127441,
          16.003021240234375,
          -15.469402313232422,
          -1.1872632503509521,
          -1.2762846946716309,
          20.223114013671875,
          -6.6825103759765625,
          -35.632598876953125,
          28.06070899963379,
          30.604089736938477,
          16.739158630371094,
          21.177749633789062,
          -11.709531784057617,
          3.604680299758911,
          31.36907386779785,
          18.116260528564453,
          -34.34272003173828,
          -2.1795010566711426,
          -9.820472717285156,
          -19.631336212158203,
          -41.737457275390625,
          9.867324829101562,
          4.172884464263916,
          -53.15504455566406,
          6.5998711585998535,
          -5.247931003570557,
          4.176779270172119,
          0.34678542613983154,
          16.36271095275879,
          -13.894956588745117,
          12.156972885131836,
          17.1551456451416,
          11.807205200195312,
          -21.016782760620117,
          -1.0317996740341187,
          -7.970637798309326,
          28.20639991760254,
          11.653905868530273,
          28.127275466918945,
          5.44690465927124,
          -11.073244094848633,
          -43.14705276489258,
          30.082786560058594,
          25.29460906982422,
          7.516572952270508,
          -53.661277770996094,
          13.489419937133789,
          9.29990005493164,
          -22.8330020904541,
          -9.749434471130371,
          -40.32735061645508,
          4.220309734344482,
          10.192976951599121,
          2.6926193237304688,
          30.64957046508789,
          17.932077407836914,
          24.03076171875,
          -6.266085147857666,
          -44.477012634277344,
          16.258668899536133,
          -16.383371353149414,
          -9.566383361816406,
          11.82317066192627,
          12.815678596496582,
          -5.265581130981445,
          -10.505927085876465,
          -43.645015716552734,
          -49.46692657470703,
          -50.76662826538086,
          26.303911209106445,
          21.21194076538086,
          27.873432159423828,
          -18.629758834838867,
          10.86008071899414,
          2.275042772293091,
          -3.8607492446899414,
          -8.860128402709961,
          -45.65239715576172,
          -11.287328720092773,
          -21.20549964904785,
          18.04768943786621,
          7.854641437530518,
          -6.994740962982178,
          25.037906646728516,
          6.628651142120361,
          33.37474060058594,
          -16.207151412963867,
          -18.374757766723633,
          39.74422836303711,
          -44.1321907043457,
          -10.520662307739258,
          10.663044929504395,
          -15.788078308105469,
          -18.57241439819336,
          1.7563616037368774,
          -24.169660568237305,
          -4.881707668304443,
          -43.74610900878906,
          13.110748291015625,
          -1.0359585285186768,
          21.15677833557129,
          14.860164642333984,
          17.90656852722168,
          -3.6540215015411377,
          -21.393348693847656,
          -19.871164321899414,
          -2.8364222049713135,
          30.21595001220703,
          10.82654857635498,
          9.18025016784668,
          -4.830944538116455,
          -47.593997955322266,
          4.724364757537842,
          20.6605224609375,
          -18.49757194519043,
          -17.929794311523438,
          18.4403076171875,
          21.45177459716797,
          -9.069830894470215,
          9.35173511505127,
          -44.0322265625,
          6.8654680252075195,
          -5.047354221343994,
          6.341929912567139,
          15.29531478881836,
          23.690874099731445,
          -1.5789004564285278,
          13.175950050354004,
          -10.79624080657959,
          -39.82991027832031,
          -51.52775192260742,
          -0.16499854624271393,
          -15.970982551574707,
          13.499252319335938,
          9.838456153869629,
          29.8558406829834,
          -46.15816116333008,
          16.845020294189453,
          7.811067581176758,
          29.737445831298828,
          -19.92392921447754,
          -16.649028778076172,
          -40.021793365478516,
          -15.89663028717041,
          9.66723346710205,
          -1.3350460529327393,
          9.672035217285156,
          21.882570266723633,
          15.988311767578125,
          12.169146537780762,
          5.825195789337158,
          -43.035987854003906,
          -39.85338592529297,
          9.762194633483887,
          -40.659950256347656,
          16.997474670410156,
          5.677999496459961,
          5.955354690551758,
          11.590394020080566,
          -44.508888244628906,
          -41.68107604980469,
          15.936190605163574,
          25.66038703918457,
          -7.960180759429932,
          4.037489891052246,
          -4.711822986602783,
          -54.066566467285156,
          9.1718111038208,
          -41.89942169189453,
          -20.70262908935547,
          -41.89151382446289,
          -15.26040267944336,
          -9.005936622619629,
          11.391474723815918,
          -51.909976959228516,
          -44.58073806762695,
          21.894235610961914,
          14.985459327697754,
          12.760331153869629,
          -3.102738857269287,
          9.072921752929688,
          23.699846267700195,
          -43.496185302734375,
          -9.020017623901367,
          4.065805912017822,
          20.417404174804688,
          1.480724573135376,
          47.561012268066406,
          13.434003829956055,
          -2.431892156600952,
          -7.589066505432129,
          -6.963037967681885,
          47.51907730102539,
          30.614002227783203,
          -36.993263244628906,
          2.378849983215332,
          4.04396915435791,
          12.102263450622559,
          -11.03646183013916,
          -2.4388766288757324,
          -37.161407470703125,
          22.362646102905273,
          22.330961227416992,
          8.612645149230957,
          -7.594297409057617,
          0.010257909074425697,
          -5.381305694580078,
          -3.5763792991638184,
          -17.974130630493164,
          -21.75542640686035,
          -4.201143264770508,
          -0.9030078649520874,
          -46.26845169067383,
          -3.085603952407837,
          -0.8065087795257568,
          -44.419960021972656,
          10.193483352661133,
          -0.5931386947631836,
          3.364541530609131,
          -1.8184970617294312,
          -43.65322494506836,
          30.15364646911621,
          -38.981597900390625,
          -45.20222091674805,
          -42.67136001586914,
          43.19837188720703,
          14.64342212677002,
          -11.105988502502441,
          -52.11663818359375,
          7.290902137756348,
          -23.2418155670166,
          32.025848388671875,
          -7.5796966552734375,
          -2.60970401763916,
          -43.76249313354492,
          -45.30084228515625,
          -7.718339920043945,
          -7.9171576499938965,
          -43.68231964111328,
          -45.362857818603516,
          -56.8089714050293,
          -2.28771710395813,
          -21.19356918334961,
          -41.50507354736328,
          24.898775100708008,
          -43.23115921020508,
          -0.0521233007311821,
          -18.529329299926758,
          -2.356973171234131,
          -19.889875411987305,
          -19.87701416015625,
          -2.5659847259521484,
          -16.095157623291016,
          -9.789648056030273,
          -12.261720657348633,
          -40.551246643066406,
          6.680896282196045,
          24.66329574584961,
          0.8316842913627625,
          26.90855598449707,
          -51.21438217163086,
          -2.7071361541748047,
          -6.612964153289795,
          -2.791253089904785,
          -3.9100122451782227,
          15.170042037963867,
          -24.35068130493164,
          -23.417949676513672,
          -11.16815185546875,
          -5.74948263168335,
          13.895084381103516,
          27.230974197387695,
          20.829437255859375,
          26.86086082458496,
          31.129884719848633,
          38.3603515625,
          31.011892318725586,
          -43.19950866699219,
          -11.365486145019531,
          -9.201066017150879,
          -51.414791107177734,
          7.464963912963867,
          -42.42793655395508,
          -5.84520959854126,
          -27.762819290161133,
          -42.896217346191406,
          -43.22508239746094,
          -27.923599243164062,
          -24.81066131591797,
          -19.82688331604004,
          14.021636962890625,
          21.845720291137695,
          -21.44496726989746,
          -18.478919982910156,
          -23.075437545776367,
          -11.657050132751465,
          7.836417198181152,
          12.101630210876465,
          -16.9346923828125,
          7.9343791007995605,
          -3.4946279525756836,
          -10.804773330688477,
          -14.760157585144043,
          -43.631690979003906,
          4.182365417480469,
          10.252820014953613,
          -54.49790954589844,
          13.276349067687988,
          6.16701078414917,
          -17.380605697631836,
          -2.015705108642578,
          11.901237487792969,
          1.6619459390640259,
          13.190912246704102,
          -52.63527297973633,
          1.5139086246490479,
          -42.259307861328125,
          0.8221518397331238,
          -14.914840698242188,
          18.793087005615234,
          -5.763247966766357,
          14.55001449584961,
          -44.18248748779297,
          13.75321102142334,
          13.260602951049805,
          -0.6161671280860901,
          0.41242897510528564,
          13.287954330444336,
          16.559677124023438,
          24.129474639892578,
          -17.45716094970703,
          -15.439631462097168,
          -16.486007690429688,
          6.690820693969727,
          -1.3885257244110107,
          19.312719345092773,
          -17.736957550048828,
          -35.23303985595703,
          -24.190820693969727,
          31.874971389770508,
          -40.5413932800293,
          -37.90016174316406,
          -13.975565910339355,
          -51.97161865234375,
          -9.140987396240234,
          -2.660010814666748,
          24.181982040405273,
          -15.082490921020508,
          -22.18791389465332,
          -0.11653655767440796,
          -9.988546371459961,
          22.044771194458008,
          27.864625930786133,
          26.7276668548584,
          11.002180099487305,
          -1.6361122131347656,
          -16.637351989746094,
          9.41256046295166,
          10.144097328186035,
          -27.719303131103516,
          1.2355082035064697,
          -1.9503355026245117,
          10.766929626464844,
          -13.99040699005127,
          14.439929962158203,
          -28.79111099243164,
          -0.7622218132019043,
          5.359113693237305,
          12.250136375427246,
          -13.845755577087402,
          -33.56212615966797,
          -45.35723114013672,
          10.449333190917969,
          -17.563690185546875,
          -49.046993255615234,
          -13.866347312927246,
          7.622316360473633,
          -13.769011497497559,
          11.866024017333984,
          -14.419296264648438,
          16.479013442993164,
          0.9192442893981934,
          -13.910102844238281,
          -10.625910758972168,
          12.035724639892578,
          -37.41521453857422,
          -2.146494150161743,
          11.219865798950195,
          -10.559738159179688,
          -40.199363708496094,
          -54.34097671508789,
          -3.454996109008789,
          -13.778257369995117,
          -46.370330810546875,
          -41.78794860839844,
          30.194358825683594,
          -17.348981857299805,
          -46.9421272277832,
          -48.64341354370117,
          2.4842092990875244,
          -8.858444213867188,
          2.9392027854919434,
          -11.733378410339355,
          8.78693675994873,
          0.34820935130119324,
          -1.2115415334701538,
          -0.6642120480537415,
          -7.122701168060303,
          8.09524154663086,
          -27.46036148071289,
          6.103832721710205,
          -0.7384169697761536,
          2.6623146533966064,
          -6.357926368713379,
          -9.930328369140625,
          -0.7014851570129395,
          1.418189525604248,
          13.389768600463867,
          26.70342254638672,
          -48.38800811767578,
          1.4041699171066284,
          -13.293909072875977,
          -17.332727432250977,
          13.909465789794922,
          -0.5568876266479492,
          50.33348846435547,
          -24.029254913330078,
          -8.962072372436523,
          -0.38356703519821167,
          26.271148681640625,
          5.503921985626221,
          -19.660402297973633,
          -3.82625150680542,
          -9.167613983154297,
          28.458778381347656,
          -19.581514358520508,
          -16.198822021484375,
          -12.586420059204102,
          -45.07069778442383,
          37.21849822998047,
          -49.04446029663086,
          2.7295048236846924,
          -3.4343159198760986,
          26.951297760009766,
          2.8543546199798584,
          28.127500534057617,
          10.867659568786621,
          6.724101543426514,
          19.9721622467041,
          5.5999579429626465,
          -8.807428359985352,
          -45.845340728759766,
          5.69858980178833,
          7.379724979400635,
          26.295000076293945,
          27.047893524169922,
          30.165315628051758,
          -10.86990737915039,
          6.877763748168945,
          29.748157501220703,
          15.708571434020996,
          -56.57083511352539,
          6.370552062988281,
          27.413658142089844,
          4.383702754974365,
          8.096531867980957,
          -39.167259216308594,
          25.628955841064453,
          -38.107627868652344,
          -9.678138732910156,
          6.948741912841797,
          -46.68508529663086,
          24.23250389099121,
          10.2734956741333,
          24.319156646728516,
          25.603252410888672,
          26.1162166595459,
          23.73575782775879,
          25.59193229675293,
          3.893994092941284,
          -17.7966365814209,
          -41.03803634643555,
          2.3208048343658447,
          -18.462055206298828,
          26.74395179748535,
          1.5411523580551147,
          -5.389532089233398,
          32.79585266113281,
          25.73703956604004,
          -1.9433554410934448,
          -46.03862762451172,
          -11.555190086364746,
          -39.88425827026367,
          -7.722177028656006,
          -36.21292495727539,
          -9.94753646850586,
          -35.690879821777344,
          -50.84782028198242,
          -40.56896209716797,
          2.2197062969207764,
          5.171133995056152,
          -21.123044967651367,
          -48.54301452636719,
          7.204507350921631,
          -41.24271011352539,
          -2.941513776779175,
          -50.83700942993164,
          -9.237454414367676,
          -17.593137741088867,
          -2.1001017093658447,
          -40.17316436767578,
          -35.861934661865234,
          -50.55657196044922,
          -1.266470193862915,
          -44.106807708740234,
          -1.3440990447998047,
          5.315565586090088,
          37.935096740722656,
          21.990249633789062,
          7.386024475097656,
          2.632762908935547,
          -14.427505493164062,
          -46.41041946411133,
          21.62064552307129,
          21.469417572021484,
          -41.6655158996582,
          -39.55413055419922,
          28.193880081176758,
          5.713057041168213,
          -16.250516891479492,
          -41.24998092651367,
          10.471236228942871,
          27.64012908935547,
          -1.6923190355300903,
          -2.8137311935424805,
          30.28400993347168,
          30.284006118774414,
          -0.373407244682312,
          -26.2585391998291,
          20.308679580688477,
          26.056411743164062,
          -7.5630974769592285,
          26.516138076782227,
          -9.642508506774902,
          16.643339157104492,
          -8.417041778564453,
          25.72850799560547,
          -43.953163146972656,
          -37.4398193359375,
          -15.558905601501465,
          -39.22998809814453,
          -50.94932174682617
         ],
         "xaxis": "x",
         "y": [
          5.134901523590088,
          -18.79916763305664,
          -10.248083114624023,
          3.748354434967041,
          31.950599670410156,
          41.717655181884766,
          -10.376705169677734,
          -11.325860023498535,
          3.2059497833251953,
          -7.385202407836914,
          39.30744934082031,
          37.761863708496094,
          -17.976194381713867,
          -1.7869038581848145,
          31.383865356445312,
          3.1196937561035156,
          38.53703689575195,
          -19.38701629638672,
          -16.840736389160156,
          -26.245838165283203,
          3.8860650062561035,
          46.86697769165039,
          -35.334957122802734,
          -30.565956115722656,
          -24.82480239868164,
          -17.37152671813965,
          -28.160737991333008,
          -31.89439582824707,
          -28.996490478515625,
          55.06509017944336,
          -20.031227111816406,
          35.39133834838867,
          46.58675003051758,
          37.146453857421875,
          -8.39783000946045,
          53.4873046875,
          4.266465187072754,
          -9.521869659423828,
          -20.131967544555664,
          37.704647064208984,
          46.06797409057617,
          -3.613335371017456,
          -0.9456030130386353,
          -16.806734085083008,
          -17.02180290222168,
          -16.969070434570312,
          -31.360652923583984,
          29.0953426361084,
          -20.442995071411133,
          -38.61274719238281,
          -31.758207321166992,
          29.18274688720703,
          -6.9323577880859375,
          -31.05267333984375,
          -13.421321868896484,
          -29.533178329467773,
          -28.19581413269043,
          44.473079681396484,
          56.89120864868164,
          -26.127777099609375,
          44.04756164550781,
          49.86272430419922,
          -18.3110408782959,
          39.07819747924805,
          48.71266174316406,
          -33.917415618896484,
          -18.040395736694336,
          -10.183438301086426,
          46.835166931152344,
          -33.789886474609375,
          -27.35954475402832,
          18.872770309448242,
          -5.1720781326293945,
          -9.639301300048828,
          41.58734893798828,
          48.499000549316406,
          15.070682525634766,
          -5.414180278778076,
          41.376224517822266,
          48.58562088012695,
          16.70578384399414,
          45.193946838378906,
          -9.170585632324219,
          40.084075927734375,
          16.681673049926758,
          16.70973777770996,
          -9.125832557678223,
          4.451476573944092,
          3.9229488372802734,
          -20.026002883911133,
          38.254783630371094,
          2.0659494400024414,
          -13.459020614624023,
          -8.069717407226562,
          3.0105488300323486,
          9.233169555664062,
          -2.5806736946105957,
          -14.291777610778809,
          -29.938749313354492,
          -9.225178718566895,
          -30.262529373168945,
          2.1012210845947266,
          -4.823822498321533,
          -25.931367874145508,
          29.27513885498047,
          36.63151931762695,
          -33.02812576293945,
          -25.071075439453125,
          -36.51288986206055,
          10.587559700012207,
          -24.837329864501953,
          54.75980758666992,
          -2.7015585899353027,
          -20.041635513305664,
          2.894108295440674,
          38.641151428222656,
          -6.770173072814941,
          2.6267526149749756,
          -2.3217551708221436,
          2.55678391456604,
          38.43878936767578,
          -37.30326461791992,
          54.98113250732422,
          39.05842590332031,
          38.22755813598633,
          -19.340328216552734,
          0.9984846711158752,
          -12.740139961242676,
          50.04157638549805,
          -18.584609985351562,
          2.441300630569458,
          -15.986967086791992,
          39.23688888549805,
          -29.30723762512207,
          -25.402326583862305,
          4.565009593963623,
          8.756755828857422,
          -68.2063217163086,
          -19.714824676513672,
          42.76891326904297,
          -19.59454345703125,
          -19.34461784362793,
          2.0815258026123047,
          33.4897346496582,
          -26.128700256347656,
          -43.98779296875,
          -18.18056297302246,
          9.922028541564941,
          36.570743560791016,
          42.9642219543457,
          35.76605987548828,
          41.71965026855469,
          -76.4437255859375,
          55.09989929199219,
          39.45060348510742,
          35.841182708740234,
          -30.67677116394043,
          4.480865001678467,
          -19.410017013549805,
          6.234378337860107,
          48.51371383666992,
          12.032588958740234,
          47.836544036865234,
          22.070720672607422,
          42.55264663696289,
          -35.7007942199707,
          20.288421630859375,
          -75.6107177734375,
          -29.466951370239258,
          47.488616943359375,
          44.10862731933594,
          -8.468899726867676,
          2.1020028591156006,
          -30.816551208496094,
          -14.261283874511719,
          41.115108489990234,
          2.441032886505127,
          -31.39551544189453,
          48.61642837524414,
          -37.637752532958984,
          49.77482986450195,
          38.5443000793457,
          41.23185729980469,
          41.09978485107422,
          0.35746049880981445,
          44.11869812011719,
          2.0597658157348633,
          40.93186569213867,
          -26.09466552734375,
          2.7405500411987305,
          45.794464111328125,
          -17.125736236572266,
          -71.32498931884766,
          -34.72304916381836,
          -19.985925674438477,
          -20.256120681762695,
          40.82968521118164,
          41.4582633972168,
          -9.000983238220215,
          -20.185230255126953,
          52.83837890625,
          0.7741414904594421,
          42.49049758911133,
          -36.659271240234375,
          48.22724151611328,
          -21.163576126098633,
          -29.0570011138916,
          -75.63592529296875,
          29.74104881286621,
          0.35733386874198914,
          -19.61085319519043,
          -40.00260543823242,
          10.644450187683105,
          43.39734649658203,
          -20.864744186401367,
          -21.689542770385742,
          -29.908449172973633,
          1.0262478590011597,
          14.937691688537598,
          40.350502014160156,
          -42.9990348815918,
          -10.455103874206543,
          52.583499908447266,
          -25.75154685974121,
          -34.244911193847656,
          -17.32349395751953,
          -6.120219707489014,
          22.358150482177734,
          2.5620198249816895,
          42.252784729003906,
          47.955665588378906,
          -0.7105312943458557,
          51.21474838256836,
          22.46417808532715,
          42.21445846557617,
          -10.475318908691406,
          48.661949157714844,
          -1.808561086654663,
          -22.600305557250977,
          -10.066309928894043,
          38.27191162109375,
          -38.851783752441406,
          13.846230506896973,
          35.78975296020508,
          15.527868270874023,
          47.010231018066406,
          50.65688705444336,
          42.43241500854492,
          0.48301759362220764,
          -28.717866897583008,
          38.90728759765625,
          48.55894088745117,
          -19.200881958007812,
          -28.32801628112793,
          0.9260759353637695,
          -3.9982399940490723,
          48.48566436767578,
          -5.70192813873291,
          37.52259826660156,
          0.3426814675331116,
          -3.194359302520752,
          1.3294792175292969,
          -30.12810516357422,
          -28.81352424621582,
          13.783855438232422,
          38.044490814208984,
          55.07070541381836,
          37.59123992919922,
          -15.691792488098145,
          -13.186195373535156,
          47.10272216796875,
          -76.02455139160156,
          46.11674880981445,
          0.922117292881012,
          45.32644271850586,
          -25.228849411010742,
          48.02819061279297,
          -8.475316047668457,
          38.345489501953125,
          8.749979972839355,
          0.7865176200866699,
          48.809757232666016,
          47.297855377197266,
          -2.744443416595459,
          -0.1358977109193802,
          -20.6651554107666,
          5.611935615539551,
          7.427297592163086,
          -33.33755874633789,
          -5.334408283233643,
          33.7290153503418,
          -20.73213005065918,
          -74.0979995727539,
          48.49909973144531,
          48.04630661010742,
          -0.40202027559280396,
          8.715447425842285,
          12.431797981262207,
          -7.465386390686035,
          -5.582340717315674,
          7.618123531341553,
          -16.64687728881836,
          -36.25807571411133,
          37.6917839050293,
          -24.973024368286133,
          8.485847473144531,
          -35.77236557006836,
          -11.952463150024414,
          18.615005493164062,
          2.7928574085235596,
          54.62929916381836,
          8.161717414855957,
          -22.09419822692871,
          -25.059560775756836,
          2.84315824508667,
          -5.62853479385376,
          -15.172928810119629,
          -39.234230041503906,
          50.947288513183594,
          -5.418967247009277,
          43.00179672241211,
          45.39638137817383,
          -8.64001750946045,
          -32.657012939453125,
          -33.12345886230469,
          -33.579776763916016,
          20.737682342529297,
          -44.814300537109375,
          -30.74749183654785,
          -0.16478221118450165,
          -13.43409538269043,
          38.16200256347656,
          -19.85199737548828,
          38.678401947021484,
          39.956844329833984,
          42.79250717163086,
          14.072596549987793,
          -18.736125946044922,
          41.64604949951172,
          25.848224639892578,
          45.02101516723633,
          -2.299482822418213,
          37.46921920776367,
          -31.177858352661133,
          -29.729488372802734,
          45.4178581237793,
          42.571807861328125,
          -4.348642349243164,
          -14.244985580444336,
          12.595865249633789,
          -38.312339782714844,
          -10.756694793701172,
          48.16573715209961,
          53.09672927856445,
          21.502656936645508,
          -5.232114315032959,
          41.50510025024414,
          -39.74713134765625,
          21.66792869567871,
          -33.037269592285156,
          -35.48344039916992,
          -13.386981964111328,
          -10.666560173034668,
          44.67858123779297,
          -39.80085754394531,
          44.657447814941406,
          -5.003327369689941,
          -43.00993347167969,
          48.33950424194336,
          45.43539047241211,
          27.914674758911133,
          -17.86314582824707,
          53.223289489746094,
          -3.2041103839874268,
          29.78125762939453,
          41.84183120727539,
          45.12139129638672,
          -38.6060791015625,
          27.73899269104004,
          26.295061111450195,
          -31.356386184692383,
          -30.57744789123535,
          1.5834689140319824,
          -40.9890251159668,
          -0.20795701444149017,
          11.953778266906738,
          35.7791748046875,
          25.282102584838867,
          -33.628631591796875,
          -15.200996398925781,
          4.56297492980957,
          48.80799102783203,
          -41.50172424316406,
          10.880516052246094,
          26.82649040222168,
          44.04322052001953,
          -30.81680679321289,
          -4.492489337921143,
          -37.68665313720703,
          38.490901947021484,
          -24.644906997680664,
          26.339319229125977,
          -39.93703842163086,
          -41.88962936401367,
          15.604710578918457,
          44.09880447387695,
          -12.436574935913086,
          13.340545654296875,
          51.37271499633789,
          50.63970947265625,
          -5.483593940734863,
          -12.79554557800293,
          20.394865036010742,
          -6.318877220153809,
          -30.119117736816406,
          -36.516639709472656,
          -24.808752059936523,
          -46.71148681640625,
          14.723466873168945,
          -6.6186699867248535,
          49.842010498046875,
          49.9744758605957,
          40.3187141418457,
          49.47238540649414,
          -41.252960205078125,
          54.04655456542969,
          50.32468795776367,
          39.057559967041016,
          38.534706115722656,
          54.52534103393555,
          44.564231872558594,
          -5.696131229400635,
          54.27549362182617,
          47.51431655883789,
          26.071622848510742,
          -36.54187774658203,
          45.453277587890625,
          37.24956512451172,
          48.15818786621094,
          28.887121200561523,
          22.596126556396484,
          28.216291427612305,
          -18.11035919189453,
          24.045475006103516,
          -10.88424301147461,
          14.766797065734863,
          3.4196584224700928,
          16.290943145751953,
          40.403076171875,
          -11.441354751586914,
          21.453821182250977,
          50.64839553833008,
          51.82845687866211,
          -15.324926376342773,
          1.1190900802612305,
          49.963619232177734,
          50.120906829833984,
          -6.015622138977051,
          1.0284758806228638,
          12.792794227600098,
          13.946810722351074,
          -13.45193099975586,
          25.184940338134766,
          -1.400959849357605,
          3.461263656616211,
          46.59465789794922,
          -17.714290618896484,
          49.19655227661133,
          13.593658447265625,
          13.65415096282959,
          -8.67774772644043,
          -2.2614052295684814,
          -15.745941162109375,
          -19.001211166381836,
          -10.941162109375,
          36.64027404785156,
          -3.5123841762542725,
          50.36677551269531,
          -23.059499740600586,
          13.048789024353027,
          52.608070373535156,
          -15.555998802185059,
          -8.194747924804688,
          -2.2939767837524414,
          -31.438810348510742,
          -16.106298446655273,
          -13.035371780395508,
          -27.72870635986328,
          -1.8590275049209595,
          38.19422912597656,
          32.981590270996094,
          -34.119651794433594,
          -22.967365264892578,
          22.40425682067871,
          -10.366523742675781,
          21.621423721313477,
          27.5755615234375,
          -34.81113052368164,
          1.9135347604751587,
          16.99211311340332,
          36.65366744995117,
          25.314138412475586,
          -5.454742431640625,
          -19.04317855834961,
          27.006858825683594,
          2.1298775672912598,
          -19.090557098388672,
          -18.075668334960938,
          -14.786948204040527,
          -31.879133224487305,
          -27.940467834472656,
          -6.921549320220947,
          4.999029636383057,
          -12.825052261352539,
          -35.158992767333984,
          39.17043685913086,
          -29.946123123168945,
          -17.06764030456543,
          38.72739028930664,
          -2.668107271194458,
          0.43882638216018677,
          -30.055294036865234,
          -6.02150821685791,
          41.80006408691406,
          35.71455383300781,
          18.163330078125,
          37.920684814453125,
          -35.573543548583984,
          -12.412616729736328,
          -13.64983081817627,
          -28.63632583618164,
          51.348453521728516,
          12.978047370910645,
          18.006235122680664,
          52.644004821777344,
          -12.121217727661133,
          47.94044494628906,
          -46.089271545410156,
          -29.41455078125,
          -5.507719039916992,
          30.351736068725586,
          -3.1792795658111572,
          -0.9685734510421753,
          48.724647521972656,
          -34.56401443481445,
          43.09545135498047,
          47.677528381347656,
          38.686153411865234,
          -6.930998802185059,
          -33.54523468017578,
          -46.91885757446289,
          -16.219430923461914,
          38.81305694580078,
          -42.12847900390625,
          -36.24099349975586,
          -7.424249172210693,
          1.0721684694290161,
          3.141664743423462,
          -35.120304107666016,
          2.5661449432373047,
          0.455754816532135,
          -43.45261001586914,
          14.853474617004395,
          -36.195892333984375,
          52.74409484863281,
          -26.14203643798828,
          -17.3670711517334,
          -20.013723373413086,
          51.15959548950195,
          -49.706748962402344,
          -35.70311737060547,
          -19.355812072753906,
          17.295785903930664,
          42.49161911010742,
          51.00969696044922,
          1.7448126077651978,
          55.52726745605469,
          36.306400299072266,
          -27.05976104736328,
          49.40970993041992,
          -40.26978302001953,
          36.82341003417969,
          -26.26095199584961,
          35.03969955444336,
          -26.137224197387695,
          54.638145446777344,
          -30.57778549194336,
          48.47024917602539,
          34.978843688964844,
          -16.990079879760742,
          -3.8348278999328613,
          -39.63282012939453,
          18.999248504638672,
          -4.050686359405518,
          34.87821578979492,
          -32.258609771728516,
          -19.941146850585938,
          47.05492401123047,
          34.27513122558594,
          -9.824896812438965,
          -24.69443702697754,
          34.81697463989258,
          -4.437744617462158,
          47.436866760253906,
          -9.717791557312012,
          50.20377731323242,
          -74.9088134765625,
          1.804738998413086,
          -11.440210342407227,
          12.256293296813965,
          -2.908202648162842,
          3.757582426071167,
          11.182598114013672,
          -17.436702728271484,
          -22.815580368041992,
          -22.99081039428711,
          11.460204124450684,
          17.184757232666016,
          39.656166076660156,
          50.032894134521484,
          42.795570373535156,
          -36.114288330078125,
          -31.91996192932129,
          51.211570739746094,
          51.78704833984375,
          51.60721969604492,
          -1.4712780714035034,
          -35.66011428833008,
          -3.277402400970459,
          40.997310638427734,
          54.51237106323242,
          50.87610626220703,
          -1.6497899293899536,
          -2.5516891479492188,
          52.15973663330078,
          -30.244279861450195,
          -29.496662139892578,
          17.315692901611328,
          0.061564356088638306,
          51.13320541381836,
          -26.6450138092041,
          -12.420926094055176,
          43.2805290222168,
          52.71337890625,
          8.070252418518066,
          1.878512978553772,
          -2.4904096126556396,
          53.20382308959961,
          -21.823171615600586,
          1.0924407243728638,
          -18.77685546875,
          -36.87982940673828,
          1.1700160503387451,
          34.34420394897461,
          5.235808372497559,
          -8.183642387390137,
          2.9527812004089355,
          -6.620821952819824,
          12.983124732971191,
          4.491990566253662,
          -38.85498046875,
          49.76398468017578,
          18.379709243774414,
          22.736173629760742,
          33.86540985107422,
          -19.241796493530273,
          41.75238037109375,
          -32.327880859375,
          40.16721725463867,
          0.8797418475151062,
          -1.073124885559082,
          -42.425418853759766,
          39.158424377441406,
          32.255062103271484,
          22.734342575073242,
          31.813308715820312,
          -46.620635986328125,
          43.32597732543945,
          30.62017822265625,
          -19.566186904907227,
          -13.371659278869629,
          -43.649200439453125,
          18.86801528930664,
          45.00765609741211,
          37.503753662109375,
          -16.518714904785156,
          1.4301549196243286,
          -4.04800271987915,
          -1.8535006046295166,
          36.62944030761719,
          -8.408129692077637,
          19.103248596191406,
          -37.82753372192383,
          19.267297744750977,
          20.872163772583008,
          24.155397415161133,
          -21.139184951782227,
          20.816043853759766,
          -44.09211730957031,
          -8.531301498413086,
          -1.5756338834762573,
          -38.61585998535156,
          24.18039321899414,
          -1.686017394065857,
          -26.366994857788086,
          -25.208436965942383,
          -31.47066879272461,
          21.389713287353516,
          -7.563302040100098,
          11.332015037536621,
          -46.63711166381836,
          -3.820404052734375,
          -0.7430431246757507,
          -11.665903091430664,
          1.327414870262146,
          -4.30645751953125,
          18.50928497314453,
          -5.4427266120910645,
          -40.03611373901367,
          42.90570068359375,
          38.95372009277344,
          -1.2519915103912354,
          15.165878295898438,
          0.22643207013607025,
          -13.649178504943848,
          18.98000717163086,
          -5.406225204467773,
          -17.362564086914062,
          47.18974685668945,
          3.228518009185791,
          -10.584627151489258,
          18.355924606323242,
          44.30097961425781,
          -13.027420997619629,
          -40.743106842041016,
          36.63140869140625,
          26.07857322692871,
          -12.33672046661377,
          -34.68523025512695,
          6.37557315826416,
          -30.70978355407715,
          -2.6458981037139893,
          15.085824012756348,
          13.763230323791504,
          -3.1472206115722656,
          -2.3400354385375977,
          33.843624114990234,
          38.55190658569336,
          -8.22098159790039,
          -3.8338608741760254,
          -37.57780075073242,
          22.5086669921875,
          44.10177230834961,
          45.91382598876953,
          31.399736404418945,
          31.3997802734375,
          14.948484420776367,
          -24.180818557739258,
          -40.50068283081055,
          -1.6992566585540771,
          -5.624292373657227,
          -1.4917312860488892,
          -46.119651794433594,
          44.505767822265625,
          -46.22904968261719,
          1.3500608205795288,
          -3.442636489868164,
          27.038393020629883,
          -13.4044189453125,
          -12.653668403625488,
          18.745939254760742
         ],
         "yaxis": "y"
        },
        {
         "customdata": [
          [
           "Retail/Wholesale",
           "COST"
          ],
          [
           "Retail/Wholesale",
           "COST"
          ],
          [
           "Retail/Wholesale",
           "COST"
          ],
          [
           "Retail/Wholesale",
           "COST"
          ],
          [
           "Retail/Wholesale",
           "KR"
          ],
          [
           "Retail/Wholesale",
           "VIPS"
          ],
          [
           "Retail/Wholesale",
           "VIPS"
          ],
          [
           "Retail/Wholesale",
           "VIPS"
          ],
          [
           "Retail/Wholesale",
           "VIPS"
          ],
          [
           "Retail/Wholesale",
           "VIPS"
          ],
          [
           "Retail/Wholesale",
           "VIPS"
          ],
          [
           "Retail/Wholesale",
           "VIPS"
          ],
          [
           "Retail/Wholesale",
           "VIPS"
          ],
          [
           "Retail/Wholesale",
           "VIPS"
          ],
          [
           "Retail/Wholesale",
           "VIPS"
          ],
          [
           "Retail/Wholesale",
           "VIPS"
          ],
          [
           "Retail/Wholesale",
           "VIPS"
          ],
          [
           "Retail/Wholesale",
           "VIPS"
          ],
          [
           "Retail/Wholesale",
           "VIPS"
          ],
          [
           "Retail/Wholesale",
           "VIPS"
          ],
          [
           "Retail/Wholesale",
           "VIPS"
          ],
          [
           "Retail/Wholesale",
           "VIPS"
          ],
          [
           "Retail/Wholesale",
           "VIPS"
          ],
          [
           "Retail/Wholesale",
           "VIPS"
          ],
          [
           "Retail/Wholesale",
           "VIPS"
          ],
          [
           "Retail/Wholesale",
           "VIPS"
          ]
         ],
         "hoverlabel": {
          "namelength": 0
         },
         "hovertemplate": "sector=%{customdata[0]}<br>x=%{x}<br>y=%{y}<br>symb=%{customdata[1]}",
         "legendgroup": "Retail/Wholesale",
         "marker": {
          "color": "#B6E880",
          "symbol": "circle"
         },
         "mode": "markers",
         "name": "Retail/Wholesale",
         "showlegend": true,
         "type": "scattergl",
         "x": [
          30.017385482788086,
          9.590513229370117,
          53.55443572998047,
          12.477388381958008,
          -25.777450561523438,
          -46.19554901123047,
          -39.15865707397461,
          -38.19783020019531,
          -4.620676040649414,
          -55.394981384277344,
          14.240267753601074,
          21.117429733276367,
          12.513932228088379,
          11.748051643371582,
          13.61613941192627,
          -5.919720649719238,
          12.29298210144043,
          13.129481315612793,
          -26.1527099609375,
          1.6807290315628052,
          12.491559982299805,
          -54.9870491027832,
          12.626096725463867,
          -54.72392654418945,
          14.569459915161133,
          -26.830591201782227
         ],
         "xaxis": "x",
         "y": [
          -33.92662048339844,
          -38.31787109375,
          -0.7036938667297363,
          3.7595412731170654,
          42.55877685546875,
          -15.564371109008789,
          23.07187271118164,
          22.807411193847656,
          -29.668840408325195,
          -32.666622161865234,
          -76.53242492675781,
          48.88355255126953,
          -74.44297790527344,
          -74.18791198730469,
          -75.01189422607422,
          14.073819160461426,
          -72.72953033447266,
          -73.49517822265625,
          30.383846282958984,
          -7.363556861877441,
          -72.31742858886719,
          -33.299312591552734,
          -73.81254577636719,
          -33.443519592285156,
          -74.67887115478516,
          29.825042724609375
         ],
         "yaxis": "y"
        },
        {
         "customdata": [
          [
           "Industrial Goods",
           "BA"
          ],
          [
           "Industrial Goods",
           "BA"
          ],
          [
           "Industrial Goods",
           "BA"
          ],
          [
           "Industrial Goods",
           "NATI"
          ],
          [
           "Industrial Goods",
           "NATI"
          ],
          [
           "Industrial Goods",
           "NATI"
          ],
          [
           "Industrial Goods",
           "NATI"
          ],
          [
           "Industrial Goods",
           "NATI"
          ],
          [
           "Industrial Goods",
           "BA"
          ],
          [
           "Industrial Goods",
           "BA"
          ],
          [
           "Industrial Goods",
           "BA"
          ],
          [
           "Industrial Goods",
           "BA"
          ],
          [
           "Industrial Goods",
           "BA"
          ],
          [
           "Industrial Goods",
           "BA"
          ],
          [
           "Industrial Goods",
           "BA"
          ],
          [
           "Industrial Goods",
           "BA"
          ],
          [
           "Industrial Goods",
           "BA"
          ],
          [
           "Industrial Goods",
           "BA"
          ],
          [
           "Industrial Goods",
           "BA"
          ],
          [
           "Industrial Goods",
           "BA"
          ],
          [
           "Industrial Goods",
           "BA"
          ],
          [
           "Industrial Goods",
           "BA"
          ],
          [
           "Industrial Goods",
           "BA"
          ],
          [
           "Industrial Goods",
           "BA"
          ],
          [
           "Industrial Goods",
           "BA"
          ],
          [
           "Industrial Goods",
           "BA"
          ],
          [
           "Industrial Goods",
           "BA"
          ],
          [
           "Industrial Goods",
           "BA"
          ],
          [
           "Industrial Goods",
           "BA"
          ],
          [
           "Industrial Goods",
           "BA"
          ],
          [
           "Industrial Goods",
           "BA"
          ],
          [
           "Industrial Goods",
           "BA"
          ],
          [
           "Industrial Goods",
           "BA"
          ],
          [
           "Industrial Goods",
           "BA"
          ],
          [
           "Industrial Goods",
           "BA"
          ],
          [
           "Industrial Goods",
           "BA"
          ],
          [
           "Industrial Goods",
           "BA"
          ],
          [
           "Industrial Goods",
           "BA"
          ],
          [
           "Industrial Goods",
           "BA"
          ],
          [
           "Industrial Goods",
           "BA"
          ],
          [
           "Industrial Goods",
           "BA"
          ],
          [
           "Industrial Goods",
           "BA"
          ],
          [
           "Industrial Goods",
           "BA"
          ],
          [
           "Industrial Goods",
           "BA"
          ],
          [
           "Industrial Goods",
           "BA"
          ],
          [
           "Industrial Goods",
           "BA"
          ],
          [
           "Industrial Goods",
           "BA"
          ],
          [
           "Industrial Goods",
           "BA"
          ],
          [
           "Industrial Goods",
           "BA"
          ],
          [
           "Industrial Goods",
           "BA"
          ],
          [
           "Industrial Goods",
           "BA"
          ],
          [
           "Industrial Goods",
           "BA"
          ],
          [
           "Industrial Goods",
           "BA"
          ],
          [
           "Industrial Goods",
           "BA"
          ],
          [
           "Industrial Goods",
           "BA"
          ],
          [
           "Industrial Goods",
           "BA"
          ],
          [
           "Industrial Goods",
           "BA"
          ],
          [
           "Industrial Goods",
           "BA"
          ],
          [
           "Industrial Goods",
           "BA"
          ],
          [
           "Industrial Goods",
           "BA"
          ],
          [
           "Industrial Goods",
           "BA"
          ],
          [
           "Industrial Goods",
           "BA"
          ],
          [
           "Industrial Goods",
           "BA"
          ],
          [
           "Industrial Goods",
           "BA"
          ],
          [
           "Industrial Goods",
           "BA"
          ],
          [
           "Industrial Goods",
           "BA"
          ],
          [
           "Industrial Goods",
           "BA"
          ],
          [
           "Industrial Goods",
           "BA"
          ],
          [
           "Industrial Goods",
           "BA"
          ],
          [
           "Industrial Goods",
           "BA"
          ],
          [
           "Industrial Goods",
           "BA"
          ],
          [
           "Industrial Goods",
           "BA"
          ],
          [
           "Industrial Goods",
           "BA"
          ],
          [
           "Industrial Goods",
           "BA"
          ],
          [
           "Industrial Goods",
           "BA"
          ],
          [
           "Industrial Goods",
           "BA"
          ],
          [
           "Industrial Goods",
           "BA"
          ],
          [
           "Industrial Goods",
           "BA"
          ],
          [
           "Industrial Goods",
           "BA"
          ],
          [
           "Industrial Goods",
           "BA"
          ],
          [
           "Industrial Goods",
           "BA"
          ],
          [
           "Industrial Goods",
           "BA"
          ],
          [
           "Industrial Goods",
           "BA"
          ],
          [
           "Industrial Goods",
           "BA"
          ],
          [
           "Industrial Goods",
           "BA"
          ],
          [
           "Industrial Goods",
           "BA"
          ],
          [
           "Industrial Goods",
           "BA"
          ],
          [
           "Industrial Goods",
           "BA"
          ],
          [
           "Industrial Goods",
           "BA"
          ],
          [
           "Industrial Goods",
           "BA"
          ],
          [
           "Industrial Goods",
           "BA"
          ],
          [
           "Industrial Goods",
           "BA"
          ],
          [
           "Industrial Goods",
           "BA"
          ],
          [
           "Industrial Goods",
           "BA"
          ],
          [
           "Industrial Goods",
           "BA"
          ],
          [
           "Industrial Goods",
           "BA"
          ],
          [
           "Industrial Goods",
           "BA"
          ],
          [
           "Industrial Goods",
           "BA"
          ],
          [
           "Industrial Goods",
           "BA"
          ],
          [
           "Industrial Goods",
           "BA"
          ],
          [
           "Industrial Goods",
           "BA"
          ],
          [
           "Industrial Goods",
           "BA"
          ],
          [
           "Industrial Goods",
           "BA"
          ],
          [
           "Industrial Goods",
           "BA"
          ],
          [
           "Industrial Goods",
           "BA"
          ],
          [
           "Industrial Goods",
           "BA"
          ],
          [
           "Industrial Goods",
           "BA"
          ],
          [
           "Industrial Goods",
           "BA"
          ],
          [
           "Industrial Goods",
           "BA"
          ],
          [
           "Industrial Goods",
           "BA"
          ],
          [
           "Industrial Goods",
           "BA"
          ],
          [
           "Industrial Goods",
           "BA"
          ],
          [
           "Industrial Goods",
           "BA"
          ],
          [
           "Industrial Goods",
           "BA"
          ],
          [
           "Industrial Goods",
           "BA"
          ],
          [
           "Industrial Goods",
           "BA"
          ],
          [
           "Industrial Goods",
           "BA"
          ],
          [
           "Industrial Goods",
           "BA"
          ],
          [
           "Industrial Goods",
           "BA"
          ],
          [
           "Industrial Goods",
           "BA"
          ],
          [
           "Industrial Goods",
           "BA"
          ],
          [
           "Industrial Goods",
           "BA"
          ],
          [
           "Industrial Goods",
           "BA"
          ],
          [
           "Industrial Goods",
           "BA"
          ],
          [
           "Industrial Goods",
           "BA"
          ],
          [
           "Industrial Goods",
           "BA"
          ],
          [
           "Industrial Goods",
           "BA"
          ],
          [
           "Industrial Goods",
           "BA"
          ],
          [
           "Industrial Goods",
           "BA"
          ],
          [
           "Industrial Goods",
           "BA"
          ],
          [
           "Industrial Goods",
           "BA"
          ],
          [
           "Industrial Goods",
           "BA"
          ],
          [
           "Industrial Goods",
           "BA"
          ],
          [
           "Industrial Goods",
           "BA"
          ],
          [
           "Industrial Goods",
           "BA"
          ],
          [
           "Industrial Goods",
           "BA"
          ],
          [
           "Industrial Goods",
           "BA"
          ],
          [
           "Industrial Goods",
           "BA"
          ],
          [
           "Industrial Goods",
           "BA"
          ],
          [
           "Industrial Goods",
           "BA"
          ],
          [
           "Industrial Goods",
           "BA"
          ],
          [
           "Industrial Goods",
           "BA"
          ],
          [
           "Industrial Goods",
           "BA"
          ],
          [
           "Industrial Goods",
           "BA"
          ],
          [
           "Industrial Goods",
           "BA"
          ],
          [
           "Industrial Goods",
           "BA"
          ],
          [
           "Industrial Goods",
           "BA"
          ],
          [
           "Industrial Goods",
           "BA"
          ],
          [
           "Industrial Goods",
           "BA"
          ],
          [
           "Industrial Goods",
           "BA"
          ],
          [
           "Industrial Goods",
           "BA"
          ],
          [
           "Industrial Goods",
           "BA"
          ],
          [
           "Industrial Goods",
           "BA"
          ],
          [
           "Industrial Goods",
           "BA"
          ],
          [
           "Industrial Goods",
           "BA"
          ],
          [
           "Industrial Goods",
           "BA"
          ],
          [
           "Industrial Goods",
           "BA"
          ],
          [
           "Industrial Goods",
           "BA"
          ],
          [
           "Industrial Goods",
           "BA"
          ],
          [
           "Industrial Goods",
           "BA"
          ],
          [
           "Industrial Goods",
           "BA"
          ],
          [
           "Industrial Goods",
           "BA"
          ],
          [
           "Industrial Goods",
           "BA"
          ],
          [
           "Industrial Goods",
           "BA"
          ],
          [
           "Industrial Goods",
           "BA"
          ],
          [
           "Industrial Goods",
           "BA"
          ],
          [
           "Industrial Goods",
           "BA"
          ],
          [
           "Industrial Goods",
           "BA"
          ],
          [
           "Industrial Goods",
           "BA"
          ],
          [
           "Industrial Goods",
           "BA"
          ],
          [
           "Industrial Goods",
           "BA"
          ],
          [
           "Industrial Goods",
           "BA"
          ],
          [
           "Industrial Goods",
           "BA"
          ],
          [
           "Industrial Goods",
           "BA"
          ],
          [
           "Industrial Goods",
           "BA"
          ],
          [
           "Industrial Goods",
           "BA"
          ],
          [
           "Industrial Goods",
           "BA"
          ],
          [
           "Industrial Goods",
           "BA"
          ],
          [
           "Industrial Goods",
           "BA"
          ],
          [
           "Industrial Goods",
           "BA"
          ],
          [
           "Industrial Goods",
           "BA"
          ],
          [
           "Industrial Goods",
           "BA"
          ],
          [
           "Industrial Goods",
           "BA"
          ],
          [
           "Industrial Goods",
           "BA"
          ],
          [
           "Industrial Goods",
           "BA"
          ],
          [
           "Industrial Goods",
           "BA"
          ],
          [
           "Industrial Goods",
           "BA"
          ],
          [
           "Industrial Goods",
           "BA"
          ],
          [
           "Industrial Goods",
           "BA"
          ],
          [
           "Industrial Goods",
           "BA"
          ],
          [
           "Industrial Goods",
           "BA"
          ]
         ],
         "hoverlabel": {
          "namelength": 0
         },
         "hovertemplate": "sector=%{customdata[0]}<br>x=%{x}<br>y=%{y}<br>symb=%{customdata[1]}",
         "legendgroup": "Industrial Goods",
         "marker": {
          "color": "#FF97FF",
          "symbol": "circle"
         },
         "mode": "markers",
         "name": "Industrial Goods",
         "showlegend": true,
         "type": "scattergl",
         "x": [
          8.82516860961914,
          46.30354690551758,
          -28.564172744750977,
          28.305274963378906,
          -7.191682815551758,
          -27.918441772460938,
          -7.405189514160156,
          -25.486909866333008,
          13.052912712097168,
          36.80491256713867,
          25.003997802734375,
          17.265491485595703,
          -14.663076400756836,
          -31.8996524810791,
          8.052159309387207,
          48.13264083862305,
          42.85868835449219,
          20.44535255432129,
          45.609004974365234,
          3.3699986934661865,
          -52.76652908325195,
          13.968927383422852,
          -34.28632354736328,
          -34.191829681396484,
          17.927553176879883,
          -34.28630828857422,
          10.412002563476562,
          -25.166776657104492,
          15.217534065246582,
          13.980648040771484,
          10.092227935791016,
          19.040163040161133,
          24.096336364746094,
          -34.294429779052734,
          16.225019454956055,
          17.276382446289062,
          -31.88848114013672,
          32.71405029296875,
          15.719158172607422,
          14.34744644165039,
          -12.861907005310059,
          -50.42584228515625,
          -52.20214080810547,
          -3.9574313163757324,
          53.622703552246094,
          -41.88987731933594,
          7.34425163269043,
          -22.113327026367188,
          -21.139266967773438,
          -23.3275203704834,
          7.714441299438477,
          4.4088263511657715,
          -33.918556213378906,
          -7.214919090270996,
          -3.657921314239502,
          22.13351058959961,
          -26.154897689819336,
          -12.78281307220459,
          0.5690773129463196,
          14.63446044921875,
          -50.390323638916016,
          15.592791557312012,
          -6.445869445800781,
          -50.070030212402344,
          3.99251389503479,
          47.4891242980957,
          -51.914527893066406,
          -56.15632629394531,
          11.870545387268066,
          17.416141510009766,
          14.767815589904785,
          16.56231689453125,
          -51.77170944213867,
          12.1452054977417,
          -32.99224853515625,
          16.755197525024414,
          17.457260131835938,
          -25.27920913696289,
          29.504653930664062,
          -8.158788681030273,
          9.075334548950195,
          20.129859924316406,
          -14.243773460388184,
          -50.65602111816406,
          48.462852478027344,
          14.655800819396973,
          -53.04640579223633,
          15.03414249420166,
          -31.88091278076172,
          -52.28548812866211,
          41.13654708862305,
          12.60969066619873,
          15.350113868713379,
          13.437668800354004,
          21.107608795166016,
          45.59202194213867,
          5.824951648712158,
          45.183380126953125,
          22.403095245361328,
          -50.868499755859375,
          19.1131591796875,
          -59.28300476074219,
          52.89164352416992,
          -40.01226806640625,
          10.601202011108398,
          -43.60405731201172,
          53.82978439331055,
          -43.745513916015625,
          -44.8643798828125,
          51.76008987426758,
          -44.11521530151367,
          52.07759094238281,
          10.697822570800781,
          18.912633895874023,
          -53.803932189941406,
          17.7462100982666,
          17.585603713989258,
          13.169516563415527,
          -44.389259338378906,
          -34.208797454833984,
          -41.1685676574707,
          5.269178867340088,
          49.003692626953125,
          -49.517940521240234,
          -58.7156867980957,
          8.857142448425293,
          -52.916934967041016,
          -22.50563621520996,
          -55.7791748046875,
          -49.512420654296875,
          -53.406883239746094,
          21.74188804626465,
          30.00799560546875,
          27.36000633239746,
          -54.089725494384766,
          -56.460933685302734,
          21.788379669189453,
          -56.90903091430664,
          -37.82706069946289,
          -45.153018951416016,
          3.265219211578369,
          11.988821029663086,
          21.765634536743164,
          26.914966583251953,
          43.13102340698242,
          5.017028331756592,
          -50.412967681884766,
          42.97536849975586,
          11.587186813354492,
          -52.49489974975586,
          19.060832977294922,
          1.0698270797729492,
          -50.74181365966797,
          11.784695625305176,
          -57.286746978759766,
          14.156147956848145,
          18.84714698791504,
          -39.994197845458984,
          -56.15947341918945,
          47.605899810791016,
          0.5195621252059937,
          49.60403823852539,
          -52.85785675048828,
          14.522290229797363,
          47.32205581665039,
          3.8861873149871826,
          -56.404666900634766,
          12.706829071044922,
          22.108800888061523,
          -24.53753089904785,
          22.512516021728516,
          22.8327693939209,
          32.37550354003906,
          -46.77863693237305,
          4.455291271209717,
          -4.215102195739746,
          47.70735549926758,
          21.867393493652344,
          -43.06925964355469,
          11.150283813476562,
          -56.05024719238281,
          21.694963455200195,
          -41.05391311645508,
          21.27315902709961,
          2.3719379901885986,
          -56.37343215942383,
          16.468456268310547,
          46.90474319458008,
          -43.159488677978516,
          -51.866432189941406,
          2.199215888977051
         ],
         "xaxis": "x",
         "y": [
          -5.439014911651611,
          -5.805343151092529,
          -16.728008270263672,
          30.7066650390625,
          24.61901092529297,
          24.224571228027344,
          25.08664894104004,
          25.03875160217285,
          -13.674421310424805,
          -20.544530868530273,
          -31.815568923950195,
          -12.829774856567383,
          -21.709487915039062,
          -22.542804718017578,
          32.49611282348633,
          -6.597750186920166,
          -6.575493335723877,
          41.96745681762695,
          -17.763647079467773,
          -13.066713333129883,
          -16.234994888305664,
          27.685274124145508,
          44.77867126464844,
          -18.72471046447754,
          18.527217864990234,
          44.766117095947266,
          32.417030334472656,
          -4.841805458068848,
          23.338577270507812,
          23.668376922607422,
          -74.55753326416016,
          -17.85455894470215,
          -10.990854263305664,
          44.77389144897461,
          23.141592025756836,
          18.7991943359375,
          -22.559965133666992,
          -34.61746597290039,
          -69.57430267333984,
          28.964914321899414,
          4.307641983032227,
          -12.39294719696045,
          19.955907821655273,
          7.454057693481445,
          4.1194987297058105,
          29.90998649597168,
          -27.394670486450195,
          38.55965805053711,
          44.39689636230469,
          38.30634307861328,
          -3.049001932144165,
          -13.955901145935059,
          16.643810272216797,
          1.1276865005493164,
          6.609853744506836,
          21.749265670776367,
          -15.269604682922363,
          -28.95099449157715,
          43.73234176635742,
          20.09541893005371,
          -17.72019386291504,
          23.023712158203125,
          1.0327876806259155,
          -18.77545738220215,
          -0.4430961012840271,
          -8.505358695983887,
          -14.8878812789917,
          16.009660720825195,
          32.4901237487793,
          24.805681228637695,
          20.853404998779297,
          22.392026901245117,
          -16.768861770629883,
          31.097314834594727,
          17.329111099243164,
          22.35348129272461,
          23.676666259765625,
          -5.3500075340271,
          -3.2346436977386475,
          -28.22406578063965,
          -7.6628828048706055,
          -15.705528259277344,
          -44.70829391479492,
          -5.545541763305664,
          -5.200557231903076,
          22.898717880249023,
          -7.538201808929443,
          26.392972946166992,
          -22.54438018798828,
          -8.00777816772461,
          -17.50908660888672,
          29.996875762939453,
          21.587690353393555,
          20.427066802978516,
          13.37252426147461,
          -8.95248794555664,
          -26.44133758544922,
          -8.986835479736328,
          21.090211868286133,
          -4.1127448081970215,
          15.616048812866211,
          -11.744933128356934,
          -6.394093036651611,
          -18.80177879333496,
          31.200468063354492,
          -23.732784271240234,
          -6.106953144073486,
          -24.72913932800293,
          -24.431081771850586,
          -7.399466037750244,
          -24.343944549560547,
          -6.894169807434082,
          32.005027770996094,
          19.035356521606445,
          -5.506951332092285,
          18.907297134399414,
          19.59976577758789,
          -13.829849243164062,
          -13.631092071533203,
          14.382997512817383,
          29.394901275634766,
          -13.199946403503418,
          -7.43267822265625,
          -7.3537821769714355,
          -14.50106430053711,
          -33.677513122558594,
          -9.322013854980469,
          -18.426925659179688,
          13.687344551086426,
          -5.373710632324219,
          -8.979714393615723,
          22.04924201965332,
          -3.511218309402466,
          -30.27663230895996,
          -8.799376487731934,
          16.370098114013672,
          19.82244110107422,
          16.389724731445312,
          -16.7928466796875,
          -2.4473423957824707,
          -13.075366020202637,
          33.64585876464844,
          20.053186416625977,
          31.241703033447266,
          -6.625032901763916,
          -27.493995666503906,
          -5.456796169281006,
          -6.567444324493408,
          49.7360725402832,
          -7.5766777992248535,
          15.719353675842285,
          -15.674469947814941,
          -4.916745185852051,
          32.26870346069336,
          18.206106185913086,
          27.66643714904785,
          14.776707649230957,
          -19.210315704345703,
          18.340410232543945,
          -27.464418411254883,
          45.65955352783203,
          -6.304229736328125,
          -8.037646293640137,
          25.46561622619629,
          -9.17233943939209,
          25.94488525390625,
          16.504167556762695,
          20.346513748168945,
          21.703996658325195,
          -14.85201358795166,
          -4.146485805511475,
          -2.888076066970825,
          -30.543121337890625,
          -9.064397811889648,
          -13.81902027130127,
          -12.920244216918945,
          -7.955916404724121,
          15.9171142578125,
          -11.15320110321045,
          31.223386764526367,
          18.778892517089844,
          15.243668556213379,
          -19.56284523010254,
          15.524481773376465,
          -16.936466217041016,
          15.546727180480957,
          28.80799102783203,
          -7.633265495300293,
          2.821052074432373,
          -6.959765434265137,
          -16.996904373168945
         ],
         "yaxis": "y"
        },
        {
         "customdata": [
          [
           "Health Care/Life Sciences",
           "NNVC"
          ],
          [
           "Health Care/Life Sciences",
           "NNVC"
          ],
          [
           "Health Care/Life Sciences",
           "NNVC"
          ],
          [
           "Health Care/Life Sciences",
           "NNVC"
          ],
          [
           "Health Care/Life Sciences",
           "NNVC"
          ],
          [
           "Health Care/Life Sciences",
           "NNVC"
          ],
          [
           "Health Care/Life Sciences",
           "OPK"
          ],
          [
           "Health Care/Life Sciences",
           "OPK"
          ],
          [
           "Health Care/Life Sciences",
           "OPK"
          ],
          [
           "Health Care/Life Sciences",
           "OPK"
          ],
          [
           "Health Care/Life Sciences",
           "OPK"
          ],
          [
           "Health Care/Life Sciences",
           "CANF"
          ],
          [
           "Health Care/Life Sciences",
           "CANF"
          ],
          [
           "Health Care/Life Sciences",
           "CANF"
          ],
          [
           "Health Care/Life Sciences",
           "BNGO"
          ],
          [
           "Health Care/Life Sciences",
           "BNGO"
          ],
          [
           "Health Care/Life Sciences",
           "GILD"
          ],
          [
           "Health Care/Life Sciences",
           "GILD"
          ],
          [
           "Health Care/Life Sciences",
           "GILD"
          ],
          [
           "Health Care/Life Sciences",
           "SGRY"
          ],
          [
           "Health Care/Life Sciences",
           "IGMS"
          ],
          [
           "Health Care/Life Sciences",
           "IGMS"
          ],
          [
           "Health Care/Life Sciences",
           "INO"
          ],
          [
           "Health Care/Life Sciences",
           "INO"
          ],
          [
           "Health Care/Life Sciences",
           "ONEM"
          ],
          [
           "Health Care/Life Sciences",
           "ONEM"
          ],
          [
           "Health Care/Life Sciences",
           "ONEM"
          ],
          [
           "Health Care/Life Sciences",
           "ONEM"
          ],
          [
           "Health Care/Life Sciences",
           "ONEM"
          ],
          [
           "Health Care/Life Sciences",
           "CODX"
          ],
          [
           "Health Care/Life Sciences",
           "CODX"
          ],
          [
           "Health Care/Life Sciences",
           "CODX"
          ],
          [
           "Health Care/Life Sciences",
           "CODX"
          ],
          [
           "Health Care/Life Sciences",
           "NVAX"
          ],
          [
           "Health Care/Life Sciences",
           "NVAX"
          ],
          [
           "Health Care/Life Sciences",
           "NVAX"
          ],
          [
           "Health Care/Life Sciences",
           "ALXN"
          ],
          [
           "Health Care/Life Sciences",
           "ALXN"
          ],
          [
           "Health Care/Life Sciences",
           "ALXN"
          ],
          [
           "Health Care/Life Sciences",
           "ALXN"
          ],
          [
           "Health Care/Life Sciences",
           "ALXN"
          ],
          [
           "Health Care/Life Sciences",
           "BIIB"
          ],
          [
           "Health Care/Life Sciences",
           "BIIB"
          ],
          [
           "Health Care/Life Sciences",
           "BIIB"
          ],
          [
           "Health Care/Life Sciences",
           "BIIB"
          ],
          [
           "Health Care/Life Sciences",
           "BIIB"
          ],
          [
           "Health Care/Life Sciences",
           "PFE"
          ],
          [
           "Health Care/Life Sciences",
           "PFE"
          ],
          [
           "Health Care/Life Sciences",
           "PFE"
          ],
          [
           "Health Care/Life Sciences",
           "PFE"
          ],
          [
           "Health Care/Life Sciences",
           "PFE"
          ],
          [
           "Health Care/Life Sciences",
           "PFE"
          ],
          [
           "Health Care/Life Sciences",
           "PFE"
          ],
          [
           "Health Care/Life Sciences",
           "PFE"
          ],
          [
           "Health Care/Life Sciences",
           "PFE"
          ],
          [
           "Health Care/Life Sciences",
           "PFE"
          ],
          [
           "Health Care/Life Sciences",
           "PFE"
          ],
          [
           "Health Care/Life Sciences",
           "PFE"
          ],
          [
           "Health Care/Life Sciences",
           "PFE"
          ],
          [
           "Health Care/Life Sciences",
           "PFE"
          ],
          [
           "Health Care/Life Sciences",
           "PFE"
          ],
          [
           "Health Care/Life Sciences",
           "PFE"
          ],
          [
           "Health Care/Life Sciences",
           "PFE"
          ],
          [
           "Health Care/Life Sciences",
           "PFE"
          ],
          [
           "Health Care/Life Sciences",
           "PFE"
          ],
          [
           "Health Care/Life Sciences",
           "PFE"
          ],
          [
           "Health Care/Life Sciences",
           "PFE"
          ],
          [
           "Health Care/Life Sciences",
           "PFE"
          ],
          [
           "Health Care/Life Sciences",
           "PFE"
          ],
          [
           "Health Care/Life Sciences",
           "PFE"
          ],
          [
           "Health Care/Life Sciences",
           "PFE"
          ],
          [
           "Health Care/Life Sciences",
           "PFE"
          ],
          [
           "Health Care/Life Sciences",
           "PFE"
          ],
          [
           "Health Care/Life Sciences",
           "PFE"
          ],
          [
           "Health Care/Life Sciences",
           "PFE"
          ],
          [
           "Health Care/Life Sciences",
           "PFE"
          ],
          [
           "Health Care/Life Sciences",
           "PFE"
          ],
          [
           "Health Care/Life Sciences",
           "PFE"
          ],
          [
           "Health Care/Life Sciences",
           "PFE"
          ],
          [
           "Health Care/Life Sciences",
           "PFE"
          ],
          [
           "Health Care/Life Sciences",
           "PFE"
          ],
          [
           "Health Care/Life Sciences",
           "PFE"
          ],
          [
           "Health Care/Life Sciences",
           "PFE"
          ],
          [
           "Health Care/Life Sciences",
           "PFE"
          ],
          [
           "Health Care/Life Sciences",
           "PFE"
          ],
          [
           "Health Care/Life Sciences",
           "PFE"
          ],
          [
           "Health Care/Life Sciences",
           "PFE"
          ],
          [
           "Health Care/Life Sciences",
           "PFE"
          ],
          [
           "Health Care/Life Sciences",
           "PFE"
          ],
          [
           "Health Care/Life Sciences",
           "PFE"
          ],
          [
           "Health Care/Life Sciences",
           "PFE"
          ],
          [
           "Health Care/Life Sciences",
           "PFE"
          ],
          [
           "Health Care/Life Sciences",
           "PFE"
          ],
          [
           "Health Care/Life Sciences",
           "PFE"
          ],
          [
           "Health Care/Life Sciences",
           "PFE"
          ],
          [
           "Health Care/Life Sciences",
           "PFE"
          ],
          [
           "Health Care/Life Sciences",
           "PFE"
          ],
          [
           "Health Care/Life Sciences",
           "PFE"
          ],
          [
           "Health Care/Life Sciences",
           "PFE"
          ],
          [
           "Health Care/Life Sciences",
           "PFE"
          ],
          [
           "Health Care/Life Sciences",
           "PFE"
          ],
          [
           "Health Care/Life Sciences",
           "PFE"
          ],
          [
           "Health Care/Life Sciences",
           "PFE"
          ],
          [
           "Health Care/Life Sciences",
           "PFE"
          ],
          [
           "Health Care/Life Sciences",
           "PFE"
          ],
          [
           "Health Care/Life Sciences",
           "PFE"
          ],
          [
           "Health Care/Life Sciences",
           "PFE"
          ],
          [
           "Health Care/Life Sciences",
           "PFE"
          ],
          [
           "Health Care/Life Sciences",
           "PFE"
          ],
          [
           "Health Care/Life Sciences",
           "PFE"
          ],
          [
           "Health Care/Life Sciences",
           "PFE"
          ],
          [
           "Health Care/Life Sciences",
           "PFE"
          ],
          [
           "Health Care/Life Sciences",
           "PFE"
          ],
          [
           "Health Care/Life Sciences",
           "PFE"
          ],
          [
           "Health Care/Life Sciences",
           "PFE"
          ],
          [
           "Health Care/Life Sciences",
           "PFE"
          ],
          [
           "Health Care/Life Sciences",
           "PFE"
          ],
          [
           "Health Care/Life Sciences",
           "PFE"
          ],
          [
           "Health Care/Life Sciences",
           "PFE"
          ],
          [
           "Health Care/Life Sciences",
           "PFE"
          ],
          [
           "Health Care/Life Sciences",
           "PFE"
          ],
          [
           "Health Care/Life Sciences",
           "PFE"
          ],
          [
           "Health Care/Life Sciences",
           "PFE"
          ],
          [
           "Health Care/Life Sciences",
           "PFE"
          ],
          [
           "Health Care/Life Sciences",
           "PFE"
          ],
          [
           "Health Care/Life Sciences",
           "PFE"
          ],
          [
           "Health Care/Life Sciences",
           "PFE"
          ],
          [
           "Health Care/Life Sciences",
           "PFE"
          ],
          [
           "Health Care/Life Sciences",
           "PFE"
          ],
          [
           "Health Care/Life Sciences",
           "PFE"
          ],
          [
           "Health Care/Life Sciences",
           "PFE"
          ],
          [
           "Health Care/Life Sciences",
           "PFE"
          ],
          [
           "Health Care/Life Sciences",
           "PFE"
          ],
          [
           "Health Care/Life Sciences",
           "PFE"
          ],
          [
           "Health Care/Life Sciences",
           "PFE"
          ],
          [
           "Health Care/Life Sciences",
           "PFE"
          ],
          [
           "Health Care/Life Sciences",
           "PFE"
          ],
          [
           "Health Care/Life Sciences",
           "PFE"
          ],
          [
           "Health Care/Life Sciences",
           "PFE"
          ],
          [
           "Health Care/Life Sciences",
           "PFE"
          ],
          [
           "Health Care/Life Sciences",
           "PFE"
          ],
          [
           "Health Care/Life Sciences",
           "PFE"
          ],
          [
           "Health Care/Life Sciences",
           "PFE"
          ],
          [
           "Health Care/Life Sciences",
           "PFE"
          ],
          [
           "Health Care/Life Sciences",
           "PFE"
          ],
          [
           "Health Care/Life Sciences",
           "PFE"
          ],
          [
           "Health Care/Life Sciences",
           "PFE"
          ],
          [
           "Health Care/Life Sciences",
           "PFE"
          ],
          [
           "Health Care/Life Sciences",
           "PFE"
          ],
          [
           "Health Care/Life Sciences",
           "PFE"
          ],
          [
           "Health Care/Life Sciences",
           "PFE"
          ],
          [
           "Health Care/Life Sciences",
           "PFE"
          ],
          [
           "Health Care/Life Sciences",
           "PFE"
          ],
          [
           "Health Care/Life Sciences",
           "PFE"
          ],
          [
           "Health Care/Life Sciences",
           "PFE"
          ],
          [
           "Health Care/Life Sciences",
           "PFE"
          ],
          [
           "Health Care/Life Sciences",
           "PFE"
          ],
          [
           "Health Care/Life Sciences",
           "PFE"
          ],
          [
           "Health Care/Life Sciences",
           "PFE"
          ],
          [
           "Health Care/Life Sciences",
           "PFE"
          ],
          [
           "Health Care/Life Sciences",
           "PFE"
          ],
          [
           "Health Care/Life Sciences",
           "PFE"
          ],
          [
           "Health Care/Life Sciences",
           "PFE"
          ],
          [
           "Health Care/Life Sciences",
           "PFE"
          ],
          [
           "Health Care/Life Sciences",
           "PFE"
          ],
          [
           "Health Care/Life Sciences",
           "PFE"
          ],
          [
           "Health Care/Life Sciences",
           "PFE"
          ],
          [
           "Health Care/Life Sciences",
           "PFE"
          ],
          [
           "Health Care/Life Sciences",
           "PFE"
          ],
          [
           "Health Care/Life Sciences",
           "PFE"
          ],
          [
           "Health Care/Life Sciences",
           "PFE"
          ],
          [
           "Health Care/Life Sciences",
           "PFE"
          ],
          [
           "Health Care/Life Sciences",
           "PFE"
          ],
          [
           "Health Care/Life Sciences",
           "PFE"
          ],
          [
           "Health Care/Life Sciences",
           "PFE"
          ],
          [
           "Health Care/Life Sciences",
           "PFE"
          ],
          [
           "Health Care/Life Sciences",
           "PFE"
          ],
          [
           "Health Care/Life Sciences",
           "PFE"
          ],
          [
           "Health Care/Life Sciences",
           "PFE"
          ],
          [
           "Health Care/Life Sciences",
           "PFE"
          ],
          [
           "Health Care/Life Sciences",
           "PFE"
          ],
          [
           "Health Care/Life Sciences",
           "PFE"
          ],
          [
           "Health Care/Life Sciences",
           "PFE"
          ],
          [
           "Health Care/Life Sciences",
           "PFE"
          ],
          [
           "Health Care/Life Sciences",
           "PFE"
          ],
          [
           "Health Care/Life Sciences",
           "PFE"
          ],
          [
           "Health Care/Life Sciences",
           "PFE"
          ],
          [
           "Health Care/Life Sciences",
           "PFE"
          ],
          [
           "Health Care/Life Sciences",
           "PFE"
          ],
          [
           "Health Care/Life Sciences",
           "PFE"
          ],
          [
           "Health Care/Life Sciences",
           "PFE"
          ],
          [
           "Health Care/Life Sciences",
           "PFE"
          ],
          [
           "Health Care/Life Sciences",
           "PFE"
          ],
          [
           "Health Care/Life Sciences",
           "PFE"
          ],
          [
           "Health Care/Life Sciences",
           "PFE"
          ],
          [
           "Health Care/Life Sciences",
           "PFE"
          ],
          [
           "Health Care/Life Sciences",
           "PFE"
          ],
          [
           "Health Care/Life Sciences",
           "PFE"
          ],
          [
           "Health Care/Life Sciences",
           "PFE"
          ],
          [
           "Health Care/Life Sciences",
           "PFE"
          ],
          [
           "Health Care/Life Sciences",
           "PFE"
          ],
          [
           "Health Care/Life Sciences",
           "PFE"
          ],
          [
           "Health Care/Life Sciences",
           "PFE"
          ],
          [
           "Health Care/Life Sciences",
           "PFE"
          ],
          [
           "Health Care/Life Sciences",
           "PFE"
          ],
          [
           "Health Care/Life Sciences",
           "PFE"
          ],
          [
           "Health Care/Life Sciences",
           "PFE"
          ],
          [
           "Health Care/Life Sciences",
           "PFE"
          ],
          [
           "Health Care/Life Sciences",
           "PFE"
          ],
          [
           "Health Care/Life Sciences",
           "PFE"
          ],
          [
           "Health Care/Life Sciences",
           "PFE"
          ],
          [
           "Health Care/Life Sciences",
           "PFE"
          ],
          [
           "Health Care/Life Sciences",
           "PFE"
          ],
          [
           "Health Care/Life Sciences",
           "PFE"
          ],
          [
           "Health Care/Life Sciences",
           "PFE"
          ],
          [
           "Health Care/Life Sciences",
           "PFE"
          ],
          [
           "Health Care/Life Sciences",
           "PFE"
          ],
          [
           "Health Care/Life Sciences",
           "PFE"
          ],
          [
           "Health Care/Life Sciences",
           "PFE"
          ],
          [
           "Health Care/Life Sciences",
           "PFE"
          ],
          [
           "Health Care/Life Sciences",
           "PFE"
          ],
          [
           "Health Care/Life Sciences",
           "PFE"
          ],
          [
           "Health Care/Life Sciences",
           "PFE"
          ],
          [
           "Health Care/Life Sciences",
           "PFE"
          ],
          [
           "Health Care/Life Sciences",
           "PFE"
          ],
          [
           "Health Care/Life Sciences",
           "PFE"
          ],
          [
           "Health Care/Life Sciences",
           "PFE"
          ],
          [
           "Health Care/Life Sciences",
           "PFE"
          ],
          [
           "Health Care/Life Sciences",
           "PFE"
          ],
          [
           "Health Care/Life Sciences",
           "PFE"
          ],
          [
           "Health Care/Life Sciences",
           "PFE"
          ],
          [
           "Health Care/Life Sciences",
           "PFE"
          ],
          [
           "Health Care/Life Sciences",
           "PFE"
          ],
          [
           "Health Care/Life Sciences",
           "PFE"
          ],
          [
           "Health Care/Life Sciences",
           "PFE"
          ],
          [
           "Health Care/Life Sciences",
           "PFE"
          ],
          [
           "Health Care/Life Sciences",
           "PFE"
          ],
          [
           "Health Care/Life Sciences",
           "PFE"
          ],
          [
           "Health Care/Life Sciences",
           "PFE"
          ],
          [
           "Health Care/Life Sciences",
           "PFE"
          ],
          [
           "Health Care/Life Sciences",
           "PFE"
          ],
          [
           "Health Care/Life Sciences",
           "PFE"
          ],
          [
           "Health Care/Life Sciences",
           "PFE"
          ],
          [
           "Health Care/Life Sciences",
           "PFE"
          ],
          [
           "Health Care/Life Sciences",
           "PFE"
          ],
          [
           "Health Care/Life Sciences",
           "PFE"
          ],
          [
           "Health Care/Life Sciences",
           "PFE"
          ],
          [
           "Health Care/Life Sciences",
           "PFE"
          ],
          [
           "Health Care/Life Sciences",
           "PFE"
          ],
          [
           "Health Care/Life Sciences",
           "PFE"
          ],
          [
           "Health Care/Life Sciences",
           "PFE"
          ],
          [
           "Health Care/Life Sciences",
           "PFE"
          ],
          [
           "Health Care/Life Sciences",
           "PFE"
          ],
          [
           "Health Care/Life Sciences",
           "PFE"
          ],
          [
           "Health Care/Life Sciences",
           "PFE"
          ],
          [
           "Health Care/Life Sciences",
           "PFE"
          ],
          [
           "Health Care/Life Sciences",
           "PFE"
          ],
          [
           "Health Care/Life Sciences",
           "PFE"
          ],
          [
           "Health Care/Life Sciences",
           "PFE"
          ],
          [
           "Health Care/Life Sciences",
           "PFE"
          ],
          [
           "Health Care/Life Sciences",
           "PFE"
          ],
          [
           "Health Care/Life Sciences",
           "PFE"
          ],
          [
           "Health Care/Life Sciences",
           "PFE"
          ],
          [
           "Health Care/Life Sciences",
           "PFE"
          ],
          [
           "Health Care/Life Sciences",
           "PFE"
          ],
          [
           "Health Care/Life Sciences",
           "PFE"
          ],
          [
           "Health Care/Life Sciences",
           "PFE"
          ],
          [
           "Health Care/Life Sciences",
           "PFE"
          ],
          [
           "Health Care/Life Sciences",
           "PFE"
          ],
          [
           "Health Care/Life Sciences",
           "PFE"
          ],
          [
           "Health Care/Life Sciences",
           "PFE"
          ],
          [
           "Health Care/Life Sciences",
           "PFE"
          ],
          [
           "Health Care/Life Sciences",
           "PFE"
          ],
          [
           "Health Care/Life Sciences",
           "PFE"
          ],
          [
           "Health Care/Life Sciences",
           "PFE"
          ],
          [
           "Health Care/Life Sciences",
           "PFE"
          ],
          [
           "Health Care/Life Sciences",
           "PFE"
          ],
          [
           "Health Care/Life Sciences",
           "PFE"
          ],
          [
           "Health Care/Life Sciences",
           "PFE"
          ],
          [
           "Health Care/Life Sciences",
           "PFE"
          ],
          [
           "Health Care/Life Sciences",
           "PFE"
          ],
          [
           "Health Care/Life Sciences",
           "PFE"
          ],
          [
           "Health Care/Life Sciences",
           "PFE"
          ],
          [
           "Health Care/Life Sciences",
           "PFE"
          ],
          [
           "Health Care/Life Sciences",
           "PFE"
          ],
          [
           "Health Care/Life Sciences",
           "PFE"
          ],
          [
           "Health Care/Life Sciences",
           "PFE"
          ],
          [
           "Health Care/Life Sciences",
           "PFE"
          ],
          [
           "Health Care/Life Sciences",
           "PFE"
          ],
          [
           "Health Care/Life Sciences",
           "PFE"
          ],
          [
           "Health Care/Life Sciences",
           "PFE"
          ],
          [
           "Health Care/Life Sciences",
           "PFE"
          ],
          [
           "Health Care/Life Sciences",
           "PFE"
          ],
          [
           "Health Care/Life Sciences",
           "PFE"
          ],
          [
           "Health Care/Life Sciences",
           "PFE"
          ],
          [
           "Health Care/Life Sciences",
           "PFE"
          ],
          [
           "Health Care/Life Sciences",
           "PFE"
          ],
          [
           "Health Care/Life Sciences",
           "PFE"
          ],
          [
           "Health Care/Life Sciences",
           "PFE"
          ],
          [
           "Health Care/Life Sciences",
           "PFE"
          ],
          [
           "Health Care/Life Sciences",
           "PFE"
          ],
          [
           "Health Care/Life Sciences",
           "PFE"
          ],
          [
           "Health Care/Life Sciences",
           "PFE"
          ],
          [
           "Health Care/Life Sciences",
           "PFE"
          ],
          [
           "Health Care/Life Sciences",
           "PFE"
          ],
          [
           "Health Care/Life Sciences",
           "PFE"
          ],
          [
           "Health Care/Life Sciences",
           "PFE"
          ],
          [
           "Health Care/Life Sciences",
           "PFE"
          ],
          [
           "Health Care/Life Sciences",
           "PFE"
          ],
          [
           "Health Care/Life Sciences",
           "PFE"
          ],
          [
           "Health Care/Life Sciences",
           "PFE"
          ],
          [
           "Health Care/Life Sciences",
           "PFE"
          ],
          [
           "Health Care/Life Sciences",
           "PFE"
          ],
          [
           "Health Care/Life Sciences",
           "PFE"
          ],
          [
           "Health Care/Life Sciences",
           "PFE"
          ],
          [
           "Health Care/Life Sciences",
           "PFE"
          ],
          [
           "Health Care/Life Sciences",
           "PFE"
          ],
          [
           "Health Care/Life Sciences",
           "PFE"
          ],
          [
           "Health Care/Life Sciences",
           "PFE"
          ],
          [
           "Health Care/Life Sciences",
           "PFE"
          ],
          [
           "Health Care/Life Sciences",
           "PFE"
          ],
          [
           "Health Care/Life Sciences",
           "PFE"
          ],
          [
           "Health Care/Life Sciences",
           "PFE"
          ],
          [
           "Health Care/Life Sciences",
           "PFE"
          ],
          [
           "Health Care/Life Sciences",
           "PFE"
          ],
          [
           "Health Care/Life Sciences",
           "PFE"
          ],
          [
           "Health Care/Life Sciences",
           "PFE"
          ],
          [
           "Health Care/Life Sciences",
           "PFE"
          ],
          [
           "Health Care/Life Sciences",
           "PFE"
          ],
          [
           "Health Care/Life Sciences",
           "PFE"
          ],
          [
           "Health Care/Life Sciences",
           "PFE"
          ],
          [
           "Health Care/Life Sciences",
           "PFE"
          ],
          [
           "Health Care/Life Sciences",
           "PFE"
          ],
          [
           "Health Care/Life Sciences",
           "PFE"
          ],
          [
           "Health Care/Life Sciences",
           "PFE"
          ],
          [
           "Health Care/Life Sciences",
           "PFE"
          ],
          [
           "Health Care/Life Sciences",
           "PFE"
          ],
          [
           "Health Care/Life Sciences",
           "PFE"
          ],
          [
           "Health Care/Life Sciences",
           "PFE"
          ],
          [
           "Health Care/Life Sciences",
           "PFE"
          ],
          [
           "Health Care/Life Sciences",
           "PFE"
          ],
          [
           "Health Care/Life Sciences",
           "PFE"
          ],
          [
           "Health Care/Life Sciences",
           "PFE"
          ],
          [
           "Health Care/Life Sciences",
           "PFE"
          ],
          [
           "Health Care/Life Sciences",
           "PFE"
          ],
          [
           "Health Care/Life Sciences",
           "PFE"
          ],
          [
           "Health Care/Life Sciences",
           "PFE"
          ],
          [
           "Health Care/Life Sciences",
           "PFE"
          ],
          [
           "Health Care/Life Sciences",
           "PFE"
          ],
          [
           "Health Care/Life Sciences",
           "PFE"
          ],
          [
           "Health Care/Life Sciences",
           "PFE"
          ],
          [
           "Health Care/Life Sciences",
           "PFE"
          ],
          [
           "Health Care/Life Sciences",
           "PFE"
          ],
          [
           "Health Care/Life Sciences",
           "PFE"
          ],
          [
           "Health Care/Life Sciences",
           "PFE"
          ],
          [
           "Health Care/Life Sciences",
           "PFE"
          ],
          [
           "Health Care/Life Sciences",
           "PFE"
          ],
          [
           "Health Care/Life Sciences",
           "PFE"
          ],
          [
           "Health Care/Life Sciences",
           "PFE"
          ],
          [
           "Health Care/Life Sciences",
           "PFE"
          ],
          [
           "Health Care/Life Sciences",
           "PFE"
          ],
          [
           "Health Care/Life Sciences",
           "PFE"
          ],
          [
           "Health Care/Life Sciences",
           "PFE"
          ],
          [
           "Health Care/Life Sciences",
           "PFE"
          ],
          [
           "Health Care/Life Sciences",
           "PFE"
          ],
          [
           "Health Care/Life Sciences",
           "PFE"
          ],
          [
           "Health Care/Life Sciences",
           "PFE"
          ],
          [
           "Health Care/Life Sciences",
           "PFE"
          ],
          [
           "Health Care/Life Sciences",
           "PFE"
          ],
          [
           "Health Care/Life Sciences",
           "PFE"
          ],
          [
           "Health Care/Life Sciences",
           "PFE"
          ],
          [
           "Health Care/Life Sciences",
           "PFE"
          ],
          [
           "Health Care/Life Sciences",
           "PFE"
          ],
          [
           "Health Care/Life Sciences",
           "PFE"
          ],
          [
           "Health Care/Life Sciences",
           "PFE"
          ],
          [
           "Health Care/Life Sciences",
           "PFE"
          ],
          [
           "Health Care/Life Sciences",
           "PFE"
          ],
          [
           "Health Care/Life Sciences",
           "PFE"
          ],
          [
           "Health Care/Life Sciences",
           "PFE"
          ],
          [
           "Health Care/Life Sciences",
           "PFE"
          ],
          [
           "Health Care/Life Sciences",
           "PFE"
          ],
          [
           "Health Care/Life Sciences",
           "PFE"
          ],
          [
           "Health Care/Life Sciences",
           "PFE"
          ],
          [
           "Health Care/Life Sciences",
           "PFE"
          ],
          [
           "Health Care/Life Sciences",
           "PFE"
          ],
          [
           "Health Care/Life Sciences",
           "PFE"
          ],
          [
           "Health Care/Life Sciences",
           "PFE"
          ],
          [
           "Health Care/Life Sciences",
           "PFE"
          ],
          [
           "Health Care/Life Sciences",
           "PFE"
          ],
          [
           "Health Care/Life Sciences",
           "PFE"
          ],
          [
           "Health Care/Life Sciences",
           "PFE"
          ],
          [
           "Health Care/Life Sciences",
           "PFE"
          ],
          [
           "Health Care/Life Sciences",
           "PFE"
          ],
          [
           "Health Care/Life Sciences",
           "PFE"
          ],
          [
           "Health Care/Life Sciences",
           "PFE"
          ],
          [
           "Health Care/Life Sciences",
           "PFE"
          ],
          [
           "Health Care/Life Sciences",
           "PFE"
          ],
          [
           "Health Care/Life Sciences",
           "PFE"
          ],
          [
           "Health Care/Life Sciences",
           "PFE"
          ],
          [
           "Health Care/Life Sciences",
           "PFE"
          ],
          [
           "Health Care/Life Sciences",
           "PFE"
          ],
          [
           "Health Care/Life Sciences",
           "PFE"
          ],
          [
           "Health Care/Life Sciences",
           "PFE"
          ],
          [
           "Health Care/Life Sciences",
           "PFE"
          ],
          [
           "Health Care/Life Sciences",
           "PFE"
          ],
          [
           "Health Care/Life Sciences",
           "PFE"
          ],
          [
           "Health Care/Life Sciences",
           "PFE"
          ],
          [
           "Health Care/Life Sciences",
           "PFE"
          ],
          [
           "Health Care/Life Sciences",
           "PFE"
          ],
          [
           "Health Care/Life Sciences",
           "PFE"
          ],
          [
           "Health Care/Life Sciences",
           "PFE"
          ],
          [
           "Health Care/Life Sciences",
           "PFE"
          ],
          [
           "Health Care/Life Sciences",
           "PFE"
          ],
          [
           "Health Care/Life Sciences",
           "PFE"
          ],
          [
           "Health Care/Life Sciences",
           "PFE"
          ],
          [
           "Health Care/Life Sciences",
           "PFE"
          ],
          [
           "Health Care/Life Sciences",
           "PFE"
          ],
          [
           "Health Care/Life Sciences",
           "PFE"
          ],
          [
           "Health Care/Life Sciences",
           "PFE"
          ],
          [
           "Health Care/Life Sciences",
           "PFE"
          ],
          [
           "Health Care/Life Sciences",
           "PFE"
          ],
          [
           "Health Care/Life Sciences",
           "PFE"
          ],
          [
           "Health Care/Life Sciences",
           "PFE"
          ],
          [
           "Health Care/Life Sciences",
           "PFE"
          ],
          [
           "Health Care/Life Sciences",
           "PFE"
          ],
          [
           "Health Care/Life Sciences",
           "PFE"
          ],
          [
           "Health Care/Life Sciences",
           "PFE"
          ],
          [
           "Health Care/Life Sciences",
           "PFE"
          ],
          [
           "Health Care/Life Sciences",
           "PFE"
          ],
          [
           "Health Care/Life Sciences",
           "PFE"
          ],
          [
           "Health Care/Life Sciences",
           "PFE"
          ],
          [
           "Health Care/Life Sciences",
           "PFE"
          ],
          [
           "Health Care/Life Sciences",
           "PFE"
          ],
          [
           "Health Care/Life Sciences",
           "PFE"
          ],
          [
           "Health Care/Life Sciences",
           "PFE"
          ],
          [
           "Health Care/Life Sciences",
           "PFE"
          ],
          [
           "Health Care/Life Sciences",
           "PFE"
          ],
          [
           "Health Care/Life Sciences",
           "PFE"
          ],
          [
           "Health Care/Life Sciences",
           "PFE"
          ],
          [
           "Health Care/Life Sciences",
           "PFE"
          ],
          [
           "Health Care/Life Sciences",
           "PFE"
          ],
          [
           "Health Care/Life Sciences",
           "PFE"
          ],
          [
           "Health Care/Life Sciences",
           "PFE"
          ],
          [
           "Health Care/Life Sciences",
           "PFE"
          ],
          [
           "Health Care/Life Sciences",
           "PFE"
          ],
          [
           "Health Care/Life Sciences",
           "PFE"
          ],
          [
           "Health Care/Life Sciences",
           "PFE"
          ],
          [
           "Health Care/Life Sciences",
           "PFE"
          ],
          [
           "Health Care/Life Sciences",
           "PFE"
          ],
          [
           "Health Care/Life Sciences",
           "PFE"
          ],
          [
           "Health Care/Life Sciences",
           "PFE"
          ],
          [
           "Health Care/Life Sciences",
           "PFE"
          ],
          [
           "Health Care/Life Sciences",
           "PFE"
          ],
          [
           "Health Care/Life Sciences",
           "PFE"
          ],
          [
           "Health Care/Life Sciences",
           "PFE"
          ],
          [
           "Health Care/Life Sciences",
           "PFE"
          ],
          [
           "Health Care/Life Sciences",
           "PFE"
          ],
          [
           "Health Care/Life Sciences",
           "PFE"
          ],
          [
           "Health Care/Life Sciences",
           "PFE"
          ],
          [
           "Health Care/Life Sciences",
           "PFE"
          ],
          [
           "Health Care/Life Sciences",
           "PFE"
          ],
          [
           "Health Care/Life Sciences",
           "PFE"
          ],
          [
           "Health Care/Life Sciences",
           "PFE"
          ],
          [
           "Health Care/Life Sciences",
           "PFE"
          ],
          [
           "Health Care/Life Sciences",
           "PFE"
          ],
          [
           "Health Care/Life Sciences",
           "PFE"
          ],
          [
           "Health Care/Life Sciences",
           "PFE"
          ],
          [
           "Health Care/Life Sciences",
           "PFE"
          ],
          [
           "Health Care/Life Sciences",
           "PFE"
          ],
          [
           "Health Care/Life Sciences",
           "PFE"
          ],
          [
           "Health Care/Life Sciences",
           "PFE"
          ],
          [
           "Health Care/Life Sciences",
           "PFE"
          ],
          [
           "Health Care/Life Sciences",
           "PFE"
          ],
          [
           "Health Care/Life Sciences",
           "PFE"
          ],
          [
           "Health Care/Life Sciences",
           "PFE"
          ],
          [
           "Health Care/Life Sciences",
           "PFE"
          ],
          [
           "Health Care/Life Sciences",
           "PFE"
          ],
          [
           "Health Care/Life Sciences",
           "PFE"
          ],
          [
           "Health Care/Life Sciences",
           "PFE"
          ],
          [
           "Health Care/Life Sciences",
           "PFE"
          ],
          [
           "Health Care/Life Sciences",
           "PFE"
          ],
          [
           "Health Care/Life Sciences",
           "PFE"
          ],
          [
           "Health Care/Life Sciences",
           "PFE"
          ],
          [
           "Health Care/Life Sciences",
           "PFE"
          ],
          [
           "Health Care/Life Sciences",
           "PFE"
          ],
          [
           "Health Care/Life Sciences",
           "PFE"
          ],
          [
           "Health Care/Life Sciences",
           "PFE"
          ],
          [
           "Health Care/Life Sciences",
           "PFE"
          ],
          [
           "Health Care/Life Sciences",
           "PFE"
          ],
          [
           "Health Care/Life Sciences",
           "PFE"
          ],
          [
           "Health Care/Life Sciences",
           "PFE"
          ],
          [
           "Health Care/Life Sciences",
           "PFE"
          ],
          [
           "Health Care/Life Sciences",
           "PFE"
          ],
          [
           "Health Care/Life Sciences",
           "PFE"
          ],
          [
           "Health Care/Life Sciences",
           "PFE"
          ],
          [
           "Health Care/Life Sciences",
           "PFE"
          ],
          [
           "Health Care/Life Sciences",
           "PFE"
          ],
          [
           "Health Care/Life Sciences",
           "PFE"
          ],
          [
           "Health Care/Life Sciences",
           "PFE"
          ],
          [
           "Health Care/Life Sciences",
           "PFE"
          ],
          [
           "Health Care/Life Sciences",
           "PFE"
          ],
          [
           "Health Care/Life Sciences",
           "PFE"
          ],
          [
           "Health Care/Life Sciences",
           "PFE"
          ],
          [
           "Health Care/Life Sciences",
           "PFE"
          ],
          [
           "Health Care/Life Sciences",
           "PFE"
          ],
          [
           "Health Care/Life Sciences",
           "PFE"
          ],
          [
           "Health Care/Life Sciences",
           "PFE"
          ],
          [
           "Health Care/Life Sciences",
           "PFE"
          ],
          [
           "Health Care/Life Sciences",
           "PFE"
          ],
          [
           "Health Care/Life Sciences",
           "PFE"
          ],
          [
           "Health Care/Life Sciences",
           "PFE"
          ],
          [
           "Health Care/Life Sciences",
           "PFE"
          ],
          [
           "Health Care/Life Sciences",
           "PFE"
          ],
          [
           "Health Care/Life Sciences",
           "PFE"
          ],
          [
           "Health Care/Life Sciences",
           "PFE"
          ],
          [
           "Health Care/Life Sciences",
           "PFE"
          ],
          [
           "Health Care/Life Sciences",
           "PFE"
          ],
          [
           "Health Care/Life Sciences",
           "PFE"
          ],
          [
           "Health Care/Life Sciences",
           "PFE"
          ],
          [
           "Health Care/Life Sciences",
           "PFE"
          ],
          [
           "Health Care/Life Sciences",
           "PFE"
          ],
          [
           "Health Care/Life Sciences",
           "PFE"
          ],
          [
           "Health Care/Life Sciences",
           "PFE"
          ],
          [
           "Health Care/Life Sciences",
           "PFE"
          ],
          [
           "Health Care/Life Sciences",
           "PFE"
          ],
          [
           "Health Care/Life Sciences",
           "PFE"
          ],
          [
           "Health Care/Life Sciences",
           "PFE"
          ],
          [
           "Health Care/Life Sciences",
           "PFE"
          ],
          [
           "Health Care/Life Sciences",
           "PFE"
          ],
          [
           "Health Care/Life Sciences",
           "PFE"
          ],
          [
           "Health Care/Life Sciences",
           "PFE"
          ],
          [
           "Health Care/Life Sciences",
           "PFE"
          ],
          [
           "Health Care/Life Sciences",
           "PFE"
          ],
          [
           "Health Care/Life Sciences",
           "PFE"
          ],
          [
           "Health Care/Life Sciences",
           "PFE"
          ],
          [
           "Health Care/Life Sciences",
           "PFE"
          ],
          [
           "Health Care/Life Sciences",
           "PFE"
          ],
          [
           "Health Care/Life Sciences",
           "PFE"
          ],
          [
           "Health Care/Life Sciences",
           "PFE"
          ],
          [
           "Health Care/Life Sciences",
           "PFE"
          ],
          [
           "Health Care/Life Sciences",
           "PFE"
          ],
          [
           "Health Care/Life Sciences",
           "PFE"
          ],
          [
           "Health Care/Life Sciences",
           "PFE"
          ],
          [
           "Health Care/Life Sciences",
           "PFE"
          ],
          [
           "Health Care/Life Sciences",
           "PFE"
          ],
          [
           "Health Care/Life Sciences",
           "PFE"
          ],
          [
           "Health Care/Life Sciences",
           "PFE"
          ],
          [
           "Health Care/Life Sciences",
           "PFE"
          ],
          [
           "Health Care/Life Sciences",
           "PFE"
          ],
          [
           "Health Care/Life Sciences",
           "PFE"
          ],
          [
           "Health Care/Life Sciences",
           "PFE"
          ],
          [
           "Health Care/Life Sciences",
           "PFE"
          ],
          [
           "Health Care/Life Sciences",
           "PFE"
          ],
          [
           "Health Care/Life Sciences",
           "PFE"
          ],
          [
           "Health Care/Life Sciences",
           "PFE"
          ],
          [
           "Health Care/Life Sciences",
           "PFE"
          ],
          [
           "Health Care/Life Sciences",
           "PFE"
          ],
          [
           "Health Care/Life Sciences",
           "PFE"
          ],
          [
           "Health Care/Life Sciences",
           "PFE"
          ],
          [
           "Health Care/Life Sciences",
           "PFE"
          ],
          [
           "Health Care/Life Sciences",
           "PFE"
          ],
          [
           "Health Care/Life Sciences",
           "PFE"
          ],
          [
           "Health Care/Life Sciences",
           "PFE"
          ],
          [
           "Health Care/Life Sciences",
           "PFE"
          ],
          [
           "Health Care/Life Sciences",
           "PFE"
          ],
          [
           "Health Care/Life Sciences",
           "PFE"
          ],
          [
           "Health Care/Life Sciences",
           "PFE"
          ],
          [
           "Health Care/Life Sciences",
           "PFE"
          ],
          [
           "Health Care/Life Sciences",
           "PFE"
          ],
          [
           "Health Care/Life Sciences",
           "PFE"
          ],
          [
           "Health Care/Life Sciences",
           "PFE"
          ],
          [
           "Health Care/Life Sciences",
           "PFE"
          ],
          [
           "Health Care/Life Sciences",
           "PFE"
          ],
          [
           "Health Care/Life Sciences",
           "PFE"
          ],
          [
           "Health Care/Life Sciences",
           "PFE"
          ],
          [
           "Health Care/Life Sciences",
           "PFE"
          ],
          [
           "Health Care/Life Sciences",
           "PFE"
          ],
          [
           "Health Care/Life Sciences",
           "PFE"
          ],
          [
           "Health Care/Life Sciences",
           "PFE"
          ],
          [
           "Health Care/Life Sciences",
           "PFE"
          ],
          [
           "Health Care/Life Sciences",
           "PFE"
          ],
          [
           "Health Care/Life Sciences",
           "PFE"
          ],
          [
           "Health Care/Life Sciences",
           "PFE"
          ],
          [
           "Health Care/Life Sciences",
           "PFE"
          ],
          [
           "Health Care/Life Sciences",
           "PFE"
          ],
          [
           "Health Care/Life Sciences",
           "PFE"
          ],
          [
           "Health Care/Life Sciences",
           "PFE"
          ],
          [
           "Health Care/Life Sciences",
           "PFE"
          ],
          [
           "Health Care/Life Sciences",
           "PFE"
          ],
          [
           "Health Care/Life Sciences",
           "PFE"
          ],
          [
           "Health Care/Life Sciences",
           "PFE"
          ],
          [
           "Health Care/Life Sciences",
           "PFE"
          ],
          [
           "Health Care/Life Sciences",
           "PFE"
          ],
          [
           "Health Care/Life Sciences",
           "PFE"
          ],
          [
           "Health Care/Life Sciences",
           "PFE"
          ],
          [
           "Health Care/Life Sciences",
           "PFE"
          ],
          [
           "Health Care/Life Sciences",
           "PFE"
          ],
          [
           "Health Care/Life Sciences",
           "PFE"
          ],
          [
           "Health Care/Life Sciences",
           "PFE"
          ],
          [
           "Health Care/Life Sciences",
           "PFE"
          ],
          [
           "Health Care/Life Sciences",
           "PFE"
          ],
          [
           "Health Care/Life Sciences",
           "PFE"
          ],
          [
           "Health Care/Life Sciences",
           "PFE"
          ],
          [
           "Health Care/Life Sciences",
           "PFE"
          ],
          [
           "Health Care/Life Sciences",
           "PFE"
          ],
          [
           "Health Care/Life Sciences",
           "PFE"
          ],
          [
           "Health Care/Life Sciences",
           "PFE"
          ],
          [
           "Health Care/Life Sciences",
           "PFE"
          ],
          [
           "Health Care/Life Sciences",
           "PFE"
          ],
          [
           "Health Care/Life Sciences",
           "PFE"
          ],
          [
           "Health Care/Life Sciences",
           "PFE"
          ],
          [
           "Health Care/Life Sciences",
           "PFE"
          ],
          [
           "Health Care/Life Sciences",
           "PFE"
          ],
          [
           "Health Care/Life Sciences",
           "PFE"
          ],
          [
           "Health Care/Life Sciences",
           "PFE"
          ],
          [
           "Health Care/Life Sciences",
           "PFE"
          ],
          [
           "Health Care/Life Sciences",
           "PFE"
          ],
          [
           "Health Care/Life Sciences",
           "PFE"
          ],
          [
           "Health Care/Life Sciences",
           "PFE"
          ],
          [
           "Health Care/Life Sciences",
           "PFE"
          ],
          [
           "Health Care/Life Sciences",
           "PFE"
          ],
          [
           "Health Care/Life Sciences",
           "PFE"
          ],
          [
           "Health Care/Life Sciences",
           "PFE"
          ],
          [
           "Health Care/Life Sciences",
           "PFE"
          ],
          [
           "Health Care/Life Sciences",
           "PFE"
          ],
          [
           "Health Care/Life Sciences",
           "PFE"
          ],
          [
           "Health Care/Life Sciences",
           "PFE"
          ],
          [
           "Health Care/Life Sciences",
           "PFE"
          ],
          [
           "Health Care/Life Sciences",
           "PFE"
          ],
          [
           "Health Care/Life Sciences",
           "PFE"
          ],
          [
           "Health Care/Life Sciences",
           "PFE"
          ],
          [
           "Health Care/Life Sciences",
           "PFE"
          ],
          [
           "Health Care/Life Sciences",
           "PFE"
          ],
          [
           "Health Care/Life Sciences",
           "PFE"
          ],
          [
           "Health Care/Life Sciences",
           "PFE"
          ],
          [
           "Health Care/Life Sciences",
           "PFE"
          ],
          [
           "Health Care/Life Sciences",
           "PFE"
          ],
          [
           "Health Care/Life Sciences",
           "PFE"
          ],
          [
           "Health Care/Life Sciences",
           "PFE"
          ],
          [
           "Health Care/Life Sciences",
           "PFE"
          ],
          [
           "Health Care/Life Sciences",
           "PFE"
          ],
          [
           "Health Care/Life Sciences",
           "PFE"
          ],
          [
           "Health Care/Life Sciences",
           "PFE"
          ],
          [
           "Health Care/Life Sciences",
           "PFE"
          ],
          [
           "Health Care/Life Sciences",
           "PFE"
          ],
          [
           "Health Care/Life Sciences",
           "PFE"
          ],
          [
           "Health Care/Life Sciences",
           "PFE"
          ],
          [
           "Health Care/Life Sciences",
           "PFE"
          ],
          [
           "Health Care/Life Sciences",
           "PFE"
          ],
          [
           "Health Care/Life Sciences",
           "PFE"
          ],
          [
           "Health Care/Life Sciences",
           "PFE"
          ],
          [
           "Health Care/Life Sciences",
           "PFE"
          ],
          [
           "Health Care/Life Sciences",
           "PFE"
          ],
          [
           "Health Care/Life Sciences",
           "PFE"
          ],
          [
           "Health Care/Life Sciences",
           "PFE"
          ],
          [
           "Health Care/Life Sciences",
           "PFE"
          ],
          [
           "Health Care/Life Sciences",
           "PFE"
          ],
          [
           "Health Care/Life Sciences",
           "PFE"
          ],
          [
           "Health Care/Life Sciences",
           "PFE"
          ],
          [
           "Health Care/Life Sciences",
           "PFE"
          ],
          [
           "Health Care/Life Sciences",
           "PFE"
          ],
          [
           "Health Care/Life Sciences",
           "PFE"
          ],
          [
           "Health Care/Life Sciences",
           "PFE"
          ],
          [
           "Health Care/Life Sciences",
           "PFE"
          ],
          [
           "Health Care/Life Sciences",
           "PFE"
          ],
          [
           "Health Care/Life Sciences",
           "PFE"
          ],
          [
           "Health Care/Life Sciences",
           "PFE"
          ],
          [
           "Health Care/Life Sciences",
           "PFE"
          ],
          [
           "Health Care/Life Sciences",
           "PFE"
          ],
          [
           "Health Care/Life Sciences",
           "PFE"
          ],
          [
           "Health Care/Life Sciences",
           "PFE"
          ],
          [
           "Health Care/Life Sciences",
           "PFE"
          ],
          [
           "Health Care/Life Sciences",
           "PFE"
          ],
          [
           "Health Care/Life Sciences",
           "PFE"
          ],
          [
           "Health Care/Life Sciences",
           "PFE"
          ],
          [
           "Health Care/Life Sciences",
           "PFE"
          ],
          [
           "Health Care/Life Sciences",
           "PFE"
          ],
          [
           "Health Care/Life Sciences",
           "PFE"
          ],
          [
           "Health Care/Life Sciences",
           "PFE"
          ],
          [
           "Health Care/Life Sciences",
           "PFE"
          ],
          [
           "Health Care/Life Sciences",
           "PFE"
          ],
          [
           "Health Care/Life Sciences",
           "PFE"
          ],
          [
           "Health Care/Life Sciences",
           "PFE"
          ],
          [
           "Health Care/Life Sciences",
           "PFE"
          ],
          [
           "Health Care/Life Sciences",
           "PFE"
          ],
          [
           "Health Care/Life Sciences",
           "PFE"
          ]
         ],
         "hoverlabel": {
          "namelength": 0
         },
         "hovertemplate": "sector=%{customdata[0]}<br>x=%{x}<br>y=%{y}<br>symb=%{customdata[1]}",
         "legendgroup": "Health Care/Life Sciences",
         "marker": {
          "color": "#FECB52",
          "symbol": "circle"
         },
         "mode": "markers",
         "name": "Health Care/Life Sciences",
         "showlegend": true,
         "type": "scattergl",
         "x": [
          -51.24236297607422,
          45.19192123413086,
          56.274112701416016,
          56.118526458740234,
          45.35272979736328,
          -51.703311920166016,
          49.8717155456543,
          12.37028980255127,
          34.77961349487305,
          -23.948318481445312,
          50.509071350097656,
          29.526813507080078,
          49.55927658081055,
          49.458290100097656,
          26.735498428344727,
          -9.507299423217773,
          54.02538299560547,
          53.1337776184082,
          -33.030879974365234,
          20.072479248046875,
          -9.595691680908203,
          26.8978328704834,
          -13.356815338134766,
          54.129371643066406,
          -9.25214958190918,
          25.7615966796875,
          -1.7017784118652344,
          26.196718215942383,
          25.15695571899414,
          3.650480031967163,
          54.94668197631836,
          0.8101897239685059,
          55.86397171020508,
          52.8542366027832,
          55.59534454345703,
          -32.288902282714844,
          49.27311706542969,
          -21.61748504638672,
          -17.273027420043945,
          27.4127254486084,
          -15.022542953491211,
          -7.967160701751709,
          -19.03860092163086,
          49.07781219482422,
          48.64128875732422,
          55.57888412475586,
          55.10401153564453,
          -38.936363220214844,
          27.201833724975586,
          31.518383026123047,
          -51.5582389831543,
          -41.708885192871094,
          -23.122173309326172,
          7.348568916320801,
          -54.83567428588867,
          11.557323455810547,
          36.994728088378906,
          -21.823274612426758,
          -37.01552200317383,
          42.34454345703125,
          46.125423431396484,
          46.274818420410156,
          10.032045364379883,
          51.08162307739258,
          -18.333507537841797,
          40.36130142211914,
          -0.6339418888092041,
          49.017189025878906,
          -18.20368766784668,
          48.67059326171875,
          28.590837478637695,
          26.585920333862305,
          -48.693809509277344,
          45.86598587036133,
          -2.9527456760406494,
          -42.581363677978516,
          -21.371362686157227,
          21.324913024902344,
          31.25048065185547,
          -14.210772514343262,
          -54.4263916015625,
          -11.48005485534668,
          37.182682037353516,
          29.96482276916504,
          12.468429565429688,
          -35.035648345947266,
          46.17477798461914,
          -20.92967414855957,
          -9.727533340454102,
          41.13727569580078,
          -25.89937973022461,
          -2.3573482036590576,
          -23.156404495239258,
          49.12913131713867,
          16.08241081237793,
          30.003286361694336,
          43.12558364868164,
          9.446837425231934,
          -41.64628219604492,
          41.41801452636719,
          27.70390510559082,
          -39.6380500793457,
          -22.741230010986328,
          27.15614891052246,
          -21.95570182800293,
          27.082868576049805,
          -0.4582291841506958,
          37.87568283081055,
          45.66172409057617,
          25.964202880859375,
          -32.947288513183594,
          20.46243667602539,
          -41.07652282714844,
          -23.088056564331055,
          51.12319564819336,
          49.989505767822266,
          40.007171630859375,
          -42.81022262573242,
          43.71318817138672,
          -54.94325637817383,
          16.365713119506836,
          27.008262634277344,
          38.822452545166016,
          28.800525665283203,
          37.36058044433594,
          43.96615982055664,
          51.75619888305664,
          28.618810653686523,
          22.017629623413086,
          22.881786346435547,
          -24.66724395751953,
          37.241268157958984,
          38.7402229309082,
          -24.358400344848633,
          -25.276214599609375,
          7.556310653686523,
          -26.20500373840332,
          42.73810958862305,
          -25.09868049621582,
          41.68852233886719,
          -24.492633819580078,
          37.94172286987305,
          -34.90538024902344,
          50.9969596862793,
          44.33552932739258,
          -34.1093864440918,
          21.52861213684082,
          16.224706649780273,
          8.670762062072754,
          49.363155364990234,
          47.91408157348633,
          48.25389099121094,
          16.518598556518555,
          -28.246910095214844,
          29.769390106201172,
          -1.5366895198822021,
          28.075843811035156,
          28.30150604248047,
          24.423860549926758,
          29.569900512695312,
          39.9929084777832,
          49.84865951538086,
          -26.194250106811523,
          3.298614501953125,
          -43.53416061401367,
          0.4726297855377197,
          5.485422134399414,
          -30.48927879333496,
          -41.63857650756836,
          -23.34954261779785,
          42.26826477050781,
          16.025575637817383,
          28.437637329101562,
          49.70566177368164,
          -25.744140625,
          -18.365108489990234,
          37.81526184082031,
          33.229305267333984,
          -11.736083984375,
          -27.54360008239746,
          -41.16041946411133,
          3.876953125,
          -24.69746971130371,
          -0.8783658742904663,
          -16.11471176147461,
          32.384193420410156,
          -42.48783493041992,
          -1.654573917388916,
          37.03920364379883,
          -32.94330596923828,
          -25.199317932128906,
          43.52939987182617,
          -26.2098331451416,
          20.115848541259766,
          -23.541330337524414,
          -27.12449836730957,
          49.126708984375,
          44.25934600830078,
          25.700651168823242,
          -26.124767303466797,
          -16.84986114501953,
          27.247894287109375,
          -22.871408462524414,
          41.99987030029297,
          -58.62398147583008,
          37.39468765258789,
          -25.511011123657227,
          28.180763244628906,
          49.11479568481445,
          -26.708148956298828,
          12.05160140991211,
          -10.017655372619629,
          -36.942264556884766,
          48.29241180419922,
          -1.5919437408447266,
          -23.531322479248047,
          -23.97313690185547,
          -37.34067916870117,
          -12.500946044921875,
          -13.745047569274902,
          47.199920654296875,
          48.1005973815918,
          46.03793716430664,
          47.002593994140625,
          48.3514518737793,
          45.37263488769531,
          30.859251022338867,
          -42.449073791503906,
          -8.467486381530762,
          33.6720085144043,
          29.798290252685547,
          -43.55414962768555,
          -0.18798772990703583,
          -21.374414443969727,
          26.866640090942383,
          28.641359329223633,
          10.830581665039062,
          32.51418685913086,
          46.64705276489258,
          48.94129180908203,
          -1.6112196445465088,
          -41.54352569580078,
          27.46662712097168,
          37.793121337890625,
          -1.1578623056411743,
          30.422744750976562,
          26.077856063842773,
          25.77790641784668,
          25.280969619750977,
          27.132102966308594,
          25.37160301208496,
          37.838130950927734,
          47.290435791015625,
          -15.920973777770996,
          47.42363739013672,
          28.420654296875,
          51.8574333190918,
          51.816768646240234,
          33.80438995361328,
          45.480525970458984,
          15.651429176330566,
          27.818859100341797,
          -35.332706451416016,
          -50.81480407714844,
          44.6796760559082,
          44.19365692138672,
          -13.62304401397705,
          32.230506896972656,
          -42.123329162597656,
          7.958591938018799,
          -22.25873374938965,
          43.90797424316406,
          19.917537689208984,
          48.87142562866211,
          -45.86809158325195,
          48.004154205322266,
          35.45380401611328,
          48.617191314697266,
          31.538616180419922,
          -41.100135803222656,
          -55.83265686035156,
          -43.294063568115234,
          -55.81364822387695,
          -57.19987869262695,
          32.216793060302734,
          20.462217330932617,
          -44.885318756103516,
          29.16777992248535,
          49.501220703125,
          13.623558044433594,
          -4.871933937072754,
          -35.699729919433594,
          -39.28398132324219,
          -40.11514663696289,
          -0.12566512823104858,
          -34.50677490234375,
          -22.177265167236328,
          18.875051498413086,
          12.04625129699707,
          -19.8868350982666,
          43.235538482666016,
          47.18141555786133,
          47.62795639038086,
          21.893535614013672,
          10.326146125793457,
          31.639598846435547,
          -28.491437911987305,
          50.723716735839844,
          35.253360748291016,
          49.04632568359375,
          47.257850646972656,
          16.235191345214844,
          26.52765464782715,
          -42.279441833496094,
          -18.152843475341797,
          -2.412233352661133,
          -22.42127227783203,
          39.09526062011719,
          31.27278709411621,
          28.037370681762695,
          47.96377944946289,
          21.98697853088379,
          1.1767895221710205,
          30.4561710357666,
          -5.416226387023926,
          43.44417953491211,
          43.26970291137695,
          42.33339309692383,
          -39.66313171386719,
          33.79922103881836,
          1.633610725402832,
          50.0925407409668,
          13.683195114135742,
          40.90177536010742,
          40.889503479003906,
          -48.40237045288086,
          -10.966261863708496,
          -23.94416046142578,
          -20.825462341308594,
          33.96000671386719,
          48.2746696472168,
          -17.55307388305664,
          -43.7584228515625,
          -10.309158325195312,
          30.070539474487305,
          1.9387112855911255,
          -47.23131561279297,
          16.410400390625,
          -22.59954261779785,
          17.95121192932129,
          28.331274032592773,
          38.411376953125,
          18.478973388671875,
          48.7420539855957,
          -37.31904220581055,
          48.30270004272461,
          11.36005687713623,
          47.70686340332031,
          8.556116104125977,
          -41.4444694519043,
          -37.368385314941406,
          0.5953641533851624,
          -22.431306838989258,
          -5.413967132568359,
          14.482279777526855,
          -31.907075881958008,
          27.25274085998535,
          22.670820236206055,
          37.39754867553711,
          41.301231384277344,
          37.385719299316406,
          41.20490646362305,
          -34.7055778503418,
          21.471708297729492,
          44.275447845458984,
          -18.554702758789062,
          36.02903747558594,
          21.236722946166992,
          3.8137636184692383,
          -45.86101150512695,
          -6.108510494232178,
          -42.0919303894043,
          51.79698181152344,
          23.712364196777344,
          48.91535186767578,
          10.815865516662598,
          -0.9696643948554993,
          -34.345916748046875,
          24.093870162963867,
          31.398157119750977,
          21.291105270385742,
          -16.83293914794922,
          3.647552251815796,
          26.442899703979492,
          -52.750091552734375,
          -22.71422004699707,
          11.6187162399292,
          -0.5652191638946533,
          -11.97735595703125,
          51.39128875732422,
          -9.676011085510254,
          -36.67634582519531,
          17.181713104248047,
          -1.4468146562576294,
          -17.07851791381836,
          16.70269203186035,
          -13.493277549743652,
          38.1660041809082,
          36.91223907470703,
          31.623376846313477,
          47.54219436645508,
          12.333752632141113,
          -53.45088195800781,
          10.211810111999512,
          -48.147830963134766,
          -0.4010090231895447,
          39.824310302734375,
          -22.522306442260742,
          21.418231964111328,
          21.48046875,
          26.661026000976562,
          33.85201644897461,
          -36.731590270996094,
          25.807878494262695,
          -43.8930778503418,
          25.707921981811523,
          5.735702037811279,
          -34.941043853759766,
          -40.88680648803711,
          27.76715660095215,
          -42.23850631713867,
          -38.04343795776367,
          -2.937528133392334,
          -25.26742935180664,
          35.03371047973633,
          28.476736068725586,
          -1.3527631759643555,
          50.245147705078125,
          50.266143798828125,
          -14.308591842651367,
          -8.086960792541504,
          17.781982421875,
          -37.166038513183594,
          36.12135314941406,
          30.820072174072266,
          36.70259094238281,
          19.558645248413086,
          45.648887634277344,
          37.417362213134766,
          47.95353317260742,
          44.32160949707031,
          5.604605674743652,
          8.256548881530762,
          11.202591896057129,
          8.571427345275879,
          -36.151554107666016,
          -60.901004791259766,
          2.2867515087127686,
          -52.980106353759766,
          -39.420413970947266,
          -6.959062099456787,
          42.88904571533203,
          26.733917236328125,
          6.013950347900391,
          41.30388259887695,
          41.303802490234375,
          -39.67439270019531,
          -19.43194007873535,
          34.787872314453125,
          -42.649085998535156,
          -47.62406921386719,
          30.576295852661133,
          8.483588218688965,
          -41.18207931518555,
          -0.05622374266386032,
          -23.461668014526367,
          -30.259109497070312,
          20.174701690673828,
          -13.616053581237793,
          24.887723922729492,
          43.46274948120117,
          52.47890090942383,
          29.763742446899414,
          -38.949371337890625,
          -17.55548095703125,
          -24.003114700317383,
          -12.607409477233887,
          51.7744140625,
          34.347476959228516,
          43.11322784423828,
          16.882164001464844,
          49.17302322387695,
          -17.137718200683594,
          -41.98090362548828,
          46.804412841796875,
          1.5883158445358276,
          39.86041259765625,
          27.72445297241211,
          -9.283832550048828,
          -14.090107917785645,
          -10.72646427154541,
          1.037505865097046,
          8.340520858764648,
          -38.207523345947266,
          -21.42197608947754,
          -27.20265007019043,
          -13.699258804321289,
          -9.176124572753906,
          -9.47431468963623,
          14.506978988647461,
          18.4346866607666,
          45.293922424316406,
          -17.60658073425293,
          -40.23847198486328,
          -35.448028564453125,
          -60.93458938598633,
          8.836838722229004,
          -37.964656829833984,
          -53.56309509277344,
          37.61384582519531,
          -60.81105422973633,
          16.351734161376953,
          26.95340919494629,
          30.48597526550293,
          -0.3002796173095703,
          30.581838607788086,
          36.80207824707031,
          -47.22359085083008,
          29.703548431396484,
          0.15299279987812042,
          51.77316665649414,
          18.900270462036133,
          26.997608184814453,
          29.109525680541992,
          20.371253967285156,
          -41.530601501464844,
          -18.3331241607666,
          -14.013093948364258,
          -2.921779155731201,
          0.1181291788816452,
          -38.662654876708984,
          -4.947336673736572,
          -24.754966735839844,
          -27.54184341430664,
          25.540842056274414,
          -3.453267812728882,
          39.42848587036133,
          37.625885009765625,
          48.525245666503906,
          23.855121612548828,
          -9.87757396697998,
          15.901704788208008,
          13.014641761779785,
          16.25119400024414,
          -9.257574081420898,
          25.1646671295166,
          16.045284271240234,
          -8.442864418029785,
          10.076007843017578,
          1.5741137266159058,
          51.21322250366211,
          16.26871109008789,
          2.9471688270568848,
          -34.56153869628906,
          -21.50362777709961,
          -21.428796768188477,
          1.1021685600280762,
          26.918882369995117,
          37.04180908203125,
          30.518835067749023,
          -11.280153274536133,
          -39.66379165649414,
          -18.091489791870117,
          29.21453857421875,
          9.751300811767578,
          21.843706130981445,
          24.177400588989258,
          -18.334779739379883,
          8.889482498168945,
          -21.38349151611328,
          37.21163558959961,
          25.579837799072266,
          -43.702545166015625,
          28.106029510498047,
          27.537681579589844,
          37.213653564453125,
          37.289306640625,
          -0.8700780868530273,
          37.93085479736328,
          38.214935302734375,
          -37.30394744873047,
          0.8833790421485901,
          -21.53362274169922,
          43.25212097167969,
          -27.990135192871094,
          5.925426006317139,
          -33.9214973449707,
          24.610544204711914,
          -24.146215438842773,
          -36.57018280029297,
          40.33357238769531,
          1.938568353652954,
          -2.77752423286438,
          -27.60188865661621,
          -29.310379028320312,
          -28.050695419311523,
          -39.6428108215332,
          1.2579652070999146,
          -20.197372436523438,
          -28.793872833251953,
          21.784420013427734,
          -13.679224014282227,
          -4.884944915771484,
          -13.898807525634766,
          15.06485366821289,
          -15.277470588684082,
          17.976425170898438,
          -22.6778621673584,
          -7.1538543701171875,
          7.215970516204834,
          -28.101999282836914,
          -37.01995849609375,
          2.133164167404175,
          -24.924999237060547,
          0.24219487607479095,
          2.9987289905548096,
          -27.360488891601562,
          40.1572265625,
          42.043792724609375,
          -26.81549835205078,
          30.10305404663086,
          0.3843911290168762,
          18.472816467285156,
          11.106868743896484,
          -24.140378952026367,
          39.785980224609375,
          46.45258712768555,
          12.25262451171875,
          -15.282854080200195,
          -35.8410530090332,
          15.715036392211914,
          -54.518062591552734,
          13.507051467895508,
          39.6219482421875,
          -18.608064651489258,
          -27.910194396972656,
          40.47723388671875,
          -27.854665756225586,
          -34.28713607788086,
          4.468984127044678,
          39.2218132019043,
          26.024776458740234,
          -27.592453002929688,
          2.692340612411499,
          52.620635986328125,
          -3.6925301551818848,
          -25.848752975463867,
          -28.235441207885742,
          2.2204837799072266,
          -1.676973819732666,
          -40.12422180175781,
          -23.28274917602539,
          6.912659645080566,
          -4.505914688110352,
          14.00535774230957,
          12.794002532958984,
          -15.488229751586914,
          -1.1631739139556885,
          23.64044761657715,
          44.30927658081055,
          -17.701160430908203,
          21.257051467895508,
          16.95225715637207,
          -33.79682159423828,
          -16.2421817779541,
          -18.25951385498047,
          13.224979400634766,
          -26.561473846435547,
          -35.25844955444336,
          45.530033111572266,
          28.908260345458984,
          42.28335952758789,
          -8.62767505645752,
          -60.370208740234375,
          33.952484130859375,
          -27.422142028808594
         ],
         "xaxis": "x",
         "y": [
          -19.015256881713867,
          17.197036743164062,
          0.9247426390647888,
          1.7229959964752197,
          14.058328628540039,
          -16.314340591430664,
          18.409963607788086,
          -27.716232299804688,
          8.25332260131836,
          10.117254257202148,
          20.57552146911621,
          42.355552673339844,
          20.334339141845703,
          21.914365768432617,
          46.67210006713867,
          14.095070838928223,
          5.222906589508057,
          4.95149564743042,
          3.1695258617401123,
          0.978778064250946,
          14.322524070739746,
          46.406829833984375,
          -46.25058364868164,
          5.719171524047852,
          14.631929397583008,
          47.595123291015625,
          15.868170738220215,
          47.39540100097656,
          44.639896392822266,
          34.01504135131836,
          1.6185622215270996,
          18.226947784423828,
          0.7514541149139404,
          4.344265937805176,
          0.7927379608154297,
          19.206052780151367,
          19.674457550048828,
          -18.77626609802246,
          -26.569616317749023,
          41.32490539550781,
          -22.255558013916016,
          -28.161334991455078,
          25.081684112548828,
          20.56108856201172,
          22.51611328125,
          0.9037765860557556,
          -0.9141361713409424,
          26.714664459228516,
          45.609947204589844,
          45.75491714477539,
          -15.849837303161621,
          29.082637786865234,
          40.8328742980957,
          -3.1314547061920166,
          -32.46038818359375,
          -74.50434112548828,
          -18.584596633911133,
          -6.289725303649902,
          26.857145309448242,
          16.154455184936523,
          4.121560573577881,
          11.295083999633789,
          55.62437438964844,
          16.895488739013672,
          -44.03987503051758,
          16.233322143554688,
          44.628082275390625,
          11.238526344299316,
          -24.358661651611328,
          18.07088851928711,
          39.48851013183594,
          -3.95175838470459,
          -1.9642164707183838,
          14.772339820861816,
          -36.64344787597656,
          29.66170310974121,
          43.099273681640625,
          -15.700071334838867,
          42.18653106689453,
          -29.632566452026367,
          -6.906909465789795,
          -43.878929138183594,
          -18.436481475830078,
          -33.404964447021484,
          -68.58061981201172,
          23.63653564453125,
          3.4833157062530518,
          -17.199251174926758,
          -31.305164337158203,
          6.409141540527344,
          -16.837121963500977,
          47.02464294433594,
          -17.368328094482422,
          15.134650230407715,
          48.71189498901367,
          8.680492401123047,
          14.102400779724121,
          41.806373596191406,
          -13.919795989990234,
          12.668037414550781,
          39.80475616455078,
          24.633949279785156,
          42.346717834472656,
          34.55006408691406,
          41.947933197021484,
          42.88641357421875,
          -21.125837326049805,
          23.603391647338867,
          7.885697841644287,
          -12.181320190429688,
          4.4709553718566895,
          -23.505409240722656,
          -18.183740615844727,
          -18.516748428344727,
          18.56698989868164,
          15.342151641845703,
          17.149154663085938,
          -18.33452796936035,
          20.411954879760742,
          12.08947467803955,
          48.714263916015625,
          42.531917572021484,
          0.6151555180549622,
          -7.42478084564209,
          8.012317657470703,
          14.308865547180176,
          17.264326095581055,
          -9.330924034118652,
          1.3947445154190063,
          -6.287740707397461,
          -13.382279396057129,
          7.792226791381836,
          0.47825372219085693,
          -15.530840873718262,
          -15.259455680847168,
          7.448369026184082,
          39.06553649902344,
          14.24522590637207,
          -2.750037908554077,
          13.760334968566895,
          -2.5006425380706787,
          -12.347533226013184,
          3.4779624938964844,
          16.037843704223633,
          16.06294822692871,
          3.3010709285736084,
          -0.38787826895713806,
          -14.627527236938477,
          -40.25674819946289,
          18.9891357421875,
          13.494546890258789,
          9.959877967834473,
          -25.483549118041992,
          -16.556556701660156,
          41.47273254394531,
          -29.494544982910156,
          -12.609509468078613,
          -8.386937141418457,
          -2.2175486087799072,
          -3.8231611251831055,
          17.2662410736084,
          12.954933166503906,
          -17.360225677490234,
          -35.248512268066406,
          -18.035518646240234,
          2.7017979621887207,
          -31.290966033935547,
          -3.8326709270477295,
          28.726497650146484,
          42.71162414550781,
          20.004056930541992,
          -26.487842559814453,
          -11.701001167297363,
          16.50843048095703,
          -13.734944343566895,
          -25.725528717041016,
          1.9383476972579956,
          -34.283119201660156,
          -28.340307235717773,
          -16.97976303100586,
          -8.997580528259277,
          -40.21479797363281,
          -16.70360565185547,
          -29.18666648864746,
          -28.285682678222656,
          -3.2316982746124268,
          -17.779653549194336,
          31.06102752685547,
          4.558905601501465,
          23.087249755859375,
          -16.18463897705078,
          7.326670169830322,
          -15.711105346679688,
          -26.040836334228516,
          -15.033921241760254,
          -17.152889251708984,
          15.713667869567871,
          12.908187866210938,
          11.047964096069336,
          -13.135841369628906,
          -44.916542053222656,
          -10.719693183898926,
          40.25773620605469,
          13.349297523498535,
          -10.678753852844238,
          -21.198684692382812,
          -16.322589874267578,
          -3.4003944396972656,
          12.91166877746582,
          -16.179317474365234,
          44.149688720703125,
          -19.206315994262695,
          -5.9274067878723145,
          20.371746063232422,
          -29.425922393798828,
          -16.3774356842041,
          -17.489992141723633,
          24.143115997314453,
          -29.400026321411133,
          -29.46440315246582,
          14.299886703491211,
          17.246768951416016,
          11.326362609863281,
          11.933613777160645,
          15.798831939697266,
          5.015810966491699,
          42.14137268066406,
          26.55292320251465,
          -25.914339065551758,
          -14.112071990966797,
          -12.168472290039062,
          -10.018585205078125,
          -34.986427307128906,
          43.10372543334961,
          -11.3201904296875,
          -9.36959457397461,
          -76.30279541015625,
          39.43570327758789,
          18.116804122924805,
          14.53431510925293,
          3.5234739780426025,
          -18.581369400024414,
          -10.655569076538086,
          22.375417709350586,
          -37.07320785522461,
          44.22468566894531,
          10.322589874267578,
          10.306673049926758,
          9.749246597290039,
          -3.7044878005981445,
          9.864498138427734,
          2.525341033935547,
          11.024131774902344,
          -31.271501541137695,
          15.565245628356934,
          43.59612274169922,
          11.214076042175293,
          11.214205741882324,
          7.119760036468506,
          7.711678981781006,
          -19.985923767089844,
          -9.783071517944336,
          21.65511703491211,
          12.03451156616211,
          5.408564567565918,
          5.668383598327637,
          -29.226457595825195,
          -12.763788223266602,
          -12.389169692993164,
          -39.17104721069336,
          44.169795989990234,
          5.661647796630859,
          -17.29948616027832,
          17.27220344543457,
          25.928321838378906,
          10.902729988098145,
          1.4504964351654053,
          15.652198791503906,
          -11.512043952941895,
          -21.444177627563477,
          -11.604515075683594,
          26.39254379272461,
          -11.467774391174316,
          -10.195083618164062,
          -12.736592292785645,
          -23.50686264038086,
          -8.472009658813477,
          42.085811614990234,
          8.153018951416016,
          -22.796632766723633,
          -20.985273361206055,
          4.942325592041016,
          -3.8700613975524902,
          25.261043548583984,
          -40.788875579833984,
          4.361888885498047,
          42.91531753540039,
          -37.132938385009766,
          -75.22332000732422,
          5.302729606628418,
          21.422943115234375,
          16.856908798217773,
          18.902746200561523,
          0.9484575986862183,
          55.96812057495117,
          40.007591247558594,
          -26.173900604248047,
          18.392419815063477,
          -23.871566772460938,
          18.80577850341797,
          15.8762845993042,
          -26.625940322875977,
          23.0330810546875,
          25.31229019165039,
          -35.802982330322266,
          -41.408199310302734,
          43.1294059753418,
          26.324026107788086,
          45.377769470214844,
          -12.941781997680664,
          12.270732879638672,
          -14.31651782989502,
          -38.63677978515625,
          44.44163513183594,
          -25.202625274658203,
          10.320796966552734,
          13.051460266113281,
          11.214728355407715,
          -5.42943000793457,
          7.092189311981201,
          35.17622375488281,
          16.938915252685547,
          -22.744539260864258,
          5.261549472808838,
          5.914066791534424,
          0.04703569784760475,
          -43.770076751708984,
          10.113814353942871,
          -11.10774040222168,
          -11.860568046569824,
          7.681365966796875,
          -33.37990951538086,
          -0.7668641209602356,
          -44.30791473388672,
          39.3178825378418,
          -41.769718170166016,
          -3.5451667308807373,
          -37.384193420410156,
          43.723846435546875,
          -24.417964935302734,
          -2.8078174591064453,
          -9.691193580627441,
          -28.365131378173828,
          7.3643598556518555,
          -11.989912033081055,
          16.85494613647461,
          -29.7357234954834,
          11.825277328491211,
          -40.4379768371582,
          -0.06838642805814743,
          -12.098072052001953,
          -40.16672897338867,
          44.23359298706055,
          -39.12050247192383,
          -69.79418182373047,
          -1.444222092628479,
          -34.454856872558594,
          2.529695749282837,
          6.826047897338867,
          8.08042049407959,
          9.93249797821045,
          7.998091697692871,
          3.1842591762542725,
          -0.02279958501458168,
          11.279862403869629,
          -29.161447525024414,
          1.310329794883728,
          -0.6714271903038025,
          -23.118242263793945,
          9.713814735412598,
          -17.50804901123047,
          -0.8879551291465759,
          15.843045234680176,
          -6.180325031280518,
          17.205432891845703,
          -44.777042388916016,
          4.31237268447876,
          21.92694854736328,
          -0.3596216142177582,
          -23.05797004699707,
          46.44831085205078,
          -23.888427734375,
          -38.556270599365234,
          4.371451377868652,
          11.787569999694824,
          40.99393844604492,
          -38.19094467163086,
          4.542278289794922,
          -46.9205207824707,
          18.321521759033203,
          -43.89887619018555,
          24.15677261352539,
          -26.61562156677246,
          4.129477024078369,
          -32.36531066894531,
          -34.910972595214844,
          -42.719940185546875,
          -21.510215759277344,
          0.557726263999939,
          12.355380058288574,
          7.690723419189453,
          -19.66497802734375,
          17.6564998626709,
          54.20195770263672,
          -1.3483470678329468,
          -42.47306442260742,
          9.938977241516113,
          3.0994081497192383,
          -15.531494140625,
          -15.434867858886719,
          -8.550788879394531,
          -11.865798950195312,
          -8.31384563446045,
          -9.592127799987793,
          -4.533306121826172,
          -9.658510208129883,
          -41.18806457519531,
          23.659900665283203,
          25.040451049804688,
          -8.311897277832031,
          -1.3146865367889404,
          -13.102804183959961,
          -40.73251724243164,
          40.11650466918945,
          1.9076071977615356,
          -4.93171501159668,
          4.16950798034668,
          2.5032739639282227,
          2.515190839767456,
          -25.263240814208984,
          -10.697793960571289,
          -24.947050094604492,
          -13.882089614868164,
          23.00749969482422,
          44.87432098388672,
          -13.973138809204102,
          -14.32636547088623,
          10.590383529663086,
          1.1221100091934204,
          18.968618392944336,
          6.385996341705322,
          11.291163444519043,
          -68.31666564941406,
          -67.23744201660156,
          -68.39405059814453,
          -9.438699722290039,
          -12.45532512664795,
          -41.62742614746094,
          15.446656227111816,
          -10.4822416305542,
          13.761866569519043,
          20.610397338867188,
          42.542808532714844,
          -43.325653076171875,
          24.238285064697266,
          24.238285064697266,
          -7.649388790130615,
          25.943580627441406,
          8.371376037597656,
          -4.940844535827637,
          -1.8112341165542603,
          6.109115123748779,
          6.822396278381348,
          -5.187840461730957,
          -43.750274658203125,
          45.89077377319336,
          -3.4204211235046387,
          -3.2478129863739014,
          -25.169631958007812,
          -5.967752933502197,
          12.186326026916504,
          18.265178680419922,
          -10.48597526550293,
          26.42107391357422,
          -4.200164794921875,
          4.323942184448242,
          -25.269245147705078,
          19.630008697509766,
          23.65375518798828,
          17.93259048461914,
          -26.94716453552246,
          2.1126596927642822,
          24.513458251953125,
          -5.7330169677734375,
          10.211100578308105,
          -44.42023849487305,
          22.937885284423828,
          42.23226547241211,
          -10.260812759399414,
          -26.871232986450195,
          -9.029302597045898,
          -41.30996322631836,
          -69.51251220703125,
          -4.424188137054443,
          41.10600280761719,
          -6.1696343421936035,
          -24.82111358642578,
          -20.470983505249023,
          -5.356482028961182,
          -27.19266128540039,
          -6.3659257888793945,
          11.640972137451172,
          -33.336204528808594,
          -3.063438892364502,
          -13.559061050415039,
          -12.847688674926758,
          -68.62557983398438,
          -9.56734848022461,
          17.534805297851562,
          27.008974075317383,
          -12.335865020751953,
          -21.061960220336914,
          6.479724407196045,
          8.758400917053223,
          -38.68730926513672,
          8.514627456665039,
          24.19133186340332,
          -1.9492080211639404,
          7.956047534942627,
          -42.98381423950195,
          19.57103729248047,
          -37.0548210144043,
          6.524595737457275,
          5.495013236999512,
          47.155853271484375,
          -4.2576470375061035,
          34.79808044433594,
          -25.942502975463867,
          -29.474971771240234,
          -44.045894622802734,
          -4.954617977142334,
          -12.654277801513672,
          40.81415939331055,
          -4.607431411743164,
          -5.493762493133545,
          -32.77879333496094,
          -21.988201141357422,
          1.6921241283416748,
          9.039265632629395,
          -11.16090202331543,
          -11.135493278503418,
          -22.68177032470703,
          54.774818420410156,
          -21.58182144165039,
          -10.499849319458008,
          -5.962712287902832,
          -30.935514450073242,
          -19.802629470825195,
          -68.2420654296875,
          -43.08747863769531,
          20.11786651611328,
          -21.057910919189453,
          -43.092994689941406,
          -9.331546783447266,
          1.1553330421447754,
          1.6890547275543213,
          -43.132408142089844,
          43.645774841308594,
          24.25078582763672,
          9.154379844665527,
          -27.151920318603516,
          0.3823282718658447,
          -29.374982833862305,
          5.538095474243164,
          -68.41644287109375,
          40.82356643676758,
          -8.97988510131836,
          -35.57624435424805,
          -68.69995880126953,
          0.8010230660438538,
          8.595329284667969,
          -5.420684337615967,
          -10.913312911987305,
          5.04606819152832,
          5.3383965492248535,
          27.53367042541504,
          27.406757354736328,
          -40.517494201660156,
          23.99793243408203,
          26.005882263183594,
          -11.801444053649902,
          -42.447628021240234,
          41.245296478271484,
          5.2330522537231445,
          -3.8450286388397217,
          -33.19789123535156,
          23.0037899017334,
          -2.442483901977539,
          4.631349563598633,
          -9.080883979797363,
          10.418956756591797,
          -18.128665924072266,
          49.55195617675781,
          24.181798934936523,
          -15.358423233032227,
          31.752887725830078,
          -7.690609931945801,
          -43.834171295166016,
          43.68019104003906,
          -3.7616007328033447,
          -19.78849220275879,
          -21.5765323638916,
          -29.692873001098633,
          -25.007600784301758,
          -23.702312469482422,
          -23.265071868896484,
          -27.935468673706055,
          2.5765364170074463,
          -23.017417907714844,
          -41.29558181762695,
          28.367280960083008,
          -11.176553726196289,
          -42.37821578979492,
          40.65848159790039,
          4.47036075592041,
          -32.40958786010742,
          -4.69774055480957,
          6.850591659545898,
          6.237582683563232,
          26.63637924194336,
          39.51222229003906,
          -44.64376449584961,
          -26.327741622924805,
          -67.61853790283203,
          4.58258581161499,
          26.45810890197754,
          13.832347869873047,
          -68.99447631835938,
          -13.433932304382324,
          2.8619980812072754,
          -38.35420608520508,
          -33.10968780517578,
          -75.19805908203125,
          1.7731904983520508,
          -33.76881408691406,
          29.149051666259766,
          21.149805068969727,
          29.950777053833008,
          -9.096062660217285,
          -42.437278747558594,
          23.125640869140625,
          43.16072463989258,
          30.467090606689453,
          -43.88669204711914,
          17.265966415405273,
          -27.216632843017578,
          32.14567565917969,
          29.572214126586914,
          -44.89202880859375,
          5.608616352081299,
          27.463237762451172,
          41.277198791503906,
          -1.94482421875,
          -40.544979095458984,
          -74.21244049072266,
          -70.7657241821289,
          -17.380096435546875,
          5.571627616882324,
          -15.050483703613281,
          19.60797882080078,
          -34.12247085571289,
          -22.336267471313477,
          -27.746503829956055,
          23.03632164001465,
          -18.762805938720703,
          -21.688716888427734,
          -70.43524169921875,
          27.13953399658203,
          -7.986030101776123,
          20.0790958404541,
          42.29183578491211,
          12.373164176940918,
          55.07447052001953,
          -15.055192947387695,
          24.029539108276367,
          32.179962158203125
         ],
         "yaxis": "y"
        },
        {
         "customdata": [
          [
           "Transportation/Logistics",
           "AAL"
          ],
          [
           "Transportation/Logistics",
           "AAL"
          ],
          [
           "Transportation/Logistics",
           "AAL"
          ],
          [
           "Transportation/Logistics",
           "DAL"
          ],
          [
           "Transportation/Logistics",
           "LUV"
          ],
          [
           "Transportation/Logistics",
           "ALGT"
          ],
          [
           "Transportation/Logistics",
           "ALGT"
          ],
          [
           "Transportation/Logistics",
           "ALGT"
          ],
          [
           "Transportation/Logistics",
           "ALGT"
          ],
          [
           "Transportation/Logistics",
           "ALGT"
          ],
          [
           "Transportation/Logistics",
           "ALGT"
          ],
          [
           "Transportation/Logistics",
           "SKYW"
          ],
          [
           "Transportation/Logistics",
           "SKYW"
          ],
          [
           "Transportation/Logistics",
           "SKYW"
          ],
          [
           "Transportation/Logistics",
           "SKYW"
          ],
          [
           "Transportation/Logistics",
           "JBLU"
          ],
          [
           "Transportation/Logistics",
           "UAL"
          ],
          [
           "Transportation/Logistics",
           "UAL"
          ],
          [
           "Transportation/Logistics",
           "UAL"
          ],
          [
           "Transportation/Logistics",
           "UAL"
          ],
          [
           "Transportation/Logistics",
           "UAL"
          ],
          [
           "Transportation/Logistics",
           "UAL"
          ],
          [
           "Transportation/Logistics",
           "UAL"
          ],
          [
           "Transportation/Logistics",
           "UAL"
          ],
          [
           "Transportation/Logistics",
           "UAL"
          ],
          [
           "Transportation/Logistics",
           "UAL"
          ],
          [
           "Transportation/Logistics",
           "UAL"
          ],
          [
           "Transportation/Logistics",
           "UAL"
          ],
          [
           "Transportation/Logistics",
           "UAL"
          ],
          [
           "Transportation/Logistics",
           "UAL"
          ],
          [
           "Transportation/Logistics",
           "UAL"
          ],
          [
           "Transportation/Logistics",
           "UAL"
          ],
          [
           "Transportation/Logistics",
           "UAL"
          ],
          [
           "Transportation/Logistics",
           "UAL"
          ],
          [
           "Transportation/Logistics",
           "UAL"
          ],
          [
           "Transportation/Logistics",
           "UAL"
          ],
          [
           "Transportation/Logistics",
           "UAL"
          ],
          [
           "Transportation/Logistics",
           "UAL"
          ],
          [
           "Transportation/Logistics",
           "UAL"
          ],
          [
           "Transportation/Logistics",
           "UAL"
          ],
          [
           "Transportation/Logistics",
           "UAL"
          ],
          [
           "Transportation/Logistics",
           "UAL"
          ],
          [
           "Transportation/Logistics",
           "UAL"
          ],
          [
           "Transportation/Logistics",
           "UAL"
          ],
          [
           "Transportation/Logistics",
           "UAL"
          ],
          [
           "Transportation/Logistics",
           "UAL"
          ],
          [
           "Transportation/Logistics",
           "UAL"
          ],
          [
           "Transportation/Logistics",
           "UAL"
          ],
          [
           "Transportation/Logistics",
           "UAL"
          ],
          [
           "Transportation/Logistics",
           "UAL"
          ],
          [
           "Transportation/Logistics",
           "UAL"
          ],
          [
           "Transportation/Logistics",
           "UAL"
          ],
          [
           "Transportation/Logistics",
           "UAL"
          ],
          [
           "Transportation/Logistics",
           "UAL"
          ],
          [
           "Transportation/Logistics",
           "UAL"
          ],
          [
           "Transportation/Logistics",
           "UAL"
          ],
          [
           "Transportation/Logistics",
           "UAL"
          ],
          [
           "Transportation/Logistics",
           "UAL"
          ],
          [
           "Transportation/Logistics",
           "UAL"
          ],
          [
           "Transportation/Logistics",
           "UAL"
          ],
          [
           "Transportation/Logistics",
           "UAL"
          ],
          [
           "Transportation/Logistics",
           "UAL"
          ],
          [
           "Transportation/Logistics",
           "UAL"
          ],
          [
           "Transportation/Logistics",
           "UAL"
          ],
          [
           "Transportation/Logistics",
           "UAL"
          ],
          [
           "Transportation/Logistics",
           "UAL"
          ],
          [
           "Transportation/Logistics",
           "UAL"
          ],
          [
           "Transportation/Logistics",
           "UAL"
          ],
          [
           "Transportation/Logistics",
           "UAL"
          ],
          [
           "Transportation/Logistics",
           "UAL"
          ],
          [
           "Transportation/Logistics",
           "UAL"
          ],
          [
           "Transportation/Logistics",
           "UAL"
          ],
          [
           "Transportation/Logistics",
           "UAL"
          ],
          [
           "Transportation/Logistics",
           "UAL"
          ],
          [
           "Transportation/Logistics",
           "UAL"
          ],
          [
           "Transportation/Logistics",
           "UAL"
          ],
          [
           "Transportation/Logistics",
           "UAL"
          ],
          [
           "Transportation/Logistics",
           "UAL"
          ],
          [
           "Transportation/Logistics",
           "UAL"
          ],
          [
           "Transportation/Logistics",
           "UAL"
          ],
          [
           "Transportation/Logistics",
           "UAL"
          ],
          [
           "Transportation/Logistics",
           "UAL"
          ],
          [
           "Transportation/Logistics",
           "UAL"
          ],
          [
           "Transportation/Logistics",
           "UAL"
          ],
          [
           "Transportation/Logistics",
           "UAL"
          ],
          [
           "Transportation/Logistics",
           "UAL"
          ],
          [
           "Transportation/Logistics",
           "UAL"
          ],
          [
           "Transportation/Logistics",
           "UAL"
          ],
          [
           "Transportation/Logistics",
           "UAL"
          ],
          [
           "Transportation/Logistics",
           "UAL"
          ],
          [
           "Transportation/Logistics",
           "UAL"
          ],
          [
           "Transportation/Logistics",
           "UAL"
          ],
          [
           "Transportation/Logistics",
           "UAL"
          ],
          [
           "Transportation/Logistics",
           "UAL"
          ],
          [
           "Transportation/Logistics",
           "UAL"
          ],
          [
           "Transportation/Logistics",
           "UAL"
          ],
          [
           "Transportation/Logistics",
           "UAL"
          ],
          [
           "Transportation/Logistics",
           "UAL"
          ],
          [
           "Transportation/Logistics",
           "UAL"
          ],
          [
           "Transportation/Logistics",
           "UAL"
          ],
          [
           "Transportation/Logistics",
           "UAL"
          ],
          [
           "Transportation/Logistics",
           "UAL"
          ],
          [
           "Transportation/Logistics",
           "UAL"
          ],
          [
           "Transportation/Logistics",
           "UAL"
          ],
          [
           "Transportation/Logistics",
           "UAL"
          ],
          [
           "Transportation/Logistics",
           "UAL"
          ],
          [
           "Transportation/Logistics",
           "UAL"
          ],
          [
           "Transportation/Logistics",
           "UAL"
          ],
          [
           "Transportation/Logistics",
           "UAL"
          ],
          [
           "Transportation/Logistics",
           "UAL"
          ],
          [
           "Transportation/Logistics",
           "UAL"
          ],
          [
           "Transportation/Logistics",
           "UAL"
          ],
          [
           "Transportation/Logistics",
           "UAL"
          ],
          [
           "Transportation/Logistics",
           "UAL"
          ],
          [
           "Transportation/Logistics",
           "UAL"
          ],
          [
           "Transportation/Logistics",
           "UAL"
          ],
          [
           "Transportation/Logistics",
           "UAL"
          ],
          [
           "Transportation/Logistics",
           "UAL"
          ],
          [
           "Transportation/Logistics",
           "UAL"
          ],
          [
           "Transportation/Logistics",
           "UAL"
          ],
          [
           "Transportation/Logistics",
           "UAL"
          ],
          [
           "Transportation/Logistics",
           "UAL"
          ],
          [
           "Transportation/Logistics",
           "UAL"
          ],
          [
           "Transportation/Logistics",
           "UAL"
          ],
          [
           "Transportation/Logistics",
           "UAL"
          ],
          [
           "Transportation/Logistics",
           "UAL"
          ],
          [
           "Transportation/Logistics",
           "UAL"
          ],
          [
           "Transportation/Logistics",
           "UAL"
          ],
          [
           "Transportation/Logistics",
           "UAL"
          ],
          [
           "Transportation/Logistics",
           "UAL"
          ],
          [
           "Transportation/Logistics",
           "UAL"
          ],
          [
           "Transportation/Logistics",
           "UAL"
          ],
          [
           "Transportation/Logistics",
           "UAL"
          ],
          [
           "Transportation/Logistics",
           "UAL"
          ],
          [
           "Transportation/Logistics",
           "UAL"
          ],
          [
           "Transportation/Logistics",
           "UAL"
          ],
          [
           "Transportation/Logistics",
           "UAL"
          ],
          [
           "Transportation/Logistics",
           "UAL"
          ],
          [
           "Transportation/Logistics",
           "UAL"
          ],
          [
           "Transportation/Logistics",
           "UAL"
          ],
          [
           "Transportation/Logistics",
           "UAL"
          ],
          [
           "Transportation/Logistics",
           "UAL"
          ],
          [
           "Transportation/Logistics",
           "UAL"
          ],
          [
           "Transportation/Logistics",
           "UAL"
          ],
          [
           "Transportation/Logistics",
           "UAL"
          ],
          [
           "Transportation/Logistics",
           "UAL"
          ],
          [
           "Transportation/Logistics",
           "UAL"
          ],
          [
           "Transportation/Logistics",
           "UAL"
          ],
          [
           "Transportation/Logistics",
           "UAL"
          ],
          [
           "Transportation/Logistics",
           "UAL"
          ],
          [
           "Transportation/Logistics",
           "UAL"
          ],
          [
           "Transportation/Logistics",
           "UAL"
          ],
          [
           "Transportation/Logistics",
           "UAL"
          ],
          [
           "Transportation/Logistics",
           "UAL"
          ],
          [
           "Transportation/Logistics",
           "UAL"
          ],
          [
           "Transportation/Logistics",
           "UAL"
          ],
          [
           "Transportation/Logistics",
           "UAL"
          ],
          [
           "Transportation/Logistics",
           "UAL"
          ],
          [
           "Transportation/Logistics",
           "UAL"
          ],
          [
           "Transportation/Logistics",
           "UAL"
          ],
          [
           "Transportation/Logistics",
           "UAL"
          ],
          [
           "Transportation/Logistics",
           "UAL"
          ],
          [
           "Transportation/Logistics",
           "UAL"
          ],
          [
           "Transportation/Logistics",
           "UAL"
          ],
          [
           "Transportation/Logistics",
           "UAL"
          ],
          [
           "Transportation/Logistics",
           "UAL"
          ],
          [
           "Transportation/Logistics",
           "UAL"
          ],
          [
           "Transportation/Logistics",
           "UAL"
          ],
          [
           "Transportation/Logistics",
           "UAL"
          ],
          [
           "Transportation/Logistics",
           "UAL"
          ],
          [
           "Transportation/Logistics",
           "UAL"
          ],
          [
           "Transportation/Logistics",
           "UAL"
          ],
          [
           "Transportation/Logistics",
           "UAL"
          ],
          [
           "Transportation/Logistics",
           "UAL"
          ],
          [
           "Transportation/Logistics",
           "UAL"
          ],
          [
           "Transportation/Logistics",
           "UAL"
          ],
          [
           "Transportation/Logistics",
           "UAL"
          ],
          [
           "Transportation/Logistics",
           "UAL"
          ],
          [
           "Transportation/Logistics",
           "UAL"
          ],
          [
           "Transportation/Logistics",
           "UAL"
          ],
          [
           "Transportation/Logistics",
           "UAL"
          ],
          [
           "Transportation/Logistics",
           "UAL"
          ],
          [
           "Transportation/Logistics",
           "UAL"
          ],
          [
           "Transportation/Logistics",
           "UAL"
          ],
          [
           "Transportation/Logistics",
           "UAL"
          ],
          [
           "Transportation/Logistics",
           "UAL"
          ],
          [
           "Transportation/Logistics",
           "UAL"
          ],
          [
           "Transportation/Logistics",
           "UAL"
          ],
          [
           "Transportation/Logistics",
           "UAL"
          ],
          [
           "Transportation/Logistics",
           "UAL"
          ],
          [
           "Transportation/Logistics",
           "UAL"
          ],
          [
           "Transportation/Logistics",
           "UAL"
          ],
          [
           "Transportation/Logistics",
           "UAL"
          ],
          [
           "Transportation/Logistics",
           "UAL"
          ],
          [
           "Transportation/Logistics",
           "UAL"
          ],
          [
           "Transportation/Logistics",
           "UAL"
          ],
          [
           "Transportation/Logistics",
           "UAL"
          ],
          [
           "Transportation/Logistics",
           "UAL"
          ],
          [
           "Transportation/Logistics",
           "UAL"
          ],
          [
           "Transportation/Logistics",
           "UAL"
          ],
          [
           "Transportation/Logistics",
           "UAL"
          ],
          [
           "Transportation/Logistics",
           "UAL"
          ],
          [
           "Transportation/Logistics",
           "UAL"
          ],
          [
           "Transportation/Logistics",
           "UAL"
          ],
          [
           "Transportation/Logistics",
           "UAL"
          ],
          [
           "Transportation/Logistics",
           "UAL"
          ],
          [
           "Transportation/Logistics",
           "UAL"
          ],
          [
           "Transportation/Logistics",
           "UAL"
          ],
          [
           "Transportation/Logistics",
           "UAL"
          ],
          [
           "Transportation/Logistics",
           "UAL"
          ],
          [
           "Transportation/Logistics",
           "UAL"
          ],
          [
           "Transportation/Logistics",
           "UAL"
          ],
          [
           "Transportation/Logistics",
           "UAL"
          ],
          [
           "Transportation/Logistics",
           "UAL"
          ],
          [
           "Transportation/Logistics",
           "UAL"
          ],
          [
           "Transportation/Logistics",
           "UAL"
          ],
          [
           "Transportation/Logistics",
           "UAL"
          ],
          [
           "Transportation/Logistics",
           "UAL"
          ],
          [
           "Transportation/Logistics",
           "UAL"
          ],
          [
           "Transportation/Logistics",
           "UAL"
          ],
          [
           "Transportation/Logistics",
           "UAL"
          ],
          [
           "Transportation/Logistics",
           "UAL"
          ],
          [
           "Transportation/Logistics",
           "UAL"
          ],
          [
           "Transportation/Logistics",
           "UAL"
          ],
          [
           "Transportation/Logistics",
           "UAL"
          ],
          [
           "Transportation/Logistics",
           "UAL"
          ],
          [
           "Transportation/Logistics",
           "UAL"
          ],
          [
           "Transportation/Logistics",
           "UAL"
          ],
          [
           "Transportation/Logistics",
           "UAL"
          ],
          [
           "Transportation/Logistics",
           "UAL"
          ],
          [
           "Transportation/Logistics",
           "UAL"
          ],
          [
           "Transportation/Logistics",
           "UAL"
          ],
          [
           "Transportation/Logistics",
           "UAL"
          ],
          [
           "Transportation/Logistics",
           "UAL"
          ],
          [
           "Transportation/Logistics",
           "UAL"
          ],
          [
           "Transportation/Logistics",
           "UAL"
          ],
          [
           "Transportation/Logistics",
           "UAL"
          ],
          [
           "Transportation/Logistics",
           "UAL"
          ],
          [
           "Transportation/Logistics",
           "UAL"
          ],
          [
           "Transportation/Logistics",
           "UAL"
          ],
          [
           "Transportation/Logistics",
           "UAL"
          ],
          [
           "Transportation/Logistics",
           "UAL"
          ],
          [
           "Transportation/Logistics",
           "UAL"
          ],
          [
           "Transportation/Logistics",
           "UAL"
          ],
          [
           "Transportation/Logistics",
           "UAL"
          ],
          [
           "Transportation/Logistics",
           "UAL"
          ],
          [
           "Transportation/Logistics",
           "UAL"
          ],
          [
           "Transportation/Logistics",
           "UAL"
          ],
          [
           "Transportation/Logistics",
           "UAL"
          ],
          [
           "Transportation/Logistics",
           "UAL"
          ],
          [
           "Transportation/Logistics",
           "UAL"
          ],
          [
           "Transportation/Logistics",
           "UAL"
          ],
          [
           "Transportation/Logistics",
           "UAL"
          ],
          [
           "Transportation/Logistics",
           "UAL"
          ],
          [
           "Transportation/Logistics",
           "UAL"
          ],
          [
           "Transportation/Logistics",
           "UAL"
          ],
          [
           "Transportation/Logistics",
           "UAL"
          ],
          [
           "Transportation/Logistics",
           "UAL"
          ],
          [
           "Transportation/Logistics",
           "UAL"
          ],
          [
           "Transportation/Logistics",
           "UAL"
          ],
          [
           "Transportation/Logistics",
           "UAL"
          ],
          [
           "Transportation/Logistics",
           "UAL"
          ],
          [
           "Transportation/Logistics",
           "UAL"
          ],
          [
           "Transportation/Logistics",
           "UAL"
          ],
          [
           "Transportation/Logistics",
           "UAL"
          ],
          [
           "Transportation/Logistics",
           "UAL"
          ],
          [
           "Transportation/Logistics",
           "UAL"
          ],
          [
           "Transportation/Logistics",
           "UAL"
          ],
          [
           "Transportation/Logistics",
           "UAL"
          ],
          [
           "Transportation/Logistics",
           "UAL"
          ],
          [
           "Transportation/Logistics",
           "UAL"
          ],
          [
           "Transportation/Logistics",
           "UAL"
          ],
          [
           "Transportation/Logistics",
           "UAL"
          ],
          [
           "Transportation/Logistics",
           "UAL"
          ],
          [
           "Transportation/Logistics",
           "UAL"
          ],
          [
           "Transportation/Logistics",
           "UAL"
          ],
          [
           "Transportation/Logistics",
           "UAL"
          ],
          [
           "Transportation/Logistics",
           "UAL"
          ],
          [
           "Transportation/Logistics",
           "UAL"
          ],
          [
           "Transportation/Logistics",
           "UAL"
          ],
          [
           "Transportation/Logistics",
           "UAL"
          ],
          [
           "Transportation/Logistics",
           "UAL"
          ],
          [
           "Transportation/Logistics",
           "UAL"
          ],
          [
           "Transportation/Logistics",
           "UAL"
          ],
          [
           "Transportation/Logistics",
           "UAL"
          ],
          [
           "Transportation/Logistics",
           "UAL"
          ],
          [
           "Transportation/Logistics",
           "UAL"
          ],
          [
           "Transportation/Logistics",
           "UAL"
          ],
          [
           "Transportation/Logistics",
           "UAL"
          ],
          [
           "Transportation/Logistics",
           "UAL"
          ],
          [
           "Transportation/Logistics",
           "UAL"
          ],
          [
           "Transportation/Logistics",
           "UAL"
          ],
          [
           "Transportation/Logistics",
           "UAL"
          ],
          [
           "Transportation/Logistics",
           "UAL"
          ],
          [
           "Transportation/Logistics",
           "UAL"
          ],
          [
           "Transportation/Logistics",
           "UAL"
          ],
          [
           "Transportation/Logistics",
           "UAL"
          ],
          [
           "Transportation/Logistics",
           "UAL"
          ],
          [
           "Transportation/Logistics",
           "UAL"
          ],
          [
           "Transportation/Logistics",
           "UAL"
          ],
          [
           "Transportation/Logistics",
           "UAL"
          ],
          [
           "Transportation/Logistics",
           "UAL"
          ],
          [
           "Transportation/Logistics",
           "UAL"
          ],
          [
           "Transportation/Logistics",
           "UAL"
          ],
          [
           "Transportation/Logistics",
           "UAL"
          ],
          [
           "Transportation/Logistics",
           "UAL"
          ],
          [
           "Transportation/Logistics",
           "UAL"
          ],
          [
           "Transportation/Logistics",
           "UAL"
          ],
          [
           "Transportation/Logistics",
           "UAL"
          ],
          [
           "Transportation/Logistics",
           "UAL"
          ],
          [
           "Transportation/Logistics",
           "UAL"
          ],
          [
           "Transportation/Logistics",
           "UAL"
          ],
          [
           "Transportation/Logistics",
           "UAL"
          ],
          [
           "Transportation/Logistics",
           "UAL"
          ],
          [
           "Transportation/Logistics",
           "UAL"
          ],
          [
           "Transportation/Logistics",
           "UAL"
          ],
          [
           "Transportation/Logistics",
           "UAL"
          ],
          [
           "Transportation/Logistics",
           "UAL"
          ],
          [
           "Transportation/Logistics",
           "UAL"
          ]
         ],
         "hoverlabel": {
          "namelength": 0
         },
         "hovertemplate": "sector=%{customdata[0]}<br>x=%{x}<br>y=%{y}<br>symb=%{customdata[1]}",
         "legendgroup": "Transportation/Logistics",
         "marker": {
          "color": "#636efa",
          "symbol": "circle"
         },
         "mode": "markers",
         "name": "Transportation/Logistics",
         "showlegend": true,
         "type": "scattergl",
         "x": [
          52.88043212890625,
          -41.52521896362305,
          -30.027297973632812,
          7.38554573059082,
          1.2381188869476318,
          -11.397320747375488,
          14.777399063110352,
          44.108619689941406,
          -33.308677673339844,
          51.19335174560547,
          -16.525819778442383,
          9.534036636352539,
          -38.487586975097656,
          15.99041748046875,
          51.31972885131836,
          -37.87895965576172,
          7.420228958129883,
          -54.81140899658203,
          55.5095100402832,
          -42.305084228515625,
          -41.21700668334961,
          -34.327964782714844,
          55.50616455078125,
          55.08366394042969,
          -42.106327056884766,
          -41.852901458740234,
          -52.02964401245117,
          8.535249710083008,
          -39.25336456298828,
          16.674606323242188,
          41.81631851196289,
          44.63125991821289,
          56.4274787902832,
          56.59712600708008,
          55.679195404052734,
          -52.672264099121094,
          55.58987808227539,
          56.16170120239258,
          -40.16228103637695,
          8.452872276306152,
          -25.121347427368164,
          13.36058235168457,
          44.0390625,
          44.262508392333984,
          -38.804786682128906,
          55.77678298950195,
          13.83832836151123,
          33.68101119995117,
          23.054180145263672,
          29.046443939208984,
          44.08574676513672,
          16.070219039916992,
          49.453006744384766,
          -51.15177536010742,
          15.367788314819336,
          -53.840240478515625,
          -12.024292945861816,
          51.40217971801758,
          -29.112735748291016,
          33.78704833984375,
          36.522274017333984,
          47.560646057128906,
          -8.545248985290527,
          -34.18008041381836,
          0.7745939493179321,
          -38.629398345947266,
          -31.349700927734375,
          -49.4525032043457,
          -15.410521507263184,
          51.95317459106445,
          -8.25456714630127,
          58.53915023803711,
          12.145763397216797,
          33.27007293701172,
          17.02138328552246,
          35.347354888916016,
          13.40793228149414,
          49.563514709472656,
          44.141021728515625,
          -30.59605598449707,
          0.29323291778564453,
          -4.396381855010986,
          -3.4420411586761475,
          -44.628902435302734,
          -24.9351863861084,
          51.77379608154297,
          -5.240128517150879,
          49.81277847290039,
          -54.42276382446289,
          12.748896598815918,
          -40.383514404296875,
          52.93229293823242,
          48.822837829589844,
          54.08457946777344,
          36.68434143066406,
          -41.070037841796875,
          -40.831390380859375,
          49.74105453491211,
          47.62805938720703,
          48.30198287963867,
          8.019172668457031,
          -30.07730484008789,
          46.82266616821289,
          31.66265296936035,
          16.712047576904297,
          48.88802719116211,
          -40.936553955078125,
          -41.3303108215332,
          14.834476470947266,
          -4.832788944244385,
          -25.3450984954834,
          3.6814217567443848,
          47.83360290527344,
          50.37412643432617,
          14.796282768249512,
          14.605083465576172,
          -46.01063919067383,
          -38.567813873291016,
          15.540177345275879,
          29.863910675048828,
          51.96038055419922,
          17.67587661743164,
          -38.011627197265625,
          -36.24225997924805,
          50.829959869384766,
          47.583431243896484,
          -40.951053619384766,
          -40.94466781616211,
          48.46616744995117,
          -32.640037536621094,
          48.967952728271484,
          -35.66019821166992,
          47.135169982910156,
          49.92931365966797,
          45.22891616821289,
          48.78168869018555,
          -38.597801208496094,
          50.9234619140625,
          -29.554569244384766,
          -1.5824640989303589,
          50.1904411315918,
          55.923309326171875,
          49.08071517944336,
          49.52719497680664,
          -24.843605041503906,
          -32.3644905090332,
          44.80160140991211,
          50.873870849609375,
          47.314430236816406,
          21.150144577026367,
          42.02861785888672,
          -34.80097961425781,
          -43.49051284790039,
          27.025596618652344,
          47.232845306396484,
          46.17621994018555,
          -43.32857894897461,
          3.7599997520446777,
          -41.27336883544922,
          -24.15510368347168,
          -37.50957107543945,
          41.07327651977539,
          -12.906168937683105,
          27.6096248626709,
          27.21768569946289,
          31.548919677734375,
          23.93967628479004,
          46.00385284423828,
          58.57012939453125,
          29.996667861938477,
          -46.801673889160156,
          50.07617950439453,
          -18.409812927246094,
          -19.468156814575195,
          -8.0095853805542,
          51.962650299072266,
          42.389278411865234,
          57.35588073730469,
          -46.96500015258789,
          7.657472133636475,
          -43.83598709106445,
          -0.11783614009618759,
          -24.174640655517578,
          3.9710073471069336,
          13.942939758300781,
          -30.420997619628906,
          50.53382873535156,
          19.16577911376953,
          14.044894218444824,
          43.407955169677734,
          -52.88460159301758,
          -34.97426223754883,
          54.46579360961914,
          -42.77339553833008,
          -49.23392868041992,
          -40.60158157348633,
          44.964481353759766,
          47.0525016784668,
          47.107582092285156,
          -40.12541961669922,
          25.70037841796875,
          27.744413375854492,
          42.8105354309082,
          -37.47792434692383,
          48.433692932128906,
          -13.741113662719727,
          50.8724479675293,
          52.19865036010742,
          46.730445861816406,
          46.749141693115234,
          23.781681060791016,
          -43.82508087158203,
          -45.972774505615234,
          0.5058969259262085,
          -25.389934539794922,
          45.060726165771484,
          46.76155090332031,
          44.43255615234375,
          38.77381134033203,
          12.609241485595703,
          47.416439056396484,
          34.08113479614258,
          33.43003463745117,
          50.03907012939453,
          -40.08202362060547,
          46.47909927368164,
          43.06653594970703,
          44.406455993652344,
          46.9570198059082,
          -44.05745315551758,
          49.46165084838867,
          -41.26931381225586,
          43.85678482055664,
          -0.3374936282634735,
          33.389102935791016,
          46.288291931152344,
          10.169841766357422,
          -1.753170132637024,
          31.299219131469727,
          43.1073112487793,
          33.12971496582031,
          48.33059310913086,
          25.683979034423828,
          33.68340301513672,
          33.62786865234375,
          50.23194885253906,
          31.662633895874023,
          3.8126957416534424,
          48.71479415893555,
          42.89530563354492,
          50.46392059326172,
          29.69211196899414,
          45.93765640258789,
          -5.280072212219238,
          -39.23252487182617,
          7.570272445678711,
          -25.688491821289062,
          -39.93199157714844,
          11.840530395507812,
          15.033005714416504,
          6.064711570739746,
          42.462738037109375,
          48.64573287963867,
          37.7349853515625,
          10.737357139587402,
          -45.672115325927734,
          22.347169876098633,
          0.30230948328971863,
          45.012657165527344,
          -39.4407844543457,
          -3.72554087638855,
          -24.51657485961914,
          6.922895908355713,
          29.05765151977539,
          12.308146476745605,
          -32.76959991455078,
          -17.2285213470459,
          -42.9765739440918,
          8.357491493225098,
          54.12479019165039,
          48.96624755859375,
          53.71660232543945,
          41.48430633544922,
          48.288047790527344,
          -40.40688705444336,
          -11.528191566467285,
          -39.465789794921875,
          37.95892333984375,
          -45.67656707763672,
          -12.67226505279541,
          -31.685287475585938,
          -31.758508682250977,
          45.93701934814453,
          -15.686652183532715,
          -31.623388290405273,
          34.239681243896484,
          8.828181266784668,
          55.44024658203125,
          -15.95615291595459,
          55.49848175048828,
          47.285308837890625,
          -39.80290222167969,
          -45.74666976928711,
          47.88087463378906,
          48.20512008666992,
          47.02861404418945,
          45.778141021728516,
          46.37574768066406,
          2.1244277954101562,
          2.049574851989746,
          47.709224700927734,
          48.138999938964844,
          -42.959205627441406,
          -23.13063621520996,
          -24.89655876159668,
          47.129432678222656,
          -38.82655715942383,
          8.342129707336426,
          46.85630798339844
         ],
         "xaxis": "x",
         "y": [
          -12.83741283416748,
          17.28134536743164,
          16.558000564575195,
          -7.3628950119018555,
          -14.49750804901123,
          -37.70250701904297,
          -7.098139762878418,
          -24.296592712402344,
          15.202535629272461,
          -22.32201385498047,
          -20.250957489013672,
          54.74901580810547,
          18.91684913635254,
          29.21918296813965,
          -17.97563934326172,
          17.127304077148438,
          -7.332712650299072,
          -17.762819290161133,
          -8.668703079223633,
          18.371118545532227,
          18.88086700439453,
          13.26718807220459,
          -8.28393268585205,
          2.070086717605591,
          18.5801944732666,
          18.318138122558594,
          17.353260040283203,
          29.038713455200195,
          20.37607765197754,
          25.825382232666016,
          -27.99553108215332,
          -25.830852508544922,
          -0.6084402203559875,
          -7.939795970916748,
          -7.627834796905518,
          -19.584625244140625,
          -7.499588489532471,
          -8.291730880737305,
          19.177776336669922,
          32.07191467285156,
          48.83629608154297,
          49.76343536376953,
          -17.24469566345215,
          -25.54070472717285,
          19.810684204101562,
          -11.845386505126953,
          26.427959442138672,
          -9.309788703918457,
          24.09391212463379,
          35.417457580566406,
          -23.965768814086914,
          27.73353385925293,
          -25.074861526489258,
          -9.968663215637207,
          27.08615493774414,
          12.930990219116211,
          0.9212162494659424,
          -10.667603492736816,
          -4.798641204833984,
          -14.400388717651367,
          -8.993935585021973,
          -27.320201873779297,
          -45.376190185546875,
          14.568550109863281,
          -32.576690673828125,
          19.69756317138672,
          11.773871421813965,
          -7.930871486663818,
          42.537132263183594,
          -9.30317497253418,
          -3.467297077178955,
          -11.070661544799805,
          25.946712493896484,
          -2.822206497192383,
          31.050703048706055,
          -5.580759048461914,
          -34.501590728759766,
          -20.975908279418945,
          -23.38470458984375,
          12.8417387008667,
          0.43332934379577637,
          7.6347503662109375,
          7.750496864318848,
          -10.128128051757812,
          48.91593551635742,
          -10.420516014099121,
          -37.04884719848633,
          -8.418009757995605,
          -32.160335540771484,
          -75.23240661621094,
          19.677736282348633,
          -12.513888359069824,
          -8.996169090270996,
          -5.188434600830078,
          -8.866865158081055,
          20.145801544189453,
          21.043230056762695,
          -19.419857025146484,
          -8.360103607177734,
          -6.930651664733887,
          53.94737243652344,
          13.602879524230957,
          -8.396265029907227,
          -35.54299545288086,
          26.36924934387207,
          -8.86513900756836,
          -11.72591495513916,
          21.559818267822266,
          27.470441818237305,
          -33.34458541870117,
          50.240692138671875,
          0.5111409425735474,
          -9.00089168548584,
          -22.873334884643555,
          -7.109556674957275,
          19.890766143798828,
          -12.514945030212402,
          18.753711700439453,
          25.763729095458984,
          -22.45938491821289,
          -9.47459602355957,
          28.58493995666504,
          18.015552520751953,
          17.628005981445312,
          -10.713375091552734,
          -9.79886245727539,
          16.824392318725586,
          16.938467025756836,
          -18.80088233947754,
          15.073821067810059,
          -9.534196853637695,
          -19.029712677001953,
          -20.78318977355957,
          -14.895541191101074,
          -19.055620193481445,
          -19.25383949279785,
          17.999608993530273,
          -20.246601104736328,
          17.004369735717773,
          -6.7936577796936035,
          -22.853736877441406,
          -11.503684997558594,
          -13.730931282043457,
          -12.6603422164917,
          49.130699157714844,
          12.595720291137695,
          -22.21464729309082,
          -17.124797821044922,
          -24.372467041015625,
          -11.17150592803955,
          -24.330596923828125,
          15.416329383850098,
          -8.192950248718262,
          -7.549377918243408,
          -13.622997283935547,
          -15.881361961364746,
          -12.628890991210938,
          -33.4685173034668,
          19.356300354003906,
          48.998355865478516,
          18.994131088256836,
          -21.89389419555664,
          -47.52398681640625,
          -21.393943786621094,
          -6.563206672668457,
          -27.960979461669922,
          47.85490798950195,
          -22.83141326904297,
          -11.039159774780273,
          35.205780029296875,
          12.538959503173828,
          -16.99599266052246,
          24.16920280456543,
          26.01911163330078,
          -3.4822628498077393,
          -16.91555404663086,
          -19.015108108520508,
          -7.8067522048950195,
          -10.460627555847168,
          31.427587509155273,
          30.20734405517578,
          -39.69881820678711,
          48.737632751464844,
          -44.886409759521484,
          28.989524841308594,
          12.324639320373535,
          -14.779275894165039,
          -22.247541427612305,
          25.183073043823242,
          -25.164390563964844,
          -11.177231788635254,
          14.638157844543457,
          -14.431306838989258,
          -12.934619903564453,
          -0.6398365497589111,
          20.010194778442383,
          -22.88632583618164,
          -20.1354923248291,
          -19.29985237121582,
          20.813989639282227,
          26.5321102142334,
          30.85238265991211,
          -23.960235595703125,
          18.98673439025879,
          -14.332672119140625,
          -37.502113342285156,
          -17.139429092407227,
          -16.553159713745117,
          -16.75249481201172,
          -21.8632755279541,
          23.673526763916016,
          -2.6177268028259277,
          12.462635040283203,
          39.647491455078125,
          48.807857513427734,
          -23.813819885253906,
          -18.99666404724121,
          -20.012451171875,
          -16.72330093383789,
          -8.675261497497559,
          -18.03839683532715,
          -6.824909210205078,
          -8.356009483337402,
          -24.68141746520996,
          18.82062339782715,
          -25.73013687133789,
          -15.423762321472168,
          -23.089309692382812,
          -15.242500305175781,
          -18.758275985717773,
          -14.784791946411133,
          20.656597137451172,
          -26.960451126098633,
          -33.932456970214844,
          -8.41128158569336,
          -18.268783569335938,
          -35.418819427490234,
          -40.473758697509766,
          -5.763627052307129,
          -15.440710067749023,
          -5.7865471839904785,
          -22.762462615966797,
          6.20953893661499,
          -6.118931293487549,
          -5.991477012634277,
          -16.078289031982422,
          -32.513519287109375,
          -36.67988204956055,
          -13.133430480957031,
          -21.757606506347656,
          -16.585403442382812,
          -21.950395584106445,
          -21.29400634765625,
          4.604066848754883,
          17.79887580871582,
          32.545135498046875,
          47.30377197265625,
          -13.507685661315918,
          28.27348518371582,
          -32.75358963012695,
          -32.57545471191406,
          -20.23421859741211,
          -13.786714553833008,
          -24.877910614013672,
          -19.251096725463867,
          -7.937310218811035,
          47.41571807861328,
          24.1552791595459,
          -21.400772094726562,
          -15.072394371032715,
          -42.57463073730469,
          50.054527282714844,
          -40.19978332519531,
          -27.832979202270508,
          27.78733253479004,
          12.59529972076416,
          26.26384925842285,
          21.27151870727539,
          -6.9728569984436035,
          -4.788996696472168,
          -14.859997749328613,
          -11.705318450927734,
          -23.728410720825195,
          -22.693435668945312,
          18.429670333862305,
          -47.781463623046875,
          18.126773834228516,
          -23.461902618408203,
          27.88250160217285,
          -48.40866470336914,
          12.988463401794434,
          14.195361137390137,
          -22.682649612426758,
          42.53425598144531,
          12.658272743225098,
          -33.43516159057617,
          -5.365082263946533,
          -10.851969718933105,
          -23.29307746887207,
          -10.99856185913086,
          -19.91541290283203,
          16.980484008789062,
          -1.034355640411377,
          -16.155954360961914,
          -22.37027931213379,
          -18.128332138061523,
          -19.704753875732422,
          -20.056865692138672,
          35.69459915161133,
          35.579524993896484,
          -14.661548614501953,
          -17.204971313476562,
          21.095508575439453,
          49.046905517578125,
          49.98889923095703,
          -16.539997100830078,
          -10.05569076538086,
          30.7537841796875,
          -17.355602264404297
         ],
         "yaxis": "y"
        },
        {
         "customdata": [
          [
           "Telecommunication Services",
           "T"
          ],
          [
           "Telecommunication Services",
           "T"
          ]
         ],
         "hoverlabel": {
          "namelength": 0
         },
         "hovertemplate": "sector=%{customdata[0]}<br>x=%{x}<br>y=%{y}<br>symb=%{customdata[1]}",
         "legendgroup": "Telecommunication Services",
         "marker": {
          "color": "#EF553B",
          "symbol": "circle"
         },
         "mode": "markers",
         "name": "Telecommunication Services",
         "showlegend": true,
         "type": "scattergl",
         "x": [
          12.511628150939941,
          20.146705627441406
         ],
         "xaxis": "x",
         "y": [
          -2.2689619064331055,
          46.80332565307617
         ],
         "yaxis": "y"
        },
        {
         "customdata": [
          [
           "Companies on the Energy Service",
           "XOM"
          ],
          [
           "Companies on the Energy Service",
           "XOM"
          ],
          [
           "Companies on the Energy Service",
           "XOM"
          ]
         ],
         "hoverlabel": {
          "namelength": 0
         },
         "hovertemplate": "sector=%{customdata[0]}<br>x=%{x}<br>y=%{y}<br>symb=%{customdata[1]}",
         "legendgroup": "Companies on the Energy Service",
         "marker": {
          "color": "#00cc96",
          "symbol": "circle"
         },
         "mode": "markers",
         "name": "Companies on the Energy Service",
         "showlegend": true,
         "type": "scattergl",
         "x": [
          -45.0978889465332,
          21.186893463134766,
          -24.851974487304688
         ],
         "xaxis": "x",
         "y": [
          23.852832794189453,
          -11.247129440307617,
          -17.44792938232422
         ],
         "yaxis": "y"
        },
        {
         "customdata": [
          [
           "Basic Materials/Resources",
           "ALB"
          ],
          [
           "Basic Materials/Resources",
           "ALB"
          ],
          [
           "Basic Materials/Resources",
           "ALB"
          ],
          [
           "Basic Materials/Resources",
           "ALB"
          ],
          [
           "Basic Materials/Resources",
           "ALB"
          ],
          [
           "Basic Materials/Resources",
           "GOLD"
          ],
          [
           "Basic Materials/Resources",
           "GOLD"
          ],
          [
           "Basic Materials/Resources",
           "GOLD"
          ],
          [
           "Basic Materials/Resources",
           "GOLD"
          ],
          [
           "Basic Materials/Resources",
           "GOLD"
          ],
          [
           "Basic Materials/Resources",
           "BHP"
          ],
          [
           "Basic Materials/Resources",
           "BHP"
          ],
          [
           "Basic Materials/Resources",
           "BHP"
          ],
          [
           "Basic Materials/Resources",
           "BHP"
          ],
          [
           "Basic Materials/Resources",
           "BHP"
          ],
          [
           "Basic Materials/Resources",
           "BHP"
          ],
          [
           "Basic Materials/Resources",
           "RIO"
          ],
          [
           "Basic Materials/Resources",
           "RIO"
          ],
          [
           "Basic Materials/Resources",
           "RIO"
          ],
          [
           "Basic Materials/Resources",
           "RIO"
          ],
          [
           "Basic Materials/Resources",
           "RIO"
          ],
          [
           "Basic Materials/Resources",
           "SCCO"
          ],
          [
           "Basic Materials/Resources",
           "SCCO"
          ],
          [
           "Basic Materials/Resources",
           "SCCO"
          ],
          [
           "Basic Materials/Resources",
           "SCCO"
          ],
          [
           "Basic Materials/Resources",
           "SCCO"
          ],
          [
           "Basic Materials/Resources",
           "SCCO"
          ],
          [
           "Basic Materials/Resources",
           "SCCO"
          ],
          [
           "Basic Materials/Resources",
           "SCCO"
          ],
          [
           "Basic Materials/Resources",
           "SCCO"
          ],
          [
           "Basic Materials/Resources",
           "SCCO"
          ],
          [
           "Basic Materials/Resources",
           "SCCO"
          ],
          [
           "Basic Materials/Resources",
           "SCCO"
          ],
          [
           "Basic Materials/Resources",
           "SCCO"
          ],
          [
           "Basic Materials/Resources",
           "SCCO"
          ],
          [
           "Basic Materials/Resources",
           "SCCO"
          ],
          [
           "Basic Materials/Resources",
           "SCCO"
          ],
          [
           "Basic Materials/Resources",
           "SCCO"
          ],
          [
           "Basic Materials/Resources",
           "SCCO"
          ],
          [
           "Basic Materials/Resources",
           "SCCO"
          ],
          [
           "Basic Materials/Resources",
           "SCCO"
          ],
          [
           "Basic Materials/Resources",
           "SCCO"
          ],
          [
           "Basic Materials/Resources",
           "SCCO"
          ],
          [
           "Basic Materials/Resources",
           "SCCO"
          ],
          [
           "Basic Materials/Resources",
           "SCCO"
          ],
          [
           "Basic Materials/Resources",
           "SCCO"
          ],
          [
           "Basic Materials/Resources",
           "SCCO"
          ],
          [
           "Basic Materials/Resources",
           "SCCO"
          ],
          [
           "Basic Materials/Resources",
           "SCCO"
          ],
          [
           "Basic Materials/Resources",
           "SCCO"
          ],
          [
           "Basic Materials/Resources",
           "SCCO"
          ],
          [
           "Basic Materials/Resources",
           "SCCO"
          ],
          [
           "Basic Materials/Resources",
           "SCCO"
          ],
          [
           "Basic Materials/Resources",
           "SCCO"
          ],
          [
           "Basic Materials/Resources",
           "SCCO"
          ],
          [
           "Basic Materials/Resources",
           "SCCO"
          ],
          [
           "Basic Materials/Resources",
           "SCCO"
          ],
          [
           "Basic Materials/Resources",
           "SCCO"
          ],
          [
           "Basic Materials/Resources",
           "SCCO"
          ],
          [
           "Basic Materials/Resources",
           "SCCO"
          ],
          [
           "Basic Materials/Resources",
           "SCCO"
          ],
          [
           "Basic Materials/Resources",
           "SCCO"
          ],
          [
           "Basic Materials/Resources",
           "SCCO"
          ],
          [
           "Basic Materials/Resources",
           "SCCO"
          ],
          [
           "Basic Materials/Resources",
           "SCCO"
          ],
          [
           "Basic Materials/Resources",
           "SCCO"
          ],
          [
           "Basic Materials/Resources",
           "SCCO"
          ]
         ],
         "hoverlabel": {
          "namelength": 0
         },
         "hovertemplate": "sector=%{customdata[0]}<br>x=%{x}<br>y=%{y}<br>symb=%{customdata[1]}",
         "legendgroup": "Basic Materials/Resources",
         "marker": {
          "color": "#ab63fa",
          "symbol": "circle"
         },
         "mode": "markers",
         "name": "Basic Materials/Resources",
         "showlegend": true,
         "type": "scattergl",
         "x": [
          9.974996566772461,
          -10.235795021057129,
          7.022885799407959,
          -14.849141120910645,
          -19.211238861083984,
          -9.75037670135498,
          4.528697967529297,
          -51.48896789550781,
          -19.68973731994629,
          -12.33692741394043,
          -61.01967239379883,
          -57.59481430053711,
          -22.305217742919922,
          -12.302696228027344,
          5.699613094329834,
          -59.67644119262695,
          -50.18797302246094,
          5.646168231964111,
          -55.397499084472656,
          5.337392330169678,
          -55.2527961730957,
          13.0346097946167,
          5.281074523925781,
          4.00847053527832,
          4.367868423461914,
          19.75855255126953,
          1.204586148262024,
          12.458507537841797,
          10.758532524108887,
          -46.30067825317383,
          -59.125099182128906,
          1.5852675437927246,
          -53.997867584228516,
          12.814247131347656,
          -33.08248519897461,
          7.763975143432617,
          12.151711463928223,
          13.086589813232422,
          1.0210402011871338,
          -54.38924789428711,
          13.815537452697754,
          14.750190734863281,
          4.022122383117676,
          2.8605241775512695,
          -13.831982612609863,
          2.0129075050354004,
          -53.76448440551758,
          14.574959754943848,
          14.085034370422363,
          -36.86838912963867,
          -28.435544967651367,
          3.1504080295562744,
          -36.89296340942383,
          -33.639854431152344,
          -19.346817016601562,
          -53.95729446411133,
          14.110393524169922,
          2.0810012817382812,
          3.3702609539031982,
          16.53837776184082,
          4.486672401428223,
          -33.04497528076172,
          -2.4966962337493896,
          -32.52281188964844,
          1.4615103006362915,
          11.089173316955566,
          9.98039436340332
         ],
         "xaxis": "x",
         "y": [
          55.11521911621094,
          -30.667171478271484,
          -22.705026626586914,
          -28.09833526611328,
          -26.350120544433594,
          40.122493743896484,
          -28.011409759521484,
          -10.2037935256958,
          40.25977325439453,
          -44.45696258544922,
          -14.622608184814453,
          -17.11054801940918,
          -5.679729461669922,
          -8.282119750976562,
          -17.201488494873047,
          -12.122122764587402,
          -23.93722152709961,
          -6.960962772369385,
          -20.42835807800293,
          -7.021190166473389,
          -20.45807647705078,
          -76.1240463256836,
          -17.459186553955078,
          -17.911930084228516,
          -18.10070037841797,
          -35.556617736816406,
          -27.193777084350586,
          -74.91109466552734,
          -75.34632873535156,
          28.191463470458984,
          -15.175886154174805,
          -28.059749603271484,
          -33.2496223449707,
          -73.7035140991211,
          -10.65259838104248,
          -38.19838333129883,
          -73.39335632324219,
          -72.81404113769531,
          -27.578895568847656,
          -33.5259895324707,
          -73.40525817871094,
          -11.65420150756836,
          -20.306150436401367,
          -20.197978973388672,
          -34.96366882324219,
          -20.608612060546875,
          -33.82126235961914,
          -72.94680786132812,
          -72.48829650878906,
          -25.043106079101562,
          24.186256408691406,
          -18.215421676635742,
          -25.034992218017578,
          -8.412810325622559,
          -18.6674861907959,
          -33.23500061035156,
          -73.77522277832031,
          -28.165952682495117,
          -18.584375381469727,
          -32.88399124145508,
          -18.462017059326172,
          -12.612018585205078,
          -46.176265716552734,
          -13.097801208496094,
          -20.95771598815918,
          -73.14388275146484,
          -72.8558578491211
         ],
         "yaxis": "y"
        }
       ],
       "layout": {
        "legend": {
         "title": {
          "text": "sector"
         },
         "tracegroupgap": 0
        },
        "margin": {
         "t": 60
        },
        "template": {
         "data": {
          "bar": [
           {
            "error_x": {
             "color": "#2a3f5f"
            },
            "error_y": {
             "color": "#2a3f5f"
            },
            "marker": {
             "line": {
              "color": "#E5ECF6",
              "width": 0.5
             }
            },
            "type": "bar"
           }
          ],
          "barpolar": [
           {
            "marker": {
             "line": {
              "color": "#E5ECF6",
              "width": 0.5
             }
            },
            "type": "barpolar"
           }
          ],
          "carpet": [
           {
            "aaxis": {
             "endlinecolor": "#2a3f5f",
             "gridcolor": "white",
             "linecolor": "white",
             "minorgridcolor": "white",
             "startlinecolor": "#2a3f5f"
            },
            "baxis": {
             "endlinecolor": "#2a3f5f",
             "gridcolor": "white",
             "linecolor": "white",
             "minorgridcolor": "white",
             "startlinecolor": "#2a3f5f"
            },
            "type": "carpet"
           }
          ],
          "choropleth": [
           {
            "colorbar": {
             "outlinewidth": 0,
             "ticks": ""
            },
            "type": "choropleth"
           }
          ],
          "contour": [
           {
            "colorbar": {
             "outlinewidth": 0,
             "ticks": ""
            },
            "colorscale": [
             [
              0,
              "#0d0887"
             ],
             [
              0.1111111111111111,
              "#46039f"
             ],
             [
              0.2222222222222222,
              "#7201a8"
             ],
             [
              0.3333333333333333,
              "#9c179e"
             ],
             [
              0.4444444444444444,
              "#bd3786"
             ],
             [
              0.5555555555555556,
              "#d8576b"
             ],
             [
              0.6666666666666666,
              "#ed7953"
             ],
             [
              0.7777777777777778,
              "#fb9f3a"
             ],
             [
              0.8888888888888888,
              "#fdca26"
             ],
             [
              1,
              "#f0f921"
             ]
            ],
            "type": "contour"
           }
          ],
          "contourcarpet": [
           {
            "colorbar": {
             "outlinewidth": 0,
             "ticks": ""
            },
            "type": "contourcarpet"
           }
          ],
          "heatmap": [
           {
            "colorbar": {
             "outlinewidth": 0,
             "ticks": ""
            },
            "colorscale": [
             [
              0,
              "#0d0887"
             ],
             [
              0.1111111111111111,
              "#46039f"
             ],
             [
              0.2222222222222222,
              "#7201a8"
             ],
             [
              0.3333333333333333,
              "#9c179e"
             ],
             [
              0.4444444444444444,
              "#bd3786"
             ],
             [
              0.5555555555555556,
              "#d8576b"
             ],
             [
              0.6666666666666666,
              "#ed7953"
             ],
             [
              0.7777777777777778,
              "#fb9f3a"
             ],
             [
              0.8888888888888888,
              "#fdca26"
             ],
             [
              1,
              "#f0f921"
             ]
            ],
            "type": "heatmap"
           }
          ],
          "heatmapgl": [
           {
            "colorbar": {
             "outlinewidth": 0,
             "ticks": ""
            },
            "colorscale": [
             [
              0,
              "#0d0887"
             ],
             [
              0.1111111111111111,
              "#46039f"
             ],
             [
              0.2222222222222222,
              "#7201a8"
             ],
             [
              0.3333333333333333,
              "#9c179e"
             ],
             [
              0.4444444444444444,
              "#bd3786"
             ],
             [
              0.5555555555555556,
              "#d8576b"
             ],
             [
              0.6666666666666666,
              "#ed7953"
             ],
             [
              0.7777777777777778,
              "#fb9f3a"
             ],
             [
              0.8888888888888888,
              "#fdca26"
             ],
             [
              1,
              "#f0f921"
             ]
            ],
            "type": "heatmapgl"
           }
          ],
          "histogram": [
           {
            "marker": {
             "colorbar": {
              "outlinewidth": 0,
              "ticks": ""
             }
            },
            "type": "histogram"
           }
          ],
          "histogram2d": [
           {
            "colorbar": {
             "outlinewidth": 0,
             "ticks": ""
            },
            "colorscale": [
             [
              0,
              "#0d0887"
             ],
             [
              0.1111111111111111,
              "#46039f"
             ],
             [
              0.2222222222222222,
              "#7201a8"
             ],
             [
              0.3333333333333333,
              "#9c179e"
             ],
             [
              0.4444444444444444,
              "#bd3786"
             ],
             [
              0.5555555555555556,
              "#d8576b"
             ],
             [
              0.6666666666666666,
              "#ed7953"
             ],
             [
              0.7777777777777778,
              "#fb9f3a"
             ],
             [
              0.8888888888888888,
              "#fdca26"
             ],
             [
              1,
              "#f0f921"
             ]
            ],
            "type": "histogram2d"
           }
          ],
          "histogram2dcontour": [
           {
            "colorbar": {
             "outlinewidth": 0,
             "ticks": ""
            },
            "colorscale": [
             [
              0,
              "#0d0887"
             ],
             [
              0.1111111111111111,
              "#46039f"
             ],
             [
              0.2222222222222222,
              "#7201a8"
             ],
             [
              0.3333333333333333,
              "#9c179e"
             ],
             [
              0.4444444444444444,
              "#bd3786"
             ],
             [
              0.5555555555555556,
              "#d8576b"
             ],
             [
              0.6666666666666666,
              "#ed7953"
             ],
             [
              0.7777777777777778,
              "#fb9f3a"
             ],
             [
              0.8888888888888888,
              "#fdca26"
             ],
             [
              1,
              "#f0f921"
             ]
            ],
            "type": "histogram2dcontour"
           }
          ],
          "mesh3d": [
           {
            "colorbar": {
             "outlinewidth": 0,
             "ticks": ""
            },
            "type": "mesh3d"
           }
          ],
          "parcoords": [
           {
            "line": {
             "colorbar": {
              "outlinewidth": 0,
              "ticks": ""
             }
            },
            "type": "parcoords"
           }
          ],
          "pie": [
           {
            "automargin": true,
            "type": "pie"
           }
          ],
          "scatter": [
           {
            "marker": {
             "colorbar": {
              "outlinewidth": 0,
              "ticks": ""
             }
            },
            "type": "scatter"
           }
          ],
          "scatter3d": [
           {
            "line": {
             "colorbar": {
              "outlinewidth": 0,
              "ticks": ""
             }
            },
            "marker": {
             "colorbar": {
              "outlinewidth": 0,
              "ticks": ""
             }
            },
            "type": "scatter3d"
           }
          ],
          "scattercarpet": [
           {
            "marker": {
             "colorbar": {
              "outlinewidth": 0,
              "ticks": ""
             }
            },
            "type": "scattercarpet"
           }
          ],
          "scattergeo": [
           {
            "marker": {
             "colorbar": {
              "outlinewidth": 0,
              "ticks": ""
             }
            },
            "type": "scattergeo"
           }
          ],
          "scattergl": [
           {
            "marker": {
             "colorbar": {
              "outlinewidth": 0,
              "ticks": ""
             }
            },
            "type": "scattergl"
           }
          ],
          "scattermapbox": [
           {
            "marker": {
             "colorbar": {
              "outlinewidth": 0,
              "ticks": ""
             }
            },
            "type": "scattermapbox"
           }
          ],
          "scatterpolar": [
           {
            "marker": {
             "colorbar": {
              "outlinewidth": 0,
              "ticks": ""
             }
            },
            "type": "scatterpolar"
           }
          ],
          "scatterpolargl": [
           {
            "marker": {
             "colorbar": {
              "outlinewidth": 0,
              "ticks": ""
             }
            },
            "type": "scatterpolargl"
           }
          ],
          "scatterternary": [
           {
            "marker": {
             "colorbar": {
              "outlinewidth": 0,
              "ticks": ""
             }
            },
            "type": "scatterternary"
           }
          ],
          "surface": [
           {
            "colorbar": {
             "outlinewidth": 0,
             "ticks": ""
            },
            "colorscale": [
             [
              0,
              "#0d0887"
             ],
             [
              0.1111111111111111,
              "#46039f"
             ],
             [
              0.2222222222222222,
              "#7201a8"
             ],
             [
              0.3333333333333333,
              "#9c179e"
             ],
             [
              0.4444444444444444,
              "#bd3786"
             ],
             [
              0.5555555555555556,
              "#d8576b"
             ],
             [
              0.6666666666666666,
              "#ed7953"
             ],
             [
              0.7777777777777778,
              "#fb9f3a"
             ],
             [
              0.8888888888888888,
              "#fdca26"
             ],
             [
              1,
              "#f0f921"
             ]
            ],
            "type": "surface"
           }
          ],
          "table": [
           {
            "cells": {
             "fill": {
              "color": "#EBF0F8"
             },
             "line": {
              "color": "white"
             }
            },
            "header": {
             "fill": {
              "color": "#C8D4E3"
             },
             "line": {
              "color": "white"
             }
            },
            "type": "table"
           }
          ]
         },
         "layout": {
          "annotationdefaults": {
           "arrowcolor": "#2a3f5f",
           "arrowhead": 0,
           "arrowwidth": 1
          },
          "coloraxis": {
           "colorbar": {
            "outlinewidth": 0,
            "ticks": ""
           }
          },
          "colorscale": {
           "diverging": [
            [
             0,
             "#8e0152"
            ],
            [
             0.1,
             "#c51b7d"
            ],
            [
             0.2,
             "#de77ae"
            ],
            [
             0.3,
             "#f1b6da"
            ],
            [
             0.4,
             "#fde0ef"
            ],
            [
             0.5,
             "#f7f7f7"
            ],
            [
             0.6,
             "#e6f5d0"
            ],
            [
             0.7,
             "#b8e186"
            ],
            [
             0.8,
             "#7fbc41"
            ],
            [
             0.9,
             "#4d9221"
            ],
            [
             1,
             "#276419"
            ]
           ],
           "sequential": [
            [
             0,
             "#0d0887"
            ],
            [
             0.1111111111111111,
             "#46039f"
            ],
            [
             0.2222222222222222,
             "#7201a8"
            ],
            [
             0.3333333333333333,
             "#9c179e"
            ],
            [
             0.4444444444444444,
             "#bd3786"
            ],
            [
             0.5555555555555556,
             "#d8576b"
            ],
            [
             0.6666666666666666,
             "#ed7953"
            ],
            [
             0.7777777777777778,
             "#fb9f3a"
            ],
            [
             0.8888888888888888,
             "#fdca26"
            ],
            [
             1,
             "#f0f921"
            ]
           ],
           "sequentialminus": [
            [
             0,
             "#0d0887"
            ],
            [
             0.1111111111111111,
             "#46039f"
            ],
            [
             0.2222222222222222,
             "#7201a8"
            ],
            [
             0.3333333333333333,
             "#9c179e"
            ],
            [
             0.4444444444444444,
             "#bd3786"
            ],
            [
             0.5555555555555556,
             "#d8576b"
            ],
            [
             0.6666666666666666,
             "#ed7953"
            ],
            [
             0.7777777777777778,
             "#fb9f3a"
            ],
            [
             0.8888888888888888,
             "#fdca26"
            ],
            [
             1,
             "#f0f921"
            ]
           ]
          },
          "colorway": [
           "#636efa",
           "#EF553B",
           "#00cc96",
           "#ab63fa",
           "#FFA15A",
           "#19d3f3",
           "#FF6692",
           "#B6E880",
           "#FF97FF",
           "#FECB52"
          ],
          "font": {
           "color": "#2a3f5f"
          },
          "geo": {
           "bgcolor": "white",
           "lakecolor": "white",
           "landcolor": "#E5ECF6",
           "showlakes": true,
           "showland": true,
           "subunitcolor": "white"
          },
          "hoverlabel": {
           "align": "left"
          },
          "hovermode": "closest",
          "mapbox": {
           "style": "light"
          },
          "paper_bgcolor": "white",
          "plot_bgcolor": "#E5ECF6",
          "polar": {
           "angularaxis": {
            "gridcolor": "white",
            "linecolor": "white",
            "ticks": ""
           },
           "bgcolor": "#E5ECF6",
           "radialaxis": {
            "gridcolor": "white",
            "linecolor": "white",
            "ticks": ""
           }
          },
          "scene": {
           "xaxis": {
            "backgroundcolor": "#E5ECF6",
            "gridcolor": "white",
            "gridwidth": 2,
            "linecolor": "white",
            "showbackground": true,
            "ticks": "",
            "zerolinecolor": "white"
           },
           "yaxis": {
            "backgroundcolor": "#E5ECF6",
            "gridcolor": "white",
            "gridwidth": 2,
            "linecolor": "white",
            "showbackground": true,
            "ticks": "",
            "zerolinecolor": "white"
           },
           "zaxis": {
            "backgroundcolor": "#E5ECF6",
            "gridcolor": "white",
            "gridwidth": 2,
            "linecolor": "white",
            "showbackground": true,
            "ticks": "",
            "zerolinecolor": "white"
           }
          },
          "shapedefaults": {
           "line": {
            "color": "#2a3f5f"
           }
          },
          "ternary": {
           "aaxis": {
            "gridcolor": "white",
            "linecolor": "white",
            "ticks": ""
           },
           "baxis": {
            "gridcolor": "white",
            "linecolor": "white",
            "ticks": ""
           },
           "bgcolor": "#E5ECF6",
           "caxis": {
            "gridcolor": "white",
            "linecolor": "white",
            "ticks": ""
           }
          },
          "title": {
           "x": 0.05
          },
          "xaxis": {
           "automargin": true,
           "gridcolor": "white",
           "linecolor": "white",
           "ticks": "",
           "title": {
            "standoff": 15
           },
           "zerolinecolor": "white",
           "zerolinewidth": 2
          },
          "yaxis": {
           "automargin": true,
           "gridcolor": "white",
           "linecolor": "white",
           "ticks": "",
           "title": {
            "standoff": 15
           },
           "zerolinecolor": "white",
           "zerolinewidth": 2
          }
         }
        },
        "xaxis": {
         "anchor": "y",
         "domain": [
          0,
          1
         ],
         "title": {
          "text": "x"
         }
        },
        "yaxis": {
         "anchor": "x",
         "domain": [
          0,
          1
         ],
         "title": {
          "text": "y"
         }
        }
       }
      },
      "text/html": [
       "<div>\n",
       "        \n",
       "        \n",
       "            <div id=\"0a5efd57-7f71-4b19-bd6f-0c40d476550f\" class=\"plotly-graph-div\" style=\"height:525px; width:100%;\"></div>\n",
       "            <script type=\"text/javascript\">\n",
       "                require([\"plotly\"], function(Plotly) {\n",
       "                    window.PLOTLYENV=window.PLOTLYENV || {};\n",
       "                    \n",
       "                if (document.getElementById(\"0a5efd57-7f71-4b19-bd6f-0c40d476550f\")) {\n",
       "                    Plotly.newPlot(\n",
       "                        '0a5efd57-7f71-4b19-bd6f-0c40d476550f',\n",
       "                        [{\"customdata\": [[\"Technology\", \"AAPL\"], [\"Technology\", \"AAPL\"], [\"Technology\", \"AAPL\"], [\"Technology\", \"AAPL\"], [\"Technology\", \"AAPL\"], [\"Technology\", \"AAPL\"], [\"Technology\", \"AMD\"], [\"Technology\", \"AMD\"], [\"Technology\", \"AMD\"], [\"Technology\", \"AMD\"], [\"Technology\", \"AMD\"], [\"Technology\", \"AMD\"], [\"Technology\", \"WORK\"], [\"Technology\", \"WORK\"], [\"Technology\", \"WORK\"], [\"Technology\", \"WORK\"], [\"Technology\", \"WORK\"], [\"Technology\", \"WORK\"], [\"Technology\", \"LYFT\"], [\"Technology\", \"LYFT\"], [\"Technology\", \"LYFT\"], [\"Technology\", \"LYFT\"], [\"Technology\", \"LYFT\"], [\"Technology\", \"TWTR\"], [\"Technology\", \"TWTR\"], [\"Technology\", \"TWTR\"], [\"Technology\", \"TWTR\"], [\"Technology\", \"TWTR\"], [\"Technology\", \"FB\"], [\"Technology\", \"FB\"], [\"Technology\", \"FB\"], [\"Technology\", \"FB\"], [\"Technology\", \"FB\"], [\"Technology\", \"MSFT\"], [\"Technology\", \"MSFT\"], [\"Technology\", \"FIT\"], [\"Technology\", \"FIT\"], [\"Technology\", \"FIT\"], [\"Technology\", \"FIT\"], [\"Technology\", \"FIT\"], [\"Technology\", \"SNAP\"], [\"Technology\", \"SNAP\"], [\"Technology\", \"SNAP\"], [\"Technology\", \"SNAP\"], [\"Technology\", \"SNAP\"], [\"Technology\", \"SNAP\"], [\"Technology\", \"TWLO\"], [\"Technology\", \"TWLO\"], [\"Technology\", \"TWLO\"], [\"Technology\", \"TWLO\"], [\"Technology\", \"TWLO\"], [\"Technology\", \"TWLO\"], [\"Technology\", \"OKTA\"], [\"Technology\", \"OKTA\"], [\"Technology\", \"OKTA\"], [\"Technology\", \"OKTA\"], [\"Technology\", \"CY\"], [\"Technology\", \"CY\"], [\"Technology\", \"CY\"], [\"Technology\", \"CY\"], [\"Technology\", \"CY\"], [\"Technology\", \"CY\"], [\"Technology\", \"GOOG\"], [\"Technology\", \"SABR\"], [\"Technology\", \"SABR\"], [\"Technology\", \"SABR\"], [\"Technology\", \"SABR\"], [\"Technology\", \"SABR\"], [\"Technology\", \"NOK\"], [\"Technology\", \"NOK\"], [\"Technology\", \"NOK\"], [\"Technology\", \"NOK\"], [\"Technology\", \"NOK\"], [\"Technology\", \"NOK\"], [\"Technology\", \"UBER\"], [\"Technology\", \"UBER\"], [\"Technology\", \"UBER\"], [\"Technology\", \"UBER\"], [\"Technology\", \"UBER\"], [\"Technology\", \"MRVL\"], [\"Technology\", \"MRVL\"], [\"Technology\", \"MRVL\"], [\"Technology\", \"MRVL\"], [\"Technology\", \"MRVL\"], [\"Technology\", \"MRVL\"], [\"Technology\", \"CAMP\"], [\"Technology\", \"CAMP\"], [\"Technology\", \"CAMP\"], [\"Technology\", \"CAMP\"], [\"Technology\", \"CAMP\"], [\"Technology\", \"CAMP\"], [\"Technology\", \"NLOK\"], [\"Technology\", \"NLOK\"], [\"Technology\", \"NLOK\"], [\"Technology\", \"NLOK\"], [\"Technology\", \"NLOK\"], [\"Technology\", \"NLOK\"], [\"Technology\", \"XRX\"], [\"Technology\", \"XRX\"], [\"Technology\", \"XRX\"], [\"Technology\", \"XRX\"], [\"Technology\", \"XRX\"], [\"Technology\", \"XRX\"], [\"Technology\", \"STX\"], [\"Technology\", \"STX\"], [\"Technology\", \"STX\"], [\"Technology\", \"STX\"], [\"Technology\", \"STX\"], [\"Technology\", \"STX\"], [\"Technology\", \"MGIC\"], [\"Technology\", \"MGIC\"], [\"Technology\", \"MGIC\"], [\"Technology\", \"MGIC\"], [\"Technology\", \"MGIC\"], [\"Technology\", \"MGIC\"], [\"Technology\", \"AAPL\"], [\"Technology\", \"AAPL\"], [\"Technology\", \"AAPL\"], [\"Technology\", \"AAPL\"], [\"Technology\", \"AAPL\"], [\"Technology\", \"AAPL\"], [\"Technology\", \"AAPL\"], [\"Technology\", \"AAPL\"], [\"Technology\", \"AAPL\"], [\"Technology\", \"AAPL\"], [\"Technology\", \"AAPL\"], [\"Technology\", \"AAPL\"], [\"Technology\", \"AAPL\"], [\"Technology\", \"AAPL\"], [\"Technology\", \"AAPL\"], [\"Technology\", \"AAPL\"], [\"Technology\", \"AAPL\"], [\"Technology\", \"AAPL\"], [\"Technology\", \"AAPL\"], [\"Technology\", \"AAPL\"], [\"Technology\", \"AAPL\"], [\"Technology\", \"AAPL\"], [\"Technology\", \"AAPL\"], [\"Technology\", \"AAPL\"], [\"Technology\", \"AAPL\"], [\"Technology\", \"AAPL\"], [\"Technology\", \"AAPL\"], [\"Technology\", \"AAPL\"], [\"Technology\", \"AAPL\"], [\"Technology\", \"AAPL\"], [\"Technology\", \"AAPL\"], [\"Technology\", \"AAPL\"], [\"Technology\", \"AAPL\"], [\"Technology\", \"AAPL\"], [\"Technology\", \"AAPL\"], [\"Technology\", \"AAPL\"], [\"Technology\", \"AAPL\"], [\"Technology\", \"AAPL\"], [\"Technology\", \"AAPL\"], [\"Technology\", \"AAPL\"], [\"Technology\", \"AAPL\"], [\"Technology\", \"AAPL\"], [\"Technology\", \"AAPL\"], [\"Technology\", \"AAPL\"], [\"Technology\", \"AAPL\"], [\"Technology\", \"AAPL\"], [\"Technology\", \"AAPL\"], [\"Technology\", \"AAPL\"], [\"Technology\", \"AAPL\"], [\"Technology\", \"AAPL\"], [\"Technology\", \"AAPL\"], [\"Technology\", \"AAPL\"], [\"Technology\", \"AAPL\"], [\"Technology\", \"AAPL\"], [\"Technology\", \"AAPL\"], [\"Technology\", \"AAPL\"], [\"Technology\", \"AAPL\"], [\"Technology\", \"AAPL\"], [\"Technology\", \"AAPL\"], [\"Technology\", \"AAPL\"], [\"Technology\", \"AAPL\"], [\"Technology\", \"AAPL\"], [\"Technology\", \"AAPL\"], [\"Technology\", \"AAPL\"], [\"Technology\", \"AAPL\"], [\"Technology\", \"AAPL\"], [\"Technology\", \"AAPL\"], [\"Technology\", \"AAPL\"], [\"Technology\", \"AAPL\"], [\"Technology\", \"AAPL\"], [\"Technology\", \"AAPL\"], [\"Technology\", \"AAPL\"], [\"Technology\", \"AAPL\"], [\"Technology\", \"AAPL\"], [\"Technology\", \"AAPL\"], [\"Technology\", \"AAPL\"], [\"Technology\", \"AAPL\"], [\"Technology\", \"AAPL\"], [\"Technology\", \"AAPL\"], [\"Technology\", \"AAPL\"], [\"Technology\", \"AAPL\"], [\"Technology\", \"AAPL\"], [\"Technology\", \"CAMP\"], [\"Technology\", \"CAMP\"], [\"Technology\", \"CAMP\"], [\"Technology\", \"CAMP\"], [\"Technology\", \"CAMP\"], [\"Technology\", \"CAMP\"], [\"Technology\", \"CAMP\"], [\"Technology\", \"CAMP\"], [\"Technology\", \"CAMP\"], [\"Technology\", \"CAMP\"], [\"Technology\", \"CAMP\"], [\"Technology\", \"CAMP\"], [\"Technology\", \"MGIC\"], [\"Technology\", \"MGIC\"], [\"Technology\", \"MGIC\"], [\"Technology\", \"MGIC\"], [\"Technology\", \"MGIC\"], [\"Technology\", \"MGIC\"], [\"Technology\", \"MGIC\"], [\"Technology\", \"MGIC\"], [\"Technology\", \"MGIC\"], [\"Technology\", \"MGIC\"], [\"Technology\", \"MGIC\"], [\"Technology\", \"MGIC\"], [\"Technology\", \"MGIC\"], [\"Technology\", \"MGIC\"], [\"Technology\", \"NLOK\"], [\"Technology\", \"NLOK\"], [\"Technology\", \"NLOK\"], [\"Technology\", \"NLOK\"], [\"Technology\", \"NLOK\"], [\"Technology\", \"NLOK\"], [\"Technology\", \"NLOK\"], [\"Technology\", \"NLOK\"], [\"Technology\", \"NLOK\"], [\"Technology\", \"NLOK\"], [\"Technology\", \"NLOK\"], [\"Technology\", \"NLOK\"], [\"Technology\", \"NLOK\"], [\"Technology\", \"NLOK\"], [\"Technology\", \"NLOK\"], [\"Technology\", \"NLOK\"], [\"Technology\", \"NLOK\"], [\"Technology\", \"NLOK\"], [\"Technology\", \"NLOK\"], [\"Technology\", \"NLOK\"], [\"Technology\", \"NLOK\"], [\"Technology\", \"NLOK\"], [\"Technology\", \"NLOK\"], [\"Technology\", \"NLOK\"], [\"Technology\", \"NLOK\"], [\"Technology\", \"NLOK\"], [\"Technology\", \"NLOK\"], [\"Technology\", \"NLOK\"], [\"Technology\", \"NLOK\"], [\"Technology\", \"NLOK\"], [\"Technology\", \"NLOK\"], [\"Technology\", \"NLOK\"], [\"Technology\", \"NLOK\"], [\"Technology\", \"NLOK\"], [\"Technology\", \"NLOK\"], [\"Technology\", \"NLOK\"], [\"Technology\", \"NLOK\"], [\"Technology\", \"NLOK\"], [\"Technology\", \"NLOK\"], [\"Technology\", \"NLOK\"], [\"Technology\", \"NLOK\"], [\"Technology\", \"NLOK\"], [\"Technology\", \"NLOK\"], [\"Technology\", \"NLOK\"], [\"Technology\", \"NLOK\"], [\"Technology\", \"NLOK\"], [\"Technology\", \"NLOK\"], [\"Technology\", \"NLOK\"], [\"Technology\", \"NLOK\"], [\"Technology\", \"NLOK\"], [\"Technology\", \"NLOK\"], [\"Technology\", \"NLOK\"], [\"Technology\", \"NLOK\"], [\"Technology\", \"NLOK\"], [\"Technology\", \"NLOK\"], [\"Technology\", \"NOK\"], [\"Technology\", \"NOK\"], [\"Technology\", \"NOK\"], [\"Technology\", \"NOK\"], [\"Technology\", \"NOK\"], [\"Technology\", \"NOK\"], [\"Technology\", \"NOK\"], [\"Technology\", \"NOK\"], [\"Technology\", \"NOK\"], [\"Technology\", \"NOK\"], [\"Technology\", \"NOK\"], [\"Technology\", \"NOK\"], [\"Technology\", \"NOK\"], [\"Technology\", \"NOK\"], [\"Technology\", \"NOK\"], [\"Technology\", \"NOK\"], [\"Technology\", \"NOK\"], [\"Technology\", \"NOK\"], [\"Technology\", \"NOK\"], [\"Technology\", \"NOK\"], [\"Technology\", \"NOK\"], [\"Technology\", \"NOK\"], [\"Technology\", \"NOK\"], [\"Technology\", \"NOK\"], [\"Technology\", \"NOK\"], [\"Technology\", \"NOK\"], [\"Technology\", \"NOK\"], [\"Technology\", \"NOK\"], [\"Technology\", \"NOK\"], [\"Technology\", \"NOK\"], [\"Technology\", \"NOK\"], [\"Technology\", \"NOK\"], [\"Technology\", \"NOK\"], [\"Technology\", \"NOK\"], [\"Technology\", \"NOK\"], [\"Technology\", \"NOK\"], [\"Technology\", \"NOK\"], [\"Technology\", \"NOK\"], [\"Technology\", \"NOK\"], [\"Technology\", \"NOK\"], [\"Technology\", \"NOK\"], [\"Technology\", \"NOK\"]], \"hoverlabel\": {\"namelength\": 0}, \"hovertemplate\": \"sector=%{customdata[0]}<br>x=%{x}<br>y=%{y}<br>symb=%{customdata[1]}\", \"legendgroup\": \"Technology\", \"marker\": {\"color\": \"#636efa\", \"symbol\": \"circle\"}, \"mode\": \"markers\", \"name\": \"Technology\", \"showlegend\": true, \"type\": \"scattergl\", \"x\": [27.63298225402832, 9.401087760925293, -56.89924240112305, 55.54124450683594, 8.236339569091797, 56.76765060424805, 2.398139476776123, -11.164753913879395, 6.211690902709961, 2.1892783641815186, 7.261308193206787, 2.1659281253814697, -50.37206268310547, 14.066391944885254, -49.269325256347656, -56.06371307373047, -45.908756256103516, 20.709203720092773, 55.84075164794922, 9.686726570129395, 6.4444684982299805, 39.557437896728516, 23.98021697998047, 53.82746505737305, 54.4358024597168, 34.69110107421875, 10.195008277893066, 56.43408203125, 35.76523971557617, 35.0774040222168, 35.67219161987305, 35.07662582397461, 34.90144348144531, -51.27268600463867, -27.34239959716797, -7.058916091918945, 38.08462905883789, 33.39839553833008, 38.68572998046875, 15.644000053405762, 7.887566566467285, 7.799952983856201, 36.648460388183594, 15.277092933654785, -6.428822994232178, -6.10256290435791, -26.138309478759766, 11.696084022521973, -54.810890197753906, 13.611214637756348, -16.558345794677734, -16.103893280029297, -27.930355072021484, 9.15674114227295, 23.810543060302734, 12.021757125854492, 35.817771911621094, 2.52066969871521, -26.010883331298828, -14.174473762512207, -14.110687255859375, -42.59885787963867, 9.137665748596191, 55.44395446777344, -5.885702133178711, -24.309669494628906, 29.800453186035156, 20.679218292236328, 20.287086486816406, 16.22787857055664, 2.491694688796997, -54.28461456298828, 28.286394119262695, -9.998537063598633, 34.80271911621094, 8.810182571411133, 53.299659729003906, 35.02773666381836, -0.18741458654403687, -22.620779037475586, 2.3185901641845703, -28.667593002319336, -54.23003387451172, 13.462845802307129, 7.414416790008545, -15.287212371826172, -16.412681579589844, -9.525110244750977, -6.483114242553711, 23.256427764892578, 23.836286544799805, -16.3775691986084, -27.701725006103516, 41.02536392211914, 38.39602279663086, -23.689712524414062, -53.57352828979492, 24.76357078552246, 24.645315170288086, 24.74898910522461, -47.471954345703125, -20.54450225830078, 9.60724925994873, 0.20923848450183868, -16.025556564331055, -12.893418312072754, -17.263473510742188, -3.7934410572052, 2.5366220474243164, -27.776077270507812, -28.69477653503418, -39.47920608520508, -38.63276290893555, -39.66352844238281, -39.77431106567383, 8.539233207702637, 12.577234268188477, 24.096010208129883, 5.8983683586120605, -42.13410568237305, 5.721445083618164, 6.156501293182373, -16.569799423217773, -14.240987777709961, -43.395896911621094, 34.8284912109375, 26.52924919128418, -13.717206954956055, -1.8555293083190918, -23.494922637939453, -56.97373580932617, 3.9663116931915283, -51.11339569091797, 8.151410102844238, 7.6008501052856445, 8.549925804138184, -13.084718704223633, 10.24755859375, 2.151780605316162, -20.94887924194336, 8.345593452453613, -13.696671485900879, -13.413268089294434, 23.436471939086914, 4.735093593597412, 10.857091903686523, 9.697619438171387, 41.63957977294922, 6.28544282913208, -10.910710334777832, -52.03940200805664, 5.349321365356445, 25.71915626525879, -14.826240539550781, 15.096686363220215, 23.771509170532227, 9.030279159545898, -26.49394989013672, -51.883338928222656, 35.1307258605957, 44.295040130615234, 4.905111312866211, -52.385650634765625, -10.844963073730469, 9.476645469665527, -1.19133460521698, 9.199116706848145, -2.6291697025299072, -26.989532470703125, -1.2989555597305298, 5.591609954833984, -38.0330696105957, -5.15544319152832, 8.181840896606445, 2.0835583209991455, -43.42613983154297, -56.13838195800781, -9.83750057220459, -15.765739440917969, -8.5750093460083, -14.763914108276367, 9.83151626586914, -27.192325592041016, -51.892425537109375, 7.406001567840576, -2.229288339614868, 26.66668128967285, -50.53336715698242, 10.301856994628906, -3.3107492923736572, -2.0416035652160645, -1.1904354095458984, -55.93930435180664, 12.966090202331543, 9.283333778381348, -20.59825325012207, 10.071590423583984, -27.147979736328125, -26.870296478271484, -29.91828727722168, -26.95083236694336, -26.295122146606445, -26.106063842773438, -47.46479797363281, -27.485496520996094, -50.090274810791016, -30.333364486694336, -25.180334091186523, 12.08448600769043, -39.66414260864258, -39.487056732177734, -27.93980598449707, 22.23126792907715, -39.05447769165039, -39.447418212890625, -39.85859298706055, -25.644866943359375, -25.314985275268555, -28.466190338134766, -25.000364303588867, -39.47327423095703, -28.292139053344727, -28.528650283813477, 33.77137756347656, -2.1618480682373047, -2.3169758319854736, 22.25054168701172, -3.672823429107666, -4.526604652404785, -10.134185791015625, 21.489274978637695, -25.75582504272461, -31.421865463256836, 20.192060470581055, -24.85481834411621, 14.345766067504883, -23.97800064086914, 21.436935424804688, -50.70405197143555, 20.26953887939453, -39.00015640258789, 0.9674944877624512, 4.723215579986572, -46.812255859375, -40.30171203613281, 0.5547492504119873, -49.56120681762695, 21.024669647216797, 20.942298889160156, -4.015430927276611, -1.195011854171753, -10.632292747497559, 24.424901962280273, -21.950565338134766, -7.801692485809326, -44.00924301147461, -2.1778476238250732, -6.211828231811523, -3.0756094455718994, 11.937392234802246, -0.666953980922699, 13.057196617126465, -25.705551147460938, 32.84205627441406, -5.84433650970459, -51.633750915527344, 3.280057191848755, -27.675769805908203, 12.440069198608398, 28.60751724243164, 20.49249839782715, -45.145565032958984, -10.389162063598633, -27.768083572387695, -16.017372131347656, -14.846712112426758, -41.460140228271484, -40.05896759033203, 25.512155532836914, 25.38349723815918, -18.415754318237305, 5.397558689117432, -10.65478229522705, -60.385128021240234, -8.190374374389648, 9.625885963439941, 20.299257278442383, 5.579560279846191, -2.546325922012329, 30.42680549621582, -7.389808177947998, 14.401213645935059, 27.93675994873047, 6.122206211090088, 10.396086692810059, -5.534884929656982, -14.037721633911133, -9.916810989379883, 12.741242408752441, 31.894237518310547, 31.63606834411621, 8.727507591247559, 17.674623489379883, -59.08041763305664, 5.280066013336182, -58.03567123413086, -2.446894884109497, -58.14345169067383, -56.827362060546875, 2.862738609313965, 16.903657913208008, -46.298126220703125, -43.895023345947266, 21.03584861755371, 20.229995727539062, -39.502288818359375, -57.41672134399414, 12.009757041931152, -44.597747802734375, -59.22420120239258], \"xaxis\": \"x\", \"y\": [-16.429349899291992, -14.792656898498535, -16.786706924438477, -1.5689419507980347, -3.411008834838867, -2.7784597873687744, 7.090902805328369, 6.316070556640625, -3.7126474380493164, 31.288137435913086, 28.450809478759766, 29.755199432373047, -18.550491333007812, 33.45200729370117, -18.17513656616211, 16.93062400817871, 30.624372482299805, 42.032779693603516, -1.4755363464355469, -3.407338857650757, 34.416221618652344, -23.39946937561035, -13.286420822143555, 0.9775548577308655, 1.027282476425171, -18.5677490234375, 0.2468648999929428, -2.3567349910736084, -36.51718521118164, -36.05719757080078, -36.364891052246094, -36.00166320800781, -36.734230041503906, -20.19874382019043, -15.639714241027832, 21.56389045715332, -27.790197372436523, -2.801093101501465, -14.7991304397583, -69.55084228515625, 2.937514543533325, 3.000232696533203, -8.947635650634766, -67.88700103759766, 17.209178924560547, 17.325998306274414, 45.48772430419922, -76.4941635131836, -32.07964324951172, -77.70735931396484, -45.343441009521484, -44.29389572143555, 48.069034576416016, 13.516477584838867, -39.54930114746094, -77.18338775634766, 12.54051685333252, -2.185760021209717, -2.3227853775024414, -19.255643844604492, -4.112387180328369, -8.204707145690918, 13.439966201782227, 1.9608079195022583, 31.87238311767578, 38.381004333496094, 34.99175262451172, 47.97103500366211, 8.861083984375, -14.650176048278809, -16.169843673706055, -17.811767578125, 3.8110694885253906, -47.63026428222656, 5.8095598220825195, -42.03288650512695, -0.9348883032798767, -36.04594039916992, 11.623211860656738, 47.452880859375, 34.23151779174805, 6.896350860595703, -32.50020217895508, -76.41283416748047, -28.2910213470459, -24.445480346679688, -23.45280647277832, -32.57765197753906, 23.799951553344727, 41.103572845458984, 41.34868240356445, -23.12138557434082, 45.731605529785156, -21.846683502197266, -24.21592140197754, 32.3907585144043, -7.179296970367432, 39.06639862060547, 39.041481018066406, 39.178890228271484, 0.810582160949707, -4.737854480743408, -70.65668487548828, 36.048126220703125, -24.39740753173828, -21.341325759887695, -36.22289276123047, -20.241260528564453, -2.1997618675231934, 32.75297164916992, 47.11222839355469, 11.589961051940918, 9.787816047668457, 11.538026809692383, 11.158100128173828, -2.135643720626831, -30.855560302734375, -21.218435287475586, 29.28152847290039, 24.709226608276367, 31.157451629638672, 29.139995574951172, -43.161964416503906, -46.36342239379883, 25.422658920288086, 4.628970623016357, -33.631290435791016, -45.207828521728516, 8.707664489746094, 17.076982498168945, -17.701438903808594, 32.776344299316406, -20.65778160095215, -14.215203285217285, -37.377418518066406, -12.971933364868164, -29.87371826171875, -0.044243015348911285, -7.780961513519287, -13.59480094909668, -11.458511352539062, -40.51560592651367, -44.80012512207031, -40.42430877685547, -13.098703384399414, -13.64770221710205, -13.832883834838867, -10.86892318725586, -3.807738780975342, -32.18638229370117, -19.666257858276367, -6.953896999359131, -20.573911666870117, -32.5811882019043, -37.5596923828125, 18.526655197143555, -11.589837074279785, -15.189687728881836, -13.641373634338379, -29.564714431762695, -11.708998680114746, -12.203324317932129, -20.53732681274414, -46.0639762878418, -14.259252548217773, -38.07969665527344, -12.755415916442871, 0.6866083145141602, -14.523402214050293, -17.604455947875977, 29.705371856689453, 30.60247039794922, 54.94465255737305, -13.02648639678955, 26.7816162109375, 25.15495491027832, -17.463489532470703, -49.231422424316406, -41.482421875, -48.37668228149414, -45.23693084716797, -10.990455627441406, -25.350900650024414, -13.413213729858398, -12.8731689453125, -35.22553634643555, -28.799230575561523, -13.37337589263916, -12.204052925109863, -20.31597328186035, -13.7296142578125, -17.24806785583496, 18.196916580200195, -32.70260238647461, -12.27056884765625, -23.320533752441406, -11.766472816467285, 46.91066360473633, 26.245080947875977, 22.767471313476562, 28.334644317626953, 23.54930877685547, 30.48059844970703, -7.671114921569824, 23.745725631713867, 4.394237041473389, 22.521902084350586, 27.834726333618164, -73.277099609375, 10.566360473632812, 11.350471496582031, 25.398418426513672, -30.940532684326172, 10.313772201538086, 11.003076553344727, 11.309590339660645, 34.427581787109375, 25.721763610839844, 33.18492889404297, 24.1513671875, 0.9866448640823364, 32.722068786621094, 27.839588165283203, 24.873519897460938, -7.360898017883301, -7.19289493560791, 48.154136657714844, 16.0031795501709, 14.319709777832031, 6.427124500274658, 39.33565902709961, 31.25394058227539, -8.421055793762207, 41.671504974365234, -13.884257316589355, 48.566436767578125, 32.3414421081543, 38.58943176269531, -3.246473550796509, 39.64006805419922, -6.754128456115723, 31.56374740600586, 6.716871738433838, -9.680571556091309, 23.507339477539062, -36.882259368896484, 4.8895087242126465, 39.860260009765625, 38.5189094543457, -8.520975112915039, 32.240867614746094, 15.158208847045898, -29.78977394104004, -20.687715530395508, 3.3125040531158447, -17.873308181762695, -37.09198760986328, 19.84708023071289, -6.498243808746338, -76.78837585449219, 32.30695724487305, -2.353898048400879, -13.94175910949707, 24.395639419555664, 18.286884307861328, -4.027466297149658, -35.770965576171875, 45.61666488647461, -2.337799310684204, 31.37020492553711, 38.616580963134766, -16.89142417907715, 6.945403099060059, 45.533592224121094, -21.90178680419922, -28.916954040527344, 23.554534912109375, 23.339237213134766, -33.59519577026367, -27.03825569152832, -43.121315002441406, 26.376134872436523, 5.1178741455078125, -14.605953216552734, 44.37276840209961, -25.864107131958008, 8.779911994934082, 26.312177658081055, 36.707672119140625, 0.46760380268096924, 44.05009841918945, -19.924455642700195, 2.1864707469940186, -34.20913314819336, -26.240781784057617, -32.783992767333984, 40.358577728271484, -48.13814163208008, -4.506458282470703, 1.463517665863037, 1.4458221197128296, 48.789310455322266, 36.663597106933594, -13.656094551086426, 6.558353900909424, -10.348800659179688, 36.69783020019531, -10.441831588745117, -13.168120384216309, 6.887325286865234, 36.201377868652344, -6.255415916442871, 0.6408489942550659, 37.79119873046875, -9.043360710144043, -10.860780715942383, -11.86814022064209, -24.870655059814453, -3.013838052749634, -12.24208927154541], \"yaxis\": \"y\"}, {\"customdata\": [[\"Automotive\", \"TSLA\"], [\"Automotive\", \"TSLA\"], [\"Automotive\", \"TSLA\"], [\"Automotive\", \"TSLA\"], [\"Automotive\", \"TSLA\"], [\"Automotive\", \"TSLA\"], [\"Automotive\", \"F\"], [\"Automotive\", \"F\"], [\"Automotive\", \"F\"], [\"Automotive\", \"F\"], [\"Automotive\", \"NIO\"], [\"Automotive\", \"NIO\"], [\"Automotive\", \"NIO\"], [\"Automotive\", \"NIO\"], [\"Automotive\", \"NIO\"], [\"Automotive\", \"NIO\"], [\"Automotive\", \"TSLA\"], [\"Automotive\", \"TSLA\"], [\"Automotive\", \"TSLA\"], [\"Automotive\", \"TSLA\"], [\"Automotive\", \"TSLA\"], [\"Automotive\", \"TSLA\"], [\"Automotive\", \"TSLA\"], [\"Automotive\", \"TSLA\"], [\"Automotive\", \"TSLA\"], [\"Automotive\", \"TSLA\"], [\"Automotive\", \"TSLA\"], [\"Automotive\", \"TSLA\"], [\"Automotive\", \"TSLA\"], [\"Automotive\", \"TSLA\"], [\"Automotive\", \"TSLA\"], [\"Automotive\", \"TSLA\"], [\"Automotive\", \"TSLA\"], [\"Automotive\", \"TSLA\"], [\"Automotive\", \"TSLA\"], [\"Automotive\", \"TSLA\"], [\"Automotive\", \"TSLA\"], [\"Automotive\", \"TSLA\"], [\"Automotive\", \"TSLA\"], [\"Automotive\", \"TSLA\"], [\"Automotive\", \"TSLA\"], [\"Automotive\", \"TSLA\"], [\"Automotive\", \"TSLA\"], [\"Automotive\", \"TSLA\"], [\"Automotive\", \"TSLA\"], [\"Automotive\", \"TSLA\"], [\"Automotive\", \"TSLA\"], [\"Automotive\", \"TSLA\"], [\"Automotive\", \"TSLA\"], [\"Automotive\", \"TSLA\"], [\"Automotive\", \"TSLA\"], [\"Automotive\", \"TSLA\"], [\"Automotive\", \"TSLA\"], [\"Automotive\", \"TSLA\"], [\"Automotive\", \"TSLA\"], [\"Automotive\", \"TSLA\"], [\"Automotive\", \"TSLA\"], [\"Automotive\", \"TSLA\"], [\"Automotive\", \"TSLA\"], [\"Automotive\", \"TSLA\"], [\"Automotive\", \"TSLA\"], [\"Automotive\", \"TSLA\"], [\"Automotive\", \"TSLA\"], [\"Automotive\", \"TSLA\"], [\"Automotive\", \"TSLA\"], [\"Automotive\", \"TSLA\"], [\"Automotive\", \"TSLA\"], [\"Automotive\", \"TSLA\"], [\"Automotive\", \"TSLA\"], [\"Automotive\", \"TSLA\"], [\"Automotive\", \"TSLA\"], [\"Automotive\", \"TSLA\"], [\"Automotive\", \"TSLA\"], [\"Automotive\", \"TSLA\"], [\"Automotive\", \"TSLA\"], [\"Automotive\", \"TSLA\"], [\"Automotive\", \"TSLA\"], [\"Automotive\", \"TSLA\"], [\"Automotive\", \"TSLA\"], [\"Automotive\", \"TSLA\"], [\"Automotive\", \"TSLA\"], [\"Automotive\", \"TSLA\"], [\"Automotive\", \"TSLA\"], [\"Automotive\", \"TSLA\"], [\"Automotive\", \"TSLA\"], [\"Automotive\", \"TSLA\"], [\"Automotive\", \"TSLA\"], [\"Automotive\", \"TSLA\"], [\"Automotive\", \"TSLA\"], [\"Automotive\", \"TSLA\"], [\"Automotive\", \"TSLA\"], [\"Automotive\", \"TSLA\"], [\"Automotive\", \"TSLA\"], [\"Automotive\", \"TSLA\"], [\"Automotive\", \"TSLA\"], [\"Automotive\", \"TSLA\"], [\"Automotive\", \"TSLA\"], [\"Automotive\", \"TSLA\"], [\"Automotive\", \"TSLA\"], [\"Automotive\", \"TSLA\"], [\"Automotive\", \"TSLA\"], [\"Automotive\", \"TSLA\"], [\"Automotive\", \"TSLA\"], [\"Automotive\", \"TSLA\"], [\"Automotive\", \"TSLA\"], [\"Automotive\", \"TSLA\"], [\"Automotive\", \"TSLA\"], [\"Automotive\", \"TSLA\"], [\"Automotive\", \"TSLA\"], [\"Automotive\", \"TSLA\"], [\"Automotive\", \"TSLA\"], [\"Automotive\", \"TSLA\"], [\"Automotive\", \"TSLA\"], [\"Automotive\", \"TSLA\"], [\"Automotive\", \"TSLA\"], [\"Automotive\", \"TSLA\"], [\"Automotive\", \"TSLA\"], [\"Automotive\", \"TSLA\"], [\"Automotive\", \"TSLA\"], [\"Automotive\", \"TSLA\"], [\"Automotive\", \"TSLA\"], [\"Automotive\", \"TSLA\"], [\"Automotive\", \"TSLA\"], [\"Automotive\", \"TSLA\"], [\"Automotive\", \"TSLA\"], [\"Automotive\", \"TSLA\"], [\"Automotive\", \"TSLA\"], [\"Automotive\", \"TSLA\"], [\"Automotive\", \"TSLA\"], [\"Automotive\", \"TSLA\"], [\"Automotive\", \"TSLA\"], [\"Automotive\", \"TSLA\"], [\"Automotive\", \"TSLA\"], [\"Automotive\", \"TSLA\"], [\"Automotive\", \"TSLA\"], [\"Automotive\", \"TSLA\"], [\"Automotive\", \"TSLA\"], [\"Automotive\", \"TSLA\"], [\"Automotive\", \"TSLA\"], [\"Automotive\", \"TSLA\"], [\"Automotive\", \"TSLA\"], [\"Automotive\", \"TSLA\"], [\"Automotive\", \"TSLA\"], [\"Automotive\", \"TSLA\"], [\"Automotive\", \"TSLA\"], [\"Automotive\", \"TSLA\"], [\"Automotive\", \"TSLA\"], [\"Automotive\", \"TSLA\"], [\"Automotive\", \"TSLA\"], [\"Automotive\", \"TSLA\"], [\"Automotive\", \"TSLA\"], [\"Automotive\", \"TSLA\"], [\"Automotive\", \"TSLA\"], [\"Automotive\", \"TSLA\"], [\"Automotive\", \"TSLA\"], [\"Automotive\", \"TSLA\"], [\"Automotive\", \"TSLA\"], [\"Automotive\", \"TSLA\"], [\"Automotive\", \"TSLA\"], [\"Automotive\", \"TSLA\"], [\"Automotive\", \"TSLA\"], [\"Automotive\", \"TSLA\"], [\"Automotive\", \"TSLA\"], [\"Automotive\", \"TSLA\"], [\"Automotive\", \"TSLA\"], [\"Automotive\", \"TSLA\"], [\"Automotive\", \"TSLA\"], [\"Automotive\", \"TSLA\"], [\"Automotive\", \"TSLA\"], [\"Automotive\", \"TSLA\"], [\"Automotive\", \"TSLA\"], [\"Automotive\", \"TSLA\"], [\"Automotive\", \"TSLA\"], [\"Automotive\", \"TSLA\"], [\"Automotive\", \"TSLA\"], [\"Automotive\", \"TSLA\"], [\"Automotive\", \"TSLA\"], [\"Automotive\", \"TSLA\"], [\"Automotive\", \"TSLA\"], [\"Automotive\", \"TSLA\"], [\"Automotive\", \"TSLA\"], [\"Automotive\", \"TSLA\"], [\"Automotive\", \"TSLA\"], [\"Automotive\", \"TSLA\"], [\"Automotive\", \"TSLA\"], [\"Automotive\", \"TSLA\"], [\"Automotive\", \"TSLA\"], [\"Automotive\", \"TSLA\"], [\"Automotive\", \"TSLA\"], [\"Automotive\", \"TSLA\"], [\"Automotive\", \"TSLA\"], [\"Automotive\", \"TSLA\"], [\"Automotive\", \"TSLA\"], [\"Automotive\", \"TSLA\"], [\"Automotive\", \"TSLA\"], [\"Automotive\", \"TSLA\"], [\"Automotive\", \"TSLA\"], [\"Automotive\", \"TSLA\"], [\"Automotive\", \"TSLA\"], [\"Automotive\", \"TSLA\"], [\"Automotive\", \"TSLA\"], [\"Automotive\", \"TSLA\"], [\"Automotive\", \"TSLA\"], [\"Automotive\", \"TSLA\"], [\"Automotive\", \"TSLA\"], [\"Automotive\", \"TSLA\"], [\"Automotive\", \"TSLA\"], [\"Automotive\", \"TSLA\"], [\"Automotive\", \"TSLA\"], [\"Automotive\", \"TSLA\"], [\"Automotive\", \"TSLA\"], [\"Automotive\", \"TSLA\"], [\"Automotive\", \"TSLA\"], [\"Automotive\", \"TSLA\"], [\"Automotive\", \"TSLA\"], [\"Automotive\", \"TSLA\"], [\"Automotive\", \"TSLA\"], [\"Automotive\", \"TSLA\"], [\"Automotive\", \"TSLA\"], [\"Automotive\", \"TSLA\"], [\"Automotive\", \"TSLA\"], [\"Automotive\", \"TSLA\"], [\"Automotive\", \"TSLA\"], [\"Automotive\", \"TSLA\"], [\"Automotive\", \"TSLA\"], [\"Automotive\", \"TSLA\"], [\"Automotive\", \"TSLA\"], [\"Automotive\", \"TSLA\"], [\"Automotive\", \"TSLA\"], [\"Automotive\", \"TSLA\"], [\"Automotive\", \"TSLA\"], [\"Automotive\", \"TSLA\"], [\"Automotive\", \"TSLA\"], [\"Automotive\", \"TSLA\"], [\"Automotive\", \"TSLA\"], [\"Automotive\", \"TSLA\"], [\"Automotive\", \"TSLA\"], [\"Automotive\", \"TSLA\"], [\"Automotive\", \"TSLA\"], [\"Automotive\", \"TSLA\"], [\"Automotive\", \"TSLA\"], [\"Automotive\", \"TSLA\"], [\"Automotive\", \"TSLA\"], [\"Automotive\", \"TSLA\"], [\"Automotive\", \"TSLA\"], [\"Automotive\", \"TSLA\"], [\"Automotive\", \"TSLA\"], [\"Automotive\", \"TSLA\"], [\"Automotive\", \"TSLA\"], [\"Automotive\", \"TSLA\"], [\"Automotive\", \"TSLA\"], [\"Automotive\", \"TSLA\"], [\"Automotive\", \"TSLA\"], [\"Automotive\", \"TSLA\"]], \"hoverlabel\": {\"namelength\": 0}, \"hovertemplate\": \"sector=%{customdata[0]}<br>x=%{x}<br>y=%{y}<br>symb=%{customdata[1]}\", \"legendgroup\": \"Automotive\", \"marker\": {\"color\": \"#EF553B\", \"symbol\": \"circle\"}, \"mode\": \"markers\", \"name\": \"Automotive\", \"showlegend\": true, \"type\": \"scattergl\", \"x\": [-50.41796112060547, 2.542203664779663, 6.0334858894348145, 21.711275100708008, 2.9212889671325684, -7.0689311027526855, 39.50178909301758, 13.192493438720703, 5.825222492218018, -11.393258094787598, -6.51505184173584, -6.6308722496032715, -37.54921340942383, -10.848971366882324, -5.959121227264404, -9.521045684814453, 5.183640003204346, 4.6120991706848145, -18.495145797729492, -4.621587753295898, -51.945396423339844, -4.851349353790283, -51.71538543701172, 18.167320251464844, -13.651596069335938, -5.96182107925415, -1.9947141408920288, -7.0955352783203125, -51.76253128051758, -27.911230087280273, 9.646456718444824, 41.5298957824707, 5.692168235778809, 12.450489044189453, -18.64549446105957, 13.264802932739258, 29.293148040771484, 44.205772399902344, 6.775862693786621, -8.281303405761719, 23.328838348388672, -49.01387405395508, 0.6942920684814453, 5.460589408874512, 41.607948303222656, -57.90897750854492, -57.810184478759766, -57.909393310546875, -57.810821533203125, -57.910545349121094, -57.8109245300293, -57.81317901611328, 1.9195854663848877, 44.209224700927734, 31.608137130737305, 15.364087104797363, 7.272764205932617, -45.60963439941406, 21.475536346435547, 12.677955627441406, 12.886431694030762, 13.613442420959473, -57.37443923950195, 13.997206687927246, 24.905548095703125, 23.258594512939453, 8.379697799682617, 44.49625015258789, -16.75625991821289, -11.66584300994873, 20.93169593811035, 1.023536205291748, 7.106645584106445, -7.806309223175049, 13.816426277160645, 4.570073127746582, -50.363773345947266, 10.075740814208984, -14.843096733093262, 6.09860897064209, -6.143249988555908, -7.177148818969727, -9.044337272644043, -52.63850402832031, -15.00252914428711, -3.7453720569610596, 41.66387939453125, 12.457653999328613, -27.02397918701172, 3.1262879371643066, -5.942150592803955, -3.556514263153076, -12.74057674407959, -58.0093879699707, -57.634944915771484, 11.265815734863281, 13.738526344299316, -8.957783699035645, -37.293731689453125, 1.8486014604568481, -8.401216506958008, -55.528446197509766, -4.854966640472412, -7.182736396789551, -13.295884132385254, -57.01906967163086, -50.01218795776367, -4.372497081756592, -54.655616760253906, -13.555862426757812, -2.3613228797912598, -13.595209121704102, -6.0206098556518555, -14.081582069396973, 10.409377098083496, -6.72945499420166, 0.5525649189949036, 9.236517906188965, 22.747310638427734, -51.655025482177734, -57.02305603027344, -56.25326919555664, -4.974299907684326, 9.47399616241455, 8.374371528625488, -4.2705535888671875, -9.683959007263184, 42.313602447509766, -12.884937286376953, 9.932714462280273, 6.458913803100586, 10.937506675720215, -10.91873836517334, -40.097171783447266, -2.9938812255859375, -7.521201133728027, -16.237001419067383, 3.960014581680298, 14.447324752807617, 20.051054000854492, -6.092363357543945, 1.1238380670547485, -7.942638874053955, -8.18148422241211, -3.063889503479004, -7.81208610534668, 13.905380249023438, 11.626397132873535, 22.59175682067871, -7.610793113708496, 13.275558471679688, -3.0326037406921387, 3.20222806930542, -12.236271858215332, 19.77437400817871, -7.28534460067749, 37.06397247314453, -8.91991138458252, 5.992183685302734, 0.3842361271381378, -52.32915115356445, -56.77313232421875, -7.2200236320495605, -6.112014293670654, 1.7886070013046265, 11.151137351989746, -9.819618225097656, -15.956537246704102, -16.769367218017578, -7.954759120941162, -3.010500192642212, 43.996116638183594, 21.834259033203125, 6.582179069519043, -19.970046997070312, -53.80410385131836, 9.001516342163086, 25.438549041748047, -6.784251689910889, 7.414520740509033, -16.082988739013672, -7.077190399169922, -43.76252365112305, -8.62424373626709, -7.872391223907471, -6.159274578094482, -6.2933125495910645, -52.562068939208984, -7.469420433044434, 39.485321044921875, -41.229888916015625, -55.13857650756836, 28.473529815673828, 21.570432662963867, -0.6537784934043884, -35.9688835144043, -19.926462173461914, 6.835322380065918, 0.08912989497184753, -6.74264669418335, 22.476823806762695, 16.093219757080078, -48.82140350341797, -58.86979675292969, 6.513829231262207, 8.062447547912598, -56.700504302978516, -3.2722926139831543, 34.969444274902344, -8.738929748535156, 7.354872703552246, 22.185291290283203, 8.954126358032227, -15.857829093933105, -3.2067177295684814, -14.357162475585938, -36.3447151184082, 44.9350471496582, 22.390214920043945, -10.00750732421875, 39.813133239746094, -3.0610690116882324, 14.423322677612305, -3.148329019546509, 6.555805206298828, 32.789669036865234, 14.695133209228516, 23.470109939575195, -54.94437789916992, 13.692718505859375, 23.197956085205078, -7.3885817527771, 37.65453338623047, 41.730953216552734, 15.305571556091309, 5.713805675506592, -40.60184860229492, -55.13567352294922, 38.446475982666016, 38.56138229370117, 3.7669742107391357, -6.664714336395264, -9.090275764465332, 2.891045570373535, 38.61715316772461, 38.675907135009766, 2.76479172706604, 22.74325180053711, 21.44586944580078, 36.81732940673828, 25.67593002319336, 8.306112289428711, 22.04924774169922, 5.906443119049072], \"xaxis\": \"x\", \"y\": [-12.095663070678711, 27.382734298706055, 18.638620376586914, -9.273122787475586, 33.2664794921875, 6.577600002288818, -29.041723251342773, -38.495296478271484, -6.868288040161133, -16.641189575195312, 36.32426452636719, 37.35797119140625, 31.38118553161621, 9.162565231323242, 38.30710220336914, -48.32267761230469, 15.769865989685059, 32.459163665771484, -16.417207717895508, 51.20762252807617, -18.487947463989258, 51.319740295410156, -13.494622230529785, 13.805508613586426, -45.27338409423828, 6.174177169799805, 29.563249588012695, 5.901159286499023, -18.017667770385742, -0.5635400414466858, -33.03491973876953, -9.51640510559082, 17.33367156982422, -37.178565979003906, -1.7468650341033936, -68.17220306396484, -35.449363708496094, -2.7768337726593018, -23.268150329589844, 40.10030746459961, 46.542327880859375, -17.52516746520996, 33.31470489501953, 19.296062469482422, -11.063874244689941, 13.062854766845703, 13.35278606414795, 13.06156063079834, 13.353119850158691, 13.060569763183594, 13.35286808013916, 13.352578163146973, 32.39814376831055, -2.8039567470550537, -31.04548454284668, -37.67329406738281, -37.07571029663086, -11.43148136138916, 48.35285949707031, -37.59794616699219, -66.75331115722656, -35.79458999633789, 19.137210845947266, 37.26679992675781, -7.948270797729492, 46.33345413208008, 25.57349967956543, -11.719809532165527, -43.4208869934082, -45.423919677734375, -40.898338317871094, -30.621868133544922, 17.867347717285156, 6.7129011154174805, -31.129127502441406, 35.14717102050781, -15.816876411437988, 23.705345153808594, -43.86130142211914, -36.604087829589844, 44.999717712402344, 6.615711212158203, -40.03095245361328, -17.60605812072754, -44.68807601928711, 1.1488161087036133, -28.124082565307617, -33.124534606933594, -26.044891357421875, 33.44106674194336, 42.66956329345703, 6.243890285491943, 10.62703800201416, -15.513639450073242, 15.022869110107422, -37.5376091003418, -40.56657028198242, 9.634626388549805, 29.642662048339844, -37.8588981628418, 41.64350891113281, 19.616199493408203, 39.92323303222656, 9.538056373596191, 10.232234954833984, -17.22068977355957, -12.913148880004883, 42.62223434448242, 13.800211906433105, -14.038337707519531, -28.318641662597656, -46.01116943359375, 9.551626205444336, 10.199437141418457, -29.0296630859375, 7.272380828857422, -36.74102020263672, -25.034982681274414, -41.78196334838867, -16.904163360595703, 15.786101341247559, 13.6981782913208, 8.301711082458496, 23.78926658630371, 26.405563354492188, 42.78401565551758, 8.860203742980957, -6.256689071655273, -45.831729888916016, -31.202621459960938, -24.828977584838867, -17.71101951599121, -23.442729949951172, 3.363342523574829, -23.982250213623047, -18.153993606567383, -43.25526809692383, 26.820175170898438, -75.41914367675781, -10.095854759216309, 41.94650650024414, 33.53696060180664, 40.871273040771484, 6.508389949798584, -35.75191116333008, 40.54528045654297, -31.728199005126953, -41.008758544921875, -40.46208572387695, 40.773094177246094, -13.604257583618164, -33.06818771362305, 31.667165756225586, 7.982184886932373, -10.422030448913574, 39.71412658691406, -24.47195053100586, 7.59404993057251, -30.078062057495117, 34.258975982666016, -7.014538288116455, 11.54626178741455, 41.12483596801758, 42.51951217651367, 32.851409912109375, -36.68285369873047, 9.813030242919922, -45.86073684692383, -43.47226333618164, 5.0440545082092285, -23.95878791809082, -11.453428268432617, -42.429832458496094, 18.73826026916504, 13.282621383666992, -5.36993408203125, -26.21070098876953, -35.87085723876953, 38.46805191040039, 0.09266383200883865, -14.750692367553711, 9.03164291381836, -23.962779998779297, 36.915279388427734, 7.966037750244141, 40.16670227050781, 39.58696365356445, -1.8425341844558716, 8.521496772766113, -29.021757125854492, -16.308263778686523, 12.596454620361328, -15.598044395446777, -8.833050727844238, 34.446773529052734, -15.725708961486816, 38.53158187866211, 21.341554641723633, -29.77702522277832, 9.858405113220215, -6.372192859649658, -65.4184341430664, 5.5863165855407715, 13.53584098815918, 21.65057373046875, 21.61897087097168, 11.313512802124023, 28.495763778686523, -26.43247413635254, 10.385491371154785, 17.314359664916992, -30.408645629882812, -27.904264450073242, -48.1185417175293, 41.882320404052734, 10.184449195861816, -15.682340621948242, -11.903589248657227, -8.954987525939941, 9.203969955444336, -14.633853912353516, 41.72280502319336, -67.29561614990234, -35.78480529785156, 22.90723991394043, 2.034318685531616, -66.75048828125, -8.723522186279297, -32.24491500854492, -77.82745361328125, -8.778897285461426, 10.162578582763672, -5.169942378997803, -10.738823890686035, -67.82710266113281, 17.60284423828125, -16.732168197631836, 12.520469665527344, -4.732457637786865, -4.605233192443848, 27.73210906982422, 37.495460510253906, 8.623687744140625, 32.40911865234375, -4.652115821838379, -4.2933669090271, 27.734712600708008, -43.05044174194336, -41.223140716552734, 6.394442558288574, -27.66265869140625, 9.59908676147461, -42.26790237426758, 16.926664352416992], \"yaxis\": \"y\"}, {\"customdata\": [[\"Media/Entertainment\", \"NFLX\"], [\"Media/Entertainment\", \"NFLX\"], [\"Media/Entertainment\", \"NFLX\"], [\"Media/Entertainment\", \"NFLX\"], [\"Media/Entertainment\", \"DIS\"], [\"Media/Entertainment\", \"DIS\"], [\"Media/Entertainment\", \"SIRI\"], [\"Media/Entertainment\", \"SIRI\"], [\"Media/Entertainment\", \"SIRI\"], [\"Media/Entertainment\", \"SIRI\"], [\"Media/Entertainment\", \"SIRI\"], [\"Media/Entertainment\", \"SIRI\"]], \"hoverlabel\": {\"namelength\": 0}, \"hovertemplate\": \"sector=%{customdata[0]}<br>x=%{x}<br>y=%{y}<br>symb=%{customdata[1]}\", \"legendgroup\": \"Media/Entertainment\", \"marker\": {\"color\": \"#00cc96\", \"symbol\": \"circle\"}, \"mode\": \"markers\", \"name\": \"Media/Entertainment\", \"showlegend\": true, \"type\": \"scattergl\", \"x\": [10.249055862426758, 10.110908508300781, 9.42600154876709, -48.8172721862793, -9.653966903686523, -25.713619232177734, -49.861385345458984, -24.836872100830078, -0.8845807909965515, 15.705733299255371, 32.703224182128906, 16.29087257385254], \"xaxis\": \"x\", \"y\": [-0.019231058657169342, 1.1079093217849731, 14.135171890258789, -20.01361846923828, -32.0946159362793, -12.224245071411133, -18.71323013305664, 45.56056213378906, 38.708133697509766, -66.40831756591797, 25.039758682250977, -36.127620697021484], \"yaxis\": \"y\"}, {\"customdata\": [[\"Consumer Goods\", \"GPRO\"], [\"Consumer Goods\", \"GPRO\"], [\"Consumer Goods\", \"GPRO\"], [\"Consumer Goods\", \"GPRO\"], [\"Consumer Goods\", \"GPRO\"], [\"Consumer Goods\", \"GPRO\"], [\"Consumer Goods\", \"ABEV\"], [\"Consumer Goods\", \"MDLZ\"], [\"Consumer Goods\", \"MDLZ\"], [\"Consumer Goods\", \"MDLZ\"], [\"Consumer Goods\", \"MDLZ\"], [\"Consumer Goods\", \"MDLZ\"], [\"Consumer Goods\", \"HSY\"], [\"Consumer Goods\", \"HSY\"], [\"Consumer Goods\", \"HSY\"], [\"Consumer Goods\", \"HSY\"], [\"Consumer Goods\", \"HSY\"], [\"Consumer Goods\", \"GIS\"], [\"Consumer Goods\", \"GIS\"], [\"Consumer Goods\", \"GIS\"], [\"Consumer Goods\", \"LW\"], [\"Consumer Goods\", \"LW\"], [\"Consumer Goods\", \"LW\"], [\"Consumer Goods\", \"LW\"], [\"Consumer Goods\", \"LW\"], [\"Consumer Goods\", \"JJSF\"], [\"Consumer Goods\", \"JJSF\"], [\"Consumer Goods\", \"JJSF\"], [\"Consumer Goods\", \"JJSF\"], [\"Consumer Goods\", \"JJSF\"], [\"Consumer Goods\", \"JJSF\"], [\"Consumer Goods\", \"TSN\"], [\"Consumer Goods\", \"TSN\"], [\"Consumer Goods\", \"TSN\"], [\"Consumer Goods\", \"TSN\"], [\"Consumer Goods\", \"TSN\"], [\"Consumer Goods\", \"CPB\"], [\"Consumer Goods\", \"CPB\"], [\"Consumer Goods\", \"CPB\"], [\"Consumer Goods\", \"CPB\"], [\"Consumer Goods\", \"CPB\"], [\"Consumer Goods\", \"JBSS\"], [\"Consumer Goods\", \"JBSS\"], [\"Consumer Goods\", \"JBSS\"], [\"Consumer Goods\", \"JBSS\"], [\"Consumer Goods\", \"JBSS\"], [\"Consumer Goods\", \"JBSS\"], [\"Consumer Goods\", \"MKC\"], [\"Consumer Goods\", \"MKC\"], [\"Consumer Goods\", \"MKC\"], [\"Consumer Goods\", \"MKC\"], [\"Consumer Goods\", \"MKC\"], [\"Consumer Goods\", \"MKC\"], [\"Consumer Goods\", \"CPB\"], [\"Consumer Goods\", \"CPB\"], [\"Consumer Goods\", \"CPB\"], [\"Consumer Goods\", \"CPB\"], [\"Consumer Goods\", \"CPB\"], [\"Consumer Goods\", \"CPB\"], [\"Consumer Goods\", \"CPB\"], [\"Consumer Goods\", \"CPB\"], [\"Consumer Goods\", \"CPB\"], [\"Consumer Goods\", \"CPB\"], [\"Consumer Goods\", \"CPB\"], [\"Consumer Goods\", \"CPB\"], [\"Consumer Goods\", \"CPB\"], [\"Consumer Goods\", \"CPB\"], [\"Consumer Goods\", \"CPB\"], [\"Consumer Goods\", \"CPB\"], [\"Consumer Goods\", \"CPB\"], [\"Consumer Goods\", \"CPB\"], [\"Consumer Goods\", \"CPB\"], [\"Consumer Goods\", \"CPB\"], [\"Consumer Goods\", \"CPB\"], [\"Consumer Goods\", \"CPB\"], [\"Consumer Goods\", \"CPB\"], [\"Consumer Goods\", \"CPB\"], [\"Consumer Goods\", \"CPB\"], [\"Consumer Goods\", \"CPB\"], [\"Consumer Goods\", \"CPB\"], [\"Consumer Goods\", \"CPB\"], [\"Consumer Goods\", \"CPB\"], [\"Consumer Goods\", \"CPB\"], [\"Consumer Goods\", \"CPB\"], [\"Consumer Goods\", \"CPB\"], [\"Consumer Goods\", \"CPB\"], [\"Consumer Goods\", \"CPB\"], [\"Consumer Goods\", \"CPB\"], [\"Consumer Goods\", \"CPB\"], [\"Consumer Goods\", \"CPB\"], [\"Consumer Goods\", \"CPB\"], [\"Consumer Goods\", \"CPB\"], [\"Consumer Goods\", \"CPB\"], [\"Consumer Goods\", \"CPB\"], [\"Consumer Goods\", \"CPB\"], [\"Consumer Goods\", \"CPB\"], [\"Consumer Goods\", \"CPB\"], [\"Consumer Goods\", \"CPB\"], [\"Consumer Goods\", \"CPB\"], [\"Consumer Goods\", \"CPB\"], [\"Consumer Goods\", \"CPB\"], [\"Consumer Goods\", \"CPB\"], [\"Consumer Goods\", \"CPB\"], [\"Consumer Goods\", \"CPB\"], [\"Consumer Goods\", \"CPB\"], [\"Consumer Goods\", \"CPB\"], [\"Consumer Goods\", \"CPB\"], [\"Consumer Goods\", \"CPB\"], [\"Consumer Goods\", \"CPB\"], [\"Consumer Goods\", \"CPB\"], [\"Consumer Goods\", \"CPB\"], [\"Consumer Goods\", \"CPB\"], [\"Consumer Goods\", \"CPB\"], [\"Consumer Goods\", \"CPB\"], [\"Consumer Goods\", \"CPB\"], [\"Consumer Goods\", \"CPB\"], [\"Consumer Goods\", \"CPB\"], [\"Consumer Goods\", \"CPB\"], [\"Consumer Goods\", \"CPB\"], [\"Consumer Goods\", \"CPB\"], [\"Consumer Goods\", \"CPB\"], [\"Consumer Goods\", \"CPB\"], [\"Consumer Goods\", \"CPB\"], [\"Consumer Goods\", \"CPB\"], [\"Consumer Goods\", \"CPB\"], [\"Consumer Goods\", \"CPB\"], [\"Consumer Goods\", \"CPB\"], [\"Consumer Goods\", \"GPRO\"], [\"Consumer Goods\", \"GPRO\"], [\"Consumer Goods\", \"GPRO\"], [\"Consumer Goods\", \"GPRO\"], [\"Consumer Goods\", \"GPRO\"], [\"Consumer Goods\", \"GPRO\"], [\"Consumer Goods\", \"GPRO\"], [\"Consumer Goods\", \"GPRO\"], [\"Consumer Goods\", \"GPRO\"], [\"Consumer Goods\", \"GPRO\"], [\"Consumer Goods\", \"GPRO\"], [\"Consumer Goods\", \"GPRO\"], [\"Consumer Goods\", \"GPRO\"], [\"Consumer Goods\", \"GPRO\"], [\"Consumer Goods\", \"GPRO\"], [\"Consumer Goods\", \"GPRO\"], [\"Consumer Goods\", \"GPRO\"], [\"Consumer Goods\", \"GPRO\"], [\"Consumer Goods\", \"GPRO\"], [\"Consumer Goods\", \"GPRO\"], [\"Consumer Goods\", \"GPRO\"], [\"Consumer Goods\", \"GPRO\"], [\"Consumer Goods\", \"GPRO\"], [\"Consumer Goods\", \"GPRO\"], [\"Consumer Goods\", \"GPRO\"], [\"Consumer Goods\", \"GPRO\"], [\"Consumer Goods\", \"GPRO\"], [\"Consumer Goods\", \"GPRO\"], [\"Consumer Goods\", \"GPRO\"], [\"Consumer Goods\", \"GPRO\"], [\"Consumer Goods\", \"GPRO\"], [\"Consumer Goods\", \"GPRO\"], [\"Consumer Goods\", \"GPRO\"], [\"Consumer Goods\", \"GPRO\"], [\"Consumer Goods\", \"GPRO\"], [\"Consumer Goods\", \"GPRO\"], [\"Consumer Goods\", \"GPRO\"], [\"Consumer Goods\", \"GPRO\"], [\"Consumer Goods\", \"GPRO\"], [\"Consumer Goods\", \"GPRO\"], [\"Consumer Goods\", \"GPRO\"], [\"Consumer Goods\", \"GPRO\"], [\"Consumer Goods\", \"GPRO\"], [\"Consumer Goods\", \"GPRO\"], [\"Consumer Goods\", \"GPRO\"], [\"Consumer Goods\", \"GPRO\"], [\"Consumer Goods\", \"GPRO\"], [\"Consumer Goods\", \"GPRO\"], [\"Consumer Goods\", \"GPRO\"], [\"Consumer Goods\", \"GPRO\"], [\"Consumer Goods\", \"GPRO\"], [\"Consumer Goods\", \"GPRO\"], [\"Consumer Goods\", \"GPRO\"], [\"Consumer Goods\", \"GPRO\"], [\"Consumer Goods\", \"GPRO\"], [\"Consumer Goods\", \"GPRO\"], [\"Consumer Goods\", \"GPRO\"], [\"Consumer Goods\", \"GPRO\"], [\"Consumer Goods\", \"GPRO\"], [\"Consumer Goods\", \"GPRO\"], [\"Consumer Goods\", \"GPRO\"], [\"Consumer Goods\", \"GPRO\"], [\"Consumer Goods\", \"GPRO\"], [\"Consumer Goods\", \"GPRO\"], [\"Consumer Goods\", \"GPRO\"], [\"Consumer Goods\", \"GPRO\"], [\"Consumer Goods\", \"GPRO\"], [\"Consumer Goods\", \"GPRO\"], [\"Consumer Goods\", \"GPRO\"], [\"Consumer Goods\", \"GPRO\"], [\"Consumer Goods\", \"GPRO\"], [\"Consumer Goods\", \"GPRO\"], [\"Consumer Goods\", \"GPRO\"], [\"Consumer Goods\", \"GPRO\"], [\"Consumer Goods\", \"GPRO\"], [\"Consumer Goods\", \"GPRO\"], [\"Consumer Goods\", \"GPRO\"], [\"Consumer Goods\", \"GPRO\"], [\"Consumer Goods\", \"GPRO\"], [\"Consumer Goods\", \"GPRO\"], [\"Consumer Goods\", \"GPRO\"], [\"Consumer Goods\", \"GPRO\"], [\"Consumer Goods\", \"GPRO\"], [\"Consumer Goods\", \"GPRO\"], [\"Consumer Goods\", \"GPRO\"], [\"Consumer Goods\", \"GPRO\"], [\"Consumer Goods\", \"GPRO\"], [\"Consumer Goods\", \"GPRO\"], [\"Consumer Goods\", \"HSY\"], [\"Consumer Goods\", \"HSY\"], [\"Consumer Goods\", \"HSY\"], [\"Consumer Goods\", \"HSY\"], [\"Consumer Goods\", \"HSY\"], [\"Consumer Goods\", \"HSY\"], [\"Consumer Goods\", \"HSY\"], [\"Consumer Goods\", \"HSY\"], [\"Consumer Goods\", \"HSY\"], [\"Consumer Goods\", \"HSY\"], [\"Consumer Goods\", \"HSY\"], [\"Consumer Goods\", \"HSY\"], [\"Consumer Goods\", \"HSY\"], [\"Consumer Goods\", \"HSY\"], [\"Consumer Goods\", \"HSY\"], [\"Consumer Goods\", \"HSY\"], [\"Consumer Goods\", \"HSY\"], [\"Consumer Goods\", \"HSY\"], [\"Consumer Goods\", \"HSY\"], [\"Consumer Goods\", \"HSY\"], [\"Consumer Goods\", \"HSY\"], [\"Consumer Goods\", \"HSY\"], [\"Consumer Goods\", \"HSY\"], [\"Consumer Goods\", \"HSY\"], [\"Consumer Goods\", \"HSY\"], [\"Consumer Goods\", \"HSY\"], [\"Consumer Goods\", \"HSY\"], [\"Consumer Goods\", \"HSY\"], [\"Consumer Goods\", \"HSY\"], [\"Consumer Goods\", \"HSY\"], [\"Consumer Goods\", \"HSY\"], [\"Consumer Goods\", \"HSY\"], [\"Consumer Goods\", \"HSY\"], [\"Consumer Goods\", \"HSY\"], [\"Consumer Goods\", \"HSY\"], [\"Consumer Goods\", \"HSY\"], [\"Consumer Goods\", \"HSY\"], [\"Consumer Goods\", \"HSY\"], [\"Consumer Goods\", \"HSY\"], [\"Consumer Goods\", \"HSY\"], [\"Consumer Goods\", \"HSY\"], [\"Consumer Goods\", \"HSY\"], [\"Consumer Goods\", \"HSY\"], [\"Consumer Goods\", \"HSY\"], [\"Consumer Goods\", \"HSY\"], [\"Consumer Goods\", \"HSY\"], [\"Consumer Goods\", \"HSY\"], [\"Consumer Goods\", \"HSY\"], [\"Consumer Goods\", \"HSY\"], [\"Consumer Goods\", \"HSY\"], [\"Consumer Goods\", \"HSY\"], [\"Consumer Goods\", \"HSY\"], [\"Consumer Goods\", \"HSY\"], [\"Consumer Goods\", \"HSY\"], [\"Consumer Goods\", \"HSY\"], [\"Consumer Goods\", \"HSY\"], [\"Consumer Goods\", \"HSY\"], [\"Consumer Goods\", \"HSY\"], [\"Consumer Goods\", \"HSY\"], [\"Consumer Goods\", \"HSY\"], [\"Consumer Goods\", \"HSY\"], [\"Consumer Goods\", \"HSY\"], [\"Consumer Goods\", \"HSY\"], [\"Consumer Goods\", \"HSY\"], [\"Consumer Goods\", \"HSY\"], [\"Consumer Goods\", \"HSY\"], [\"Consumer Goods\", \"HSY\"], [\"Consumer Goods\", \"HSY\"], [\"Consumer Goods\", \"HSY\"], [\"Consumer Goods\", \"HSY\"], [\"Consumer Goods\", \"HSY\"], [\"Consumer Goods\", \"HSY\"], [\"Consumer Goods\", \"HSY\"], [\"Consumer Goods\", \"HSY\"], [\"Consumer Goods\", \"HSY\"], [\"Consumer Goods\", \"HSY\"], [\"Consumer Goods\", \"HSY\"], [\"Consumer Goods\", \"HSY\"], [\"Consumer Goods\", \"HSY\"], [\"Consumer Goods\", \"HSY\"], [\"Consumer Goods\", \"HSY\"], [\"Consumer Goods\", \"HSY\"], [\"Consumer Goods\", \"HSY\"], [\"Consumer Goods\", \"HSY\"], [\"Consumer Goods\", \"HSY\"], [\"Consumer Goods\", \"HSY\"], [\"Consumer Goods\", \"HSY\"], [\"Consumer Goods\", \"HSY\"], [\"Consumer Goods\", \"HSY\"], [\"Consumer Goods\", \"HSY\"], [\"Consumer Goods\", \"HSY\"], [\"Consumer Goods\", \"HSY\"], [\"Consumer Goods\", \"HSY\"], [\"Consumer Goods\", \"HSY\"], [\"Consumer Goods\", \"HSY\"], [\"Consumer Goods\", \"HSY\"], [\"Consumer Goods\", \"HSY\"], [\"Consumer Goods\", \"HSY\"], [\"Consumer Goods\", \"HSY\"], [\"Consumer Goods\", \"HSY\"], [\"Consumer Goods\", \"HSY\"], [\"Consumer Goods\", \"HSY\"], [\"Consumer Goods\", \"HSY\"], [\"Consumer Goods\", \"HSY\"], [\"Consumer Goods\", \"HSY\"]], \"hoverlabel\": {\"namelength\": 0}, \"hovertemplate\": \"sector=%{customdata[0]}<br>x=%{x}<br>y=%{y}<br>symb=%{customdata[1]}\", \"legendgroup\": \"Consumer Goods\", \"marker\": {\"color\": \"#ab63fa\", \"symbol\": \"circle\"}, \"mode\": \"markers\", \"name\": \"Consumer Goods\", \"showlegend\": true, \"type\": \"scattergl\", \"x\": [-0.27585074305534363, 1.3045225143432617, -5.877177715301514, -4.097977161407471, 35.96306228637695, -7.952770233154297, -6.650152206420898, 55.23203659057617, 20.370609283447266, -26.729999542236328, -25.2310733795166, -10.96481704711914, -27.64071273803711, 28.144515991210938, 33.814937591552734, 32.39134216308594, -27.536867141723633, 55.14754867553711, 28.314302444458008, -1.7736347913742065, -13.660322189331055, -19.794031143188477, -28.084165573120117, -43.849185943603516, -20.036237716674805, -6.708462715148926, -30.196001052856445, -25.480627059936523, -26.297515869140625, -18.788894653320312, -28.086166381835938, 2.6847639083862305, 11.739006042480469, 16.238866806030273, 31.57500648498535, 54.95171356201172, 14.608305931091309, -24.605058670043945, 32.39193344116211, 1.1665279865264893, -41.86790084838867, 17.064767837524414, 19.957460403442383, -25.06475067138672, -27.22733497619629, -27.621509552001953, -27.691539764404297, 21.110742568969727, -27.08584976196289, 12.896208763122559, -45.494388580322266, -22.355609893798828, 18.612775802612305, -21.170215606689453, -34.012359619140625, 11.520427703857422, 15.63708782196045, -5.493586540222168, 5.361210823059082, -45.20714569091797, -55.90757369995117, -24.15610122680664, 29.598112106323242, -25.91743278503418, -19.226667404174805, 31.307815551757812, 22.487642288208008, 12.311772346496582, -41.789405822753906, -25.047595977783203, 3.869466543197632, -17.438922882080078, 22.87265968322754, 11.15345287322998, -41.4487190246582, 1.8929980993270874, 4.9423089027404785, -19.579402923583984, 13.976984024047852, -17.888019561767578, 15.183218002319336, 23.38086700439453, 13.202153205871582, 27.118106842041016, 14.57992935180664, 26.212358474731445, 28.113365173339844, -45.6556282043457, -24.43115234375, 25.496442794799805, 23.528810501098633, 35.668434143066406, 29.864276885986328, 25.772891998291016, 5.5924553871154785, 28.873516082763672, 30.54189109802246, 28.59874153137207, -16.72193145751953, 30.59002685546875, 13.422263145446777, -44.35149383544922, 25.569406509399414, 28.885902404785156, 7.784430980682373, 15.945115089416504, -44.28546905517578, -18.465599060058594, -18.03042221069336, 11.112988471984863, 24.165634155273438, 16.73493194580078, 30.240468978881836, 9.418120384216309, -44.779502868652344, 10.231005668640137, 24.259185791015625, 29.553180694580078, 43.12502670288086, 43.109134674072266, 12.578018188476562, 22.65813636779785, 14.358671188354492, 11.232561111450195, -45.273223876953125, 9.085652351379395, -24.161212921142578, 6.867891788482666, 30.179336547851562, 0.05114743858575821, -1.9465731382369995, -0.702437162399292, -4.423746109008789, 0.12528683245182037, -9.099047660827637, 19.572784423828125, -8.133898735046387, 5.389557838439941, 34.991127014160156, 1.1502093076705933, 4.228078842163086, -8.239343643188477, 3.6810317039489746, 5.107204437255859, 0.7690582871437073, 19.623151779174805, 21.503734588623047, -0.2750667631626129, 1.3295034170150757, -26.530263900756836, -2.1678216457366943, -2.1049885749816895, -0.6698893308639526, -0.0950109213590622, -3.5787034034729004, 1.0296046733856201, 42.650020599365234, 32.1986198425293, 1.79110848903656, 0.4846883714199066, -0.579787015914917, -0.9698315262794495, 0.5261531472206116, -6.993199348449707, -0.5320767164230347, 5.840874671936035, 32.03334045410156, -1.2286083698272705, 26.514301300048828, 36.33940505981445, 38.10417556762695, -46.85858154296875, -0.2005426436662674, -0.9689396023750305, -41.88764572143555, -7.075922012329102, 19.536174774169922, -45.196014404296875, 0.19798943400382996, 5.350909233093262, 1.4936093091964722, 0.48724204301834106, -0.7198161482810974, -27.28338623046875, 4.457607746124268, 0.05856159329414368, 3.5853075981140137, 4.8353800773620605, -8.370776176452637, 1.4793790578842163, -38.12086486816406, 15.273408889770508, 15.552213668823242, 9.737390518188477, -11.126251220703125, 17.179689407348633, 39.58523178100586, 1.76608145236969, -1.5337514877319336, -26.597280502319336, 5.943009376525879, 6.720644474029541, 3.457186222076416, -0.6868499517440796, -0.9522650837898254, -11.268778800964355, -0.08027007430791855, -1.1244463920593262, -0.8672714829444885, -0.8983437418937683, -12.625060081481934, -6.7541608810424805, -6.696112632751465, -6.130488872528076, -2.6345784664154053, 29.722576141357422, 25.138734817504883, 50.83952331542969, 15.947773933410645, 14.055886268615723, -26.919551849365234, 33.25967788696289, -44.5995979309082, -27.604564666748047, 29.47551727294922, -4.688457012176514, 27.484514236450195, -27.79560089111328, 32.58564376831055, 16.06992530822754, 27.46348762512207, -27.234830856323242, 6.486629486083984, 20.094255447387695, -28.039077758789062, 24.179445266723633, -42.52194595336914, -28.501054763793945, -1.0070388317108154, 31.759464263916016, 0.29353660345077515, -14.810140609741211, -28.261817932128906, 1.6751430034637451, -39.301177978515625, -19.515195846557617, 25.637861251831055, -0.027281319722533226, -0.398090124130249, -27.444520950317383, 1.4917552471160889, -9.957093238830566, 9.176340103149414, -25.370317459106445, 36.70097732543945, 16.756038665771484, -10.700502395629883, 18.140995025634766, 17.04448699951172, -39.32627868652344, 1.9674160480499268, -27.66925811767578, 14.643314361572266, -26.502973556518555, 27.371912002563477, -3.122001886367798, 12.831604957580566, -17.917760848999023, 23.578760147094727, 14.644427299499512, -38.62934112548828, -2.049835443496704, 22.526704788208008, -27.360490798950195, 30.344568252563477, 1.4754523038864136, 25.361604690551758, 16.00860023498535, -38.889442443847656, 2.47005033493042, 31.46342658996582, 23.29344940185547, -43.88324737548828, -1.4472370147705078, -27.12319564819336, -3.7250945568084717, -38.825294494628906, 29.62183380126953, 32.02663803100586, 30.934221267700195, -39.4350700378418, 23.354961395263672, 31.47995948791504, 6.2722625732421875, 22.275249481201172, 16.561838150024414, 32.1682243347168, 1.5136973857879639, -28.887065887451172, 16.67082405090332, 20.657215118408203, 17.704099655151367, 15.421490669250488, -27.31412696838379, 16.431360244750977, -38.28444290161133, -18.89832305908203, -42.17897033691406, -26.59718132019043, -18.572473526000977, -27.08635711669922, 30.683103561401367, -11.125958442687988, -25.670270919799805, 18.2319393157959, -17.344318389892578, 30.496522903442383, -28.156036376953125, 17.446239471435547, 27.859745025634766], \"xaxis\": \"x\", \"y\": [29.92959213256836, 8.848766326904297, 19.156421661376953, 22.41268539428711, -28.688386917114258, 20.12950325012207, -31.02096176147461, -0.797549307346344, -11.572521209716797, 47.61655807495117, -5.168062210083008, -23.025455474853516, 40.50143814086914, -16.14289093017578, -18.04129981994629, -20.57185935974121, 40.54695129394531, -0.6193861961364746, -5.703293323516846, 17.011428833007812, -22.76607322692871, 40.88142013549805, -12.977758407592773, -12.14330005645752, 40.8201904296875, -30.008460998535156, 2.7758383750915527, 23.443086624145508, 33.518524169921875, 44.71363067626953, 27.518898010253906, -8.314468383789062, 4.890627384185791, 33.57787322998047, -17.799976348876953, 0.5185623168945312, 4.79266881942749, 43.84101486206055, -17.354724884033203, 13.700352668762207, -16.726728439331055, -39.998531341552734, -31.260263442993164, 27.75629997253418, 33.4316520690918, 33.34638595581055, 34.0283317565918, 33.047508239746094, 40.76415252685547, 54.79595184326172, -11.664517402648926, 39.95399475097656, -15.523262977600098, 40.364952087402344, -18.679460525512695, 9.761573791503906, -69.56822204589844, 2.3603434562683105, -28.036169052124023, -14.418466567993164, 19.295087814331055, 43.69725799560547, 33.528480529785156, 16.6026668548584, 25.859079360961914, -19.414813995361328, 34.26457595825195, -35.60300827026367, -9.655750274658203, 41.869571685791016, 2.5013697147369385, -26.623655319213867, 34.1412467956543, 5.507219314575195, -21.163637161254883, 2.453859567642212, -38.265419006347656, 41.379737854003906, -66.96900939941406, 25.1170711517334, -34.40104293823242, 31.2939395904541, 6.334218978881836, 29.538347244262695, 5.593297958374023, 30.393909454345703, 25.3262939453125, -13.608393669128418, 42.1428108215332, 28.525144577026367, 32.679771423339844, -5.502583026885986, 24.176233291625977, 29.36653709411621, -39.359710693359375, 26.43400001525879, 24.2155818939209, 25.840606689453125, -22.398590087890625, 16.10590934753418, 6.258176326751709, -16.222532272338867, 29.140748977661133, 25.71807861328125, -66.47113037109375, 2.217771053314209, -19.475372314453125, 42.130104064941406, 25.21541976928711, 39.59815216064453, 31.880050659179688, -2.3286337852478027, 15.644257545471191, -67.40652465820312, -10.219527244567871, -34.48920440673828, 32.17573165893555, 25.20420265197754, 3.5496511459350586, 3.421393394470215, 6.453882694244385, 33.70392990112305, 3.310102939605713, 5.644107341766357, -15.460701942443848, -30.590991973876953, 42.63852310180664, -35.264869689941406, -7.077245235443115, 8.441508293151855, -36.30229568481445, 21.19576644897461, 20.68773078918457, 32.12221145629883, 20.76004409790039, 28.91834831237793, 20.909564971923828, -38.12856674194336, -29.67939567565918, 8.292181015014648, -35.02042007446289, 20.78827476501465, 4.350698471069336, 0.7044129967689514, 9.160637855529785, 28.902381896972656, -32.9764404296875, 8.32582950592041, -39.003963470458984, 46.91245651245117, -31.795181274414062, 14.778593063354492, 24.973554611206055, 22.7716064453125, 13.965380668640137, 12.071062088012695, -25.590911865234375, -33.12657165527344, 12.515353202819824, 12.726475715637207, 13.130805015563965, 29.390605926513672, 8.509197235107422, 23.13098907470703, 13.190860748291016, -0.20923547446727753, -30.983013153076172, 23.748506546020508, -32.86552810668945, 5.071837425231934, -27.79140853881836, -7.117837429046631, 30.289241790771484, -39.41659164428711, -10.378194808959961, 22.371505737304688, 39.30781173706055, 0.16485679149627686, 22.900205612182617, 8.469145774841309, 9.39290714263916, -34.919654846191406, 30.055898666381836, 47.62049102783203, -31.736682891845703, 9.367798805236816, 30.984325408935547, -30.836042404174805, 19.516599655151367, 9.320822715759277, -11.064674377441406, 33.44096374511719, 33.43399429321289, -35.20351791381836, 12.454350471496582, -36.03234100341797, -19.556034088134766, -34.43840789794922, 30.459922790527344, 46.777767181396484, 0.22423185408115387, 0.16788560152053833, 17.65593719482422, 23.996931076049805, 22.5688533782959, 15.362920761108398, 13.36935806274414, 12.6984224319458, 23.82592010498047, 21.741485595703125, -12.211835861206055, 45.1490478515625, 18.560922622680664, 40.5286979675293, -39.18910598754883, -27.687503814697266, 44.43581008911133, 12.288064002990723, 6.158780097961426, 4.407354831695557, 40.92487335205078, -19.681692123413086, -12.365928649902344, 41.40597915649414, 32.9031982421875, 31.262130737304688, -24.827102661132812, 40.58790588378906, -27.47793197631836, 2.3000400066375732, -24.777605056762695, 39.657020568847656, 5.001523971557617, 31.902494430541992, -1.3099644184112549, 35.50006866455078, -2.3326189517974854, 41.87775802612305, -14.423968315124512, -20.008197784423828, -3.8534181118011475, -22.399890899658203, 41.169639587402344, -30.021589279174805, -6.173945903778076, 42.84386444091797, 42.57756042480469, 5.276832580566406, -41.61848449707031, 42.07374954223633, 27.65105628967285, -23.767578125, -33.37066650390625, 43.6607780456543, -13.895247459411621, 9.070805549621582, 15.435153007507324, 34.16534423828125, -25.560291290283203, -1.6624855995178223, -40.498687744140625, 41.916831970214844, -24.65144920349121, -4.973873615264893, -16.53293228149414, 30.635488510131836, -19.796937942504883, 24.678665161132812, -6.0085554122924805, 4.388261795043945, -13.8953218460083, -43.13450622558594, 26.39887809753418, 41.41081619262695, -29.239601135253906, -42.40627670288086, 32.61288833618164, 2.509389877319336, -9.37978458404541, -43.151248931884766, 27.70047950744629, 36.717716217041016, -1.0122712850570679, -41.405616760253906, 42.809288024902344, 38.68318176269531, -15.331624984741211, 26.888744354248047, -18.777233123779297, 16.468080520629883, -8.654499053955078, 36.65303421020508, 27.65540885925293, 49.412506103515625, 35.56700134277344, -2.332365036010742, -18.234806060791016, -42.416954040527344, 39.937591552734375, 5.486794948577881, -24.615209579467773, 6.5038161277771, 4.941932201385498, 42.667259216308594, 8.99923038482666, -8.222320556640625, 43.26602554321289, -7.137489318847656, 25.83452606201172, 43.1547737121582, -5.725808620452881, -17.3870849609375, -29.246929168701172, 23.96605110168457, 34.170753479003906, 42.436729431152344, -23.77052116394043, 29.410263061523438, 6.364265441894531, 28.749420166015625], \"yaxis\": \"y\"}, {\"customdata\": [[\"Leisure/Arts/Hospitality\", \"SBUX\"], [\"Leisure/Arts/Hospitality\", \"SBUX\"], [\"Leisure/Arts/Hospitality\", \"SBUX\"], [\"Leisure/Arts/Hospitality\", \"SBUX\"], [\"Leisure/Arts/Hospitality\", \"RCL\"], [\"Leisure/Arts/Hospitality\", \"RCL\"], [\"Leisure/Arts/Hospitality\", \"RCL\"], [\"Leisure/Arts/Hospitality\", \"CCL\"], [\"Leisure/Arts/Hospitality\", \"RRGB\"], [\"Leisure/Arts/Hospitality\", \"RRGB\"], [\"Leisure/Arts/Hospitality\", \"RRGB\"], [\"Leisure/Arts/Hospitality\", \"RRGB\"], [\"Leisure/Arts/Hospitality\", \"RRGB\"], [\"Leisure/Arts/Hospitality\", \"RRGB\"]], \"hoverlabel\": {\"namelength\": 0}, \"hovertemplate\": \"sector=%{customdata[0]}<br>x=%{x}<br>y=%{y}<br>symb=%{customdata[1]}\", \"legendgroup\": \"Leisure/Arts/Hospitality\", \"marker\": {\"color\": \"#FFA15A\", \"symbol\": \"circle\"}, \"mode\": \"markers\", \"name\": \"Leisure/Arts/Hospitality\", \"showlegend\": true, \"type\": \"scattergl\", \"x\": [-1.8220270872116089, 6.176965713500977, 7.6529388427734375, 20.081050872802734, -26.006986618041992, -25.992835998535156, -27.60489845275879, 57.08244705200195, 20.88644790649414, 28.004480361938477, 25.577117919921875, 9.939026832580566, 32.976783752441406, 9.540998458862305], \"xaxis\": \"x\", \"y\": [-30.718881607055664, 30.939090728759766, 28.903717041015625, 32.080482482910156, 14.784543991088867, 14.803000450134277, -18.48891830444336, 0.421446293592453, 32.77944564819336, -19.501483917236328, 31.795936584472656, -67.41288757324219, -19.400718688964844, -69.14187622070312], \"yaxis\": \"y\"}, {\"customdata\": [[\"Financial Services\", \"BAC\"], [\"Financial Services\", \"BAC\"], [\"Financial Services\", \"BAC\"], [\"Financial Services\", \"BAC\"], [\"Financial Services\", \"BAC\"], [\"Financial Services\", \"WFC\"], [\"Financial Services\", \"WFC\"], [\"Financial Services\", \"WFC\"], [\"Financial Services\", \"WFC\"], [\"Financial Services\", \"WFC\"]], \"hoverlabel\": {\"namelength\": 0}, \"hovertemplate\": \"sector=%{customdata[0]}<br>x=%{x}<br>y=%{y}<br>symb=%{customdata[1]}\", \"legendgroup\": \"Financial Services\", \"marker\": {\"color\": \"#19d3f3\", \"symbol\": \"circle\"}, \"mode\": \"markers\", \"name\": \"Financial Services\", \"showlegend\": true, \"type\": \"scattergl\", \"x\": [-54.782508850097656, -46.67354965209961, -51.394432067871094, -46.94468307495117, -1.1984539031982422, -12.964203834533691, 22.21566390991211, 14.089905738830566, -46.702877044677734, -46.71794128417969], \"xaxis\": \"x\", \"y\": [16.00721549987793, 22.514320373535156, -18.477577209472656, 22.49384117126465, -17.325111389160156, -28.029708862304688, 5.786202907562256, 14.303528785705566, 22.597640991210938, 22.505464553833008], \"yaxis\": \"y\"}, {\"customdata\": [[\"Business/Consumer Services\", \"GE\"], [\"Business/Consumer Services\", \"GE\"], [\"Business/Consumer Services\", \"GE\"], [\"Business/Consumer Services\", \"GE\"], [\"Business/Consumer Services\", \"GE\"], [\"Business/Consumer Services\", \"NEW\"], [\"Business/Consumer Services\", \"NEW\"], [\"Business/Consumer Services\", \"GE\"], [\"Business/Consumer Services\", \"GE\"], [\"Business/Consumer Services\", \"GE\"], [\"Business/Consumer Services\", \"GE\"], [\"Business/Consumer Services\", \"GE\"], [\"Business/Consumer Services\", \"GE\"], [\"Business/Consumer Services\", \"GE\"], [\"Business/Consumer Services\", \"GE\"], [\"Business/Consumer Services\", \"GE\"], [\"Business/Consumer Services\", \"GE\"], [\"Business/Consumer Services\", \"GE\"], [\"Business/Consumer Services\", \"GE\"], [\"Business/Consumer Services\", \"GE\"], [\"Business/Consumer Services\", \"GE\"], [\"Business/Consumer Services\", \"GE\"], [\"Business/Consumer Services\", \"GE\"], [\"Business/Consumer Services\", \"GE\"], [\"Business/Consumer Services\", \"GE\"], [\"Business/Consumer Services\", \"GE\"], [\"Business/Consumer Services\", \"GE\"], [\"Business/Consumer Services\", \"GE\"], [\"Business/Consumer Services\", \"GE\"], [\"Business/Consumer Services\", \"GE\"], [\"Business/Consumer Services\", \"GE\"], [\"Business/Consumer Services\", \"GE\"], [\"Business/Consumer Services\", \"GE\"], [\"Business/Consumer Services\", \"GE\"], [\"Business/Consumer Services\", \"GE\"], [\"Business/Consumer Services\", \"GE\"], [\"Business/Consumer Services\", \"GE\"], [\"Business/Consumer Services\", \"GE\"], [\"Business/Consumer Services\", \"GE\"], [\"Business/Consumer Services\", \"GE\"], [\"Business/Consumer Services\", \"GE\"], [\"Business/Consumer Services\", \"GE\"], [\"Business/Consumer Services\", \"GE\"], [\"Business/Consumer Services\", \"GE\"], [\"Business/Consumer Services\", \"GE\"], [\"Business/Consumer Services\", \"GE\"], [\"Business/Consumer Services\", \"GE\"], [\"Business/Consumer Services\", \"GE\"], [\"Business/Consumer Services\", \"GE\"], [\"Business/Consumer Services\", \"GE\"], [\"Business/Consumer Services\", \"GE\"], [\"Business/Consumer Services\", \"GE\"], [\"Business/Consumer Services\", \"GE\"], [\"Business/Consumer Services\", \"GE\"], [\"Business/Consumer Services\", \"GE\"], [\"Business/Consumer Services\", \"GE\"], [\"Business/Consumer Services\", \"GE\"], [\"Business/Consumer Services\", \"GE\"], [\"Business/Consumer Services\", \"GE\"], [\"Business/Consumer Services\", \"GE\"], [\"Business/Consumer Services\", \"GE\"], [\"Business/Consumer Services\", \"GE\"], [\"Business/Consumer Services\", \"GE\"], [\"Business/Consumer Services\", \"GE\"], [\"Business/Consumer Services\", \"GE\"], [\"Business/Consumer Services\", \"GE\"], [\"Business/Consumer Services\", \"GE\"], [\"Business/Consumer Services\", \"GE\"], [\"Business/Consumer Services\", \"GE\"], [\"Business/Consumer Services\", \"GE\"], [\"Business/Consumer Services\", \"GE\"], [\"Business/Consumer Services\", \"GE\"], [\"Business/Consumer Services\", \"GE\"], [\"Business/Consumer Services\", \"GE\"], [\"Business/Consumer Services\", \"GE\"], [\"Business/Consumer Services\", \"GE\"], [\"Business/Consumer Services\", \"GE\"], [\"Business/Consumer Services\", \"GE\"], [\"Business/Consumer Services\", \"GE\"], [\"Business/Consumer Services\", \"GE\"], [\"Business/Consumer Services\", \"GE\"], [\"Business/Consumer Services\", \"GE\"], [\"Business/Consumer Services\", \"GE\"], [\"Business/Consumer Services\", \"GE\"], [\"Business/Consumer Services\", \"GE\"], [\"Business/Consumer Services\", \"GE\"], [\"Business/Consumer Services\", \"GE\"], [\"Business/Consumer Services\", \"GE\"], [\"Business/Consumer Services\", \"GE\"], [\"Business/Consumer Services\", \"GE\"], [\"Business/Consumer Services\", \"GE\"], [\"Business/Consumer Services\", \"GE\"], [\"Business/Consumer Services\", \"GE\"], [\"Business/Consumer Services\", \"GE\"], [\"Business/Consumer Services\", \"GE\"], [\"Business/Consumer Services\", \"GE\"], [\"Business/Consumer Services\", \"GE\"], [\"Business/Consumer Services\", \"GE\"], [\"Business/Consumer Services\", \"GE\"], [\"Business/Consumer Services\", \"GE\"], [\"Business/Consumer Services\", \"GE\"], [\"Business/Consumer Services\", \"GE\"], [\"Business/Consumer Services\", \"GE\"], [\"Business/Consumer Services\", \"GE\"], [\"Business/Consumer Services\", \"GE\"], [\"Business/Consumer Services\", \"GE\"], [\"Business/Consumer Services\", \"GE\"], [\"Business/Consumer Services\", \"GE\"], [\"Business/Consumer Services\", \"GE\"], [\"Business/Consumer Services\", \"GE\"], [\"Business/Consumer Services\", \"GE\"], [\"Business/Consumer Services\", \"GE\"], [\"Business/Consumer Services\", \"GE\"], [\"Business/Consumer Services\", \"GE\"], [\"Business/Consumer Services\", \"GE\"], [\"Business/Consumer Services\", \"GE\"], [\"Business/Consumer Services\", \"GE\"], [\"Business/Consumer Services\", \"GE\"], [\"Business/Consumer Services\", \"GE\"], [\"Business/Consumer Services\", \"GE\"], [\"Business/Consumer Services\", \"GE\"], [\"Business/Consumer Services\", \"GE\"], [\"Business/Consumer Services\", \"GE\"], [\"Business/Consumer Services\", \"GE\"], [\"Business/Consumer Services\", \"GE\"], [\"Business/Consumer Services\", \"GE\"], [\"Business/Consumer Services\", \"GE\"], [\"Business/Consumer Services\", \"GE\"], [\"Business/Consumer Services\", \"GE\"], [\"Business/Consumer Services\", \"GE\"], [\"Business/Consumer Services\", \"GE\"], [\"Business/Consumer Services\", \"GE\"], [\"Business/Consumer Services\", \"GE\"], [\"Business/Consumer Services\", \"GE\"], [\"Business/Consumer Services\", \"GE\"], [\"Business/Consumer Services\", \"GE\"], [\"Business/Consumer Services\", \"GE\"], [\"Business/Consumer Services\", \"GE\"], [\"Business/Consumer Services\", \"GE\"], [\"Business/Consumer Services\", \"GE\"], [\"Business/Consumer Services\", \"GE\"], [\"Business/Consumer Services\", \"GE\"], [\"Business/Consumer Services\", \"GE\"], [\"Business/Consumer Services\", \"GE\"], [\"Business/Consumer Services\", \"GE\"], [\"Business/Consumer Services\", \"GE\"], [\"Business/Consumer Services\", \"GE\"], [\"Business/Consumer Services\", \"GE\"], [\"Business/Consumer Services\", \"GE\"], [\"Business/Consumer Services\", \"GE\"], [\"Business/Consumer Services\", \"GE\"], [\"Business/Consumer Services\", \"GE\"], [\"Business/Consumer Services\", \"GE\"], [\"Business/Consumer Services\", \"GE\"], [\"Business/Consumer Services\", \"GE\"], [\"Business/Consumer Services\", \"GE\"], [\"Business/Consumer Services\", \"GE\"], [\"Business/Consumer Services\", \"GE\"], [\"Business/Consumer Services\", \"GE\"], [\"Business/Consumer Services\", \"GE\"], [\"Business/Consumer Services\", \"GE\"], [\"Business/Consumer Services\", \"GE\"], [\"Business/Consumer Services\", \"GE\"], [\"Business/Consumer Services\", \"GE\"], [\"Business/Consumer Services\", \"GE\"], [\"Business/Consumer Services\", \"GE\"], [\"Business/Consumer Services\", \"GE\"], [\"Business/Consumer Services\", \"GE\"], [\"Business/Consumer Services\", \"GE\"], [\"Business/Consumer Services\", \"GE\"], [\"Business/Consumer Services\", \"GE\"], [\"Business/Consumer Services\", \"GE\"], [\"Business/Consumer Services\", \"GE\"], [\"Business/Consumer Services\", \"GE\"], [\"Business/Consumer Services\", \"GE\"], [\"Business/Consumer Services\", \"GE\"], [\"Business/Consumer Services\", \"GE\"], [\"Business/Consumer Services\", \"GE\"], [\"Business/Consumer Services\", \"GE\"], [\"Business/Consumer Services\", \"GE\"], [\"Business/Consumer Services\", \"GE\"], [\"Business/Consumer Services\", \"GE\"], [\"Business/Consumer Services\", \"GE\"], [\"Business/Consumer Services\", \"GE\"], [\"Business/Consumer Services\", \"GE\"], [\"Business/Consumer Services\", \"GE\"], [\"Business/Consumer Services\", \"GE\"], [\"Business/Consumer Services\", \"GE\"], [\"Business/Consumer Services\", \"GE\"], [\"Business/Consumer Services\", \"GE\"], [\"Business/Consumer Services\", \"GE\"], [\"Business/Consumer Services\", \"GE\"], [\"Business/Consumer Services\", \"GE\"], [\"Business/Consumer Services\", \"GE\"], [\"Business/Consumer Services\", \"GE\"], [\"Business/Consumer Services\", \"GE\"], [\"Business/Consumer Services\", \"GE\"], [\"Business/Consumer Services\", \"GE\"], [\"Business/Consumer Services\", \"GE\"], [\"Business/Consumer Services\", \"GE\"], [\"Business/Consumer Services\", \"GE\"], [\"Business/Consumer Services\", \"GE\"], [\"Business/Consumer Services\", \"GE\"], [\"Business/Consumer Services\", \"GE\"], [\"Business/Consumer Services\", \"GE\"], [\"Business/Consumer Services\", \"GE\"], [\"Business/Consumer Services\", \"GE\"], [\"Business/Consumer Services\", \"GE\"], [\"Business/Consumer Services\", \"GE\"], [\"Business/Consumer Services\", \"GE\"], [\"Business/Consumer Services\", \"GE\"], [\"Business/Consumer Services\", \"GE\"], [\"Business/Consumer Services\", \"GE\"], [\"Business/Consumer Services\", \"GE\"], [\"Business/Consumer Services\", \"GE\"], [\"Business/Consumer Services\", \"GE\"], [\"Business/Consumer Services\", \"GE\"], [\"Business/Consumer Services\", \"GE\"], [\"Business/Consumer Services\", \"GE\"], [\"Business/Consumer Services\", \"GE\"], [\"Business/Consumer Services\", \"GE\"], [\"Business/Consumer Services\", \"GE\"], [\"Business/Consumer Services\", \"GE\"], [\"Business/Consumer Services\", \"GE\"], [\"Business/Consumer Services\", \"GE\"], [\"Business/Consumer Services\", \"GE\"], [\"Business/Consumer Services\", \"GE\"], [\"Business/Consumer Services\", \"GE\"], [\"Business/Consumer Services\", \"GE\"], [\"Business/Consumer Services\", \"GE\"], [\"Business/Consumer Services\", \"GE\"], [\"Business/Consumer Services\", \"GE\"], [\"Business/Consumer Services\", \"GE\"], [\"Business/Consumer Services\", \"GE\"], [\"Business/Consumer Services\", \"GE\"], [\"Business/Consumer Services\", \"GE\"], [\"Business/Consumer Services\", \"GE\"], [\"Business/Consumer Services\", \"GE\"], [\"Business/Consumer Services\", \"GE\"], [\"Business/Consumer Services\", \"GE\"], [\"Business/Consumer Services\", \"GE\"], [\"Business/Consumer Services\", \"GE\"], [\"Business/Consumer Services\", \"GE\"], [\"Business/Consumer Services\", \"GE\"], [\"Business/Consumer Services\", \"GE\"], [\"Business/Consumer Services\", \"GE\"], [\"Business/Consumer Services\", \"GE\"], [\"Business/Consumer Services\", \"GE\"], [\"Business/Consumer Services\", \"GE\"], [\"Business/Consumer Services\", \"GE\"], [\"Business/Consumer Services\", \"GE\"], [\"Business/Consumer Services\", \"GE\"], [\"Business/Consumer Services\", \"GE\"], [\"Business/Consumer Services\", \"GE\"], [\"Business/Consumer Services\", \"GE\"], [\"Business/Consumer Services\", \"GE\"], [\"Business/Consumer Services\", \"GE\"], [\"Business/Consumer Services\", \"GE\"], [\"Business/Consumer Services\", \"GE\"], [\"Business/Consumer Services\", \"GE\"], [\"Business/Consumer Services\", \"GE\"], [\"Business/Consumer Services\", \"GE\"], [\"Business/Consumer Services\", \"GE\"], [\"Business/Consumer Services\", \"GE\"], [\"Business/Consumer Services\", \"GE\"], [\"Business/Consumer Services\", \"GE\"], [\"Business/Consumer Services\", \"GE\"], [\"Business/Consumer Services\", \"GE\"], [\"Business/Consumer Services\", \"GE\"], [\"Business/Consumer Services\", \"GE\"], [\"Business/Consumer Services\", \"GE\"], [\"Business/Consumer Services\", \"GE\"], [\"Business/Consumer Services\", \"GE\"], [\"Business/Consumer Services\", \"GE\"], [\"Business/Consumer Services\", \"GE\"], [\"Business/Consumer Services\", \"GE\"], [\"Business/Consumer Services\", \"GE\"], [\"Business/Consumer Services\", \"GE\"], [\"Business/Consumer Services\", \"GE\"], [\"Business/Consumer Services\", \"GE\"], [\"Business/Consumer Services\", \"GE\"], [\"Business/Consumer Services\", \"GE\"], [\"Business/Consumer Services\", \"GE\"], [\"Business/Consumer Services\", \"GE\"], [\"Business/Consumer Services\", \"GE\"], [\"Business/Consumer Services\", \"GE\"], [\"Business/Consumer Services\", \"GE\"], [\"Business/Consumer Services\", \"GE\"], [\"Business/Consumer Services\", \"GE\"], [\"Business/Consumer Services\", \"GE\"], [\"Business/Consumer Services\", \"GE\"], [\"Business/Consumer Services\", \"GE\"], [\"Business/Consumer Services\", \"GE\"], [\"Business/Consumer Services\", \"GE\"], [\"Business/Consumer Services\", \"GE\"], [\"Business/Consumer Services\", \"GE\"], [\"Business/Consumer Services\", \"GE\"], [\"Business/Consumer Services\", \"GE\"], [\"Business/Consumer Services\", \"GE\"], [\"Business/Consumer Services\", \"GE\"], [\"Business/Consumer Services\", \"GE\"], [\"Business/Consumer Services\", \"GE\"], [\"Business/Consumer Services\", \"GE\"], [\"Business/Consumer Services\", \"GE\"], [\"Business/Consumer Services\", \"GE\"], [\"Business/Consumer Services\", \"GE\"], [\"Business/Consumer Services\", \"GE\"], [\"Business/Consumer Services\", \"GE\"], [\"Business/Consumer Services\", \"GE\"], [\"Business/Consumer Services\", \"GE\"], [\"Business/Consumer Services\", \"GE\"], [\"Business/Consumer Services\", \"GE\"], [\"Business/Consumer Services\", \"GE\"], [\"Business/Consumer Services\", \"GE\"], [\"Business/Consumer Services\", \"GE\"], [\"Business/Consumer Services\", \"GE\"], [\"Business/Consumer Services\", \"GE\"], [\"Business/Consumer Services\", \"GE\"], [\"Business/Consumer Services\", \"GE\"], [\"Business/Consumer Services\", \"GE\"], [\"Business/Consumer Services\", \"GE\"], [\"Business/Consumer Services\", \"GE\"], [\"Business/Consumer Services\", \"GE\"], [\"Business/Consumer Services\", \"GE\"], [\"Business/Consumer Services\", \"GE\"], [\"Business/Consumer Services\", \"GE\"], [\"Business/Consumer Services\", \"GE\"], [\"Business/Consumer Services\", \"GE\"], [\"Business/Consumer Services\", \"GE\"], [\"Business/Consumer Services\", \"GE\"], [\"Business/Consumer Services\", \"GE\"], [\"Business/Consumer Services\", \"GE\"], [\"Business/Consumer Services\", \"GE\"], [\"Business/Consumer Services\", \"GE\"], [\"Business/Consumer Services\", \"GE\"], [\"Business/Consumer Services\", \"GE\"], [\"Business/Consumer Services\", \"GE\"], [\"Business/Consumer Services\", \"GE\"], [\"Business/Consumer Services\", \"GE\"], [\"Business/Consumer Services\", \"GE\"], [\"Business/Consumer Services\", \"GE\"], [\"Business/Consumer Services\", \"GE\"], [\"Business/Consumer Services\", \"GE\"], [\"Business/Consumer Services\", \"GE\"], [\"Business/Consumer Services\", \"GE\"], [\"Business/Consumer Services\", \"GE\"], [\"Business/Consumer Services\", \"GE\"], [\"Business/Consumer Services\", \"GE\"], [\"Business/Consumer Services\", \"GE\"], [\"Business/Consumer Services\", \"GE\"], [\"Business/Consumer Services\", \"GE\"], [\"Business/Consumer Services\", \"GE\"], [\"Business/Consumer Services\", \"GE\"], [\"Business/Consumer Services\", \"GE\"], [\"Business/Consumer Services\", \"GE\"], [\"Business/Consumer Services\", \"GE\"], [\"Business/Consumer Services\", \"GE\"], [\"Business/Consumer Services\", \"GE\"], [\"Business/Consumer Services\", \"GE\"], [\"Business/Consumer Services\", \"GE\"], [\"Business/Consumer Services\", \"GE\"], [\"Business/Consumer Services\", \"GE\"], [\"Business/Consumer Services\", \"GE\"], [\"Business/Consumer Services\", \"GE\"], [\"Business/Consumer Services\", \"GE\"], [\"Business/Consumer Services\", \"GE\"], [\"Business/Consumer Services\", \"GE\"], [\"Business/Consumer Services\", \"GE\"], [\"Business/Consumer Services\", \"GE\"], [\"Business/Consumer Services\", \"GE\"], [\"Business/Consumer Services\", \"GE\"], [\"Business/Consumer Services\", \"GE\"], [\"Business/Consumer Services\", \"GE\"], [\"Business/Consumer Services\", \"GE\"], [\"Business/Consumer Services\", \"GE\"], [\"Business/Consumer Services\", \"GE\"], [\"Business/Consumer Services\", \"GE\"], [\"Business/Consumer Services\", \"GE\"], [\"Business/Consumer Services\", \"GE\"], [\"Business/Consumer Services\", \"GE\"], [\"Business/Consumer Services\", \"GE\"], [\"Business/Consumer Services\", \"GE\"], [\"Business/Consumer Services\", \"GE\"], [\"Business/Consumer Services\", \"GE\"], [\"Business/Consumer Services\", \"GE\"], [\"Business/Consumer Services\", \"GE\"], [\"Business/Consumer Services\", \"GE\"], [\"Business/Consumer Services\", \"GE\"], [\"Business/Consumer Services\", \"GE\"], [\"Business/Consumer Services\", \"GE\"], [\"Business/Consumer Services\", \"GE\"], [\"Business/Consumer Services\", \"GE\"], [\"Business/Consumer Services\", \"GE\"], [\"Business/Consumer Services\", \"GE\"], [\"Business/Consumer Services\", \"GE\"], [\"Business/Consumer Services\", \"GE\"], [\"Business/Consumer Services\", \"GE\"], [\"Business/Consumer Services\", \"GE\"], [\"Business/Consumer Services\", \"GE\"], [\"Business/Consumer Services\", \"GE\"], [\"Business/Consumer Services\", \"GE\"], [\"Business/Consumer Services\", \"GE\"], [\"Business/Consumer Services\", \"GE\"], [\"Business/Consumer Services\", \"GE\"], [\"Business/Consumer Services\", \"GE\"], [\"Business/Consumer Services\", \"GE\"], [\"Business/Consumer Services\", \"GE\"], [\"Business/Consumer Services\", \"GE\"], [\"Business/Consumer Services\", \"GE\"], [\"Business/Consumer Services\", \"GE\"], [\"Business/Consumer Services\", \"GE\"], [\"Business/Consumer Services\", \"GE\"], [\"Business/Consumer Services\", \"GE\"], [\"Business/Consumer Services\", \"GE\"], [\"Business/Consumer Services\", \"GE\"], [\"Business/Consumer Services\", \"GE\"], [\"Business/Consumer Services\", \"GE\"], [\"Business/Consumer Services\", \"GE\"], [\"Business/Consumer Services\", \"GE\"], [\"Business/Consumer Services\", \"GE\"], [\"Business/Consumer Services\", \"GE\"], [\"Business/Consumer Services\", \"GE\"], [\"Business/Consumer Services\", \"GE\"], [\"Business/Consumer Services\", \"GE\"], [\"Business/Consumer Services\", \"GE\"], [\"Business/Consumer Services\", \"GE\"], [\"Business/Consumer Services\", \"GE\"], [\"Business/Consumer Services\", \"GE\"], [\"Business/Consumer Services\", \"GE\"], [\"Business/Consumer Services\", \"GE\"], [\"Business/Consumer Services\", \"GE\"], [\"Business/Consumer Services\", \"GE\"], [\"Business/Consumer Services\", \"GE\"], [\"Business/Consumer Services\", \"GE\"], [\"Business/Consumer Services\", \"GE\"], [\"Business/Consumer Services\", \"GE\"], [\"Business/Consumer Services\", \"GE\"], [\"Business/Consumer Services\", \"GE\"], [\"Business/Consumer Services\", \"GE\"], [\"Business/Consumer Services\", \"GE\"], [\"Business/Consumer Services\", \"GE\"], [\"Business/Consumer Services\", \"GE\"], [\"Business/Consumer Services\", \"GE\"], [\"Business/Consumer Services\", \"GE\"], [\"Business/Consumer Services\", \"GE\"], [\"Business/Consumer Services\", \"GE\"], [\"Business/Consumer Services\", \"GE\"], [\"Business/Consumer Services\", \"GE\"], [\"Business/Consumer Services\", \"GE\"], [\"Business/Consumer Services\", \"GE\"], [\"Business/Consumer Services\", \"GE\"], [\"Business/Consumer Services\", \"GE\"], [\"Business/Consumer Services\", \"GE\"], [\"Business/Consumer Services\", \"GE\"], [\"Business/Consumer Services\", \"GE\"], [\"Business/Consumer Services\", \"GE\"], [\"Business/Consumer Services\", \"GE\"], [\"Business/Consumer Services\", \"GE\"], [\"Business/Consumer Services\", \"GE\"], [\"Business/Consumer Services\", \"GE\"], [\"Business/Consumer Services\", \"GE\"], [\"Business/Consumer Services\", \"GE\"], [\"Business/Consumer Services\", \"GE\"], [\"Business/Consumer Services\", \"GE\"], [\"Business/Consumer Services\", \"GE\"], [\"Business/Consumer Services\", \"GE\"], [\"Business/Consumer Services\", \"GE\"], [\"Business/Consumer Services\", \"GE\"], [\"Business/Consumer Services\", \"GE\"], [\"Business/Consumer Services\", \"GE\"], [\"Business/Consumer Services\", \"GE\"], [\"Business/Consumer Services\", \"GE\"], [\"Business/Consumer Services\", \"GE\"], [\"Business/Consumer Services\", \"GE\"], [\"Business/Consumer Services\", \"GE\"], [\"Business/Consumer Services\", \"GE\"], [\"Business/Consumer Services\", \"GE\"], [\"Business/Consumer Services\", \"GE\"], [\"Business/Consumer Services\", \"GE\"], [\"Business/Consumer Services\", \"GE\"], [\"Business/Consumer Services\", \"GE\"], [\"Business/Consumer Services\", \"GE\"], [\"Business/Consumer Services\", \"GE\"], [\"Business/Consumer Services\", \"GE\"], [\"Business/Consumer Services\", \"GE\"], [\"Business/Consumer Services\", \"GE\"], [\"Business/Consumer Services\", \"GE\"], [\"Business/Consumer Services\", \"GE\"], [\"Business/Consumer Services\", \"GE\"], [\"Business/Consumer Services\", \"GE\"], [\"Business/Consumer Services\", \"GE\"], [\"Business/Consumer Services\", \"GE\"], [\"Business/Consumer Services\", \"GE\"], [\"Business/Consumer Services\", \"GE\"], [\"Business/Consumer Services\", \"GE\"], [\"Business/Consumer Services\", \"GE\"], [\"Business/Consumer Services\", \"GE\"], [\"Business/Consumer Services\", \"GE\"], [\"Business/Consumer Services\", \"GE\"], [\"Business/Consumer Services\", \"GE\"], [\"Business/Consumer Services\", \"GE\"], [\"Business/Consumer Services\", \"GE\"], [\"Business/Consumer Services\", \"GE\"], [\"Business/Consumer Services\", \"GE\"], [\"Business/Consumer Services\", \"GE\"], [\"Business/Consumer Services\", \"GE\"], [\"Business/Consumer Services\", \"GE\"], [\"Business/Consumer Services\", \"GE\"], [\"Business/Consumer Services\", \"GE\"], [\"Business/Consumer Services\", \"GE\"], [\"Business/Consumer Services\", \"GE\"], [\"Business/Consumer Services\", \"GE\"], [\"Business/Consumer Services\", \"GE\"], [\"Business/Consumer Services\", \"GE\"], [\"Business/Consumer Services\", \"GE\"], [\"Business/Consumer Services\", \"GE\"], [\"Business/Consumer Services\", \"GE\"], [\"Business/Consumer Services\", \"GE\"], [\"Business/Consumer Services\", \"GE\"], [\"Business/Consumer Services\", \"GE\"], [\"Business/Consumer Services\", \"GE\"], [\"Business/Consumer Services\", \"GE\"], [\"Business/Consumer Services\", \"GE\"], [\"Business/Consumer Services\", \"GE\"], [\"Business/Consumer Services\", \"GE\"], [\"Business/Consumer Services\", \"GE\"], [\"Business/Consumer Services\", \"GE\"], [\"Business/Consumer Services\", \"GE\"], [\"Business/Consumer Services\", \"GE\"], [\"Business/Consumer Services\", \"GE\"], [\"Business/Consumer Services\", \"GE\"], [\"Business/Consumer Services\", \"GE\"], [\"Business/Consumer Services\", \"GE\"], [\"Business/Consumer Services\", \"GE\"], [\"Business/Consumer Services\", \"GE\"], [\"Business/Consumer Services\", \"GE\"], [\"Business/Consumer Services\", \"GE\"], [\"Business/Consumer Services\", \"GE\"], [\"Business/Consumer Services\", \"GE\"], [\"Business/Consumer Services\", \"GE\"], [\"Business/Consumer Services\", \"GE\"], [\"Business/Consumer Services\", \"GE\"], [\"Business/Consumer Services\", \"GE\"], [\"Business/Consumer Services\", \"GE\"], [\"Business/Consumer Services\", \"GE\"], [\"Business/Consumer Services\", \"GE\"], [\"Business/Consumer Services\", \"GE\"], [\"Business/Consumer Services\", \"GE\"], [\"Business/Consumer Services\", \"GE\"], [\"Business/Consumer Services\", \"GE\"], [\"Business/Consumer Services\", \"GE\"], [\"Business/Consumer Services\", \"GE\"], [\"Business/Consumer Services\", \"GE\"], [\"Business/Consumer Services\", \"GE\"], [\"Business/Consumer Services\", \"GE\"], [\"Business/Consumer Services\", \"GE\"], [\"Business/Consumer Services\", \"GE\"], [\"Business/Consumer Services\", \"GE\"], [\"Business/Consumer Services\", \"GE\"], [\"Business/Consumer Services\", \"GE\"], [\"Business/Consumer Services\", \"GE\"], [\"Business/Consumer Services\", \"GE\"], [\"Business/Consumer Services\", \"GE\"], [\"Business/Consumer Services\", \"GE\"], [\"Business/Consumer Services\", \"GE\"], [\"Business/Consumer Services\", \"GE\"], [\"Business/Consumer Services\", \"GE\"], [\"Business/Consumer Services\", \"GE\"], [\"Business/Consumer Services\", \"GE\"], [\"Business/Consumer Services\", \"GE\"], [\"Business/Consumer Services\", \"GE\"], [\"Business/Consumer Services\", \"GE\"], [\"Business/Consumer Services\", \"GE\"], [\"Business/Consumer Services\", \"GE\"], [\"Business/Consumer Services\", \"GE\"], [\"Business/Consumer Services\", \"GE\"], [\"Business/Consumer Services\", \"GE\"], [\"Business/Consumer Services\", \"GE\"], [\"Business/Consumer Services\", \"GE\"], [\"Business/Consumer Services\", \"GE\"], [\"Business/Consumer Services\", \"GE\"], [\"Business/Consumer Services\", \"GE\"], [\"Business/Consumer Services\", \"GE\"], [\"Business/Consumer Services\", \"GE\"], [\"Business/Consumer Services\", \"GE\"], [\"Business/Consumer Services\", \"GE\"], [\"Business/Consumer Services\", \"GE\"], [\"Business/Consumer Services\", \"GE\"], [\"Business/Consumer Services\", \"GE\"], [\"Business/Consumer Services\", \"GE\"], [\"Business/Consumer Services\", \"GE\"], [\"Business/Consumer Services\", \"GE\"], [\"Business/Consumer Services\", \"GE\"], [\"Business/Consumer Services\", \"GE\"], [\"Business/Consumer Services\", \"GE\"], [\"Business/Consumer Services\", \"GE\"], [\"Business/Consumer Services\", \"GE\"], [\"Business/Consumer Services\", \"GE\"], [\"Business/Consumer Services\", \"GE\"], [\"Business/Consumer Services\", \"GE\"], [\"Business/Consumer Services\", \"GE\"], [\"Business/Consumer Services\", \"GE\"], [\"Business/Consumer Services\", \"GE\"], [\"Business/Consumer Services\", \"GE\"], [\"Business/Consumer Services\", \"GE\"], [\"Business/Consumer Services\", \"GE\"], [\"Business/Consumer Services\", \"GE\"], [\"Business/Consumer Services\", \"GE\"], [\"Business/Consumer Services\", \"GE\"], [\"Business/Consumer Services\", \"GE\"], [\"Business/Consumer Services\", \"GE\"], [\"Business/Consumer Services\", \"GE\"], [\"Business/Consumer Services\", \"GE\"], [\"Business/Consumer Services\", \"GE\"], [\"Business/Consumer Services\", \"GE\"], [\"Business/Consumer Services\", \"GE\"], [\"Business/Consumer Services\", \"GE\"], [\"Business/Consumer Services\", \"GE\"], [\"Business/Consumer Services\", \"GE\"], [\"Business/Consumer Services\", \"GE\"], [\"Business/Consumer Services\", \"GE\"], [\"Business/Consumer Services\", \"GE\"], [\"Business/Consumer Services\", \"GE\"], [\"Business/Consumer Services\", \"GE\"], [\"Business/Consumer Services\", \"GE\"], [\"Business/Consumer Services\", \"GE\"], [\"Business/Consumer Services\", \"GE\"], [\"Business/Consumer Services\", \"GE\"], [\"Business/Consumer Services\", \"GE\"], [\"Business/Consumer Services\", \"GE\"], [\"Business/Consumer Services\", \"GE\"], [\"Business/Consumer Services\", \"GE\"], [\"Business/Consumer Services\", \"GE\"], [\"Business/Consumer Services\", \"GE\"], [\"Business/Consumer Services\", \"GE\"], [\"Business/Consumer Services\", \"GE\"], [\"Business/Consumer Services\", \"GE\"], [\"Business/Consumer Services\", \"GE\"], [\"Business/Consumer Services\", \"GE\"], [\"Business/Consumer Services\", \"GE\"], [\"Business/Consumer Services\", \"GE\"], [\"Business/Consumer Services\", \"GE\"], [\"Business/Consumer Services\", \"GE\"], [\"Business/Consumer Services\", \"GE\"], [\"Business/Consumer Services\", \"GE\"], [\"Business/Consumer Services\", \"GE\"], [\"Business/Consumer Services\", \"GE\"], [\"Business/Consumer Services\", \"GE\"], [\"Business/Consumer Services\", \"GE\"], [\"Business/Consumer Services\", \"GE\"], [\"Business/Consumer Services\", \"GE\"], [\"Business/Consumer Services\", \"GE\"], [\"Business/Consumer Services\", \"GE\"], [\"Business/Consumer Services\", \"GE\"], [\"Business/Consumer Services\", \"GE\"], [\"Business/Consumer Services\", \"GE\"], [\"Business/Consumer Services\", \"GE\"], [\"Business/Consumer Services\", \"GE\"], [\"Business/Consumer Services\", \"GE\"], [\"Business/Consumer Services\", \"GE\"], [\"Business/Consumer Services\", \"GE\"], [\"Business/Consumer Services\", \"GE\"], [\"Business/Consumer Services\", \"GE\"], [\"Business/Consumer Services\", \"GE\"], [\"Business/Consumer Services\", \"GE\"], [\"Business/Consumer Services\", \"GE\"], [\"Business/Consumer Services\", \"GE\"], [\"Business/Consumer Services\", \"GE\"], [\"Business/Consumer Services\", \"GE\"], [\"Business/Consumer Services\", \"GE\"], [\"Business/Consumer Services\", \"GE\"], [\"Business/Consumer Services\", \"GE\"], [\"Business/Consumer Services\", \"GE\"], [\"Business/Consumer Services\", \"GE\"], [\"Business/Consumer Services\", \"GE\"], [\"Business/Consumer Services\", \"GE\"], [\"Business/Consumer Services\", \"GE\"], [\"Business/Consumer Services\", \"GE\"], [\"Business/Consumer Services\", \"GE\"], [\"Business/Consumer Services\", \"GE\"], [\"Business/Consumer Services\", \"GE\"], [\"Business/Consumer Services\", \"GE\"], [\"Business/Consumer Services\", \"GE\"], [\"Business/Consumer Services\", \"GE\"], [\"Business/Consumer Services\", \"GE\"], [\"Business/Consumer Services\", \"GE\"], [\"Business/Consumer Services\", \"GE\"], [\"Business/Consumer Services\", \"GE\"], [\"Business/Consumer Services\", \"GE\"], [\"Business/Consumer Services\", \"GE\"], [\"Business/Consumer Services\", \"GE\"], [\"Business/Consumer Services\", \"GE\"], [\"Business/Consumer Services\", \"GE\"], [\"Business/Consumer Services\", \"GE\"], [\"Business/Consumer Services\", \"GE\"], [\"Business/Consumer Services\", \"GE\"], [\"Business/Consumer Services\", \"GE\"], [\"Business/Consumer Services\", \"GE\"], [\"Business/Consumer Services\", \"GE\"], [\"Business/Consumer Services\", \"GE\"], [\"Business/Consumer Services\", \"GE\"], [\"Business/Consumer Services\", \"GE\"], [\"Business/Consumer Services\", \"GE\"], [\"Business/Consumer Services\", \"GE\"], [\"Business/Consumer Services\", \"GE\"], [\"Business/Consumer Services\", \"GE\"], [\"Business/Consumer Services\", \"GE\"], [\"Business/Consumer Services\", \"GE\"], [\"Business/Consumer Services\", \"GE\"], [\"Business/Consumer Services\", \"GE\"], [\"Business/Consumer Services\", \"GE\"], [\"Business/Consumer Services\", \"GE\"], [\"Business/Consumer Services\", \"GE\"], [\"Business/Consumer Services\", \"GE\"], [\"Business/Consumer Services\", \"GE\"], [\"Business/Consumer Services\", \"GE\"], [\"Business/Consumer Services\", \"GE\"], [\"Business/Consumer Services\", \"GE\"], [\"Business/Consumer Services\", \"GE\"], [\"Business/Consumer Services\", \"GE\"], [\"Business/Consumer Services\", \"GE\"], [\"Business/Consumer Services\", \"GE\"], [\"Business/Consumer Services\", \"GE\"], [\"Business/Consumer Services\", \"GE\"], [\"Business/Consumer Services\", \"GE\"], [\"Business/Consumer Services\", \"GE\"], [\"Business/Consumer Services\", \"GE\"], [\"Business/Consumer Services\", \"GE\"], [\"Business/Consumer Services\", \"GE\"], [\"Business/Consumer Services\", \"GE\"], [\"Business/Consumer Services\", \"GE\"], [\"Business/Consumer Services\", \"GE\"], [\"Business/Consumer Services\", \"GE\"], [\"Business/Consumer Services\", \"GE\"], [\"Business/Consumer Services\", \"GE\"], [\"Business/Consumer Services\", \"GE\"], [\"Business/Consumer Services\", \"GE\"], [\"Business/Consumer Services\", \"GE\"], [\"Business/Consumer Services\", \"GE\"], [\"Business/Consumer Services\", \"GE\"], [\"Business/Consumer Services\", \"GE\"], [\"Business/Consumer Services\", \"GE\"], [\"Business/Consumer Services\", \"GE\"], [\"Business/Consumer Services\", \"GE\"], [\"Business/Consumer Services\", \"GE\"], [\"Business/Consumer Services\", \"GE\"], [\"Business/Consumer Services\", \"GE\"], [\"Business/Consumer Services\", \"GE\"], [\"Business/Consumer Services\", \"GE\"], [\"Business/Consumer Services\", \"GE\"], [\"Business/Consumer Services\", \"GE\"], [\"Business/Consumer Services\", \"GE\"], [\"Business/Consumer Services\", \"GE\"], [\"Business/Consumer Services\", \"GE\"], [\"Business/Consumer Services\", \"GE\"], [\"Business/Consumer Services\", \"GE\"], [\"Business/Consumer Services\", \"GE\"], [\"Business/Consumer Services\", \"GE\"], [\"Business/Consumer Services\", \"GE\"], [\"Business/Consumer Services\", \"GE\"], [\"Business/Consumer Services\", \"GE\"], [\"Business/Consumer Services\", \"GE\"], [\"Business/Consumer Services\", \"GE\"], [\"Business/Consumer Services\", \"GE\"], [\"Business/Consumer Services\", \"GE\"], [\"Business/Consumer Services\", \"GE\"], [\"Business/Consumer Services\", \"GE\"], [\"Business/Consumer Services\", \"GE\"], [\"Business/Consumer Services\", \"GE\"], [\"Business/Consumer Services\", \"GE\"], [\"Business/Consumer Services\", \"GE\"]], \"hoverlabel\": {\"namelength\": 0}, \"hovertemplate\": \"sector=%{customdata[0]}<br>x=%{x}<br>y=%{y}<br>symb=%{customdata[1]}\", \"legendgroup\": \"Business/Consumer Services\", \"marker\": {\"color\": \"#FF6692\", \"symbol\": \"circle\"}, \"mode\": \"markers\", \"name\": \"Business/Consumer Services\", \"showlegend\": true, \"type\": \"scattergl\", \"x\": [-12.659570693969727, -48.59065628051758, -49.28976821899414, 54.461769104003906, -6.084964752197266, 25.81696128845215, 0.6765338778495789, -49.38218307495117, -9.238973617553711, -40.89474105834961, 4.092163562774658, 7.29696798324585, -50.7208137512207, 28.928966522216797, 14.248189926147461, -7.321002960205078, 3.1453990936279297, -17.390859603881836, -11.461402893066406, 4.338614463806152, -10.206277847290039, -3.8349380493164062, 29.292993545532227, 2.4736173152923584, 10.120282173156738, 24.554380416870117, 11.025544166564941, -18.74413299560547, 24.36497688293457, 9.809759140014648, -41.31919860839844, 28.701759338378906, -4.7261152267456055, 7.6050591468811035, -51.05952072143555, -1.7126405239105225, -12.934454917907715, -40.79397964477539, -2.956183910369873, -21.74412727355957, -20.284761428833008, -25.827892303466797, 12.548794746398926, 13.749434471130371, 13.060271263122559, 13.22950553894043, 16.57558822631836, -9.373894691467285, -42.29053497314453, 6.996883869171143, 24.812623977661133, -9.31009292602539, -7.236998558044434, 25.623571395874023, 21.521303176879883, 0.4050610065460205, -14.864689826965332, 20.74203109741211, 10.654589653015137, -12.331759452819824, 20.444427490234375, -0.6986823678016663, -1.702871322631836, 9.325032234191895, -0.5948392152786255, 18.325881958007812, -9.561002731323242, 18.0440673828125, 13.260107040405273, 12.430160522460938, 29.83002281188965, -17.475126266479492, -47.34965896606445, -50.56243896484375, 7.615131378173828, -0.3683990240097046, 15.04134750366211, 21.25723648071289, 5.460153102874756, -3.8670215606689453, -12.747823715209961, 3.2213642597198486, -51.76594543457031, 6.356520652770996, -12.713019371032715, -5.558630466461182, -41.033138275146484, -13.812519073486328, 3.609264850616455, -2.4188148975372314, -23.29654884338379, 4.441263675689697, -3.705369710922241, 49.60881042480469, -11.269253730773926, -45.75596618652344, 28.84886360168457, 37.49477005004883, 18.71059799194336, -30.10428237915039, -11.185466766357422, -16.40619468688965, 23.680490493774414, 37.71733093261719, 16.41602325439453, 8.76723575592041, 23.626543045043945, 27.83867645263672, 6.575826168060303, 20.228487014770508, 36.52022933959961, -4.719942569732666, -2.40089750289917, 21.55024528503418, -10.508803367614746, 2.1793172359466553, -4.755649089813232, -15.898903846740723, -49.352901458740234, 0.22392238676548004, 2.2832469940185547, 4.626779556274414, -4.982357025146484, -17.45132827758789, -22.475481033325195, -7.483266830444336, 30.996061325073242, -4.739508152008057, 0.06250055879354477, -44.68950653076172, -8.752608299255371, -41.980831146240234, 6.596097469329834, -11.16439151763916, 33.41377639770508, -6.097768783569336, 7.997515678405762, 13.425224304199219, -43.972171783447266, 3.157618284225464, -25.26706886291504, 22.0914249420166, -8.431496620178223, 6.435124397277832, -1.0387355089187622, -13.331732749938965, -43.157737731933594, -54.84720230102539, 5.571991920471191, 4.866335391998291, 7.648431301116943, 0.9729964733123779, 12.50266170501709, -4.590089321136475, 14.493968963623047, 11.282720565795898, 4.5870280265808105, -15.263954162597656, -43.09871292114258, -50.21453857421875, 14.28396987915039, -51.68831253051758, 14.13968276977539, 31.157772064208984, 23.958288192749023, 22.0567626953125, 28.27921485900879, 12.367233276367188, -16.068870544433594, 11.686022758483887, 21.876476287841797, -3.346540689468384, -12.775284767150879, 15.407668113708496, -43.12938690185547, 0.08952943980693817, 1.980924367904663, -17.561904907226562, -9.07802963256836, 3.54837703704834, -3.6305928230285645, -23.453594207763672, 10.506132125854492, 11.047465324401855, 5.1957526206970215, 21.828922271728516, -6.784084320068359, 13.166250228881836, 24.35013198852539, -10.36988353729248, 7.128874778747559, -20.84340476989746, 11.453897476196289, 21.57948875427246, -7.327006816864014, -43.46001434326172, 11.711570739746094, 14.540019989013672, -18.241392135620117, -24.944366455078125, -4.92718505859375, 27.276111602783203, 16.67711639404297, -17.068592071533203, -2.2922310829162598, -24.641756057739258, 11.229280471801758, 11.48426628112793, 25.115365982055664, -7.137842178344727, -42.52870559692383, 4.219570159912109, -55.37834930419922, 18.403167724609375, -16.252458572387695, -17.6104736328125, 12.225017547607422, -10.455123901367188, 14.912949562072754, 4.854279518127441, 16.003021240234375, -15.469402313232422, -1.1872632503509521, -1.2762846946716309, 20.223114013671875, -6.6825103759765625, -35.632598876953125, 28.06070899963379, 30.604089736938477, 16.739158630371094, 21.177749633789062, -11.709531784057617, 3.604680299758911, 31.36907386779785, 18.116260528564453, -34.34272003173828, -2.1795010566711426, -9.820472717285156, -19.631336212158203, -41.737457275390625, 9.867324829101562, 4.172884464263916, -53.15504455566406, 6.5998711585998535, -5.247931003570557, 4.176779270172119, 0.34678542613983154, 16.36271095275879, -13.894956588745117, 12.156972885131836, 17.1551456451416, 11.807205200195312, -21.016782760620117, -1.0317996740341187, -7.970637798309326, 28.20639991760254, 11.653905868530273, 28.127275466918945, 5.44690465927124, -11.073244094848633, -43.14705276489258, 30.082786560058594, 25.29460906982422, 7.516572952270508, -53.661277770996094, 13.489419937133789, 9.29990005493164, -22.8330020904541, -9.749434471130371, -40.32735061645508, 4.220309734344482, 10.192976951599121, 2.6926193237304688, 30.64957046508789, 17.932077407836914, 24.03076171875, -6.266085147857666, -44.477012634277344, 16.258668899536133, -16.383371353149414, -9.566383361816406, 11.82317066192627, 12.815678596496582, -5.265581130981445, -10.505927085876465, -43.645015716552734, -49.46692657470703, -50.76662826538086, 26.303911209106445, 21.21194076538086, 27.873432159423828, -18.629758834838867, 10.86008071899414, 2.275042772293091, -3.8607492446899414, -8.860128402709961, -45.65239715576172, -11.287328720092773, -21.20549964904785, 18.04768943786621, 7.854641437530518, -6.994740962982178, 25.037906646728516, 6.628651142120361, 33.37474060058594, -16.207151412963867, -18.374757766723633, 39.74422836303711, -44.1321907043457, -10.520662307739258, 10.663044929504395, -15.788078308105469, -18.57241439819336, 1.7563616037368774, -24.169660568237305, -4.881707668304443, -43.74610900878906, 13.110748291015625, -1.0359585285186768, 21.15677833557129, 14.860164642333984, 17.90656852722168, -3.6540215015411377, -21.393348693847656, -19.871164321899414, -2.8364222049713135, 30.21595001220703, 10.82654857635498, 9.18025016784668, -4.830944538116455, -47.593997955322266, 4.724364757537842, 20.6605224609375, -18.49757194519043, -17.929794311523438, 18.4403076171875, 21.45177459716797, -9.069830894470215, 9.35173511505127, -44.0322265625, 6.8654680252075195, -5.047354221343994, 6.341929912567139, 15.29531478881836, 23.690874099731445, -1.5789004564285278, 13.175950050354004, -10.79624080657959, -39.82991027832031, -51.52775192260742, -0.16499854624271393, -15.970982551574707, 13.499252319335938, 9.838456153869629, 29.8558406829834, -46.15816116333008, 16.845020294189453, 7.811067581176758, 29.737445831298828, -19.92392921447754, -16.649028778076172, -40.021793365478516, -15.89663028717041, 9.66723346710205, -1.3350460529327393, 9.672035217285156, 21.882570266723633, 15.988311767578125, 12.169146537780762, 5.825195789337158, -43.035987854003906, -39.85338592529297, 9.762194633483887, -40.659950256347656, 16.997474670410156, 5.677999496459961, 5.955354690551758, 11.590394020080566, -44.508888244628906, -41.68107604980469, 15.936190605163574, 25.66038703918457, -7.960180759429932, 4.037489891052246, -4.711822986602783, -54.066566467285156, 9.1718111038208, -41.89942169189453, -20.70262908935547, -41.89151382446289, -15.26040267944336, -9.005936622619629, 11.391474723815918, -51.909976959228516, -44.58073806762695, 21.894235610961914, 14.985459327697754, 12.760331153869629, -3.102738857269287, 9.072921752929688, 23.699846267700195, -43.496185302734375, -9.020017623901367, 4.065805912017822, 20.417404174804688, 1.480724573135376, 47.561012268066406, 13.434003829956055, -2.431892156600952, -7.589066505432129, -6.963037967681885, 47.51907730102539, 30.614002227783203, -36.993263244628906, 2.378849983215332, 4.04396915435791, 12.102263450622559, -11.03646183013916, -2.4388766288757324, -37.161407470703125, 22.362646102905273, 22.330961227416992, 8.612645149230957, -7.594297409057617, 0.010257909074425697, -5.381305694580078, -3.5763792991638184, -17.974130630493164, -21.75542640686035, -4.201143264770508, -0.9030078649520874, -46.26845169067383, -3.085603952407837, -0.8065087795257568, -44.419960021972656, 10.193483352661133, -0.5931386947631836, 3.364541530609131, -1.8184970617294312, -43.65322494506836, 30.15364646911621, -38.981597900390625, -45.20222091674805, -42.67136001586914, 43.19837188720703, 14.64342212677002, -11.105988502502441, -52.11663818359375, 7.290902137756348, -23.2418155670166, 32.025848388671875, -7.5796966552734375, -2.60970401763916, -43.76249313354492, -45.30084228515625, -7.718339920043945, -7.9171576499938965, -43.68231964111328, -45.362857818603516, -56.8089714050293, -2.28771710395813, -21.19356918334961, -41.50507354736328, 24.898775100708008, -43.23115921020508, -0.0521233007311821, -18.529329299926758, -2.356973171234131, -19.889875411987305, -19.87701416015625, -2.5659847259521484, -16.095157623291016, -9.789648056030273, -12.261720657348633, -40.551246643066406, 6.680896282196045, 24.66329574584961, 0.8316842913627625, 26.90855598449707, -51.21438217163086, -2.7071361541748047, -6.612964153289795, -2.791253089904785, -3.9100122451782227, 15.170042037963867, -24.35068130493164, -23.417949676513672, -11.16815185546875, -5.74948263168335, 13.895084381103516, 27.230974197387695, 20.829437255859375, 26.86086082458496, 31.129884719848633, 38.3603515625, 31.011892318725586, -43.19950866699219, -11.365486145019531, -9.201066017150879, -51.414791107177734, 7.464963912963867, -42.42793655395508, -5.84520959854126, -27.762819290161133, -42.896217346191406, -43.22508239746094, -27.923599243164062, -24.81066131591797, -19.82688331604004, 14.021636962890625, 21.845720291137695, -21.44496726989746, -18.478919982910156, -23.075437545776367, -11.657050132751465, 7.836417198181152, 12.101630210876465, -16.9346923828125, 7.9343791007995605, -3.4946279525756836, -10.804773330688477, -14.760157585144043, -43.631690979003906, 4.182365417480469, 10.252820014953613, -54.49790954589844, 13.276349067687988, 6.16701078414917, -17.380605697631836, -2.015705108642578, 11.901237487792969, 1.6619459390640259, 13.190912246704102, -52.63527297973633, 1.5139086246490479, -42.259307861328125, 0.8221518397331238, -14.914840698242188, 18.793087005615234, -5.763247966766357, 14.55001449584961, -44.18248748779297, 13.75321102142334, 13.260602951049805, -0.6161671280860901, 0.41242897510528564, 13.287954330444336, 16.559677124023438, 24.129474639892578, -17.45716094970703, -15.439631462097168, -16.486007690429688, 6.690820693969727, -1.3885257244110107, 19.312719345092773, -17.736957550048828, -35.23303985595703, -24.190820693969727, 31.874971389770508, -40.5413932800293, -37.90016174316406, -13.975565910339355, -51.97161865234375, -9.140987396240234, -2.660010814666748, 24.181982040405273, -15.082490921020508, -22.18791389465332, -0.11653655767440796, -9.988546371459961, 22.044771194458008, 27.864625930786133, 26.7276668548584, 11.002180099487305, -1.6361122131347656, -16.637351989746094, 9.41256046295166, 10.144097328186035, -27.719303131103516, 1.2355082035064697, -1.9503355026245117, 10.766929626464844, -13.99040699005127, 14.439929962158203, -28.79111099243164, -0.7622218132019043, 5.359113693237305, 12.250136375427246, -13.845755577087402, -33.56212615966797, -45.35723114013672, 10.449333190917969, -17.563690185546875, -49.046993255615234, -13.866347312927246, 7.622316360473633, -13.769011497497559, 11.866024017333984, -14.419296264648438, 16.479013442993164, 0.9192442893981934, -13.910102844238281, -10.625910758972168, 12.035724639892578, -37.41521453857422, -2.146494150161743, 11.219865798950195, -10.559738159179688, -40.199363708496094, -54.34097671508789, -3.454996109008789, -13.778257369995117, -46.370330810546875, -41.78794860839844, 30.194358825683594, -17.348981857299805, -46.9421272277832, -48.64341354370117, 2.4842092990875244, -8.858444213867188, 2.9392027854919434, -11.733378410339355, 8.78693675994873, 0.34820935130119324, -1.2115415334701538, -0.6642120480537415, -7.122701168060303, 8.09524154663086, -27.46036148071289, 6.103832721710205, -0.7384169697761536, 2.6623146533966064, -6.357926368713379, -9.930328369140625, -0.7014851570129395, 1.418189525604248, 13.389768600463867, 26.70342254638672, -48.38800811767578, 1.4041699171066284, -13.293909072875977, -17.332727432250977, 13.909465789794922, -0.5568876266479492, 50.33348846435547, -24.029254913330078, -8.962072372436523, -0.38356703519821167, 26.271148681640625, 5.503921985626221, -19.660402297973633, -3.82625150680542, -9.167613983154297, 28.458778381347656, -19.581514358520508, -16.198822021484375, -12.586420059204102, -45.07069778442383, 37.21849822998047, -49.04446029663086, 2.7295048236846924, -3.4343159198760986, 26.951297760009766, 2.8543546199798584, 28.127500534057617, 10.867659568786621, 6.724101543426514, 19.9721622467041, 5.5999579429626465, -8.807428359985352, -45.845340728759766, 5.69858980178833, 7.379724979400635, 26.295000076293945, 27.047893524169922, 30.165315628051758, -10.86990737915039, 6.877763748168945, 29.748157501220703, 15.708571434020996, -56.57083511352539, 6.370552062988281, 27.413658142089844, 4.383702754974365, 8.096531867980957, -39.167259216308594, 25.628955841064453, -38.107627868652344, -9.678138732910156, 6.948741912841797, -46.68508529663086, 24.23250389099121, 10.2734956741333, 24.319156646728516, 25.603252410888672, 26.1162166595459, 23.73575782775879, 25.59193229675293, 3.893994092941284, -17.7966365814209, -41.03803634643555, 2.3208048343658447, -18.462055206298828, 26.74395179748535, 1.5411523580551147, -5.389532089233398, 32.79585266113281, 25.73703956604004, -1.9433554410934448, -46.03862762451172, -11.555190086364746, -39.88425827026367, -7.722177028656006, -36.21292495727539, -9.94753646850586, -35.690879821777344, -50.84782028198242, -40.56896209716797, 2.2197062969207764, 5.171133995056152, -21.123044967651367, -48.54301452636719, 7.204507350921631, -41.24271011352539, -2.941513776779175, -50.83700942993164, -9.237454414367676, -17.593137741088867, -2.1001017093658447, -40.17316436767578, -35.861934661865234, -50.55657196044922, -1.266470193862915, -44.106807708740234, -1.3440990447998047, 5.315565586090088, 37.935096740722656, 21.990249633789062, 7.386024475097656, 2.632762908935547, -14.427505493164062, -46.41041946411133, 21.62064552307129, 21.469417572021484, -41.6655158996582, -39.55413055419922, 28.193880081176758, 5.713057041168213, -16.250516891479492, -41.24998092651367, 10.471236228942871, 27.64012908935547, -1.6923190355300903, -2.8137311935424805, 30.28400993347168, 30.284006118774414, -0.373407244682312, -26.2585391998291, 20.308679580688477, 26.056411743164062, -7.5630974769592285, 26.516138076782227, -9.642508506774902, 16.643339157104492, -8.417041778564453, 25.72850799560547, -43.953163146972656, -37.4398193359375, -15.558905601501465, -39.22998809814453, -50.94932174682617], \"xaxis\": \"x\", \"y\": [5.134901523590088, -18.79916763305664, -10.248083114624023, 3.748354434967041, 31.950599670410156, 41.717655181884766, -10.376705169677734, -11.325860023498535, 3.2059497833251953, -7.385202407836914, 39.30744934082031, 37.761863708496094, -17.976194381713867, -1.7869038581848145, 31.383865356445312, 3.1196937561035156, 38.53703689575195, -19.38701629638672, -16.840736389160156, -26.245838165283203, 3.8860650062561035, 46.86697769165039, -35.334957122802734, -30.565956115722656, -24.82480239868164, -17.37152671813965, -28.160737991333008, -31.89439582824707, -28.996490478515625, 55.06509017944336, -20.031227111816406, 35.39133834838867, 46.58675003051758, 37.146453857421875, -8.39783000946045, 53.4873046875, 4.266465187072754, -9.521869659423828, -20.131967544555664, 37.704647064208984, 46.06797409057617, -3.613335371017456, -0.9456030130386353, -16.806734085083008, -17.02180290222168, -16.969070434570312, -31.360652923583984, 29.0953426361084, -20.442995071411133, -38.61274719238281, -31.758207321166992, 29.18274688720703, -6.9323577880859375, -31.05267333984375, -13.421321868896484, -29.533178329467773, -28.19581413269043, 44.473079681396484, 56.89120864868164, -26.127777099609375, 44.04756164550781, 49.86272430419922, -18.3110408782959, 39.07819747924805, 48.71266174316406, -33.917415618896484, -18.040395736694336, -10.183438301086426, 46.835166931152344, -33.789886474609375, -27.35954475402832, 18.872770309448242, -5.1720781326293945, -9.639301300048828, 41.58734893798828, 48.499000549316406, 15.070682525634766, -5.414180278778076, 41.376224517822266, 48.58562088012695, 16.70578384399414, 45.193946838378906, -9.170585632324219, 40.084075927734375, 16.681673049926758, 16.70973777770996, -9.125832557678223, 4.451476573944092, 3.9229488372802734, -20.026002883911133, 38.254783630371094, 2.0659494400024414, -13.459020614624023, -8.069717407226562, 3.0105488300323486, 9.233169555664062, -2.5806736946105957, -14.291777610778809, -29.938749313354492, -9.225178718566895, -30.262529373168945, 2.1012210845947266, -4.823822498321533, -25.931367874145508, 29.27513885498047, 36.63151931762695, -33.02812576293945, -25.071075439453125, -36.51288986206055, 10.587559700012207, -24.837329864501953, 54.75980758666992, -2.7015585899353027, -20.041635513305664, 2.894108295440674, 38.641151428222656, -6.770173072814941, 2.6267526149749756, -2.3217551708221436, 2.55678391456604, 38.43878936767578, -37.30326461791992, 54.98113250732422, 39.05842590332031, 38.22755813598633, -19.340328216552734, 0.9984846711158752, -12.740139961242676, 50.04157638549805, -18.584609985351562, 2.441300630569458, -15.986967086791992, 39.23688888549805, -29.30723762512207, -25.402326583862305, 4.565009593963623, 8.756755828857422, -68.2063217163086, -19.714824676513672, 42.76891326904297, -19.59454345703125, -19.34461784362793, 2.0815258026123047, 33.4897346496582, -26.128700256347656, -43.98779296875, -18.18056297302246, 9.922028541564941, 36.570743560791016, 42.9642219543457, 35.76605987548828, 41.71965026855469, -76.4437255859375, 55.09989929199219, 39.45060348510742, 35.841182708740234, -30.67677116394043, 4.480865001678467, -19.410017013549805, 6.234378337860107, 48.51371383666992, 12.032588958740234, 47.836544036865234, 22.070720672607422, 42.55264663696289, -35.7007942199707, 20.288421630859375, -75.6107177734375, -29.466951370239258, 47.488616943359375, 44.10862731933594, -8.468899726867676, 2.1020028591156006, -30.816551208496094, -14.261283874511719, 41.115108489990234, 2.441032886505127, -31.39551544189453, 48.61642837524414, -37.637752532958984, 49.77482986450195, 38.5443000793457, 41.23185729980469, 41.09978485107422, 0.35746049880981445, 44.11869812011719, 2.0597658157348633, 40.93186569213867, -26.09466552734375, 2.7405500411987305, 45.794464111328125, -17.125736236572266, -71.32498931884766, -34.72304916381836, -19.985925674438477, -20.256120681762695, 40.82968521118164, 41.4582633972168, -9.000983238220215, -20.185230255126953, 52.83837890625, 0.7741414904594421, 42.49049758911133, -36.659271240234375, 48.22724151611328, -21.163576126098633, -29.0570011138916, -75.63592529296875, 29.74104881286621, 0.35733386874198914, -19.61085319519043, -40.00260543823242, 10.644450187683105, 43.39734649658203, -20.864744186401367, -21.689542770385742, -29.908449172973633, 1.0262478590011597, 14.937691688537598, 40.350502014160156, -42.9990348815918, -10.455103874206543, 52.583499908447266, -25.75154685974121, -34.244911193847656, -17.32349395751953, -6.120219707489014, 22.358150482177734, 2.5620198249816895, 42.252784729003906, 47.955665588378906, -0.7105312943458557, 51.21474838256836, 22.46417808532715, 42.21445846557617, -10.475318908691406, 48.661949157714844, -1.808561086654663, -22.600305557250977, -10.066309928894043, 38.27191162109375, -38.851783752441406, 13.846230506896973, 35.78975296020508, 15.527868270874023, 47.010231018066406, 50.65688705444336, 42.43241500854492, 0.48301759362220764, -28.717866897583008, 38.90728759765625, 48.55894088745117, -19.200881958007812, -28.32801628112793, 0.9260759353637695, -3.9982399940490723, 48.48566436767578, -5.70192813873291, 37.52259826660156, 0.3426814675331116, -3.194359302520752, 1.3294792175292969, -30.12810516357422, -28.81352424621582, 13.783855438232422, 38.044490814208984, 55.07070541381836, 37.59123992919922, -15.691792488098145, -13.186195373535156, 47.10272216796875, -76.02455139160156, 46.11674880981445, 0.922117292881012, 45.32644271850586, -25.228849411010742, 48.02819061279297, -8.475316047668457, 38.345489501953125, 8.749979972839355, 0.7865176200866699, 48.809757232666016, 47.297855377197266, -2.744443416595459, -0.1358977109193802, -20.6651554107666, 5.611935615539551, 7.427297592163086, -33.33755874633789, -5.334408283233643, 33.7290153503418, -20.73213005065918, -74.0979995727539, 48.49909973144531, 48.04630661010742, -0.40202027559280396, 8.715447425842285, 12.431797981262207, -7.465386390686035, -5.582340717315674, 7.618123531341553, -16.64687728881836, -36.25807571411133, 37.6917839050293, -24.973024368286133, 8.485847473144531, -35.77236557006836, -11.952463150024414, 18.615005493164062, 2.7928574085235596, 54.62929916381836, 8.161717414855957, -22.09419822692871, -25.059560775756836, 2.84315824508667, -5.62853479385376, -15.172928810119629, -39.234230041503906, 50.947288513183594, -5.418967247009277, 43.00179672241211, 45.39638137817383, -8.64001750946045, -32.657012939453125, -33.12345886230469, -33.579776763916016, 20.737682342529297, -44.814300537109375, -30.74749183654785, -0.16478221118450165, -13.43409538269043, 38.16200256347656, -19.85199737548828, 38.678401947021484, 39.956844329833984, 42.79250717163086, 14.072596549987793, -18.736125946044922, 41.64604949951172, 25.848224639892578, 45.02101516723633, -2.299482822418213, 37.46921920776367, -31.177858352661133, -29.729488372802734, 45.4178581237793, 42.571807861328125, -4.348642349243164, -14.244985580444336, 12.595865249633789, -38.312339782714844, -10.756694793701172, 48.16573715209961, 53.09672927856445, 21.502656936645508, -5.232114315032959, 41.50510025024414, -39.74713134765625, 21.66792869567871, -33.037269592285156, -35.48344039916992, -13.386981964111328, -10.666560173034668, 44.67858123779297, -39.80085754394531, 44.657447814941406, -5.003327369689941, -43.00993347167969, 48.33950424194336, 45.43539047241211, 27.914674758911133, -17.86314582824707, 53.223289489746094, -3.2041103839874268, 29.78125762939453, 41.84183120727539, 45.12139129638672, -38.6060791015625, 27.73899269104004, 26.295061111450195, -31.356386184692383, -30.57744789123535, 1.5834689140319824, -40.9890251159668, -0.20795701444149017, 11.953778266906738, 35.7791748046875, 25.282102584838867, -33.628631591796875, -15.200996398925781, 4.56297492980957, 48.80799102783203, -41.50172424316406, 10.880516052246094, 26.82649040222168, 44.04322052001953, -30.81680679321289, -4.492489337921143, -37.68665313720703, 38.490901947021484, -24.644906997680664, 26.339319229125977, -39.93703842163086, -41.88962936401367, 15.604710578918457, 44.09880447387695, -12.436574935913086, 13.340545654296875, 51.37271499633789, 50.63970947265625, -5.483593940734863, -12.79554557800293, 20.394865036010742, -6.318877220153809, -30.119117736816406, -36.516639709472656, -24.808752059936523, -46.71148681640625, 14.723466873168945, -6.6186699867248535, 49.842010498046875, 49.9744758605957, 40.3187141418457, 49.47238540649414, -41.252960205078125, 54.04655456542969, 50.32468795776367, 39.057559967041016, 38.534706115722656, 54.52534103393555, 44.564231872558594, -5.696131229400635, 54.27549362182617, 47.51431655883789, 26.071622848510742, -36.54187774658203, 45.453277587890625, 37.24956512451172, 48.15818786621094, 28.887121200561523, 22.596126556396484, 28.216291427612305, -18.11035919189453, 24.045475006103516, -10.88424301147461, 14.766797065734863, 3.4196584224700928, 16.290943145751953, 40.403076171875, -11.441354751586914, 21.453821182250977, 50.64839553833008, 51.82845687866211, -15.324926376342773, 1.1190900802612305, 49.963619232177734, 50.120906829833984, -6.015622138977051, 1.0284758806228638, 12.792794227600098, 13.946810722351074, -13.45193099975586, 25.184940338134766, -1.400959849357605, 3.461263656616211, 46.59465789794922, -17.714290618896484, 49.19655227661133, 13.593658447265625, 13.65415096282959, -8.67774772644043, -2.2614052295684814, -15.745941162109375, -19.001211166381836, -10.941162109375, 36.64027404785156, -3.5123841762542725, 50.36677551269531, -23.059499740600586, 13.048789024353027, 52.608070373535156, -15.555998802185059, -8.194747924804688, -2.2939767837524414, -31.438810348510742, -16.106298446655273, -13.035371780395508, -27.72870635986328, -1.8590275049209595, 38.19422912597656, 32.981590270996094, -34.119651794433594, -22.967365264892578, 22.40425682067871, -10.366523742675781, 21.621423721313477, 27.5755615234375, -34.81113052368164, 1.9135347604751587, 16.99211311340332, 36.65366744995117, 25.314138412475586, -5.454742431640625, -19.04317855834961, 27.006858825683594, 2.1298775672912598, -19.090557098388672, -18.075668334960938, -14.786948204040527, -31.879133224487305, -27.940467834472656, -6.921549320220947, 4.999029636383057, -12.825052261352539, -35.158992767333984, 39.17043685913086, -29.946123123168945, -17.06764030456543, 38.72739028930664, -2.668107271194458, 0.43882638216018677, -30.055294036865234, -6.02150821685791, 41.80006408691406, 35.71455383300781, 18.163330078125, 37.920684814453125, -35.573543548583984, -12.412616729736328, -13.64983081817627, -28.63632583618164, 51.348453521728516, 12.978047370910645, 18.006235122680664, 52.644004821777344, -12.121217727661133, 47.94044494628906, -46.089271545410156, -29.41455078125, -5.507719039916992, 30.351736068725586, -3.1792795658111572, -0.9685734510421753, 48.724647521972656, -34.56401443481445, 43.09545135498047, 47.677528381347656, 38.686153411865234, -6.930998802185059, -33.54523468017578, -46.91885757446289, -16.219430923461914, 38.81305694580078, -42.12847900390625, -36.24099349975586, -7.424249172210693, 1.0721684694290161, 3.141664743423462, -35.120304107666016, 2.5661449432373047, 0.455754816532135, -43.45261001586914, 14.853474617004395, -36.195892333984375, 52.74409484863281, -26.14203643798828, -17.3670711517334, -20.013723373413086, 51.15959548950195, -49.706748962402344, -35.70311737060547, -19.355812072753906, 17.295785903930664, 42.49161911010742, 51.00969696044922, 1.7448126077651978, 55.52726745605469, 36.306400299072266, -27.05976104736328, 49.40970993041992, -40.26978302001953, 36.82341003417969, -26.26095199584961, 35.03969955444336, -26.137224197387695, 54.638145446777344, -30.57778549194336, 48.47024917602539, 34.978843688964844, -16.990079879760742, -3.8348278999328613, -39.63282012939453, 18.999248504638672, -4.050686359405518, 34.87821578979492, -32.258609771728516, -19.941146850585938, 47.05492401123047, 34.27513122558594, -9.824896812438965, -24.69443702697754, 34.81697463989258, -4.437744617462158, 47.436866760253906, -9.717791557312012, 50.20377731323242, -74.9088134765625, 1.804738998413086, -11.440210342407227, 12.256293296813965, -2.908202648162842, 3.757582426071167, 11.182598114013672, -17.436702728271484, -22.815580368041992, -22.99081039428711, 11.460204124450684, 17.184757232666016, 39.656166076660156, 50.032894134521484, 42.795570373535156, -36.114288330078125, -31.91996192932129, 51.211570739746094, 51.78704833984375, 51.60721969604492, -1.4712780714035034, -35.66011428833008, -3.277402400970459, 40.997310638427734, 54.51237106323242, 50.87610626220703, -1.6497899293899536, -2.5516891479492188, 52.15973663330078, -30.244279861450195, -29.496662139892578, 17.315692901611328, 0.061564356088638306, 51.13320541381836, -26.6450138092041, -12.420926094055176, 43.2805290222168, 52.71337890625, 8.070252418518066, 1.878512978553772, -2.4904096126556396, 53.20382308959961, -21.823171615600586, 1.0924407243728638, -18.77685546875, -36.87982940673828, 1.1700160503387451, 34.34420394897461, 5.235808372497559, -8.183642387390137, 2.9527812004089355, -6.620821952819824, 12.983124732971191, 4.491990566253662, -38.85498046875, 49.76398468017578, 18.379709243774414, 22.736173629760742, 33.86540985107422, -19.241796493530273, 41.75238037109375, -32.327880859375, 40.16721725463867, 0.8797418475151062, -1.073124885559082, -42.425418853759766, 39.158424377441406, 32.255062103271484, 22.734342575073242, 31.813308715820312, -46.620635986328125, 43.32597732543945, 30.62017822265625, -19.566186904907227, -13.371659278869629, -43.649200439453125, 18.86801528930664, 45.00765609741211, 37.503753662109375, -16.518714904785156, 1.4301549196243286, -4.04800271987915, -1.8535006046295166, 36.62944030761719, -8.408129692077637, 19.103248596191406, -37.82753372192383, 19.267297744750977, 20.872163772583008, 24.155397415161133, -21.139184951782227, 20.816043853759766, -44.09211730957031, -8.531301498413086, -1.5756338834762573, -38.61585998535156, 24.18039321899414, -1.686017394065857, -26.366994857788086, -25.208436965942383, -31.47066879272461, 21.389713287353516, -7.563302040100098, 11.332015037536621, -46.63711166381836, -3.820404052734375, -0.7430431246757507, -11.665903091430664, 1.327414870262146, -4.30645751953125, 18.50928497314453, -5.4427266120910645, -40.03611373901367, 42.90570068359375, 38.95372009277344, -1.2519915103912354, 15.165878295898438, 0.22643207013607025, -13.649178504943848, 18.98000717163086, -5.406225204467773, -17.362564086914062, 47.18974685668945, 3.228518009185791, -10.584627151489258, 18.355924606323242, 44.30097961425781, -13.027420997619629, -40.743106842041016, 36.63140869140625, 26.07857322692871, -12.33672046661377, -34.68523025512695, 6.37557315826416, -30.70978355407715, -2.6458981037139893, 15.085824012756348, 13.763230323791504, -3.1472206115722656, -2.3400354385375977, 33.843624114990234, 38.55190658569336, -8.22098159790039, -3.8338608741760254, -37.57780075073242, 22.5086669921875, 44.10177230834961, 45.91382598876953, 31.399736404418945, 31.3997802734375, 14.948484420776367, -24.180818557739258, -40.50068283081055, -1.6992566585540771, -5.624292373657227, -1.4917312860488892, -46.119651794433594, 44.505767822265625, -46.22904968261719, 1.3500608205795288, -3.442636489868164, 27.038393020629883, -13.4044189453125, -12.653668403625488, 18.745939254760742], \"yaxis\": \"y\"}, {\"customdata\": [[\"Retail/Wholesale\", \"COST\"], [\"Retail/Wholesale\", \"COST\"], [\"Retail/Wholesale\", \"COST\"], [\"Retail/Wholesale\", \"COST\"], [\"Retail/Wholesale\", \"KR\"], [\"Retail/Wholesale\", \"VIPS\"], [\"Retail/Wholesale\", \"VIPS\"], [\"Retail/Wholesale\", \"VIPS\"], [\"Retail/Wholesale\", \"VIPS\"], [\"Retail/Wholesale\", \"VIPS\"], [\"Retail/Wholesale\", \"VIPS\"], [\"Retail/Wholesale\", \"VIPS\"], [\"Retail/Wholesale\", \"VIPS\"], [\"Retail/Wholesale\", \"VIPS\"], [\"Retail/Wholesale\", \"VIPS\"], [\"Retail/Wholesale\", \"VIPS\"], [\"Retail/Wholesale\", \"VIPS\"], [\"Retail/Wholesale\", \"VIPS\"], [\"Retail/Wholesale\", \"VIPS\"], [\"Retail/Wholesale\", \"VIPS\"], [\"Retail/Wholesale\", \"VIPS\"], [\"Retail/Wholesale\", \"VIPS\"], [\"Retail/Wholesale\", \"VIPS\"], [\"Retail/Wholesale\", \"VIPS\"], [\"Retail/Wholesale\", \"VIPS\"], [\"Retail/Wholesale\", \"VIPS\"]], \"hoverlabel\": {\"namelength\": 0}, \"hovertemplate\": \"sector=%{customdata[0]}<br>x=%{x}<br>y=%{y}<br>symb=%{customdata[1]}\", \"legendgroup\": \"Retail/Wholesale\", \"marker\": {\"color\": \"#B6E880\", \"symbol\": \"circle\"}, \"mode\": \"markers\", \"name\": \"Retail/Wholesale\", \"showlegend\": true, \"type\": \"scattergl\", \"x\": [30.017385482788086, 9.590513229370117, 53.55443572998047, 12.477388381958008, -25.777450561523438, -46.19554901123047, -39.15865707397461, -38.19783020019531, -4.620676040649414, -55.394981384277344, 14.240267753601074, 21.117429733276367, 12.513932228088379, 11.748051643371582, 13.61613941192627, -5.919720649719238, 12.29298210144043, 13.129481315612793, -26.1527099609375, 1.6807290315628052, 12.491559982299805, -54.9870491027832, 12.626096725463867, -54.72392654418945, 14.569459915161133, -26.830591201782227], \"xaxis\": \"x\", \"y\": [-33.92662048339844, -38.31787109375, -0.7036938667297363, 3.7595412731170654, 42.55877685546875, -15.564371109008789, 23.07187271118164, 22.807411193847656, -29.668840408325195, -32.666622161865234, -76.53242492675781, 48.88355255126953, -74.44297790527344, -74.18791198730469, -75.01189422607422, 14.073819160461426, -72.72953033447266, -73.49517822265625, 30.383846282958984, -7.363556861877441, -72.31742858886719, -33.299312591552734, -73.81254577636719, -33.443519592285156, -74.67887115478516, 29.825042724609375], \"yaxis\": \"y\"}, {\"customdata\": [[\"Industrial Goods\", \"BA\"], [\"Industrial Goods\", \"BA\"], [\"Industrial Goods\", \"BA\"], [\"Industrial Goods\", \"NATI\"], [\"Industrial Goods\", \"NATI\"], [\"Industrial Goods\", \"NATI\"], [\"Industrial Goods\", \"NATI\"], [\"Industrial Goods\", \"NATI\"], [\"Industrial Goods\", \"BA\"], [\"Industrial Goods\", \"BA\"], [\"Industrial Goods\", \"BA\"], [\"Industrial Goods\", \"BA\"], [\"Industrial Goods\", \"BA\"], [\"Industrial Goods\", \"BA\"], [\"Industrial Goods\", \"BA\"], [\"Industrial Goods\", \"BA\"], [\"Industrial Goods\", \"BA\"], [\"Industrial Goods\", \"BA\"], [\"Industrial Goods\", \"BA\"], [\"Industrial Goods\", \"BA\"], [\"Industrial Goods\", \"BA\"], [\"Industrial Goods\", \"BA\"], [\"Industrial Goods\", \"BA\"], [\"Industrial Goods\", \"BA\"], [\"Industrial Goods\", \"BA\"], [\"Industrial Goods\", \"BA\"], [\"Industrial Goods\", \"BA\"], [\"Industrial Goods\", \"BA\"], [\"Industrial Goods\", \"BA\"], [\"Industrial Goods\", \"BA\"], [\"Industrial Goods\", \"BA\"], [\"Industrial Goods\", \"BA\"], [\"Industrial Goods\", \"BA\"], [\"Industrial Goods\", \"BA\"], [\"Industrial Goods\", \"BA\"], [\"Industrial Goods\", \"BA\"], [\"Industrial Goods\", \"BA\"], [\"Industrial Goods\", \"BA\"], [\"Industrial Goods\", \"BA\"], [\"Industrial Goods\", \"BA\"], [\"Industrial Goods\", \"BA\"], [\"Industrial Goods\", \"BA\"], [\"Industrial Goods\", \"BA\"], [\"Industrial Goods\", \"BA\"], [\"Industrial Goods\", \"BA\"], [\"Industrial Goods\", \"BA\"], [\"Industrial Goods\", \"BA\"], [\"Industrial Goods\", \"BA\"], [\"Industrial Goods\", \"BA\"], [\"Industrial Goods\", \"BA\"], [\"Industrial Goods\", \"BA\"], [\"Industrial Goods\", \"BA\"], [\"Industrial Goods\", \"BA\"], [\"Industrial Goods\", \"BA\"], [\"Industrial Goods\", \"BA\"], [\"Industrial Goods\", \"BA\"], [\"Industrial Goods\", \"BA\"], [\"Industrial Goods\", \"BA\"], [\"Industrial Goods\", \"BA\"], [\"Industrial Goods\", \"BA\"], [\"Industrial Goods\", \"BA\"], [\"Industrial Goods\", \"BA\"], [\"Industrial Goods\", \"BA\"], [\"Industrial Goods\", \"BA\"], [\"Industrial Goods\", \"BA\"], [\"Industrial Goods\", \"BA\"], [\"Industrial Goods\", \"BA\"], [\"Industrial Goods\", \"BA\"], [\"Industrial Goods\", \"BA\"], [\"Industrial Goods\", \"BA\"], [\"Industrial Goods\", \"BA\"], [\"Industrial Goods\", \"BA\"], [\"Industrial Goods\", \"BA\"], [\"Industrial Goods\", \"BA\"], [\"Industrial Goods\", \"BA\"], [\"Industrial Goods\", \"BA\"], [\"Industrial Goods\", \"BA\"], [\"Industrial Goods\", \"BA\"], [\"Industrial Goods\", \"BA\"], [\"Industrial Goods\", \"BA\"], [\"Industrial Goods\", \"BA\"], [\"Industrial Goods\", \"BA\"], [\"Industrial Goods\", \"BA\"], [\"Industrial Goods\", \"BA\"], [\"Industrial Goods\", \"BA\"], [\"Industrial Goods\", \"BA\"], [\"Industrial Goods\", \"BA\"], [\"Industrial Goods\", \"BA\"], [\"Industrial Goods\", \"BA\"], [\"Industrial Goods\", \"BA\"], [\"Industrial Goods\", \"BA\"], [\"Industrial Goods\", \"BA\"], [\"Industrial Goods\", \"BA\"], [\"Industrial Goods\", \"BA\"], [\"Industrial Goods\", \"BA\"], [\"Industrial Goods\", \"BA\"], [\"Industrial Goods\", \"BA\"], [\"Industrial Goods\", \"BA\"], [\"Industrial Goods\", \"BA\"], [\"Industrial Goods\", \"BA\"], [\"Industrial Goods\", \"BA\"], [\"Industrial Goods\", \"BA\"], [\"Industrial Goods\", \"BA\"], [\"Industrial Goods\", \"BA\"], [\"Industrial Goods\", \"BA\"], [\"Industrial Goods\", \"BA\"], [\"Industrial Goods\", \"BA\"], [\"Industrial Goods\", \"BA\"], [\"Industrial Goods\", \"BA\"], [\"Industrial Goods\", \"BA\"], [\"Industrial Goods\", \"BA\"], [\"Industrial Goods\", \"BA\"], [\"Industrial Goods\", \"BA\"], [\"Industrial Goods\", \"BA\"], [\"Industrial Goods\", \"BA\"], [\"Industrial Goods\", \"BA\"], [\"Industrial Goods\", \"BA\"], [\"Industrial Goods\", \"BA\"], [\"Industrial Goods\", \"BA\"], [\"Industrial Goods\", \"BA\"], [\"Industrial Goods\", \"BA\"], [\"Industrial Goods\", \"BA\"], [\"Industrial Goods\", \"BA\"], [\"Industrial Goods\", \"BA\"], [\"Industrial Goods\", \"BA\"], [\"Industrial Goods\", \"BA\"], [\"Industrial Goods\", \"BA\"], [\"Industrial Goods\", \"BA\"], [\"Industrial Goods\", \"BA\"], [\"Industrial Goods\", \"BA\"], [\"Industrial Goods\", \"BA\"], [\"Industrial Goods\", \"BA\"], [\"Industrial Goods\", \"BA\"], [\"Industrial Goods\", \"BA\"], [\"Industrial Goods\", \"BA\"], [\"Industrial Goods\", \"BA\"], [\"Industrial Goods\", \"BA\"], [\"Industrial Goods\", \"BA\"], [\"Industrial Goods\", \"BA\"], [\"Industrial Goods\", \"BA\"], [\"Industrial Goods\", \"BA\"], [\"Industrial Goods\", \"BA\"], [\"Industrial Goods\", \"BA\"], [\"Industrial Goods\", \"BA\"], [\"Industrial Goods\", \"BA\"], [\"Industrial Goods\", \"BA\"], [\"Industrial Goods\", \"BA\"], [\"Industrial Goods\", \"BA\"], [\"Industrial Goods\", \"BA\"], [\"Industrial Goods\", \"BA\"], [\"Industrial Goods\", \"BA\"], [\"Industrial Goods\", \"BA\"], [\"Industrial Goods\", \"BA\"], [\"Industrial Goods\", \"BA\"], [\"Industrial Goods\", \"BA\"], [\"Industrial Goods\", \"BA\"], [\"Industrial Goods\", \"BA\"], [\"Industrial Goods\", \"BA\"], [\"Industrial Goods\", \"BA\"], [\"Industrial Goods\", \"BA\"], [\"Industrial Goods\", \"BA\"], [\"Industrial Goods\", \"BA\"], [\"Industrial Goods\", \"BA\"], [\"Industrial Goods\", \"BA\"], [\"Industrial Goods\", \"BA\"], [\"Industrial Goods\", \"BA\"], [\"Industrial Goods\", \"BA\"], [\"Industrial Goods\", \"BA\"], [\"Industrial Goods\", \"BA\"], [\"Industrial Goods\", \"BA\"], [\"Industrial Goods\", \"BA\"], [\"Industrial Goods\", \"BA\"], [\"Industrial Goods\", \"BA\"], [\"Industrial Goods\", \"BA\"], [\"Industrial Goods\", \"BA\"], [\"Industrial Goods\", \"BA\"], [\"Industrial Goods\", \"BA\"], [\"Industrial Goods\", \"BA\"], [\"Industrial Goods\", \"BA\"], [\"Industrial Goods\", \"BA\"], [\"Industrial Goods\", \"BA\"], [\"Industrial Goods\", \"BA\"], [\"Industrial Goods\", \"BA\"], [\"Industrial Goods\", \"BA\"], [\"Industrial Goods\", \"BA\"], [\"Industrial Goods\", \"BA\"], [\"Industrial Goods\", \"BA\"], [\"Industrial Goods\", \"BA\"], [\"Industrial Goods\", \"BA\"], [\"Industrial Goods\", \"BA\"], [\"Industrial Goods\", \"BA\"]], \"hoverlabel\": {\"namelength\": 0}, \"hovertemplate\": \"sector=%{customdata[0]}<br>x=%{x}<br>y=%{y}<br>symb=%{customdata[1]}\", \"legendgroup\": \"Industrial Goods\", \"marker\": {\"color\": \"#FF97FF\", \"symbol\": \"circle\"}, \"mode\": \"markers\", \"name\": \"Industrial Goods\", \"showlegend\": true, \"type\": \"scattergl\", \"x\": [8.82516860961914, 46.30354690551758, -28.564172744750977, 28.305274963378906, -7.191682815551758, -27.918441772460938, -7.405189514160156, -25.486909866333008, 13.052912712097168, 36.80491256713867, 25.003997802734375, 17.265491485595703, -14.663076400756836, -31.8996524810791, 8.052159309387207, 48.13264083862305, 42.85868835449219, 20.44535255432129, 45.609004974365234, 3.3699986934661865, -52.76652908325195, 13.968927383422852, -34.28632354736328, -34.191829681396484, 17.927553176879883, -34.28630828857422, 10.412002563476562, -25.166776657104492, 15.217534065246582, 13.980648040771484, 10.092227935791016, 19.040163040161133, 24.096336364746094, -34.294429779052734, 16.225019454956055, 17.276382446289062, -31.88848114013672, 32.71405029296875, 15.719158172607422, 14.34744644165039, -12.861907005310059, -50.42584228515625, -52.20214080810547, -3.9574313163757324, 53.622703552246094, -41.88987731933594, 7.34425163269043, -22.113327026367188, -21.139266967773438, -23.3275203704834, 7.714441299438477, 4.4088263511657715, -33.918556213378906, -7.214919090270996, -3.657921314239502, 22.13351058959961, -26.154897689819336, -12.78281307220459, 0.5690773129463196, 14.63446044921875, -50.390323638916016, 15.592791557312012, -6.445869445800781, -50.070030212402344, 3.99251389503479, 47.4891242980957, -51.914527893066406, -56.15632629394531, 11.870545387268066, 17.416141510009766, 14.767815589904785, 16.56231689453125, -51.77170944213867, 12.1452054977417, -32.99224853515625, 16.755197525024414, 17.457260131835938, -25.27920913696289, 29.504653930664062, -8.158788681030273, 9.075334548950195, 20.129859924316406, -14.243773460388184, -50.65602111816406, 48.462852478027344, 14.655800819396973, -53.04640579223633, 15.03414249420166, -31.88091278076172, -52.28548812866211, 41.13654708862305, 12.60969066619873, 15.350113868713379, 13.437668800354004, 21.107608795166016, 45.59202194213867, 5.824951648712158, 45.183380126953125, 22.403095245361328, -50.868499755859375, 19.1131591796875, -59.28300476074219, 52.89164352416992, -40.01226806640625, 10.601202011108398, -43.60405731201172, 53.82978439331055, -43.745513916015625, -44.8643798828125, 51.76008987426758, -44.11521530151367, 52.07759094238281, 10.697822570800781, 18.912633895874023, -53.803932189941406, 17.7462100982666, 17.585603713989258, 13.169516563415527, -44.389259338378906, -34.208797454833984, -41.1685676574707, 5.269178867340088, 49.003692626953125, -49.517940521240234, -58.7156867980957, 8.857142448425293, -52.916934967041016, -22.50563621520996, -55.7791748046875, -49.512420654296875, -53.406883239746094, 21.74188804626465, 30.00799560546875, 27.36000633239746, -54.089725494384766, -56.460933685302734, 21.788379669189453, -56.90903091430664, -37.82706069946289, -45.153018951416016, 3.265219211578369, 11.988821029663086, 21.765634536743164, 26.914966583251953, 43.13102340698242, 5.017028331756592, -50.412967681884766, 42.97536849975586, 11.587186813354492, -52.49489974975586, 19.060832977294922, 1.0698270797729492, -50.74181365966797, 11.784695625305176, -57.286746978759766, 14.156147956848145, 18.84714698791504, -39.994197845458984, -56.15947341918945, 47.605899810791016, 0.5195621252059937, 49.60403823852539, -52.85785675048828, 14.522290229797363, 47.32205581665039, 3.8861873149871826, -56.404666900634766, 12.706829071044922, 22.108800888061523, -24.53753089904785, 22.512516021728516, 22.8327693939209, 32.37550354003906, -46.77863693237305, 4.455291271209717, -4.215102195739746, 47.70735549926758, 21.867393493652344, -43.06925964355469, 11.150283813476562, -56.05024719238281, 21.694963455200195, -41.05391311645508, 21.27315902709961, 2.3719379901885986, -56.37343215942383, 16.468456268310547, 46.90474319458008, -43.159488677978516, -51.866432189941406, 2.199215888977051], \"xaxis\": \"x\", \"y\": [-5.439014911651611, -5.805343151092529, -16.728008270263672, 30.7066650390625, 24.61901092529297, 24.224571228027344, 25.08664894104004, 25.03875160217285, -13.674421310424805, -20.544530868530273, -31.815568923950195, -12.829774856567383, -21.709487915039062, -22.542804718017578, 32.49611282348633, -6.597750186920166, -6.575493335723877, 41.96745681762695, -17.763647079467773, -13.066713333129883, -16.234994888305664, 27.685274124145508, 44.77867126464844, -18.72471046447754, 18.527217864990234, 44.766117095947266, 32.417030334472656, -4.841805458068848, 23.338577270507812, 23.668376922607422, -74.55753326416016, -17.85455894470215, -10.990854263305664, 44.77389144897461, 23.141592025756836, 18.7991943359375, -22.559965133666992, -34.61746597290039, -69.57430267333984, 28.964914321899414, 4.307641983032227, -12.39294719696045, 19.955907821655273, 7.454057693481445, 4.1194987297058105, 29.90998649597168, -27.394670486450195, 38.55965805053711, 44.39689636230469, 38.30634307861328, -3.049001932144165, -13.955901145935059, 16.643810272216797, 1.1276865005493164, 6.609853744506836, 21.749265670776367, -15.269604682922363, -28.95099449157715, 43.73234176635742, 20.09541893005371, -17.72019386291504, 23.023712158203125, 1.0327876806259155, -18.77545738220215, -0.4430961012840271, -8.505358695983887, -14.8878812789917, 16.009660720825195, 32.4901237487793, 24.805681228637695, 20.853404998779297, 22.392026901245117, -16.768861770629883, 31.097314834594727, 17.329111099243164, 22.35348129272461, 23.676666259765625, -5.3500075340271, -3.2346436977386475, -28.22406578063965, -7.6628828048706055, -15.705528259277344, -44.70829391479492, -5.545541763305664, -5.200557231903076, 22.898717880249023, -7.538201808929443, 26.392972946166992, -22.54438018798828, -8.00777816772461, -17.50908660888672, 29.996875762939453, 21.587690353393555, 20.427066802978516, 13.37252426147461, -8.95248794555664, -26.44133758544922, -8.986835479736328, 21.090211868286133, -4.1127448081970215, 15.616048812866211, -11.744933128356934, -6.394093036651611, -18.80177879333496, 31.200468063354492, -23.732784271240234, -6.106953144073486, -24.72913932800293, -24.431081771850586, -7.399466037750244, -24.343944549560547, -6.894169807434082, 32.005027770996094, 19.035356521606445, -5.506951332092285, 18.907297134399414, 19.59976577758789, -13.829849243164062, -13.631092071533203, 14.382997512817383, 29.394901275634766, -13.199946403503418, -7.43267822265625, -7.3537821769714355, -14.50106430053711, -33.677513122558594, -9.322013854980469, -18.426925659179688, 13.687344551086426, -5.373710632324219, -8.979714393615723, 22.04924201965332, -3.511218309402466, -30.27663230895996, -8.799376487731934, 16.370098114013672, 19.82244110107422, 16.389724731445312, -16.7928466796875, -2.4473423957824707, -13.075366020202637, 33.64585876464844, 20.053186416625977, 31.241703033447266, -6.625032901763916, -27.493995666503906, -5.456796169281006, -6.567444324493408, 49.7360725402832, -7.5766777992248535, 15.719353675842285, -15.674469947814941, -4.916745185852051, 32.26870346069336, 18.206106185913086, 27.66643714904785, 14.776707649230957, -19.210315704345703, 18.340410232543945, -27.464418411254883, 45.65955352783203, -6.304229736328125, -8.037646293640137, 25.46561622619629, -9.17233943939209, 25.94488525390625, 16.504167556762695, 20.346513748168945, 21.703996658325195, -14.85201358795166, -4.146485805511475, -2.888076066970825, -30.543121337890625, -9.064397811889648, -13.81902027130127, -12.920244216918945, -7.955916404724121, 15.9171142578125, -11.15320110321045, 31.223386764526367, 18.778892517089844, 15.243668556213379, -19.56284523010254, 15.524481773376465, -16.936466217041016, 15.546727180480957, 28.80799102783203, -7.633265495300293, 2.821052074432373, -6.959765434265137, -16.996904373168945], \"yaxis\": \"y\"}, {\"customdata\": [[\"Health Care/Life Sciences\", \"NNVC\"], [\"Health Care/Life Sciences\", \"NNVC\"], [\"Health Care/Life Sciences\", \"NNVC\"], [\"Health Care/Life Sciences\", \"NNVC\"], [\"Health Care/Life Sciences\", \"NNVC\"], [\"Health Care/Life Sciences\", \"NNVC\"], [\"Health Care/Life Sciences\", \"OPK\"], [\"Health Care/Life Sciences\", \"OPK\"], [\"Health Care/Life Sciences\", \"OPK\"], [\"Health Care/Life Sciences\", \"OPK\"], [\"Health Care/Life Sciences\", \"OPK\"], [\"Health Care/Life Sciences\", \"CANF\"], [\"Health Care/Life Sciences\", \"CANF\"], [\"Health Care/Life Sciences\", \"CANF\"], [\"Health Care/Life Sciences\", \"BNGO\"], [\"Health Care/Life Sciences\", \"BNGO\"], [\"Health Care/Life Sciences\", \"GILD\"], [\"Health Care/Life Sciences\", \"GILD\"], [\"Health Care/Life Sciences\", \"GILD\"], [\"Health Care/Life Sciences\", \"SGRY\"], [\"Health Care/Life Sciences\", \"IGMS\"], [\"Health Care/Life Sciences\", \"IGMS\"], [\"Health Care/Life Sciences\", \"INO\"], [\"Health Care/Life Sciences\", \"INO\"], [\"Health Care/Life Sciences\", \"ONEM\"], [\"Health Care/Life Sciences\", \"ONEM\"], [\"Health Care/Life Sciences\", \"ONEM\"], [\"Health Care/Life Sciences\", \"ONEM\"], [\"Health Care/Life Sciences\", \"ONEM\"], [\"Health Care/Life Sciences\", \"CODX\"], [\"Health Care/Life Sciences\", \"CODX\"], [\"Health Care/Life Sciences\", \"CODX\"], [\"Health Care/Life Sciences\", \"CODX\"], [\"Health Care/Life Sciences\", \"NVAX\"], [\"Health Care/Life Sciences\", \"NVAX\"], [\"Health Care/Life Sciences\", \"NVAX\"], [\"Health Care/Life Sciences\", \"ALXN\"], [\"Health Care/Life Sciences\", \"ALXN\"], [\"Health Care/Life Sciences\", \"ALXN\"], [\"Health Care/Life Sciences\", \"ALXN\"], [\"Health Care/Life Sciences\", \"ALXN\"], [\"Health Care/Life Sciences\", \"BIIB\"], [\"Health Care/Life Sciences\", \"BIIB\"], [\"Health Care/Life Sciences\", \"BIIB\"], [\"Health Care/Life Sciences\", \"BIIB\"], [\"Health Care/Life Sciences\", \"BIIB\"], [\"Health Care/Life Sciences\", \"PFE\"], [\"Health Care/Life Sciences\", \"PFE\"], [\"Health Care/Life Sciences\", \"PFE\"], [\"Health Care/Life Sciences\", \"PFE\"], [\"Health Care/Life Sciences\", \"PFE\"], [\"Health Care/Life Sciences\", \"PFE\"], [\"Health Care/Life Sciences\", \"PFE\"], [\"Health Care/Life Sciences\", \"PFE\"], [\"Health Care/Life Sciences\", \"PFE\"], [\"Health Care/Life Sciences\", \"PFE\"], [\"Health Care/Life Sciences\", \"PFE\"], [\"Health Care/Life Sciences\", \"PFE\"], [\"Health Care/Life Sciences\", \"PFE\"], [\"Health Care/Life Sciences\", \"PFE\"], [\"Health Care/Life Sciences\", \"PFE\"], [\"Health Care/Life Sciences\", \"PFE\"], [\"Health Care/Life Sciences\", \"PFE\"], [\"Health Care/Life Sciences\", \"PFE\"], [\"Health Care/Life Sciences\", \"PFE\"], [\"Health Care/Life Sciences\", \"PFE\"], [\"Health Care/Life Sciences\", \"PFE\"], [\"Health Care/Life Sciences\", \"PFE\"], [\"Health Care/Life Sciences\", \"PFE\"], [\"Health Care/Life Sciences\", \"PFE\"], [\"Health Care/Life Sciences\", \"PFE\"], [\"Health Care/Life Sciences\", \"PFE\"], [\"Health Care/Life Sciences\", \"PFE\"], [\"Health Care/Life Sciences\", \"PFE\"], [\"Health Care/Life Sciences\", \"PFE\"], [\"Health Care/Life Sciences\", \"PFE\"], [\"Health Care/Life Sciences\", \"PFE\"], [\"Health Care/Life Sciences\", \"PFE\"], [\"Health Care/Life Sciences\", \"PFE\"], [\"Health Care/Life Sciences\", \"PFE\"], [\"Health Care/Life Sciences\", \"PFE\"], [\"Health Care/Life Sciences\", \"PFE\"], [\"Health Care/Life Sciences\", \"PFE\"], [\"Health Care/Life Sciences\", \"PFE\"], [\"Health Care/Life Sciences\", \"PFE\"], [\"Health Care/Life Sciences\", \"PFE\"], [\"Health Care/Life Sciences\", \"PFE\"], [\"Health Care/Life Sciences\", \"PFE\"], [\"Health Care/Life Sciences\", \"PFE\"], [\"Health Care/Life Sciences\", \"PFE\"], [\"Health Care/Life Sciences\", \"PFE\"], [\"Health Care/Life Sciences\", \"PFE\"], [\"Health Care/Life Sciences\", \"PFE\"], [\"Health Care/Life Sciences\", \"PFE\"], [\"Health Care/Life Sciences\", \"PFE\"], [\"Health Care/Life Sciences\", \"PFE\"], [\"Health Care/Life Sciences\", \"PFE\"], [\"Health Care/Life Sciences\", \"PFE\"], [\"Health Care/Life Sciences\", \"PFE\"], [\"Health Care/Life Sciences\", \"PFE\"], [\"Health Care/Life Sciences\", \"PFE\"], [\"Health Care/Life Sciences\", \"PFE\"], [\"Health Care/Life Sciences\", \"PFE\"], [\"Health Care/Life Sciences\", \"PFE\"], [\"Health Care/Life Sciences\", \"PFE\"], [\"Health Care/Life Sciences\", \"PFE\"], [\"Health Care/Life Sciences\", \"PFE\"], [\"Health Care/Life Sciences\", \"PFE\"], [\"Health Care/Life Sciences\", \"PFE\"], [\"Health Care/Life Sciences\", \"PFE\"], [\"Health Care/Life Sciences\", \"PFE\"], [\"Health Care/Life Sciences\", \"PFE\"], [\"Health Care/Life Sciences\", \"PFE\"], [\"Health Care/Life Sciences\", \"PFE\"], [\"Health Care/Life Sciences\", \"PFE\"], [\"Health Care/Life Sciences\", \"PFE\"], [\"Health Care/Life Sciences\", \"PFE\"], [\"Health Care/Life Sciences\", \"PFE\"], [\"Health Care/Life Sciences\", \"PFE\"], [\"Health Care/Life Sciences\", \"PFE\"], [\"Health Care/Life Sciences\", \"PFE\"], [\"Health Care/Life Sciences\", \"PFE\"], [\"Health Care/Life Sciences\", \"PFE\"], [\"Health Care/Life Sciences\", \"PFE\"], [\"Health Care/Life Sciences\", \"PFE\"], [\"Health Care/Life Sciences\", \"PFE\"], [\"Health Care/Life Sciences\", \"PFE\"], [\"Health Care/Life Sciences\", \"PFE\"], [\"Health Care/Life Sciences\", \"PFE\"], [\"Health Care/Life Sciences\", \"PFE\"], [\"Health Care/Life Sciences\", \"PFE\"], [\"Health Care/Life Sciences\", \"PFE\"], [\"Health Care/Life Sciences\", \"PFE\"], [\"Health Care/Life Sciences\", \"PFE\"], [\"Health Care/Life Sciences\", \"PFE\"], [\"Health Care/Life Sciences\", \"PFE\"], [\"Health Care/Life Sciences\", \"PFE\"], [\"Health Care/Life Sciences\", \"PFE\"], [\"Health Care/Life Sciences\", \"PFE\"], [\"Health Care/Life Sciences\", \"PFE\"], [\"Health Care/Life Sciences\", \"PFE\"], [\"Health Care/Life Sciences\", \"PFE\"], [\"Health Care/Life Sciences\", \"PFE\"], [\"Health Care/Life Sciences\", \"PFE\"], [\"Health Care/Life Sciences\", \"PFE\"], [\"Health Care/Life Sciences\", \"PFE\"], [\"Health Care/Life Sciences\", \"PFE\"], [\"Health Care/Life Sciences\", \"PFE\"], [\"Health Care/Life Sciences\", \"PFE\"], [\"Health Care/Life Sciences\", \"PFE\"], [\"Health Care/Life Sciences\", \"PFE\"], [\"Health Care/Life Sciences\", \"PFE\"], [\"Health Care/Life Sciences\", \"PFE\"], [\"Health Care/Life Sciences\", \"PFE\"], [\"Health Care/Life Sciences\", \"PFE\"], [\"Health Care/Life Sciences\", \"PFE\"], [\"Health Care/Life Sciences\", \"PFE\"], [\"Health Care/Life Sciences\", \"PFE\"], [\"Health Care/Life Sciences\", \"PFE\"], [\"Health Care/Life Sciences\", \"PFE\"], [\"Health Care/Life Sciences\", \"PFE\"], [\"Health Care/Life Sciences\", \"PFE\"], [\"Health Care/Life Sciences\", \"PFE\"], [\"Health Care/Life Sciences\", \"PFE\"], [\"Health Care/Life Sciences\", \"PFE\"], [\"Health Care/Life Sciences\", \"PFE\"], [\"Health Care/Life Sciences\", \"PFE\"], [\"Health Care/Life Sciences\", \"PFE\"], [\"Health Care/Life Sciences\", \"PFE\"], [\"Health Care/Life Sciences\", \"PFE\"], [\"Health Care/Life Sciences\", \"PFE\"], [\"Health Care/Life Sciences\", \"PFE\"], [\"Health Care/Life Sciences\", \"PFE\"], [\"Health Care/Life Sciences\", \"PFE\"], [\"Health Care/Life Sciences\", \"PFE\"], [\"Health Care/Life Sciences\", \"PFE\"], [\"Health Care/Life Sciences\", \"PFE\"], [\"Health Care/Life Sciences\", \"PFE\"], [\"Health Care/Life Sciences\", \"PFE\"], [\"Health Care/Life Sciences\", \"PFE\"], [\"Health Care/Life Sciences\", \"PFE\"], [\"Health Care/Life Sciences\", \"PFE\"], [\"Health Care/Life Sciences\", \"PFE\"], [\"Health Care/Life Sciences\", \"PFE\"], [\"Health Care/Life Sciences\", \"PFE\"], [\"Health Care/Life Sciences\", \"PFE\"], [\"Health Care/Life Sciences\", \"PFE\"], [\"Health Care/Life Sciences\", \"PFE\"], [\"Health Care/Life Sciences\", \"PFE\"], [\"Health Care/Life Sciences\", \"PFE\"], [\"Health Care/Life Sciences\", \"PFE\"], [\"Health Care/Life Sciences\", \"PFE\"], [\"Health Care/Life Sciences\", \"PFE\"], [\"Health Care/Life Sciences\", \"PFE\"], [\"Health Care/Life Sciences\", \"PFE\"], [\"Health Care/Life Sciences\", \"PFE\"], [\"Health Care/Life Sciences\", \"PFE\"], [\"Health Care/Life Sciences\", \"PFE\"], [\"Health Care/Life Sciences\", \"PFE\"], [\"Health Care/Life Sciences\", \"PFE\"], [\"Health Care/Life Sciences\", \"PFE\"], [\"Health Care/Life Sciences\", \"PFE\"], [\"Health Care/Life Sciences\", \"PFE\"], [\"Health Care/Life Sciences\", \"PFE\"], [\"Health Care/Life Sciences\", \"PFE\"], [\"Health Care/Life Sciences\", \"PFE\"], [\"Health Care/Life Sciences\", \"PFE\"], [\"Health Care/Life Sciences\", \"PFE\"], [\"Health Care/Life Sciences\", \"PFE\"], [\"Health Care/Life Sciences\", \"PFE\"], [\"Health Care/Life Sciences\", \"PFE\"], [\"Health Care/Life Sciences\", \"PFE\"], [\"Health Care/Life Sciences\", \"PFE\"], [\"Health Care/Life Sciences\", \"PFE\"], [\"Health Care/Life Sciences\", \"PFE\"], [\"Health Care/Life Sciences\", \"PFE\"], [\"Health Care/Life Sciences\", \"PFE\"], [\"Health Care/Life Sciences\", \"PFE\"], [\"Health Care/Life Sciences\", \"PFE\"], [\"Health Care/Life Sciences\", \"PFE\"], [\"Health Care/Life Sciences\", \"PFE\"], [\"Health Care/Life Sciences\", \"PFE\"], [\"Health Care/Life Sciences\", \"PFE\"], [\"Health Care/Life Sciences\", \"PFE\"], [\"Health Care/Life Sciences\", \"PFE\"], [\"Health Care/Life Sciences\", \"PFE\"], [\"Health Care/Life Sciences\", \"PFE\"], [\"Health Care/Life Sciences\", \"PFE\"], [\"Health Care/Life Sciences\", \"PFE\"], [\"Health Care/Life Sciences\", \"PFE\"], [\"Health Care/Life Sciences\", \"PFE\"], [\"Health Care/Life Sciences\", \"PFE\"], [\"Health Care/Life Sciences\", \"PFE\"], [\"Health Care/Life Sciences\", \"PFE\"], [\"Health Care/Life Sciences\", \"PFE\"], [\"Health Care/Life Sciences\", \"PFE\"], [\"Health Care/Life Sciences\", \"PFE\"], [\"Health Care/Life Sciences\", \"PFE\"], [\"Health Care/Life Sciences\", \"PFE\"], [\"Health Care/Life Sciences\", \"PFE\"], [\"Health Care/Life Sciences\", \"PFE\"], [\"Health Care/Life Sciences\", \"PFE\"], [\"Health Care/Life Sciences\", \"PFE\"], [\"Health Care/Life Sciences\", \"PFE\"], [\"Health Care/Life Sciences\", \"PFE\"], [\"Health Care/Life Sciences\", \"PFE\"], [\"Health Care/Life Sciences\", \"PFE\"], [\"Health Care/Life Sciences\", \"PFE\"], [\"Health Care/Life Sciences\", \"PFE\"], [\"Health Care/Life Sciences\", \"PFE\"], [\"Health Care/Life Sciences\", \"PFE\"], [\"Health Care/Life Sciences\", \"PFE\"], [\"Health Care/Life Sciences\", \"PFE\"], [\"Health Care/Life Sciences\", \"PFE\"], [\"Health Care/Life Sciences\", \"PFE\"], [\"Health Care/Life Sciences\", \"PFE\"], [\"Health Care/Life Sciences\", \"PFE\"], [\"Health Care/Life Sciences\", \"PFE\"], [\"Health Care/Life Sciences\", \"PFE\"], [\"Health Care/Life Sciences\", \"PFE\"], [\"Health Care/Life Sciences\", \"PFE\"], [\"Health Care/Life Sciences\", \"PFE\"], [\"Health Care/Life Sciences\", \"PFE\"], [\"Health Care/Life Sciences\", \"PFE\"], [\"Health Care/Life Sciences\", \"PFE\"], [\"Health Care/Life Sciences\", \"PFE\"], [\"Health Care/Life Sciences\", \"PFE\"], [\"Health Care/Life Sciences\", \"PFE\"], [\"Health Care/Life Sciences\", \"PFE\"], [\"Health Care/Life Sciences\", \"PFE\"], [\"Health Care/Life Sciences\", \"PFE\"], [\"Health Care/Life Sciences\", \"PFE\"], [\"Health Care/Life Sciences\", \"PFE\"], [\"Health Care/Life Sciences\", \"PFE\"], [\"Health Care/Life Sciences\", \"PFE\"], [\"Health Care/Life Sciences\", \"PFE\"], [\"Health Care/Life Sciences\", \"PFE\"], [\"Health Care/Life Sciences\", \"PFE\"], [\"Health Care/Life Sciences\", \"PFE\"], [\"Health Care/Life Sciences\", \"PFE\"], [\"Health Care/Life Sciences\", \"PFE\"], [\"Health Care/Life Sciences\", \"PFE\"], [\"Health Care/Life Sciences\", \"PFE\"], [\"Health Care/Life Sciences\", \"PFE\"], [\"Health Care/Life Sciences\", \"PFE\"], [\"Health Care/Life Sciences\", \"PFE\"], [\"Health Care/Life Sciences\", \"PFE\"], [\"Health Care/Life Sciences\", \"PFE\"], [\"Health Care/Life Sciences\", \"PFE\"], [\"Health Care/Life Sciences\", \"PFE\"], [\"Health Care/Life Sciences\", \"PFE\"], [\"Health Care/Life Sciences\", \"PFE\"], [\"Health Care/Life Sciences\", \"PFE\"], [\"Health Care/Life Sciences\", \"PFE\"], [\"Health Care/Life Sciences\", \"PFE\"], [\"Health Care/Life Sciences\", \"PFE\"], [\"Health Care/Life Sciences\", \"PFE\"], [\"Health Care/Life Sciences\", \"PFE\"], [\"Health Care/Life Sciences\", \"PFE\"], [\"Health Care/Life Sciences\", \"PFE\"], [\"Health Care/Life Sciences\", \"PFE\"], [\"Health Care/Life Sciences\", \"PFE\"], [\"Health Care/Life Sciences\", \"PFE\"], [\"Health Care/Life Sciences\", \"PFE\"], [\"Health Care/Life Sciences\", \"PFE\"], [\"Health Care/Life Sciences\", \"PFE\"], [\"Health Care/Life Sciences\", \"PFE\"], [\"Health Care/Life Sciences\", \"PFE\"], [\"Health Care/Life Sciences\", \"PFE\"], [\"Health Care/Life Sciences\", \"PFE\"], [\"Health Care/Life Sciences\", \"PFE\"], [\"Health Care/Life Sciences\", \"PFE\"], [\"Health Care/Life Sciences\", \"PFE\"], [\"Health Care/Life Sciences\", \"PFE\"], [\"Health Care/Life Sciences\", \"PFE\"], [\"Health Care/Life Sciences\", \"PFE\"], [\"Health Care/Life Sciences\", \"PFE\"], [\"Health Care/Life Sciences\", \"PFE\"], [\"Health Care/Life Sciences\", \"PFE\"], [\"Health Care/Life Sciences\", \"PFE\"], [\"Health Care/Life Sciences\", \"PFE\"], [\"Health Care/Life Sciences\", \"PFE\"], [\"Health Care/Life Sciences\", \"PFE\"], [\"Health Care/Life Sciences\", \"PFE\"], [\"Health Care/Life Sciences\", \"PFE\"], [\"Health Care/Life Sciences\", \"PFE\"], [\"Health Care/Life Sciences\", \"PFE\"], [\"Health Care/Life Sciences\", \"PFE\"], [\"Health Care/Life Sciences\", \"PFE\"], [\"Health Care/Life Sciences\", \"PFE\"], [\"Health Care/Life Sciences\", \"PFE\"], [\"Health Care/Life Sciences\", \"PFE\"], [\"Health Care/Life Sciences\", \"PFE\"], [\"Health Care/Life Sciences\", \"PFE\"], [\"Health Care/Life Sciences\", \"PFE\"], [\"Health Care/Life Sciences\", \"PFE\"], [\"Health Care/Life Sciences\", \"PFE\"], [\"Health Care/Life Sciences\", \"PFE\"], [\"Health Care/Life Sciences\", \"PFE\"], [\"Health Care/Life Sciences\", \"PFE\"], [\"Health Care/Life Sciences\", \"PFE\"], [\"Health Care/Life Sciences\", \"PFE\"], [\"Health Care/Life Sciences\", \"PFE\"], [\"Health Care/Life Sciences\", \"PFE\"], [\"Health Care/Life Sciences\", \"PFE\"], [\"Health Care/Life Sciences\", \"PFE\"], [\"Health Care/Life Sciences\", \"PFE\"], [\"Health Care/Life Sciences\", \"PFE\"], [\"Health Care/Life Sciences\", \"PFE\"], [\"Health Care/Life Sciences\", \"PFE\"], [\"Health Care/Life Sciences\", \"PFE\"], [\"Health Care/Life Sciences\", \"PFE\"], [\"Health Care/Life Sciences\", \"PFE\"], [\"Health Care/Life Sciences\", \"PFE\"], [\"Health Care/Life Sciences\", \"PFE\"], [\"Health Care/Life Sciences\", \"PFE\"], [\"Health Care/Life Sciences\", \"PFE\"], [\"Health Care/Life Sciences\", \"PFE\"], [\"Health Care/Life Sciences\", \"PFE\"], [\"Health Care/Life Sciences\", \"PFE\"], [\"Health Care/Life Sciences\", \"PFE\"], [\"Health Care/Life Sciences\", \"PFE\"], [\"Health Care/Life Sciences\", \"PFE\"], [\"Health Care/Life Sciences\", \"PFE\"], [\"Health Care/Life Sciences\", \"PFE\"], [\"Health Care/Life Sciences\", \"PFE\"], [\"Health Care/Life Sciences\", \"PFE\"], [\"Health Care/Life Sciences\", \"PFE\"], [\"Health Care/Life Sciences\", \"PFE\"], [\"Health Care/Life Sciences\", \"PFE\"], [\"Health Care/Life Sciences\", \"PFE\"], [\"Health Care/Life Sciences\", \"PFE\"], [\"Health Care/Life Sciences\", \"PFE\"], [\"Health Care/Life Sciences\", \"PFE\"], [\"Health Care/Life Sciences\", \"PFE\"], [\"Health Care/Life Sciences\", \"PFE\"], [\"Health Care/Life Sciences\", \"PFE\"], [\"Health Care/Life Sciences\", \"PFE\"], [\"Health Care/Life Sciences\", \"PFE\"], [\"Health Care/Life Sciences\", \"PFE\"], [\"Health Care/Life Sciences\", \"PFE\"], [\"Health Care/Life Sciences\", \"PFE\"], [\"Health Care/Life Sciences\", \"PFE\"], [\"Health Care/Life Sciences\", \"PFE\"], [\"Health Care/Life Sciences\", \"PFE\"], [\"Health Care/Life Sciences\", \"PFE\"], [\"Health Care/Life Sciences\", \"PFE\"], [\"Health Care/Life Sciences\", \"PFE\"], [\"Health Care/Life Sciences\", \"PFE\"], [\"Health Care/Life Sciences\", \"PFE\"], [\"Health Care/Life Sciences\", \"PFE\"], [\"Health Care/Life Sciences\", \"PFE\"], [\"Health Care/Life Sciences\", \"PFE\"], [\"Health Care/Life Sciences\", \"PFE\"], [\"Health Care/Life Sciences\", \"PFE\"], [\"Health Care/Life Sciences\", \"PFE\"], [\"Health Care/Life Sciences\", \"PFE\"], [\"Health Care/Life Sciences\", \"PFE\"], [\"Health Care/Life Sciences\", \"PFE\"], [\"Health Care/Life Sciences\", \"PFE\"], [\"Health Care/Life Sciences\", \"PFE\"], [\"Health Care/Life Sciences\", \"PFE\"], [\"Health Care/Life Sciences\", \"PFE\"], [\"Health Care/Life Sciences\", \"PFE\"], [\"Health Care/Life Sciences\", \"PFE\"], [\"Health Care/Life Sciences\", \"PFE\"], [\"Health Care/Life Sciences\", \"PFE\"], [\"Health Care/Life Sciences\", \"PFE\"], [\"Health Care/Life Sciences\", \"PFE\"], [\"Health Care/Life Sciences\", \"PFE\"], [\"Health Care/Life Sciences\", \"PFE\"], [\"Health Care/Life Sciences\", \"PFE\"], [\"Health Care/Life Sciences\", \"PFE\"], [\"Health Care/Life Sciences\", \"PFE\"], [\"Health Care/Life Sciences\", \"PFE\"], [\"Health Care/Life Sciences\", \"PFE\"], [\"Health Care/Life Sciences\", \"PFE\"], [\"Health Care/Life Sciences\", \"PFE\"], [\"Health Care/Life Sciences\", \"PFE\"], [\"Health Care/Life Sciences\", \"PFE\"], [\"Health Care/Life Sciences\", \"PFE\"], [\"Health Care/Life Sciences\", \"PFE\"], [\"Health Care/Life Sciences\", \"PFE\"], [\"Health Care/Life Sciences\", \"PFE\"], [\"Health Care/Life Sciences\", \"PFE\"], [\"Health Care/Life Sciences\", \"PFE\"], [\"Health Care/Life Sciences\", \"PFE\"], [\"Health Care/Life Sciences\", \"PFE\"], [\"Health Care/Life Sciences\", \"PFE\"], [\"Health Care/Life Sciences\", \"PFE\"], [\"Health Care/Life Sciences\", \"PFE\"], [\"Health Care/Life Sciences\", \"PFE\"], [\"Health Care/Life Sciences\", \"PFE\"], [\"Health Care/Life Sciences\", \"PFE\"], [\"Health Care/Life Sciences\", \"PFE\"], [\"Health Care/Life Sciences\", \"PFE\"], [\"Health Care/Life Sciences\", \"PFE\"], [\"Health Care/Life Sciences\", \"PFE\"], [\"Health Care/Life Sciences\", \"PFE\"], [\"Health Care/Life Sciences\", \"PFE\"], [\"Health Care/Life Sciences\", \"PFE\"], [\"Health Care/Life Sciences\", \"PFE\"], [\"Health Care/Life Sciences\", \"PFE\"], [\"Health Care/Life Sciences\", \"PFE\"], [\"Health Care/Life Sciences\", \"PFE\"], [\"Health Care/Life Sciences\", \"PFE\"], [\"Health Care/Life Sciences\", \"PFE\"], [\"Health Care/Life Sciences\", \"PFE\"], [\"Health Care/Life Sciences\", \"PFE\"], [\"Health Care/Life Sciences\", \"PFE\"], [\"Health Care/Life Sciences\", \"PFE\"], [\"Health Care/Life Sciences\", \"PFE\"], [\"Health Care/Life Sciences\", \"PFE\"], [\"Health Care/Life Sciences\", \"PFE\"], [\"Health Care/Life Sciences\", \"PFE\"], [\"Health Care/Life Sciences\", \"PFE\"], [\"Health Care/Life Sciences\", \"PFE\"], [\"Health Care/Life Sciences\", \"PFE\"], [\"Health Care/Life Sciences\", \"PFE\"], [\"Health Care/Life Sciences\", \"PFE\"], [\"Health Care/Life Sciences\", \"PFE\"], [\"Health Care/Life Sciences\", \"PFE\"], [\"Health Care/Life Sciences\", \"PFE\"], [\"Health Care/Life Sciences\", \"PFE\"], [\"Health Care/Life Sciences\", \"PFE\"], [\"Health Care/Life Sciences\", \"PFE\"], [\"Health Care/Life Sciences\", \"PFE\"], [\"Health Care/Life Sciences\", \"PFE\"], [\"Health Care/Life Sciences\", \"PFE\"], [\"Health Care/Life Sciences\", \"PFE\"], [\"Health Care/Life Sciences\", \"PFE\"], [\"Health Care/Life Sciences\", \"PFE\"], [\"Health Care/Life Sciences\", \"PFE\"], [\"Health Care/Life Sciences\", \"PFE\"], [\"Health Care/Life Sciences\", \"PFE\"], [\"Health Care/Life Sciences\", \"PFE\"], [\"Health Care/Life Sciences\", \"PFE\"], [\"Health Care/Life Sciences\", \"PFE\"], [\"Health Care/Life Sciences\", \"PFE\"], [\"Health Care/Life Sciences\", \"PFE\"], [\"Health Care/Life Sciences\", \"PFE\"], [\"Health Care/Life Sciences\", \"PFE\"], [\"Health Care/Life Sciences\", \"PFE\"], [\"Health Care/Life Sciences\", \"PFE\"], [\"Health Care/Life Sciences\", \"PFE\"], [\"Health Care/Life Sciences\", \"PFE\"], [\"Health Care/Life Sciences\", \"PFE\"], [\"Health Care/Life Sciences\", \"PFE\"], [\"Health Care/Life Sciences\", \"PFE\"], [\"Health Care/Life Sciences\", \"PFE\"], [\"Health Care/Life Sciences\", \"PFE\"], [\"Health Care/Life Sciences\", \"PFE\"], [\"Health Care/Life Sciences\", \"PFE\"], [\"Health Care/Life Sciences\", \"PFE\"], [\"Health Care/Life Sciences\", \"PFE\"], [\"Health Care/Life Sciences\", \"PFE\"], [\"Health Care/Life Sciences\", \"PFE\"], [\"Health Care/Life Sciences\", \"PFE\"], [\"Health Care/Life Sciences\", \"PFE\"], [\"Health Care/Life Sciences\", \"PFE\"], [\"Health Care/Life Sciences\", \"PFE\"], [\"Health Care/Life Sciences\", \"PFE\"], [\"Health Care/Life Sciences\", \"PFE\"], [\"Health Care/Life Sciences\", \"PFE\"], [\"Health Care/Life Sciences\", \"PFE\"], [\"Health Care/Life Sciences\", \"PFE\"], [\"Health Care/Life Sciences\", \"PFE\"], [\"Health Care/Life Sciences\", \"PFE\"], [\"Health Care/Life Sciences\", \"PFE\"], [\"Health Care/Life Sciences\", \"PFE\"], [\"Health Care/Life Sciences\", \"PFE\"], [\"Health Care/Life Sciences\", \"PFE\"], [\"Health Care/Life Sciences\", \"PFE\"], [\"Health Care/Life Sciences\", \"PFE\"], [\"Health Care/Life Sciences\", \"PFE\"], [\"Health Care/Life Sciences\", \"PFE\"], [\"Health Care/Life Sciences\", \"PFE\"], [\"Health Care/Life Sciences\", \"PFE\"], [\"Health Care/Life Sciences\", \"PFE\"], [\"Health Care/Life Sciences\", \"PFE\"], [\"Health Care/Life Sciences\", \"PFE\"], [\"Health Care/Life Sciences\", \"PFE\"], [\"Health Care/Life Sciences\", \"PFE\"], [\"Health Care/Life Sciences\", \"PFE\"], [\"Health Care/Life Sciences\", \"PFE\"], [\"Health Care/Life Sciences\", \"PFE\"], [\"Health Care/Life Sciences\", \"PFE\"], [\"Health Care/Life Sciences\", \"PFE\"], [\"Health Care/Life Sciences\", \"PFE\"], [\"Health Care/Life Sciences\", \"PFE\"], [\"Health Care/Life Sciences\", \"PFE\"], [\"Health Care/Life Sciences\", \"PFE\"], [\"Health Care/Life Sciences\", \"PFE\"], [\"Health Care/Life Sciences\", \"PFE\"], [\"Health Care/Life Sciences\", \"PFE\"], [\"Health Care/Life Sciences\", \"PFE\"], [\"Health Care/Life Sciences\", \"PFE\"], [\"Health Care/Life Sciences\", \"PFE\"], [\"Health Care/Life Sciences\", \"PFE\"], [\"Health Care/Life Sciences\", \"PFE\"], [\"Health Care/Life Sciences\", \"PFE\"], [\"Health Care/Life Sciences\", \"PFE\"], [\"Health Care/Life Sciences\", \"PFE\"], [\"Health Care/Life Sciences\", \"PFE\"], [\"Health Care/Life Sciences\", \"PFE\"], [\"Health Care/Life Sciences\", \"PFE\"], [\"Health Care/Life Sciences\", \"PFE\"], [\"Health Care/Life Sciences\", \"PFE\"], [\"Health Care/Life Sciences\", \"PFE\"], [\"Health Care/Life Sciences\", \"PFE\"], [\"Health Care/Life Sciences\", \"PFE\"], [\"Health Care/Life Sciences\", \"PFE\"], [\"Health Care/Life Sciences\", \"PFE\"], [\"Health Care/Life Sciences\", \"PFE\"], [\"Health Care/Life Sciences\", \"PFE\"], [\"Health Care/Life Sciences\", \"PFE\"], [\"Health Care/Life Sciences\", \"PFE\"], [\"Health Care/Life Sciences\", \"PFE\"], [\"Health Care/Life Sciences\", \"PFE\"], [\"Health Care/Life Sciences\", \"PFE\"], [\"Health Care/Life Sciences\", \"PFE\"], [\"Health Care/Life Sciences\", \"PFE\"], [\"Health Care/Life Sciences\", \"PFE\"], [\"Health Care/Life Sciences\", \"PFE\"], [\"Health Care/Life Sciences\", \"PFE\"], [\"Health Care/Life Sciences\", \"PFE\"], [\"Health Care/Life Sciences\", \"PFE\"], [\"Health Care/Life Sciences\", \"PFE\"], [\"Health Care/Life Sciences\", \"PFE\"], [\"Health Care/Life Sciences\", \"PFE\"], [\"Health Care/Life Sciences\", \"PFE\"], [\"Health Care/Life Sciences\", \"PFE\"], [\"Health Care/Life Sciences\", \"PFE\"], [\"Health Care/Life Sciences\", \"PFE\"], [\"Health Care/Life Sciences\", \"PFE\"], [\"Health Care/Life Sciences\", \"PFE\"], [\"Health Care/Life Sciences\", \"PFE\"], [\"Health Care/Life Sciences\", \"PFE\"], [\"Health Care/Life Sciences\", \"PFE\"], [\"Health Care/Life Sciences\", \"PFE\"], [\"Health Care/Life Sciences\", \"PFE\"], [\"Health Care/Life Sciences\", \"PFE\"], [\"Health Care/Life Sciences\", \"PFE\"], [\"Health Care/Life Sciences\", \"PFE\"], [\"Health Care/Life Sciences\", \"PFE\"], [\"Health Care/Life Sciences\", \"PFE\"], [\"Health Care/Life Sciences\", \"PFE\"], [\"Health Care/Life Sciences\", \"PFE\"], [\"Health Care/Life Sciences\", \"PFE\"], [\"Health Care/Life Sciences\", \"PFE\"], [\"Health Care/Life Sciences\", \"PFE\"], [\"Health Care/Life Sciences\", \"PFE\"], [\"Health Care/Life Sciences\", \"PFE\"], [\"Health Care/Life Sciences\", \"PFE\"], [\"Health Care/Life Sciences\", \"PFE\"], [\"Health Care/Life Sciences\", \"PFE\"], [\"Health Care/Life Sciences\", \"PFE\"], [\"Health Care/Life Sciences\", \"PFE\"], [\"Health Care/Life Sciences\", \"PFE\"], [\"Health Care/Life Sciences\", \"PFE\"], [\"Health Care/Life Sciences\", \"PFE\"], [\"Health Care/Life Sciences\", \"PFE\"], [\"Health Care/Life Sciences\", \"PFE\"], [\"Health Care/Life Sciences\", \"PFE\"], [\"Health Care/Life Sciences\", \"PFE\"], [\"Health Care/Life Sciences\", \"PFE\"], [\"Health Care/Life Sciences\", \"PFE\"], [\"Health Care/Life Sciences\", \"PFE\"], [\"Health Care/Life Sciences\", \"PFE\"], [\"Health Care/Life Sciences\", \"PFE\"], [\"Health Care/Life Sciences\", \"PFE\"], [\"Health Care/Life Sciences\", \"PFE\"], [\"Health Care/Life Sciences\", \"PFE\"], [\"Health Care/Life Sciences\", \"PFE\"], [\"Health Care/Life Sciences\", \"PFE\"], [\"Health Care/Life Sciences\", \"PFE\"], [\"Health Care/Life Sciences\", \"PFE\"], [\"Health Care/Life Sciences\", \"PFE\"], [\"Health Care/Life Sciences\", \"PFE\"], [\"Health Care/Life Sciences\", \"PFE\"], [\"Health Care/Life Sciences\", \"PFE\"], [\"Health Care/Life Sciences\", \"PFE\"], [\"Health Care/Life Sciences\", \"PFE\"], [\"Health Care/Life Sciences\", \"PFE\"], [\"Health Care/Life Sciences\", \"PFE\"], [\"Health Care/Life Sciences\", \"PFE\"], [\"Health Care/Life Sciences\", \"PFE\"], [\"Health Care/Life Sciences\", \"PFE\"], [\"Health Care/Life Sciences\", \"PFE\"], [\"Health Care/Life Sciences\", \"PFE\"], [\"Health Care/Life Sciences\", \"PFE\"], [\"Health Care/Life Sciences\", \"PFE\"], [\"Health Care/Life Sciences\", \"PFE\"], [\"Health Care/Life Sciences\", \"PFE\"], [\"Health Care/Life Sciences\", \"PFE\"], [\"Health Care/Life Sciences\", \"PFE\"], [\"Health Care/Life Sciences\", \"PFE\"], [\"Health Care/Life Sciences\", \"PFE\"], [\"Health Care/Life Sciences\", \"PFE\"], [\"Health Care/Life Sciences\", \"PFE\"], [\"Health Care/Life Sciences\", \"PFE\"], [\"Health Care/Life Sciences\", \"PFE\"], [\"Health Care/Life Sciences\", \"PFE\"], [\"Health Care/Life Sciences\", \"PFE\"], [\"Health Care/Life Sciences\", \"PFE\"], [\"Health Care/Life Sciences\", \"PFE\"], [\"Health Care/Life Sciences\", \"PFE\"], [\"Health Care/Life Sciences\", \"PFE\"], [\"Health Care/Life Sciences\", \"PFE\"], [\"Health Care/Life Sciences\", \"PFE\"], [\"Health Care/Life Sciences\", \"PFE\"], [\"Health Care/Life Sciences\", \"PFE\"], [\"Health Care/Life Sciences\", \"PFE\"], [\"Health Care/Life Sciences\", \"PFE\"], [\"Health Care/Life Sciences\", \"PFE\"], [\"Health Care/Life Sciences\", \"PFE\"], [\"Health Care/Life Sciences\", \"PFE\"], [\"Health Care/Life Sciences\", \"PFE\"], [\"Health Care/Life Sciences\", \"PFE\"], [\"Health Care/Life Sciences\", \"PFE\"], [\"Health Care/Life Sciences\", \"PFE\"], [\"Health Care/Life Sciences\", \"PFE\"], [\"Health Care/Life Sciences\", \"PFE\"], [\"Health Care/Life Sciences\", \"PFE\"], [\"Health Care/Life Sciences\", \"PFE\"], [\"Health Care/Life Sciences\", \"PFE\"], [\"Health Care/Life Sciences\", \"PFE\"], [\"Health Care/Life Sciences\", \"PFE\"], [\"Health Care/Life Sciences\", \"PFE\"], [\"Health Care/Life Sciences\", \"PFE\"], [\"Health Care/Life Sciences\", \"PFE\"], [\"Health Care/Life Sciences\", \"PFE\"], [\"Health Care/Life Sciences\", \"PFE\"], [\"Health Care/Life Sciences\", \"PFE\"], [\"Health Care/Life Sciences\", \"PFE\"], [\"Health Care/Life Sciences\", \"PFE\"], [\"Health Care/Life Sciences\", \"PFE\"], [\"Health Care/Life Sciences\", \"PFE\"], [\"Health Care/Life Sciences\", \"PFE\"], [\"Health Care/Life Sciences\", \"PFE\"], [\"Health Care/Life Sciences\", \"PFE\"], [\"Health Care/Life Sciences\", \"PFE\"], [\"Health Care/Life Sciences\", \"PFE\"], [\"Health Care/Life Sciences\", \"PFE\"], [\"Health Care/Life Sciences\", \"PFE\"], [\"Health Care/Life Sciences\", \"PFE\"]], \"hoverlabel\": {\"namelength\": 0}, \"hovertemplate\": \"sector=%{customdata[0]}<br>x=%{x}<br>y=%{y}<br>symb=%{customdata[1]}\", \"legendgroup\": \"Health Care/Life Sciences\", \"marker\": {\"color\": \"#FECB52\", \"symbol\": \"circle\"}, \"mode\": \"markers\", \"name\": \"Health Care/Life Sciences\", \"showlegend\": true, \"type\": \"scattergl\", \"x\": [-51.24236297607422, 45.19192123413086, 56.274112701416016, 56.118526458740234, 45.35272979736328, -51.703311920166016, 49.8717155456543, 12.37028980255127, 34.77961349487305, -23.948318481445312, 50.509071350097656, 29.526813507080078, 49.55927658081055, 49.458290100097656, 26.735498428344727, -9.507299423217773, 54.02538299560547, 53.1337776184082, -33.030879974365234, 20.072479248046875, -9.595691680908203, 26.8978328704834, -13.356815338134766, 54.129371643066406, -9.25214958190918, 25.7615966796875, -1.7017784118652344, 26.196718215942383, 25.15695571899414, 3.650480031967163, 54.94668197631836, 0.8101897239685059, 55.86397171020508, 52.8542366027832, 55.59534454345703, -32.288902282714844, 49.27311706542969, -21.61748504638672, -17.273027420043945, 27.4127254486084, -15.022542953491211, -7.967160701751709, -19.03860092163086, 49.07781219482422, 48.64128875732422, 55.57888412475586, 55.10401153564453, -38.936363220214844, 27.201833724975586, 31.518383026123047, -51.5582389831543, -41.708885192871094, -23.122173309326172, 7.348568916320801, -54.83567428588867, 11.557323455810547, 36.994728088378906, -21.823274612426758, -37.01552200317383, 42.34454345703125, 46.125423431396484, 46.274818420410156, 10.032045364379883, 51.08162307739258, -18.333507537841797, 40.36130142211914, -0.6339418888092041, 49.017189025878906, -18.20368766784668, 48.67059326171875, 28.590837478637695, 26.585920333862305, -48.693809509277344, 45.86598587036133, -2.9527456760406494, -42.581363677978516, -21.371362686157227, 21.324913024902344, 31.25048065185547, -14.210772514343262, -54.4263916015625, -11.48005485534668, 37.182682037353516, 29.96482276916504, 12.468429565429688, -35.035648345947266, 46.17477798461914, -20.92967414855957, -9.727533340454102, 41.13727569580078, -25.89937973022461, -2.3573482036590576, -23.156404495239258, 49.12913131713867, 16.08241081237793, 30.003286361694336, 43.12558364868164, 9.446837425231934, -41.64628219604492, 41.41801452636719, 27.70390510559082, -39.6380500793457, -22.741230010986328, 27.15614891052246, -21.95570182800293, 27.082868576049805, -0.4582291841506958, 37.87568283081055, 45.66172409057617, 25.964202880859375, -32.947288513183594, 20.46243667602539, -41.07652282714844, -23.088056564331055, 51.12319564819336, 49.989505767822266, 40.007171630859375, -42.81022262573242, 43.71318817138672, -54.94325637817383, 16.365713119506836, 27.008262634277344, 38.822452545166016, 28.800525665283203, 37.36058044433594, 43.96615982055664, 51.75619888305664, 28.618810653686523, 22.017629623413086, 22.881786346435547, -24.66724395751953, 37.241268157958984, 38.7402229309082, -24.358400344848633, -25.276214599609375, 7.556310653686523, -26.20500373840332, 42.73810958862305, -25.09868049621582, 41.68852233886719, -24.492633819580078, 37.94172286987305, -34.90538024902344, 50.9969596862793, 44.33552932739258, -34.1093864440918, 21.52861213684082, 16.224706649780273, 8.670762062072754, 49.363155364990234, 47.91408157348633, 48.25389099121094, 16.518598556518555, -28.246910095214844, 29.769390106201172, -1.5366895198822021, 28.075843811035156, 28.30150604248047, 24.423860549926758, 29.569900512695312, 39.9929084777832, 49.84865951538086, -26.194250106811523, 3.298614501953125, -43.53416061401367, 0.4726297855377197, 5.485422134399414, -30.48927879333496, -41.63857650756836, -23.34954261779785, 42.26826477050781, 16.025575637817383, 28.437637329101562, 49.70566177368164, -25.744140625, -18.365108489990234, 37.81526184082031, 33.229305267333984, -11.736083984375, -27.54360008239746, -41.16041946411133, 3.876953125, -24.69746971130371, -0.8783658742904663, -16.11471176147461, 32.384193420410156, -42.48783493041992, -1.654573917388916, 37.03920364379883, -32.94330596923828, -25.199317932128906, 43.52939987182617, -26.2098331451416, 20.115848541259766, -23.541330337524414, -27.12449836730957, 49.126708984375, 44.25934600830078, 25.700651168823242, -26.124767303466797, -16.84986114501953, 27.247894287109375, -22.871408462524414, 41.99987030029297, -58.62398147583008, 37.39468765258789, -25.511011123657227, 28.180763244628906, 49.11479568481445, -26.708148956298828, 12.05160140991211, -10.017655372619629, -36.942264556884766, 48.29241180419922, -1.5919437408447266, -23.531322479248047, -23.97313690185547, -37.34067916870117, -12.500946044921875, -13.745047569274902, 47.199920654296875, 48.1005973815918, 46.03793716430664, 47.002593994140625, 48.3514518737793, 45.37263488769531, 30.859251022338867, -42.449073791503906, -8.467486381530762, 33.6720085144043, 29.798290252685547, -43.55414962768555, -0.18798772990703583, -21.374414443969727, 26.866640090942383, 28.641359329223633, 10.830581665039062, 32.51418685913086, 46.64705276489258, 48.94129180908203, -1.6112196445465088, -41.54352569580078, 27.46662712097168, 37.793121337890625, -1.1578623056411743, 30.422744750976562, 26.077856063842773, 25.77790641784668, 25.280969619750977, 27.132102966308594, 25.37160301208496, 37.838130950927734, 47.290435791015625, -15.920973777770996, 47.42363739013672, 28.420654296875, 51.8574333190918, 51.816768646240234, 33.80438995361328, 45.480525970458984, 15.651429176330566, 27.818859100341797, -35.332706451416016, -50.81480407714844, 44.6796760559082, 44.19365692138672, -13.62304401397705, 32.230506896972656, -42.123329162597656, 7.958591938018799, -22.25873374938965, 43.90797424316406, 19.917537689208984, 48.87142562866211, -45.86809158325195, 48.004154205322266, 35.45380401611328, 48.617191314697266, 31.538616180419922, -41.100135803222656, -55.83265686035156, -43.294063568115234, -55.81364822387695, -57.19987869262695, 32.216793060302734, 20.462217330932617, -44.885318756103516, 29.16777992248535, 49.501220703125, 13.623558044433594, -4.871933937072754, -35.699729919433594, -39.28398132324219, -40.11514663696289, -0.12566512823104858, -34.50677490234375, -22.177265167236328, 18.875051498413086, 12.04625129699707, -19.8868350982666, 43.235538482666016, 47.18141555786133, 47.62795639038086, 21.893535614013672, 10.326146125793457, 31.639598846435547, -28.491437911987305, 50.723716735839844, 35.253360748291016, 49.04632568359375, 47.257850646972656, 16.235191345214844, 26.52765464782715, -42.279441833496094, -18.152843475341797, -2.412233352661133, -22.42127227783203, 39.09526062011719, 31.27278709411621, 28.037370681762695, 47.96377944946289, 21.98697853088379, 1.1767895221710205, 30.4561710357666, -5.416226387023926, 43.44417953491211, 43.26970291137695, 42.33339309692383, -39.66313171386719, 33.79922103881836, 1.633610725402832, 50.0925407409668, 13.683195114135742, 40.90177536010742, 40.889503479003906, -48.40237045288086, -10.966261863708496, -23.94416046142578, -20.825462341308594, 33.96000671386719, 48.2746696472168, -17.55307388305664, -43.7584228515625, -10.309158325195312, 30.070539474487305, 1.9387112855911255, -47.23131561279297, 16.410400390625, -22.59954261779785, 17.95121192932129, 28.331274032592773, 38.411376953125, 18.478973388671875, 48.7420539855957, -37.31904220581055, 48.30270004272461, 11.36005687713623, 47.70686340332031, 8.556116104125977, -41.4444694519043, -37.368385314941406, 0.5953641533851624, -22.431306838989258, -5.413967132568359, 14.482279777526855, -31.907075881958008, 27.25274085998535, 22.670820236206055, 37.39754867553711, 41.301231384277344, 37.385719299316406, 41.20490646362305, -34.7055778503418, 21.471708297729492, 44.275447845458984, -18.554702758789062, 36.02903747558594, 21.236722946166992, 3.8137636184692383, -45.86101150512695, -6.108510494232178, -42.0919303894043, 51.79698181152344, 23.712364196777344, 48.91535186767578, 10.815865516662598, -0.9696643948554993, -34.345916748046875, 24.093870162963867, 31.398157119750977, 21.291105270385742, -16.83293914794922, 3.647552251815796, 26.442899703979492, -52.750091552734375, -22.71422004699707, 11.6187162399292, -0.5652191638946533, -11.97735595703125, 51.39128875732422, -9.676011085510254, -36.67634582519531, 17.181713104248047, -1.4468146562576294, -17.07851791381836, 16.70269203186035, -13.493277549743652, 38.1660041809082, 36.91223907470703, 31.623376846313477, 47.54219436645508, 12.333752632141113, -53.45088195800781, 10.211810111999512, -48.147830963134766, -0.4010090231895447, 39.824310302734375, -22.522306442260742, 21.418231964111328, 21.48046875, 26.661026000976562, 33.85201644897461, -36.731590270996094, 25.807878494262695, -43.8930778503418, 25.707921981811523, 5.735702037811279, -34.941043853759766, -40.88680648803711, 27.76715660095215, -42.23850631713867, -38.04343795776367, -2.937528133392334, -25.26742935180664, 35.03371047973633, 28.476736068725586, -1.3527631759643555, 50.245147705078125, 50.266143798828125, -14.308591842651367, -8.086960792541504, 17.781982421875, -37.166038513183594, 36.12135314941406, 30.820072174072266, 36.70259094238281, 19.558645248413086, 45.648887634277344, 37.417362213134766, 47.95353317260742, 44.32160949707031, 5.604605674743652, 8.256548881530762, 11.202591896057129, 8.571427345275879, -36.151554107666016, -60.901004791259766, 2.2867515087127686, -52.980106353759766, -39.420413970947266, -6.959062099456787, 42.88904571533203, 26.733917236328125, 6.013950347900391, 41.30388259887695, 41.303802490234375, -39.67439270019531, -19.43194007873535, 34.787872314453125, -42.649085998535156, -47.62406921386719, 30.576295852661133, 8.483588218688965, -41.18207931518555, -0.05622374266386032, -23.461668014526367, -30.259109497070312, 20.174701690673828, -13.616053581237793, 24.887723922729492, 43.46274948120117, 52.47890090942383, 29.763742446899414, -38.949371337890625, -17.55548095703125, -24.003114700317383, -12.607409477233887, 51.7744140625, 34.347476959228516, 43.11322784423828, 16.882164001464844, 49.17302322387695, -17.137718200683594, -41.98090362548828, 46.804412841796875, 1.5883158445358276, 39.86041259765625, 27.72445297241211, -9.283832550048828, -14.090107917785645, -10.72646427154541, 1.037505865097046, 8.340520858764648, -38.207523345947266, -21.42197608947754, -27.20265007019043, -13.699258804321289, -9.176124572753906, -9.47431468963623, 14.506978988647461, 18.4346866607666, 45.293922424316406, -17.60658073425293, -40.23847198486328, -35.448028564453125, -60.93458938598633, 8.836838722229004, -37.964656829833984, -53.56309509277344, 37.61384582519531, -60.81105422973633, 16.351734161376953, 26.95340919494629, 30.48597526550293, -0.3002796173095703, 30.581838607788086, 36.80207824707031, -47.22359085083008, 29.703548431396484, 0.15299279987812042, 51.77316665649414, 18.900270462036133, 26.997608184814453, 29.109525680541992, 20.371253967285156, -41.530601501464844, -18.3331241607666, -14.013093948364258, -2.921779155731201, 0.1181291788816452, -38.662654876708984, -4.947336673736572, -24.754966735839844, -27.54184341430664, 25.540842056274414, -3.453267812728882, 39.42848587036133, 37.625885009765625, 48.525245666503906, 23.855121612548828, -9.87757396697998, 15.901704788208008, 13.014641761779785, 16.25119400024414, -9.257574081420898, 25.1646671295166, 16.045284271240234, -8.442864418029785, 10.076007843017578, 1.5741137266159058, 51.21322250366211, 16.26871109008789, 2.9471688270568848, -34.56153869628906, -21.50362777709961, -21.428796768188477, 1.1021685600280762, 26.918882369995117, 37.04180908203125, 30.518835067749023, -11.280153274536133, -39.66379165649414, -18.091489791870117, 29.21453857421875, 9.751300811767578, 21.843706130981445, 24.177400588989258, -18.334779739379883, 8.889482498168945, -21.38349151611328, 37.21163558959961, 25.579837799072266, -43.702545166015625, 28.106029510498047, 27.537681579589844, 37.213653564453125, 37.289306640625, -0.8700780868530273, 37.93085479736328, 38.214935302734375, -37.30394744873047, 0.8833790421485901, -21.53362274169922, 43.25212097167969, -27.990135192871094, 5.925426006317139, -33.9214973449707, 24.610544204711914, -24.146215438842773, -36.57018280029297, 40.33357238769531, 1.938568353652954, -2.77752423286438, -27.60188865661621, -29.310379028320312, -28.050695419311523, -39.6428108215332, 1.2579652070999146, -20.197372436523438, -28.793872833251953, 21.784420013427734, -13.679224014282227, -4.884944915771484, -13.898807525634766, 15.06485366821289, -15.277470588684082, 17.976425170898438, -22.6778621673584, -7.1538543701171875, 7.215970516204834, -28.101999282836914, -37.01995849609375, 2.133164167404175, -24.924999237060547, 0.24219487607479095, 2.9987289905548096, -27.360488891601562, 40.1572265625, 42.043792724609375, -26.81549835205078, 30.10305404663086, 0.3843911290168762, 18.472816467285156, 11.106868743896484, -24.140378952026367, 39.785980224609375, 46.45258712768555, 12.25262451171875, -15.282854080200195, -35.8410530090332, 15.715036392211914, -54.518062591552734, 13.507051467895508, 39.6219482421875, -18.608064651489258, -27.910194396972656, 40.47723388671875, -27.854665756225586, -34.28713607788086, 4.468984127044678, 39.2218132019043, 26.024776458740234, -27.592453002929688, 2.692340612411499, 52.620635986328125, -3.6925301551818848, -25.848752975463867, -28.235441207885742, 2.2204837799072266, -1.676973819732666, -40.12422180175781, -23.28274917602539, 6.912659645080566, -4.505914688110352, 14.00535774230957, 12.794002532958984, -15.488229751586914, -1.1631739139556885, 23.64044761657715, 44.30927658081055, -17.701160430908203, 21.257051467895508, 16.95225715637207, -33.79682159423828, -16.2421817779541, -18.25951385498047, 13.224979400634766, -26.561473846435547, -35.25844955444336, 45.530033111572266, 28.908260345458984, 42.28335952758789, -8.62767505645752, -60.370208740234375, 33.952484130859375, -27.422142028808594], \"xaxis\": \"x\", \"y\": [-19.015256881713867, 17.197036743164062, 0.9247426390647888, 1.7229959964752197, 14.058328628540039, -16.314340591430664, 18.409963607788086, -27.716232299804688, 8.25332260131836, 10.117254257202148, 20.57552146911621, 42.355552673339844, 20.334339141845703, 21.914365768432617, 46.67210006713867, 14.095070838928223, 5.222906589508057, 4.95149564743042, 3.1695258617401123, 0.978778064250946, 14.322524070739746, 46.406829833984375, -46.25058364868164, 5.719171524047852, 14.631929397583008, 47.595123291015625, 15.868170738220215, 47.39540100097656, 44.639896392822266, 34.01504135131836, 1.6185622215270996, 18.226947784423828, 0.7514541149139404, 4.344265937805176, 0.7927379608154297, 19.206052780151367, 19.674457550048828, -18.77626609802246, -26.569616317749023, 41.32490539550781, -22.255558013916016, -28.161334991455078, 25.081684112548828, 20.56108856201172, 22.51611328125, 0.9037765860557556, -0.9141361713409424, 26.714664459228516, 45.609947204589844, 45.75491714477539, -15.849837303161621, 29.082637786865234, 40.8328742980957, -3.1314547061920166, -32.46038818359375, -74.50434112548828, -18.584596633911133, -6.289725303649902, 26.857145309448242, 16.154455184936523, 4.121560573577881, 11.295083999633789, 55.62437438964844, 16.895488739013672, -44.03987503051758, 16.233322143554688, 44.628082275390625, 11.238526344299316, -24.358661651611328, 18.07088851928711, 39.48851013183594, -3.95175838470459, -1.9642164707183838, 14.772339820861816, -36.64344787597656, 29.66170310974121, 43.099273681640625, -15.700071334838867, 42.18653106689453, -29.632566452026367, -6.906909465789795, -43.878929138183594, -18.436481475830078, -33.404964447021484, -68.58061981201172, 23.63653564453125, 3.4833157062530518, -17.199251174926758, -31.305164337158203, 6.409141540527344, -16.837121963500977, 47.02464294433594, -17.368328094482422, 15.134650230407715, 48.71189498901367, 8.680492401123047, 14.102400779724121, 41.806373596191406, -13.919795989990234, 12.668037414550781, 39.80475616455078, 24.633949279785156, 42.346717834472656, 34.55006408691406, 41.947933197021484, 42.88641357421875, -21.125837326049805, 23.603391647338867, 7.885697841644287, -12.181320190429688, 4.4709553718566895, -23.505409240722656, -18.183740615844727, -18.516748428344727, 18.56698989868164, 15.342151641845703, 17.149154663085938, -18.33452796936035, 20.411954879760742, 12.08947467803955, 48.714263916015625, 42.531917572021484, 0.6151555180549622, -7.42478084564209, 8.012317657470703, 14.308865547180176, 17.264326095581055, -9.330924034118652, 1.3947445154190063, -6.287740707397461, -13.382279396057129, 7.792226791381836, 0.47825372219085693, -15.530840873718262, -15.259455680847168, 7.448369026184082, 39.06553649902344, 14.24522590637207, -2.750037908554077, 13.760334968566895, -2.5006425380706787, -12.347533226013184, 3.4779624938964844, 16.037843704223633, 16.06294822692871, 3.3010709285736084, -0.38787826895713806, -14.627527236938477, -40.25674819946289, 18.9891357421875, 13.494546890258789, 9.959877967834473, -25.483549118041992, -16.556556701660156, 41.47273254394531, -29.494544982910156, -12.609509468078613, -8.386937141418457, -2.2175486087799072, -3.8231611251831055, 17.2662410736084, 12.954933166503906, -17.360225677490234, -35.248512268066406, -18.035518646240234, 2.7017979621887207, -31.290966033935547, -3.8326709270477295, 28.726497650146484, 42.71162414550781, 20.004056930541992, -26.487842559814453, -11.701001167297363, 16.50843048095703, -13.734944343566895, -25.725528717041016, 1.9383476972579956, -34.283119201660156, -28.340307235717773, -16.97976303100586, -8.997580528259277, -40.21479797363281, -16.70360565185547, -29.18666648864746, -28.285682678222656, -3.2316982746124268, -17.779653549194336, 31.06102752685547, 4.558905601501465, 23.087249755859375, -16.18463897705078, 7.326670169830322, -15.711105346679688, -26.040836334228516, -15.033921241760254, -17.152889251708984, 15.713667869567871, 12.908187866210938, 11.047964096069336, -13.135841369628906, -44.916542053222656, -10.719693183898926, 40.25773620605469, 13.349297523498535, -10.678753852844238, -21.198684692382812, -16.322589874267578, -3.4003944396972656, 12.91166877746582, -16.179317474365234, 44.149688720703125, -19.206315994262695, -5.9274067878723145, 20.371746063232422, -29.425922393798828, -16.3774356842041, -17.489992141723633, 24.143115997314453, -29.400026321411133, -29.46440315246582, 14.299886703491211, 17.246768951416016, 11.326362609863281, 11.933613777160645, 15.798831939697266, 5.015810966491699, 42.14137268066406, 26.55292320251465, -25.914339065551758, -14.112071990966797, -12.168472290039062, -10.018585205078125, -34.986427307128906, 43.10372543334961, -11.3201904296875, -9.36959457397461, -76.30279541015625, 39.43570327758789, 18.116804122924805, 14.53431510925293, 3.5234739780426025, -18.581369400024414, -10.655569076538086, 22.375417709350586, -37.07320785522461, 44.22468566894531, 10.322589874267578, 10.306673049926758, 9.749246597290039, -3.7044878005981445, 9.864498138427734, 2.525341033935547, 11.024131774902344, -31.271501541137695, 15.565245628356934, 43.59612274169922, 11.214076042175293, 11.214205741882324, 7.119760036468506, 7.711678981781006, -19.985923767089844, -9.783071517944336, 21.65511703491211, 12.03451156616211, 5.408564567565918, 5.668383598327637, -29.226457595825195, -12.763788223266602, -12.389169692993164, -39.17104721069336, 44.169795989990234, 5.661647796630859, -17.29948616027832, 17.27220344543457, 25.928321838378906, 10.902729988098145, 1.4504964351654053, 15.652198791503906, -11.512043952941895, -21.444177627563477, -11.604515075683594, 26.39254379272461, -11.467774391174316, -10.195083618164062, -12.736592292785645, -23.50686264038086, -8.472009658813477, 42.085811614990234, 8.153018951416016, -22.796632766723633, -20.985273361206055, 4.942325592041016, -3.8700613975524902, 25.261043548583984, -40.788875579833984, 4.361888885498047, 42.91531753540039, -37.132938385009766, -75.22332000732422, 5.302729606628418, 21.422943115234375, 16.856908798217773, 18.902746200561523, 0.9484575986862183, 55.96812057495117, 40.007591247558594, -26.173900604248047, 18.392419815063477, -23.871566772460938, 18.80577850341797, 15.8762845993042, -26.625940322875977, 23.0330810546875, 25.31229019165039, -35.802982330322266, -41.408199310302734, 43.1294059753418, 26.324026107788086, 45.377769470214844, -12.941781997680664, 12.270732879638672, -14.31651782989502, -38.63677978515625, 44.44163513183594, -25.202625274658203, 10.320796966552734, 13.051460266113281, 11.214728355407715, -5.42943000793457, 7.092189311981201, 35.17622375488281, 16.938915252685547, -22.744539260864258, 5.261549472808838, 5.914066791534424, 0.04703569784760475, -43.770076751708984, 10.113814353942871, -11.10774040222168, -11.860568046569824, 7.681365966796875, -33.37990951538086, -0.7668641209602356, -44.30791473388672, 39.3178825378418, -41.769718170166016, -3.5451667308807373, -37.384193420410156, 43.723846435546875, -24.417964935302734, -2.8078174591064453, -9.691193580627441, -28.365131378173828, 7.3643598556518555, -11.989912033081055, 16.85494613647461, -29.7357234954834, 11.825277328491211, -40.4379768371582, -0.06838642805814743, -12.098072052001953, -40.16672897338867, 44.23359298706055, -39.12050247192383, -69.79418182373047, -1.444222092628479, -34.454856872558594, 2.529695749282837, 6.826047897338867, 8.08042049407959, 9.93249797821045, 7.998091697692871, 3.1842591762542725, -0.02279958501458168, 11.279862403869629, -29.161447525024414, 1.310329794883728, -0.6714271903038025, -23.118242263793945, 9.713814735412598, -17.50804901123047, -0.8879551291465759, 15.843045234680176, -6.180325031280518, 17.205432891845703, -44.777042388916016, 4.31237268447876, 21.92694854736328, -0.3596216142177582, -23.05797004699707, 46.44831085205078, -23.888427734375, -38.556270599365234, 4.371451377868652, 11.787569999694824, 40.99393844604492, -38.19094467163086, 4.542278289794922, -46.9205207824707, 18.321521759033203, -43.89887619018555, 24.15677261352539, -26.61562156677246, 4.129477024078369, -32.36531066894531, -34.910972595214844, -42.719940185546875, -21.510215759277344, 0.557726263999939, 12.355380058288574, 7.690723419189453, -19.66497802734375, 17.6564998626709, 54.20195770263672, -1.3483470678329468, -42.47306442260742, 9.938977241516113, 3.0994081497192383, -15.531494140625, -15.434867858886719, -8.550788879394531, -11.865798950195312, -8.31384563446045, -9.592127799987793, -4.533306121826172, -9.658510208129883, -41.18806457519531, 23.659900665283203, 25.040451049804688, -8.311897277832031, -1.3146865367889404, -13.102804183959961, -40.73251724243164, 40.11650466918945, 1.9076071977615356, -4.93171501159668, 4.16950798034668, 2.5032739639282227, 2.515190839767456, -25.263240814208984, -10.697793960571289, -24.947050094604492, -13.882089614868164, 23.00749969482422, 44.87432098388672, -13.973138809204102, -14.32636547088623, 10.590383529663086, 1.1221100091934204, 18.968618392944336, 6.385996341705322, 11.291163444519043, -68.31666564941406, -67.23744201660156, -68.39405059814453, -9.438699722290039, -12.45532512664795, -41.62742614746094, 15.446656227111816, -10.4822416305542, 13.761866569519043, 20.610397338867188, 42.542808532714844, -43.325653076171875, 24.238285064697266, 24.238285064697266, -7.649388790130615, 25.943580627441406, 8.371376037597656, -4.940844535827637, -1.8112341165542603, 6.109115123748779, 6.822396278381348, -5.187840461730957, -43.750274658203125, 45.89077377319336, -3.4204211235046387, -3.2478129863739014, -25.169631958007812, -5.967752933502197, 12.186326026916504, 18.265178680419922, -10.48597526550293, 26.42107391357422, -4.200164794921875, 4.323942184448242, -25.269245147705078, 19.630008697509766, 23.65375518798828, 17.93259048461914, -26.94716453552246, 2.1126596927642822, 24.513458251953125, -5.7330169677734375, 10.211100578308105, -44.42023849487305, 22.937885284423828, 42.23226547241211, -10.260812759399414, -26.871232986450195, -9.029302597045898, -41.30996322631836, -69.51251220703125, -4.424188137054443, 41.10600280761719, -6.1696343421936035, -24.82111358642578, -20.470983505249023, -5.356482028961182, -27.19266128540039, -6.3659257888793945, 11.640972137451172, -33.336204528808594, -3.063438892364502, -13.559061050415039, -12.847688674926758, -68.62557983398438, -9.56734848022461, 17.534805297851562, 27.008974075317383, -12.335865020751953, -21.061960220336914, 6.479724407196045, 8.758400917053223, -38.68730926513672, 8.514627456665039, 24.19133186340332, -1.9492080211639404, 7.956047534942627, -42.98381423950195, 19.57103729248047, -37.0548210144043, 6.524595737457275, 5.495013236999512, 47.155853271484375, -4.2576470375061035, 34.79808044433594, -25.942502975463867, -29.474971771240234, -44.045894622802734, -4.954617977142334, -12.654277801513672, 40.81415939331055, -4.607431411743164, -5.493762493133545, -32.77879333496094, -21.988201141357422, 1.6921241283416748, 9.039265632629395, -11.16090202331543, -11.135493278503418, -22.68177032470703, 54.774818420410156, -21.58182144165039, -10.499849319458008, -5.962712287902832, -30.935514450073242, -19.802629470825195, -68.2420654296875, -43.08747863769531, 20.11786651611328, -21.057910919189453, -43.092994689941406, -9.331546783447266, 1.1553330421447754, 1.6890547275543213, -43.132408142089844, 43.645774841308594, 24.25078582763672, 9.154379844665527, -27.151920318603516, 0.3823282718658447, -29.374982833862305, 5.538095474243164, -68.41644287109375, 40.82356643676758, -8.97988510131836, -35.57624435424805, -68.69995880126953, 0.8010230660438538, 8.595329284667969, -5.420684337615967, -10.913312911987305, 5.04606819152832, 5.3383965492248535, 27.53367042541504, 27.406757354736328, -40.517494201660156, 23.99793243408203, 26.005882263183594, -11.801444053649902, -42.447628021240234, 41.245296478271484, 5.2330522537231445, -3.8450286388397217, -33.19789123535156, 23.0037899017334, -2.442483901977539, 4.631349563598633, -9.080883979797363, 10.418956756591797, -18.128665924072266, 49.55195617675781, 24.181798934936523, -15.358423233032227, 31.752887725830078, -7.690609931945801, -43.834171295166016, 43.68019104003906, -3.7616007328033447, -19.78849220275879, -21.5765323638916, -29.692873001098633, -25.007600784301758, -23.702312469482422, -23.265071868896484, -27.935468673706055, 2.5765364170074463, -23.017417907714844, -41.29558181762695, 28.367280960083008, -11.176553726196289, -42.37821578979492, 40.65848159790039, 4.47036075592041, -32.40958786010742, -4.69774055480957, 6.850591659545898, 6.237582683563232, 26.63637924194336, 39.51222229003906, -44.64376449584961, -26.327741622924805, -67.61853790283203, 4.58258581161499, 26.45810890197754, 13.832347869873047, -68.99447631835938, -13.433932304382324, 2.8619980812072754, -38.35420608520508, -33.10968780517578, -75.19805908203125, 1.7731904983520508, -33.76881408691406, 29.149051666259766, 21.149805068969727, 29.950777053833008, -9.096062660217285, -42.437278747558594, 23.125640869140625, 43.16072463989258, 30.467090606689453, -43.88669204711914, 17.265966415405273, -27.216632843017578, 32.14567565917969, 29.572214126586914, -44.89202880859375, 5.608616352081299, 27.463237762451172, 41.277198791503906, -1.94482421875, -40.544979095458984, -74.21244049072266, -70.7657241821289, -17.380096435546875, 5.571627616882324, -15.050483703613281, 19.60797882080078, -34.12247085571289, -22.336267471313477, -27.746503829956055, 23.03632164001465, -18.762805938720703, -21.688716888427734, -70.43524169921875, 27.13953399658203, -7.986030101776123, 20.0790958404541, 42.29183578491211, 12.373164176940918, 55.07447052001953, -15.055192947387695, 24.029539108276367, 32.179962158203125], \"yaxis\": \"y\"}, {\"customdata\": [[\"Transportation/Logistics\", \"AAL\"], [\"Transportation/Logistics\", \"AAL\"], [\"Transportation/Logistics\", \"AAL\"], [\"Transportation/Logistics\", \"DAL\"], [\"Transportation/Logistics\", \"LUV\"], [\"Transportation/Logistics\", \"ALGT\"], [\"Transportation/Logistics\", \"ALGT\"], [\"Transportation/Logistics\", \"ALGT\"], [\"Transportation/Logistics\", \"ALGT\"], [\"Transportation/Logistics\", \"ALGT\"], [\"Transportation/Logistics\", \"ALGT\"], [\"Transportation/Logistics\", \"SKYW\"], [\"Transportation/Logistics\", \"SKYW\"], [\"Transportation/Logistics\", \"SKYW\"], [\"Transportation/Logistics\", \"SKYW\"], [\"Transportation/Logistics\", \"JBLU\"], [\"Transportation/Logistics\", \"UAL\"], [\"Transportation/Logistics\", \"UAL\"], [\"Transportation/Logistics\", \"UAL\"], [\"Transportation/Logistics\", \"UAL\"], [\"Transportation/Logistics\", \"UAL\"], [\"Transportation/Logistics\", \"UAL\"], [\"Transportation/Logistics\", \"UAL\"], [\"Transportation/Logistics\", \"UAL\"], [\"Transportation/Logistics\", \"UAL\"], [\"Transportation/Logistics\", \"UAL\"], [\"Transportation/Logistics\", \"UAL\"], [\"Transportation/Logistics\", \"UAL\"], [\"Transportation/Logistics\", \"UAL\"], [\"Transportation/Logistics\", \"UAL\"], [\"Transportation/Logistics\", \"UAL\"], [\"Transportation/Logistics\", \"UAL\"], [\"Transportation/Logistics\", \"UAL\"], [\"Transportation/Logistics\", \"UAL\"], [\"Transportation/Logistics\", \"UAL\"], [\"Transportation/Logistics\", \"UAL\"], [\"Transportation/Logistics\", \"UAL\"], [\"Transportation/Logistics\", \"UAL\"], [\"Transportation/Logistics\", \"UAL\"], [\"Transportation/Logistics\", \"UAL\"], [\"Transportation/Logistics\", \"UAL\"], [\"Transportation/Logistics\", \"UAL\"], [\"Transportation/Logistics\", \"UAL\"], [\"Transportation/Logistics\", \"UAL\"], [\"Transportation/Logistics\", \"UAL\"], [\"Transportation/Logistics\", \"UAL\"], [\"Transportation/Logistics\", \"UAL\"], [\"Transportation/Logistics\", \"UAL\"], [\"Transportation/Logistics\", \"UAL\"], [\"Transportation/Logistics\", \"UAL\"], [\"Transportation/Logistics\", \"UAL\"], [\"Transportation/Logistics\", \"UAL\"], [\"Transportation/Logistics\", \"UAL\"], [\"Transportation/Logistics\", \"UAL\"], [\"Transportation/Logistics\", \"UAL\"], [\"Transportation/Logistics\", \"UAL\"], [\"Transportation/Logistics\", \"UAL\"], [\"Transportation/Logistics\", \"UAL\"], [\"Transportation/Logistics\", \"UAL\"], [\"Transportation/Logistics\", \"UAL\"], [\"Transportation/Logistics\", \"UAL\"], [\"Transportation/Logistics\", \"UAL\"], [\"Transportation/Logistics\", \"UAL\"], [\"Transportation/Logistics\", \"UAL\"], [\"Transportation/Logistics\", \"UAL\"], [\"Transportation/Logistics\", \"UAL\"], [\"Transportation/Logistics\", \"UAL\"], [\"Transportation/Logistics\", \"UAL\"], [\"Transportation/Logistics\", \"UAL\"], [\"Transportation/Logistics\", \"UAL\"], [\"Transportation/Logistics\", \"UAL\"], [\"Transportation/Logistics\", \"UAL\"], [\"Transportation/Logistics\", \"UAL\"], [\"Transportation/Logistics\", \"UAL\"], [\"Transportation/Logistics\", \"UAL\"], [\"Transportation/Logistics\", \"UAL\"], [\"Transportation/Logistics\", \"UAL\"], [\"Transportation/Logistics\", \"UAL\"], [\"Transportation/Logistics\", \"UAL\"], [\"Transportation/Logistics\", \"UAL\"], [\"Transportation/Logistics\", \"UAL\"], [\"Transportation/Logistics\", \"UAL\"], [\"Transportation/Logistics\", \"UAL\"], [\"Transportation/Logistics\", \"UAL\"], [\"Transportation/Logistics\", \"UAL\"], [\"Transportation/Logistics\", \"UAL\"], [\"Transportation/Logistics\", \"UAL\"], [\"Transportation/Logistics\", \"UAL\"], [\"Transportation/Logistics\", \"UAL\"], [\"Transportation/Logistics\", \"UAL\"], [\"Transportation/Logistics\", \"UAL\"], [\"Transportation/Logistics\", \"UAL\"], [\"Transportation/Logistics\", \"UAL\"], [\"Transportation/Logistics\", \"UAL\"], [\"Transportation/Logistics\", \"UAL\"], [\"Transportation/Logistics\", \"UAL\"], [\"Transportation/Logistics\", \"UAL\"], [\"Transportation/Logistics\", \"UAL\"], [\"Transportation/Logistics\", \"UAL\"], [\"Transportation/Logistics\", \"UAL\"], [\"Transportation/Logistics\", \"UAL\"], [\"Transportation/Logistics\", \"UAL\"], [\"Transportation/Logistics\", \"UAL\"], [\"Transportation/Logistics\", \"UAL\"], [\"Transportation/Logistics\", \"UAL\"], [\"Transportation/Logistics\", \"UAL\"], [\"Transportation/Logistics\", \"UAL\"], [\"Transportation/Logistics\", \"UAL\"], [\"Transportation/Logistics\", \"UAL\"], [\"Transportation/Logistics\", \"UAL\"], [\"Transportation/Logistics\", \"UAL\"], [\"Transportation/Logistics\", \"UAL\"], [\"Transportation/Logistics\", \"UAL\"], [\"Transportation/Logistics\", \"UAL\"], [\"Transportation/Logistics\", \"UAL\"], [\"Transportation/Logistics\", \"UAL\"], [\"Transportation/Logistics\", \"UAL\"], [\"Transportation/Logistics\", \"UAL\"], [\"Transportation/Logistics\", \"UAL\"], [\"Transportation/Logistics\", \"UAL\"], [\"Transportation/Logistics\", \"UAL\"], [\"Transportation/Logistics\", \"UAL\"], [\"Transportation/Logistics\", \"UAL\"], [\"Transportation/Logistics\", \"UAL\"], [\"Transportation/Logistics\", \"UAL\"], [\"Transportation/Logistics\", \"UAL\"], [\"Transportation/Logistics\", \"UAL\"], [\"Transportation/Logistics\", \"UAL\"], [\"Transportation/Logistics\", \"UAL\"], [\"Transportation/Logistics\", \"UAL\"], [\"Transportation/Logistics\", \"UAL\"], [\"Transportation/Logistics\", \"UAL\"], [\"Transportation/Logistics\", \"UAL\"], [\"Transportation/Logistics\", \"UAL\"], [\"Transportation/Logistics\", \"UAL\"], [\"Transportation/Logistics\", \"UAL\"], [\"Transportation/Logistics\", \"UAL\"], [\"Transportation/Logistics\", \"UAL\"], [\"Transportation/Logistics\", \"UAL\"], [\"Transportation/Logistics\", \"UAL\"], [\"Transportation/Logistics\", \"UAL\"], [\"Transportation/Logistics\", \"UAL\"], [\"Transportation/Logistics\", \"UAL\"], [\"Transportation/Logistics\", \"UAL\"], [\"Transportation/Logistics\", \"UAL\"], [\"Transportation/Logistics\", \"UAL\"], [\"Transportation/Logistics\", \"UAL\"], [\"Transportation/Logistics\", \"UAL\"], [\"Transportation/Logistics\", \"UAL\"], [\"Transportation/Logistics\", \"UAL\"], [\"Transportation/Logistics\", \"UAL\"], [\"Transportation/Logistics\", \"UAL\"], [\"Transportation/Logistics\", \"UAL\"], [\"Transportation/Logistics\", \"UAL\"], [\"Transportation/Logistics\", \"UAL\"], [\"Transportation/Logistics\", \"UAL\"], [\"Transportation/Logistics\", \"UAL\"], [\"Transportation/Logistics\", \"UAL\"], [\"Transportation/Logistics\", \"UAL\"], [\"Transportation/Logistics\", \"UAL\"], [\"Transportation/Logistics\", \"UAL\"], [\"Transportation/Logistics\", \"UAL\"], [\"Transportation/Logistics\", \"UAL\"], [\"Transportation/Logistics\", \"UAL\"], [\"Transportation/Logistics\", \"UAL\"], [\"Transportation/Logistics\", \"UAL\"], [\"Transportation/Logistics\", \"UAL\"], [\"Transportation/Logistics\", \"UAL\"], [\"Transportation/Logistics\", \"UAL\"], [\"Transportation/Logistics\", \"UAL\"], [\"Transportation/Logistics\", \"UAL\"], [\"Transportation/Logistics\", \"UAL\"], [\"Transportation/Logistics\", \"UAL\"], [\"Transportation/Logistics\", \"UAL\"], [\"Transportation/Logistics\", \"UAL\"], [\"Transportation/Logistics\", \"UAL\"], [\"Transportation/Logistics\", \"UAL\"], [\"Transportation/Logistics\", \"UAL\"], [\"Transportation/Logistics\", \"UAL\"], [\"Transportation/Logistics\", \"UAL\"], [\"Transportation/Logistics\", \"UAL\"], [\"Transportation/Logistics\", \"UAL\"], [\"Transportation/Logistics\", \"UAL\"], [\"Transportation/Logistics\", \"UAL\"], [\"Transportation/Logistics\", \"UAL\"], [\"Transportation/Logistics\", \"UAL\"], [\"Transportation/Logistics\", \"UAL\"], [\"Transportation/Logistics\", \"UAL\"], [\"Transportation/Logistics\", \"UAL\"], [\"Transportation/Logistics\", \"UAL\"], [\"Transportation/Logistics\", \"UAL\"], [\"Transportation/Logistics\", \"UAL\"], [\"Transportation/Logistics\", \"UAL\"], [\"Transportation/Logistics\", \"UAL\"], [\"Transportation/Logistics\", \"UAL\"], [\"Transportation/Logistics\", \"UAL\"], [\"Transportation/Logistics\", \"UAL\"], [\"Transportation/Logistics\", \"UAL\"], [\"Transportation/Logistics\", \"UAL\"], [\"Transportation/Logistics\", \"UAL\"], [\"Transportation/Logistics\", \"UAL\"], [\"Transportation/Logistics\", \"UAL\"], [\"Transportation/Logistics\", \"UAL\"], [\"Transportation/Logistics\", \"UAL\"], [\"Transportation/Logistics\", \"UAL\"], [\"Transportation/Logistics\", \"UAL\"], [\"Transportation/Logistics\", \"UAL\"], [\"Transportation/Logistics\", \"UAL\"], [\"Transportation/Logistics\", \"UAL\"], [\"Transportation/Logistics\", \"UAL\"], [\"Transportation/Logistics\", \"UAL\"], [\"Transportation/Logistics\", \"UAL\"], [\"Transportation/Logistics\", \"UAL\"], [\"Transportation/Logistics\", \"UAL\"], [\"Transportation/Logistics\", \"UAL\"], [\"Transportation/Logistics\", \"UAL\"], [\"Transportation/Logistics\", \"UAL\"], [\"Transportation/Logistics\", \"UAL\"], [\"Transportation/Logistics\", \"UAL\"], [\"Transportation/Logistics\", \"UAL\"], [\"Transportation/Logistics\", \"UAL\"], [\"Transportation/Logistics\", \"UAL\"], [\"Transportation/Logistics\", \"UAL\"], [\"Transportation/Logistics\", \"UAL\"], [\"Transportation/Logistics\", \"UAL\"], [\"Transportation/Logistics\", \"UAL\"], [\"Transportation/Logistics\", \"UAL\"], [\"Transportation/Logistics\", \"UAL\"], [\"Transportation/Logistics\", \"UAL\"], [\"Transportation/Logistics\", \"UAL\"], [\"Transportation/Logistics\", \"UAL\"], [\"Transportation/Logistics\", \"UAL\"], [\"Transportation/Logistics\", \"UAL\"], [\"Transportation/Logistics\", \"UAL\"], [\"Transportation/Logistics\", \"UAL\"], [\"Transportation/Logistics\", \"UAL\"], [\"Transportation/Logistics\", \"UAL\"], [\"Transportation/Logistics\", \"UAL\"], [\"Transportation/Logistics\", \"UAL\"], [\"Transportation/Logistics\", \"UAL\"], [\"Transportation/Logistics\", \"UAL\"], [\"Transportation/Logistics\", \"UAL\"], [\"Transportation/Logistics\", \"UAL\"], [\"Transportation/Logistics\", \"UAL\"], [\"Transportation/Logistics\", \"UAL\"], [\"Transportation/Logistics\", \"UAL\"], [\"Transportation/Logistics\", \"UAL\"], [\"Transportation/Logistics\", \"UAL\"], [\"Transportation/Logistics\", \"UAL\"], [\"Transportation/Logistics\", \"UAL\"], [\"Transportation/Logistics\", \"UAL\"], [\"Transportation/Logistics\", \"UAL\"], [\"Transportation/Logistics\", \"UAL\"], [\"Transportation/Logistics\", \"UAL\"], [\"Transportation/Logistics\", \"UAL\"], [\"Transportation/Logistics\", \"UAL\"], [\"Transportation/Logistics\", \"UAL\"], [\"Transportation/Logistics\", \"UAL\"], [\"Transportation/Logistics\", \"UAL\"], [\"Transportation/Logistics\", \"UAL\"], [\"Transportation/Logistics\", \"UAL\"], [\"Transportation/Logistics\", \"UAL\"], [\"Transportation/Logistics\", \"UAL\"], [\"Transportation/Logistics\", \"UAL\"], [\"Transportation/Logistics\", \"UAL\"], [\"Transportation/Logistics\", \"UAL\"], [\"Transportation/Logistics\", \"UAL\"], [\"Transportation/Logistics\", \"UAL\"], [\"Transportation/Logistics\", \"UAL\"], [\"Transportation/Logistics\", \"UAL\"], [\"Transportation/Logistics\", \"UAL\"], [\"Transportation/Logistics\", \"UAL\"], [\"Transportation/Logistics\", \"UAL\"], [\"Transportation/Logistics\", \"UAL\"], [\"Transportation/Logistics\", \"UAL\"], [\"Transportation/Logistics\", \"UAL\"], [\"Transportation/Logistics\", \"UAL\"], [\"Transportation/Logistics\", \"UAL\"], [\"Transportation/Logistics\", \"UAL\"], [\"Transportation/Logistics\", \"UAL\"], [\"Transportation/Logistics\", \"UAL\"], [\"Transportation/Logistics\", \"UAL\"], [\"Transportation/Logistics\", \"UAL\"], [\"Transportation/Logistics\", \"UAL\"], [\"Transportation/Logistics\", \"UAL\"], [\"Transportation/Logistics\", \"UAL\"], [\"Transportation/Logistics\", \"UAL\"], [\"Transportation/Logistics\", \"UAL\"], [\"Transportation/Logistics\", \"UAL\"], [\"Transportation/Logistics\", \"UAL\"], [\"Transportation/Logistics\", \"UAL\"], [\"Transportation/Logistics\", \"UAL\"], [\"Transportation/Logistics\", \"UAL\"], [\"Transportation/Logistics\", \"UAL\"], [\"Transportation/Logistics\", \"UAL\"], [\"Transportation/Logistics\", \"UAL\"], [\"Transportation/Logistics\", \"UAL\"], [\"Transportation/Logistics\", \"UAL\"], [\"Transportation/Logistics\", \"UAL\"], [\"Transportation/Logistics\", \"UAL\"], [\"Transportation/Logistics\", \"UAL\"], [\"Transportation/Logistics\", \"UAL\"], [\"Transportation/Logistics\", \"UAL\"], [\"Transportation/Logistics\", \"UAL\"], [\"Transportation/Logistics\", \"UAL\"], [\"Transportation/Logistics\", \"UAL\"], [\"Transportation/Logistics\", \"UAL\"], [\"Transportation/Logistics\", \"UAL\"], [\"Transportation/Logistics\", \"UAL\"], [\"Transportation/Logistics\", \"UAL\"], [\"Transportation/Logistics\", \"UAL\"], [\"Transportation/Logistics\", \"UAL\"], [\"Transportation/Logistics\", \"UAL\"], [\"Transportation/Logistics\", \"UAL\"], [\"Transportation/Logistics\", \"UAL\"], [\"Transportation/Logistics\", \"UAL\"], [\"Transportation/Logistics\", \"UAL\"], [\"Transportation/Logistics\", \"UAL\"], [\"Transportation/Logistics\", \"UAL\"]], \"hoverlabel\": {\"namelength\": 0}, \"hovertemplate\": \"sector=%{customdata[0]}<br>x=%{x}<br>y=%{y}<br>symb=%{customdata[1]}\", \"legendgroup\": \"Transportation/Logistics\", \"marker\": {\"color\": \"#636efa\", \"symbol\": \"circle\"}, \"mode\": \"markers\", \"name\": \"Transportation/Logistics\", \"showlegend\": true, \"type\": \"scattergl\", \"x\": [52.88043212890625, -41.52521896362305, -30.027297973632812, 7.38554573059082, 1.2381188869476318, -11.397320747375488, 14.777399063110352, 44.108619689941406, -33.308677673339844, 51.19335174560547, -16.525819778442383, 9.534036636352539, -38.487586975097656, 15.99041748046875, 51.31972885131836, -37.87895965576172, 7.420228958129883, -54.81140899658203, 55.5095100402832, -42.305084228515625, -41.21700668334961, -34.327964782714844, 55.50616455078125, 55.08366394042969, -42.106327056884766, -41.852901458740234, -52.02964401245117, 8.535249710083008, -39.25336456298828, 16.674606323242188, 41.81631851196289, 44.63125991821289, 56.4274787902832, 56.59712600708008, 55.679195404052734, -52.672264099121094, 55.58987808227539, 56.16170120239258, -40.16228103637695, 8.452872276306152, -25.121347427368164, 13.36058235168457, 44.0390625, 44.262508392333984, -38.804786682128906, 55.77678298950195, 13.83832836151123, 33.68101119995117, 23.054180145263672, 29.046443939208984, 44.08574676513672, 16.070219039916992, 49.453006744384766, -51.15177536010742, 15.367788314819336, -53.840240478515625, -12.024292945861816, 51.40217971801758, -29.112735748291016, 33.78704833984375, 36.522274017333984, 47.560646057128906, -8.545248985290527, -34.18008041381836, 0.7745939493179321, -38.629398345947266, -31.349700927734375, -49.4525032043457, -15.410521507263184, 51.95317459106445, -8.25456714630127, 58.53915023803711, 12.145763397216797, 33.27007293701172, 17.02138328552246, 35.347354888916016, 13.40793228149414, 49.563514709472656, 44.141021728515625, -30.59605598449707, 0.29323291778564453, -4.396381855010986, -3.4420411586761475, -44.628902435302734, -24.9351863861084, 51.77379608154297, -5.240128517150879, 49.81277847290039, -54.42276382446289, 12.748896598815918, -40.383514404296875, 52.93229293823242, 48.822837829589844, 54.08457946777344, 36.68434143066406, -41.070037841796875, -40.831390380859375, 49.74105453491211, 47.62805938720703, 48.30198287963867, 8.019172668457031, -30.07730484008789, 46.82266616821289, 31.66265296936035, 16.712047576904297, 48.88802719116211, -40.936553955078125, -41.3303108215332, 14.834476470947266, -4.832788944244385, -25.3450984954834, 3.6814217567443848, 47.83360290527344, 50.37412643432617, 14.796282768249512, 14.605083465576172, -46.01063919067383, -38.567813873291016, 15.540177345275879, 29.863910675048828, 51.96038055419922, 17.67587661743164, -38.011627197265625, -36.24225997924805, 50.829959869384766, 47.583431243896484, -40.951053619384766, -40.94466781616211, 48.46616744995117, -32.640037536621094, 48.967952728271484, -35.66019821166992, 47.135169982910156, 49.92931365966797, 45.22891616821289, 48.78168869018555, -38.597801208496094, 50.9234619140625, -29.554569244384766, -1.5824640989303589, 50.1904411315918, 55.923309326171875, 49.08071517944336, 49.52719497680664, -24.843605041503906, -32.3644905090332, 44.80160140991211, 50.873870849609375, 47.314430236816406, 21.150144577026367, 42.02861785888672, -34.80097961425781, -43.49051284790039, 27.025596618652344, 47.232845306396484, 46.17621994018555, -43.32857894897461, 3.7599997520446777, -41.27336883544922, -24.15510368347168, -37.50957107543945, 41.07327651977539, -12.906168937683105, 27.6096248626709, 27.21768569946289, 31.548919677734375, 23.93967628479004, 46.00385284423828, 58.57012939453125, 29.996667861938477, -46.801673889160156, 50.07617950439453, -18.409812927246094, -19.468156814575195, -8.0095853805542, 51.962650299072266, 42.389278411865234, 57.35588073730469, -46.96500015258789, 7.657472133636475, -43.83598709106445, -0.11783614009618759, -24.174640655517578, 3.9710073471069336, 13.942939758300781, -30.420997619628906, 50.53382873535156, 19.16577911376953, 14.044894218444824, 43.407955169677734, -52.88460159301758, -34.97426223754883, 54.46579360961914, -42.77339553833008, -49.23392868041992, -40.60158157348633, 44.964481353759766, 47.0525016784668, 47.107582092285156, -40.12541961669922, 25.70037841796875, 27.744413375854492, 42.8105354309082, -37.47792434692383, 48.433692932128906, -13.741113662719727, 50.8724479675293, 52.19865036010742, 46.730445861816406, 46.749141693115234, 23.781681060791016, -43.82508087158203, -45.972774505615234, 0.5058969259262085, -25.389934539794922, 45.060726165771484, 46.76155090332031, 44.43255615234375, 38.77381134033203, 12.609241485595703, 47.416439056396484, 34.08113479614258, 33.43003463745117, 50.03907012939453, -40.08202362060547, 46.47909927368164, 43.06653594970703, 44.406455993652344, 46.9570198059082, -44.05745315551758, 49.46165084838867, -41.26931381225586, 43.85678482055664, -0.3374936282634735, 33.389102935791016, 46.288291931152344, 10.169841766357422, -1.753170132637024, 31.299219131469727, 43.1073112487793, 33.12971496582031, 48.33059310913086, 25.683979034423828, 33.68340301513672, 33.62786865234375, 50.23194885253906, 31.662633895874023, 3.8126957416534424, 48.71479415893555, 42.89530563354492, 50.46392059326172, 29.69211196899414, 45.93765640258789, -5.280072212219238, -39.23252487182617, 7.570272445678711, -25.688491821289062, -39.93199157714844, 11.840530395507812, 15.033005714416504, 6.064711570739746, 42.462738037109375, 48.64573287963867, 37.7349853515625, 10.737357139587402, -45.672115325927734, 22.347169876098633, 0.30230948328971863, 45.012657165527344, -39.4407844543457, -3.72554087638855, -24.51657485961914, 6.922895908355713, 29.05765151977539, 12.308146476745605, -32.76959991455078, -17.2285213470459, -42.9765739440918, 8.357491493225098, 54.12479019165039, 48.96624755859375, 53.71660232543945, 41.48430633544922, 48.288047790527344, -40.40688705444336, -11.528191566467285, -39.465789794921875, 37.95892333984375, -45.67656707763672, -12.67226505279541, -31.685287475585938, -31.758508682250977, 45.93701934814453, -15.686652183532715, -31.623388290405273, 34.239681243896484, 8.828181266784668, 55.44024658203125, -15.95615291595459, 55.49848175048828, 47.285308837890625, -39.80290222167969, -45.74666976928711, 47.88087463378906, 48.20512008666992, 47.02861404418945, 45.778141021728516, 46.37574768066406, 2.1244277954101562, 2.049574851989746, 47.709224700927734, 48.138999938964844, -42.959205627441406, -23.13063621520996, -24.89655876159668, 47.129432678222656, -38.82655715942383, 8.342129707336426, 46.85630798339844], \"xaxis\": \"x\", \"y\": [-12.83741283416748, 17.28134536743164, 16.558000564575195, -7.3628950119018555, -14.49750804901123, -37.70250701904297, -7.098139762878418, -24.296592712402344, 15.202535629272461, -22.32201385498047, -20.250957489013672, 54.74901580810547, 18.91684913635254, 29.21918296813965, -17.97563934326172, 17.127304077148438, -7.332712650299072, -17.762819290161133, -8.668703079223633, 18.371118545532227, 18.88086700439453, 13.26718807220459, -8.28393268585205, 2.070086717605591, 18.5801944732666, 18.318138122558594, 17.353260040283203, 29.038713455200195, 20.37607765197754, 25.825382232666016, -27.99553108215332, -25.830852508544922, -0.6084402203559875, -7.939795970916748, -7.627834796905518, -19.584625244140625, -7.499588489532471, -8.291730880737305, 19.177776336669922, 32.07191467285156, 48.83629608154297, 49.76343536376953, -17.24469566345215, -25.54070472717285, 19.810684204101562, -11.845386505126953, 26.427959442138672, -9.309788703918457, 24.09391212463379, 35.417457580566406, -23.965768814086914, 27.73353385925293, -25.074861526489258, -9.968663215637207, 27.08615493774414, 12.930990219116211, 0.9212162494659424, -10.667603492736816, -4.798641204833984, -14.400388717651367, -8.993935585021973, -27.320201873779297, -45.376190185546875, 14.568550109863281, -32.576690673828125, 19.69756317138672, 11.773871421813965, -7.930871486663818, 42.537132263183594, -9.30317497253418, -3.467297077178955, -11.070661544799805, 25.946712493896484, -2.822206497192383, 31.050703048706055, -5.580759048461914, -34.501590728759766, -20.975908279418945, -23.38470458984375, 12.8417387008667, 0.43332934379577637, 7.6347503662109375, 7.750496864318848, -10.128128051757812, 48.91593551635742, -10.420516014099121, -37.04884719848633, -8.418009757995605, -32.160335540771484, -75.23240661621094, 19.677736282348633, -12.513888359069824, -8.996169090270996, -5.188434600830078, -8.866865158081055, 20.145801544189453, 21.043230056762695, -19.419857025146484, -8.360103607177734, -6.930651664733887, 53.94737243652344, 13.602879524230957, -8.396265029907227, -35.54299545288086, 26.36924934387207, -8.86513900756836, -11.72591495513916, 21.559818267822266, 27.470441818237305, -33.34458541870117, 50.240692138671875, 0.5111409425735474, -9.00089168548584, -22.873334884643555, -7.109556674957275, 19.890766143798828, -12.514945030212402, 18.753711700439453, 25.763729095458984, -22.45938491821289, -9.47459602355957, 28.58493995666504, 18.015552520751953, 17.628005981445312, -10.713375091552734, -9.79886245727539, 16.824392318725586, 16.938467025756836, -18.80088233947754, 15.073821067810059, -9.534196853637695, -19.029712677001953, -20.78318977355957, -14.895541191101074, -19.055620193481445, -19.25383949279785, 17.999608993530273, -20.246601104736328, 17.004369735717773, -6.7936577796936035, -22.853736877441406, -11.503684997558594, -13.730931282043457, -12.6603422164917, 49.130699157714844, 12.595720291137695, -22.21464729309082, -17.124797821044922, -24.372467041015625, -11.17150592803955, -24.330596923828125, 15.416329383850098, -8.192950248718262, -7.549377918243408, -13.622997283935547, -15.881361961364746, -12.628890991210938, -33.4685173034668, 19.356300354003906, 48.998355865478516, 18.994131088256836, -21.89389419555664, -47.52398681640625, -21.393943786621094, -6.563206672668457, -27.960979461669922, 47.85490798950195, -22.83141326904297, -11.039159774780273, 35.205780029296875, 12.538959503173828, -16.99599266052246, 24.16920280456543, 26.01911163330078, -3.4822628498077393, -16.91555404663086, -19.015108108520508, -7.8067522048950195, -10.460627555847168, 31.427587509155273, 30.20734405517578, -39.69881820678711, 48.737632751464844, -44.886409759521484, 28.989524841308594, 12.324639320373535, -14.779275894165039, -22.247541427612305, 25.183073043823242, -25.164390563964844, -11.177231788635254, 14.638157844543457, -14.431306838989258, -12.934619903564453, -0.6398365497589111, 20.010194778442383, -22.88632583618164, -20.1354923248291, -19.29985237121582, 20.813989639282227, 26.5321102142334, 30.85238265991211, -23.960235595703125, 18.98673439025879, -14.332672119140625, -37.502113342285156, -17.139429092407227, -16.553159713745117, -16.75249481201172, -21.8632755279541, 23.673526763916016, -2.6177268028259277, 12.462635040283203, 39.647491455078125, 48.807857513427734, -23.813819885253906, -18.99666404724121, -20.012451171875, -16.72330093383789, -8.675261497497559, -18.03839683532715, -6.824909210205078, -8.356009483337402, -24.68141746520996, 18.82062339782715, -25.73013687133789, -15.423762321472168, -23.089309692382812, -15.242500305175781, -18.758275985717773, -14.784791946411133, 20.656597137451172, -26.960451126098633, -33.932456970214844, -8.41128158569336, -18.268783569335938, -35.418819427490234, -40.473758697509766, -5.763627052307129, -15.440710067749023, -5.7865471839904785, -22.762462615966797, 6.20953893661499, -6.118931293487549, -5.991477012634277, -16.078289031982422, -32.513519287109375, -36.67988204956055, -13.133430480957031, -21.757606506347656, -16.585403442382812, -21.950395584106445, -21.29400634765625, 4.604066848754883, 17.79887580871582, 32.545135498046875, 47.30377197265625, -13.507685661315918, 28.27348518371582, -32.75358963012695, -32.57545471191406, -20.23421859741211, -13.786714553833008, -24.877910614013672, -19.251096725463867, -7.937310218811035, 47.41571807861328, 24.1552791595459, -21.400772094726562, -15.072394371032715, -42.57463073730469, 50.054527282714844, -40.19978332519531, -27.832979202270508, 27.78733253479004, 12.59529972076416, 26.26384925842285, 21.27151870727539, -6.9728569984436035, -4.788996696472168, -14.859997749328613, -11.705318450927734, -23.728410720825195, -22.693435668945312, 18.429670333862305, -47.781463623046875, 18.126773834228516, -23.461902618408203, 27.88250160217285, -48.40866470336914, 12.988463401794434, 14.195361137390137, -22.682649612426758, 42.53425598144531, 12.658272743225098, -33.43516159057617, -5.365082263946533, -10.851969718933105, -23.29307746887207, -10.99856185913086, -19.91541290283203, 16.980484008789062, -1.034355640411377, -16.155954360961914, -22.37027931213379, -18.128332138061523, -19.704753875732422, -20.056865692138672, 35.69459915161133, 35.579524993896484, -14.661548614501953, -17.204971313476562, 21.095508575439453, 49.046905517578125, 49.98889923095703, -16.539997100830078, -10.05569076538086, 30.7537841796875, -17.355602264404297], \"yaxis\": \"y\"}, {\"customdata\": [[\"Telecommunication Services\", \"T\"], [\"Telecommunication Services\", \"T\"]], \"hoverlabel\": {\"namelength\": 0}, \"hovertemplate\": \"sector=%{customdata[0]}<br>x=%{x}<br>y=%{y}<br>symb=%{customdata[1]}\", \"legendgroup\": \"Telecommunication Services\", \"marker\": {\"color\": \"#EF553B\", \"symbol\": \"circle\"}, \"mode\": \"markers\", \"name\": \"Telecommunication Services\", \"showlegend\": true, \"type\": \"scattergl\", \"x\": [12.511628150939941, 20.146705627441406], \"xaxis\": \"x\", \"y\": [-2.2689619064331055, 46.80332565307617], \"yaxis\": \"y\"}, {\"customdata\": [[\"Companies on the Energy Service\", \"XOM\"], [\"Companies on the Energy Service\", \"XOM\"], [\"Companies on the Energy Service\", \"XOM\"]], \"hoverlabel\": {\"namelength\": 0}, \"hovertemplate\": \"sector=%{customdata[0]}<br>x=%{x}<br>y=%{y}<br>symb=%{customdata[1]}\", \"legendgroup\": \"Companies on the Energy Service\", \"marker\": {\"color\": \"#00cc96\", \"symbol\": \"circle\"}, \"mode\": \"markers\", \"name\": \"Companies on the Energy Service\", \"showlegend\": true, \"type\": \"scattergl\", \"x\": [-45.0978889465332, 21.186893463134766, -24.851974487304688], \"xaxis\": \"x\", \"y\": [23.852832794189453, -11.247129440307617, -17.44792938232422], \"yaxis\": \"y\"}, {\"customdata\": [[\"Basic Materials/Resources\", \"ALB\"], [\"Basic Materials/Resources\", \"ALB\"], [\"Basic Materials/Resources\", \"ALB\"], [\"Basic Materials/Resources\", \"ALB\"], [\"Basic Materials/Resources\", \"ALB\"], [\"Basic Materials/Resources\", \"GOLD\"], [\"Basic Materials/Resources\", \"GOLD\"], [\"Basic Materials/Resources\", \"GOLD\"], [\"Basic Materials/Resources\", \"GOLD\"], [\"Basic Materials/Resources\", \"GOLD\"], [\"Basic Materials/Resources\", \"BHP\"], [\"Basic Materials/Resources\", \"BHP\"], [\"Basic Materials/Resources\", \"BHP\"], [\"Basic Materials/Resources\", \"BHP\"], [\"Basic Materials/Resources\", \"BHP\"], [\"Basic Materials/Resources\", \"BHP\"], [\"Basic Materials/Resources\", \"RIO\"], [\"Basic Materials/Resources\", \"RIO\"], [\"Basic Materials/Resources\", \"RIO\"], [\"Basic Materials/Resources\", \"RIO\"], [\"Basic Materials/Resources\", \"RIO\"], [\"Basic Materials/Resources\", \"SCCO\"], [\"Basic Materials/Resources\", \"SCCO\"], [\"Basic Materials/Resources\", \"SCCO\"], [\"Basic Materials/Resources\", \"SCCO\"], [\"Basic Materials/Resources\", \"SCCO\"], [\"Basic Materials/Resources\", \"SCCO\"], [\"Basic Materials/Resources\", \"SCCO\"], [\"Basic Materials/Resources\", \"SCCO\"], [\"Basic Materials/Resources\", \"SCCO\"], [\"Basic Materials/Resources\", \"SCCO\"], [\"Basic Materials/Resources\", \"SCCO\"], [\"Basic Materials/Resources\", \"SCCO\"], [\"Basic Materials/Resources\", \"SCCO\"], [\"Basic Materials/Resources\", \"SCCO\"], [\"Basic Materials/Resources\", \"SCCO\"], [\"Basic Materials/Resources\", \"SCCO\"], [\"Basic Materials/Resources\", \"SCCO\"], [\"Basic Materials/Resources\", \"SCCO\"], [\"Basic Materials/Resources\", \"SCCO\"], [\"Basic Materials/Resources\", \"SCCO\"], [\"Basic Materials/Resources\", \"SCCO\"], [\"Basic Materials/Resources\", \"SCCO\"], [\"Basic Materials/Resources\", \"SCCO\"], [\"Basic Materials/Resources\", \"SCCO\"], [\"Basic Materials/Resources\", \"SCCO\"], [\"Basic Materials/Resources\", \"SCCO\"], [\"Basic Materials/Resources\", \"SCCO\"], [\"Basic Materials/Resources\", \"SCCO\"], [\"Basic Materials/Resources\", \"SCCO\"], [\"Basic Materials/Resources\", \"SCCO\"], [\"Basic Materials/Resources\", \"SCCO\"], [\"Basic Materials/Resources\", \"SCCO\"], [\"Basic Materials/Resources\", \"SCCO\"], [\"Basic Materials/Resources\", \"SCCO\"], [\"Basic Materials/Resources\", \"SCCO\"], [\"Basic Materials/Resources\", \"SCCO\"], [\"Basic Materials/Resources\", \"SCCO\"], [\"Basic Materials/Resources\", \"SCCO\"], [\"Basic Materials/Resources\", \"SCCO\"], [\"Basic Materials/Resources\", \"SCCO\"], [\"Basic Materials/Resources\", \"SCCO\"], [\"Basic Materials/Resources\", \"SCCO\"], [\"Basic Materials/Resources\", \"SCCO\"], [\"Basic Materials/Resources\", \"SCCO\"], [\"Basic Materials/Resources\", \"SCCO\"], [\"Basic Materials/Resources\", \"SCCO\"]], \"hoverlabel\": {\"namelength\": 0}, \"hovertemplate\": \"sector=%{customdata[0]}<br>x=%{x}<br>y=%{y}<br>symb=%{customdata[1]}\", \"legendgroup\": \"Basic Materials/Resources\", \"marker\": {\"color\": \"#ab63fa\", \"symbol\": \"circle\"}, \"mode\": \"markers\", \"name\": \"Basic Materials/Resources\", \"showlegend\": true, \"type\": \"scattergl\", \"x\": [9.974996566772461, -10.235795021057129, 7.022885799407959, -14.849141120910645, -19.211238861083984, -9.75037670135498, 4.528697967529297, -51.48896789550781, -19.68973731994629, -12.33692741394043, -61.01967239379883, -57.59481430053711, -22.305217742919922, -12.302696228027344, 5.699613094329834, -59.67644119262695, -50.18797302246094, 5.646168231964111, -55.397499084472656, 5.337392330169678, -55.2527961730957, 13.0346097946167, 5.281074523925781, 4.00847053527832, 4.367868423461914, 19.75855255126953, 1.204586148262024, 12.458507537841797, 10.758532524108887, -46.30067825317383, -59.125099182128906, 1.5852675437927246, -53.997867584228516, 12.814247131347656, -33.08248519897461, 7.763975143432617, 12.151711463928223, 13.086589813232422, 1.0210402011871338, -54.38924789428711, 13.815537452697754, 14.750190734863281, 4.022122383117676, 2.8605241775512695, -13.831982612609863, 2.0129075050354004, -53.76448440551758, 14.574959754943848, 14.085034370422363, -36.86838912963867, -28.435544967651367, 3.1504080295562744, -36.89296340942383, -33.639854431152344, -19.346817016601562, -53.95729446411133, 14.110393524169922, 2.0810012817382812, 3.3702609539031982, 16.53837776184082, 4.486672401428223, -33.04497528076172, -2.4966962337493896, -32.52281188964844, 1.4615103006362915, 11.089173316955566, 9.98039436340332], \"xaxis\": \"x\", \"y\": [55.11521911621094, -30.667171478271484, -22.705026626586914, -28.09833526611328, -26.350120544433594, 40.122493743896484, -28.011409759521484, -10.2037935256958, 40.25977325439453, -44.45696258544922, -14.622608184814453, -17.11054801940918, -5.679729461669922, -8.282119750976562, -17.201488494873047, -12.122122764587402, -23.93722152709961, -6.960962772369385, -20.42835807800293, -7.021190166473389, -20.45807647705078, -76.1240463256836, -17.459186553955078, -17.911930084228516, -18.10070037841797, -35.556617736816406, -27.193777084350586, -74.91109466552734, -75.34632873535156, 28.191463470458984, -15.175886154174805, -28.059749603271484, -33.2496223449707, -73.7035140991211, -10.65259838104248, -38.19838333129883, -73.39335632324219, -72.81404113769531, -27.578895568847656, -33.5259895324707, -73.40525817871094, -11.65420150756836, -20.306150436401367, -20.197978973388672, -34.96366882324219, -20.608612060546875, -33.82126235961914, -72.94680786132812, -72.48829650878906, -25.043106079101562, 24.186256408691406, -18.215421676635742, -25.034992218017578, -8.412810325622559, -18.6674861907959, -33.23500061035156, -73.77522277832031, -28.165952682495117, -18.584375381469727, -32.88399124145508, -18.462017059326172, -12.612018585205078, -46.176265716552734, -13.097801208496094, -20.95771598815918, -73.14388275146484, -72.8558578491211], \"yaxis\": \"y\"}],\n",
       "                        {\"legend\": {\"title\": {\"text\": \"sector\"}, \"tracegroupgap\": 0}, \"margin\": {\"t\": 60}, \"template\": {\"data\": {\"bar\": [{\"error_x\": {\"color\": \"#2a3f5f\"}, \"error_y\": {\"color\": \"#2a3f5f\"}, \"marker\": {\"line\": {\"color\": \"#E5ECF6\", \"width\": 0.5}}, \"type\": \"bar\"}], \"barpolar\": [{\"marker\": {\"line\": {\"color\": \"#E5ECF6\", \"width\": 0.5}}, \"type\": \"barpolar\"}], \"carpet\": [{\"aaxis\": {\"endlinecolor\": \"#2a3f5f\", \"gridcolor\": \"white\", \"linecolor\": \"white\", \"minorgridcolor\": \"white\", \"startlinecolor\": \"#2a3f5f\"}, \"baxis\": {\"endlinecolor\": \"#2a3f5f\", \"gridcolor\": \"white\", \"linecolor\": \"white\", \"minorgridcolor\": \"white\", \"startlinecolor\": \"#2a3f5f\"}, \"type\": \"carpet\"}], \"choropleth\": [{\"colorbar\": {\"outlinewidth\": 0, \"ticks\": \"\"}, \"type\": \"choropleth\"}], \"contour\": [{\"colorbar\": {\"outlinewidth\": 0, \"ticks\": \"\"}, \"colorscale\": [[0.0, \"#0d0887\"], [0.1111111111111111, \"#46039f\"], [0.2222222222222222, \"#7201a8\"], [0.3333333333333333, \"#9c179e\"], [0.4444444444444444, \"#bd3786\"], [0.5555555555555556, \"#d8576b\"], [0.6666666666666666, \"#ed7953\"], [0.7777777777777778, \"#fb9f3a\"], [0.8888888888888888, \"#fdca26\"], [1.0, \"#f0f921\"]], \"type\": \"contour\"}], \"contourcarpet\": [{\"colorbar\": {\"outlinewidth\": 0, \"ticks\": \"\"}, \"type\": \"contourcarpet\"}], \"heatmap\": [{\"colorbar\": {\"outlinewidth\": 0, \"ticks\": \"\"}, \"colorscale\": [[0.0, \"#0d0887\"], [0.1111111111111111, \"#46039f\"], [0.2222222222222222, \"#7201a8\"], [0.3333333333333333, \"#9c179e\"], [0.4444444444444444, \"#bd3786\"], [0.5555555555555556, \"#d8576b\"], [0.6666666666666666, \"#ed7953\"], [0.7777777777777778, \"#fb9f3a\"], [0.8888888888888888, \"#fdca26\"], [1.0, \"#f0f921\"]], \"type\": \"heatmap\"}], \"heatmapgl\": [{\"colorbar\": {\"outlinewidth\": 0, \"ticks\": \"\"}, \"colorscale\": [[0.0, \"#0d0887\"], [0.1111111111111111, \"#46039f\"], [0.2222222222222222, \"#7201a8\"], [0.3333333333333333, \"#9c179e\"], [0.4444444444444444, \"#bd3786\"], [0.5555555555555556, \"#d8576b\"], [0.6666666666666666, \"#ed7953\"], [0.7777777777777778, \"#fb9f3a\"], [0.8888888888888888, \"#fdca26\"], [1.0, \"#f0f921\"]], \"type\": \"heatmapgl\"}], \"histogram\": [{\"marker\": {\"colorbar\": {\"outlinewidth\": 0, \"ticks\": \"\"}}, \"type\": \"histogram\"}], \"histogram2d\": [{\"colorbar\": {\"outlinewidth\": 0, \"ticks\": \"\"}, \"colorscale\": [[0.0, \"#0d0887\"], [0.1111111111111111, \"#46039f\"], [0.2222222222222222, \"#7201a8\"], [0.3333333333333333, \"#9c179e\"], [0.4444444444444444, \"#bd3786\"], [0.5555555555555556, \"#d8576b\"], [0.6666666666666666, \"#ed7953\"], [0.7777777777777778, \"#fb9f3a\"], [0.8888888888888888, \"#fdca26\"], [1.0, \"#f0f921\"]], \"type\": \"histogram2d\"}], \"histogram2dcontour\": [{\"colorbar\": {\"outlinewidth\": 0, \"ticks\": \"\"}, \"colorscale\": [[0.0, \"#0d0887\"], [0.1111111111111111, \"#46039f\"], [0.2222222222222222, \"#7201a8\"], [0.3333333333333333, \"#9c179e\"], [0.4444444444444444, \"#bd3786\"], [0.5555555555555556, \"#d8576b\"], [0.6666666666666666, \"#ed7953\"], [0.7777777777777778, \"#fb9f3a\"], [0.8888888888888888, \"#fdca26\"], [1.0, \"#f0f921\"]], \"type\": \"histogram2dcontour\"}], \"mesh3d\": [{\"colorbar\": {\"outlinewidth\": 0, \"ticks\": \"\"}, \"type\": \"mesh3d\"}], \"parcoords\": [{\"line\": {\"colorbar\": {\"outlinewidth\": 0, \"ticks\": \"\"}}, \"type\": \"parcoords\"}], \"pie\": [{\"automargin\": true, \"type\": \"pie\"}], \"scatter\": [{\"marker\": {\"colorbar\": {\"outlinewidth\": 0, \"ticks\": \"\"}}, \"type\": \"scatter\"}], \"scatter3d\": [{\"line\": {\"colorbar\": {\"outlinewidth\": 0, \"ticks\": \"\"}}, \"marker\": {\"colorbar\": {\"outlinewidth\": 0, \"ticks\": \"\"}}, \"type\": \"scatter3d\"}], \"scattercarpet\": [{\"marker\": {\"colorbar\": {\"outlinewidth\": 0, \"ticks\": \"\"}}, \"type\": \"scattercarpet\"}], \"scattergeo\": [{\"marker\": {\"colorbar\": {\"outlinewidth\": 0, \"ticks\": \"\"}}, \"type\": \"scattergeo\"}], \"scattergl\": [{\"marker\": {\"colorbar\": {\"outlinewidth\": 0, \"ticks\": \"\"}}, \"type\": \"scattergl\"}], \"scattermapbox\": [{\"marker\": {\"colorbar\": {\"outlinewidth\": 0, \"ticks\": \"\"}}, \"type\": \"scattermapbox\"}], \"scatterpolar\": [{\"marker\": {\"colorbar\": {\"outlinewidth\": 0, \"ticks\": \"\"}}, \"type\": \"scatterpolar\"}], \"scatterpolargl\": [{\"marker\": {\"colorbar\": {\"outlinewidth\": 0, \"ticks\": \"\"}}, \"type\": \"scatterpolargl\"}], \"scatterternary\": [{\"marker\": {\"colorbar\": {\"outlinewidth\": 0, \"ticks\": \"\"}}, \"type\": \"scatterternary\"}], \"surface\": [{\"colorbar\": {\"outlinewidth\": 0, \"ticks\": \"\"}, \"colorscale\": [[0.0, \"#0d0887\"], [0.1111111111111111, \"#46039f\"], [0.2222222222222222, \"#7201a8\"], [0.3333333333333333, \"#9c179e\"], [0.4444444444444444, \"#bd3786\"], [0.5555555555555556, \"#d8576b\"], [0.6666666666666666, \"#ed7953\"], [0.7777777777777778, \"#fb9f3a\"], [0.8888888888888888, \"#fdca26\"], [1.0, \"#f0f921\"]], \"type\": \"surface\"}], \"table\": [{\"cells\": {\"fill\": {\"color\": \"#EBF0F8\"}, \"line\": {\"color\": \"white\"}}, \"header\": {\"fill\": {\"color\": \"#C8D4E3\"}, \"line\": {\"color\": \"white\"}}, \"type\": \"table\"}]}, \"layout\": {\"annotationdefaults\": {\"arrowcolor\": \"#2a3f5f\", \"arrowhead\": 0, \"arrowwidth\": 1}, \"coloraxis\": {\"colorbar\": {\"outlinewidth\": 0, \"ticks\": \"\"}}, \"colorscale\": {\"diverging\": [[0, \"#8e0152\"], [0.1, \"#c51b7d\"], [0.2, \"#de77ae\"], [0.3, \"#f1b6da\"], [0.4, \"#fde0ef\"], [0.5, \"#f7f7f7\"], [0.6, \"#e6f5d0\"], [0.7, \"#b8e186\"], [0.8, \"#7fbc41\"], [0.9, \"#4d9221\"], [1, \"#276419\"]], \"sequential\": [[0.0, \"#0d0887\"], [0.1111111111111111, \"#46039f\"], [0.2222222222222222, \"#7201a8\"], [0.3333333333333333, \"#9c179e\"], [0.4444444444444444, \"#bd3786\"], [0.5555555555555556, \"#d8576b\"], [0.6666666666666666, \"#ed7953\"], [0.7777777777777778, \"#fb9f3a\"], [0.8888888888888888, \"#fdca26\"], [1.0, \"#f0f921\"]], \"sequentialminus\": [[0.0, \"#0d0887\"], [0.1111111111111111, \"#46039f\"], [0.2222222222222222, \"#7201a8\"], [0.3333333333333333, \"#9c179e\"], [0.4444444444444444, \"#bd3786\"], [0.5555555555555556, \"#d8576b\"], [0.6666666666666666, \"#ed7953\"], [0.7777777777777778, \"#fb9f3a\"], [0.8888888888888888, \"#fdca26\"], [1.0, \"#f0f921\"]]}, \"colorway\": [\"#636efa\", \"#EF553B\", \"#00cc96\", \"#ab63fa\", \"#FFA15A\", \"#19d3f3\", \"#FF6692\", \"#B6E880\", \"#FF97FF\", \"#FECB52\"], \"font\": {\"color\": \"#2a3f5f\"}, \"geo\": {\"bgcolor\": \"white\", \"lakecolor\": \"white\", \"landcolor\": \"#E5ECF6\", \"showlakes\": true, \"showland\": true, \"subunitcolor\": \"white\"}, \"hoverlabel\": {\"align\": \"left\"}, \"hovermode\": \"closest\", \"mapbox\": {\"style\": \"light\"}, \"paper_bgcolor\": \"white\", \"plot_bgcolor\": \"#E5ECF6\", \"polar\": {\"angularaxis\": {\"gridcolor\": \"white\", \"linecolor\": \"white\", \"ticks\": \"\"}, \"bgcolor\": \"#E5ECF6\", \"radialaxis\": {\"gridcolor\": \"white\", \"linecolor\": \"white\", \"ticks\": \"\"}}, \"scene\": {\"xaxis\": {\"backgroundcolor\": \"#E5ECF6\", \"gridcolor\": \"white\", \"gridwidth\": 2, \"linecolor\": \"white\", \"showbackground\": true, \"ticks\": \"\", \"zerolinecolor\": \"white\"}, \"yaxis\": {\"backgroundcolor\": \"#E5ECF6\", \"gridcolor\": \"white\", \"gridwidth\": 2, \"linecolor\": \"white\", \"showbackground\": true, \"ticks\": \"\", \"zerolinecolor\": \"white\"}, \"zaxis\": {\"backgroundcolor\": \"#E5ECF6\", \"gridcolor\": \"white\", \"gridwidth\": 2, \"linecolor\": \"white\", \"showbackground\": true, \"ticks\": \"\", \"zerolinecolor\": \"white\"}}, \"shapedefaults\": {\"line\": {\"color\": \"#2a3f5f\"}}, \"ternary\": {\"aaxis\": {\"gridcolor\": \"white\", \"linecolor\": \"white\", \"ticks\": \"\"}, \"baxis\": {\"gridcolor\": \"white\", \"linecolor\": \"white\", \"ticks\": \"\"}, \"bgcolor\": \"#E5ECF6\", \"caxis\": {\"gridcolor\": \"white\", \"linecolor\": \"white\", \"ticks\": \"\"}}, \"title\": {\"x\": 0.05}, \"xaxis\": {\"automargin\": true, \"gridcolor\": \"white\", \"linecolor\": \"white\", \"ticks\": \"\", \"title\": {\"standoff\": 15}, \"zerolinecolor\": \"white\", \"zerolinewidth\": 2}, \"yaxis\": {\"automargin\": true, \"gridcolor\": \"white\", \"linecolor\": \"white\", \"ticks\": \"\", \"title\": {\"standoff\": 15}, \"zerolinecolor\": \"white\", \"zerolinewidth\": 2}}}, \"xaxis\": {\"anchor\": \"y\", \"domain\": [0.0, 1.0], \"title\": {\"text\": \"x\"}}, \"yaxis\": {\"anchor\": \"x\", \"domain\": [0.0, 1.0], \"title\": {\"text\": \"y\"}}},\n",
       "                        {\"responsive\": true}\n",
       "                    ).then(function(){\n",
       "                            \n",
       "var gd = document.getElementById('0a5efd57-7f71-4b19-bd6f-0c40d476550f');\n",
       "var x = new MutationObserver(function (mutations, observer) {{\n",
       "        var display = window.getComputedStyle(gd).display;\n",
       "        if (!display || display === 'none') {{\n",
       "            console.log([gd, 'removed!']);\n",
       "            Plotly.purge(gd);\n",
       "            observer.disconnect();\n",
       "        }}\n",
       "}});\n",
       "\n",
       "// Listen for the removal of the full notebook cells\n",
       "var notebookContainer = gd.closest('#notebook-container');\n",
       "if (notebookContainer) {{\n",
       "    x.observe(notebookContainer, {childList: true});\n",
       "}}\n",
       "\n",
       "// Listen for the clearing of the current output cell\n",
       "var outputEl = gd.closest('.output');\n",
       "if (outputEl) {{\n",
       "    x.observe(outputEl, {childList: true});\n",
       "}}\n",
       "\n",
       "                        })\n",
       "                };\n",
       "                });\n",
       "            </script>\n",
       "        </div>"
      ]
     },
     "metadata": {},
     "output_type": "display_data"
    }
   ],
   "source": [
    "import plotly.express as px\n",
    "fig = px.scatter(df, x=\"x\", y=\"y\", color=\"sector\", hover_data=['sector', 'symb'])\n",
    "fig.show()"
   ]
  }
 ],
 "metadata": {
  "kernelspec": {
   "display_name": "Python [conda env:tf-gpu] *",
   "language": "python",
   "name": "conda-env-tf-gpu-py"
  },
  "language_info": {
   "codemirror_mode": {
    "name": "ipython",
    "version": 3
   },
   "file_extension": ".py",
   "mimetype": "text/x-python",
   "name": "python",
   "nbconvert_exporter": "python",
   "pygments_lexer": "ipython3",
   "version": "3.6.6"
  }
 },
 "nbformat": 4,
 "nbformat_minor": 4
}
